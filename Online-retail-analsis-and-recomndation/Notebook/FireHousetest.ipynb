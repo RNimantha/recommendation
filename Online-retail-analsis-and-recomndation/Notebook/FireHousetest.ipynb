{
  "cells": [
    {
      "cell_type": "markdown",
      "metadata": {
        "id": "X5zA2g36K19p"
      },
      "source": [
        "Import Libraires"
      ]
    },
    {
      "cell_type": "code",
      "execution_count": null,
      "metadata": {
        "id": "x-QiU26fGtj_"
      },
      "outputs": [],
      "source": [
        "import pandas as pd\n",
        "import seaborn as sns\n",
        "import re\n",
        "import plotly.express as px\n",
        "import matplotlib.pyplot as plt"
      ]
    },
    {
      "cell_type": "markdown",
      "metadata": {
        "id": "TlRd-2B-KmQ6"
      },
      "source": [
        "Import data"
      ]
    },
    {
      "cell_type": "code",
      "execution_count": null,
      "metadata": {
        "id": "hYCk8SyKKn3h"
      },
      "outputs": [],
      "source": [
        "#data Url\n",
        "# url= \"https://archive.ics.uci.edu/ml/machine-learning-databases/00352/Online Retail.xlsx\"\n",
        "url = \"/content/drive/MyDrive/FireHouseTest/Online Retail.xlsx\"\n",
        "# url = \"/content/Online Retail.xlsx\"\n",
        "df = pd.read_excel(url)\n",
        "# df = pd.read_csv(url)\n",
        "\n"
      ]
    },
    {
      "cell_type": "code",
      "execution_count": null,
      "metadata": {
        "colab": {
          "base_uri": "https://localhost:8080/",
          "height": 337
        },
        "id": "wr35IZqScEJW",
        "outputId": "a53d3dce-af77-439f-bb61-1ce3313c4570"
      },
      "outputs": [
        {
          "data": {
            "text/html": [
              "\n",
              "  <div id=\"df-ce12f12d-6a18-44b4-b288-3551c0ef9ae6\">\n",
              "    <div class=\"colab-df-container\">\n",
              "      <div>\n",
              "<style scoped>\n",
              "    .dataframe tbody tr th:only-of-type {\n",
              "        vertical-align: middle;\n",
              "    }\n",
              "\n",
              "    .dataframe tbody tr th {\n",
              "        vertical-align: top;\n",
              "    }\n",
              "\n",
              "    .dataframe thead th {\n",
              "        text-align: right;\n",
              "    }\n",
              "</style>\n",
              "<table border=\"1\" class=\"dataframe\">\n",
              "  <thead>\n",
              "    <tr style=\"text-align: right;\">\n",
              "      <th></th>\n",
              "      <th>InvoiceNo</th>\n",
              "      <th>CustomerID</th>\n",
              "      <th>StockCode</th>\n",
              "      <th>Description</th>\n",
              "      <th>InvoiceDate</th>\n",
              "      <th>Country</th>\n",
              "      <th>InvoiceDate_Date</th>\n",
              "      <th>Year</th>\n",
              "      <th>Month</th>\n",
              "      <th>Time</th>\n",
              "      <th>Quantity</th>\n",
              "      <th>UnitPrice</th>\n",
              "      <th>Income</th>\n",
              "    </tr>\n",
              "  </thead>\n",
              "  <tbody>\n",
              "    <tr>\n",
              "      <th>0</th>\n",
              "      <td>536365</td>\n",
              "      <td>17850</td>\n",
              "      <td>85123</td>\n",
              "      <td>WHITE HANGING HEART T-LIGHT HOLDER</td>\n",
              "      <td>2010-12-01 08:26:00</td>\n",
              "      <td>United Kingdom</td>\n",
              "      <td>2010-12-01</td>\n",
              "      <td>2010</td>\n",
              "      <td>12</td>\n",
              "      <td>08:26:00</td>\n",
              "      <td>6</td>\n",
              "      <td>2.55</td>\n",
              "      <td>15.30</td>\n",
              "    </tr>\n",
              "    <tr>\n",
              "      <th>1</th>\n",
              "      <td>536365</td>\n",
              "      <td>17850</td>\n",
              "      <td>71053</td>\n",
              "      <td>WHITE METAL LANTERN</td>\n",
              "      <td>2010-12-01 08:26:00</td>\n",
              "      <td>United Kingdom</td>\n",
              "      <td>2010-12-01</td>\n",
              "      <td>2010</td>\n",
              "      <td>12</td>\n",
              "      <td>08:26:00</td>\n",
              "      <td>6</td>\n",
              "      <td>3.39</td>\n",
              "      <td>20.34</td>\n",
              "    </tr>\n",
              "    <tr>\n",
              "      <th>2</th>\n",
              "      <td>536365</td>\n",
              "      <td>17850</td>\n",
              "      <td>84406</td>\n",
              "      <td>CREAM CUPID HEARTS COAT HANGER</td>\n",
              "      <td>2010-12-01 08:26:00</td>\n",
              "      <td>United Kingdom</td>\n",
              "      <td>2010-12-01</td>\n",
              "      <td>2010</td>\n",
              "      <td>12</td>\n",
              "      <td>08:26:00</td>\n",
              "      <td>8</td>\n",
              "      <td>2.75</td>\n",
              "      <td>22.00</td>\n",
              "    </tr>\n",
              "    <tr>\n",
              "      <th>3</th>\n",
              "      <td>536365</td>\n",
              "      <td>17850</td>\n",
              "      <td>84029</td>\n",
              "      <td>KNITTED UNION FLAG HOT WATER BOTTLE</td>\n",
              "      <td>2010-12-01 08:26:00</td>\n",
              "      <td>United Kingdom</td>\n",
              "      <td>2010-12-01</td>\n",
              "      <td>2010</td>\n",
              "      <td>12</td>\n",
              "      <td>08:26:00</td>\n",
              "      <td>6</td>\n",
              "      <td>3.39</td>\n",
              "      <td>20.34</td>\n",
              "    </tr>\n",
              "    <tr>\n",
              "      <th>4</th>\n",
              "      <td>536365</td>\n",
              "      <td>17850</td>\n",
              "      <td>84029</td>\n",
              "      <td>RED WOOLLY HOTTIE WHITE HEART.</td>\n",
              "      <td>2010-12-01 08:26:00</td>\n",
              "      <td>United Kingdom</td>\n",
              "      <td>2010-12-01</td>\n",
              "      <td>2010</td>\n",
              "      <td>12</td>\n",
              "      <td>08:26:00</td>\n",
              "      <td>6</td>\n",
              "      <td>3.39</td>\n",
              "      <td>20.34</td>\n",
              "    </tr>\n",
              "  </tbody>\n",
              "</table>\n",
              "</div>\n",
              "      <button class=\"colab-df-convert\" onclick=\"convertToInteractive('df-ce12f12d-6a18-44b4-b288-3551c0ef9ae6')\"\n",
              "              title=\"Convert this dataframe to an interactive table.\"\n",
              "              style=\"display:none;\">\n",
              "        \n",
              "  <svg xmlns=\"http://www.w3.org/2000/svg\" height=\"24px\"viewBox=\"0 0 24 24\"\n",
              "       width=\"24px\">\n",
              "    <path d=\"M0 0h24v24H0V0z\" fill=\"none\"/>\n",
              "    <path d=\"M18.56 5.44l.94 2.06.94-2.06 2.06-.94-2.06-.94-.94-2.06-.94 2.06-2.06.94zm-11 1L8.5 8.5l.94-2.06 2.06-.94-2.06-.94L8.5 2.5l-.94 2.06-2.06.94zm10 10l.94 2.06.94-2.06 2.06-.94-2.06-.94-.94-2.06-.94 2.06-2.06.94z\"/><path d=\"M17.41 7.96l-1.37-1.37c-.4-.4-.92-.59-1.43-.59-.52 0-1.04.2-1.43.59L10.3 9.45l-7.72 7.72c-.78.78-.78 2.05 0 2.83L4 21.41c.39.39.9.59 1.41.59.51 0 1.02-.2 1.41-.59l7.78-7.78 2.81-2.81c.8-.78.8-2.07 0-2.86zM5.41 20L4 18.59l7.72-7.72 1.47 1.35L5.41 20z\"/>\n",
              "  </svg>\n",
              "      </button>\n",
              "      \n",
              "  <style>\n",
              "    .colab-df-container {\n",
              "      display:flex;\n",
              "      flex-wrap:wrap;\n",
              "      gap: 12px;\n",
              "    }\n",
              "\n",
              "    .colab-df-convert {\n",
              "      background-color: #E8F0FE;\n",
              "      border: none;\n",
              "      border-radius: 50%;\n",
              "      cursor: pointer;\n",
              "      display: none;\n",
              "      fill: #1967D2;\n",
              "      height: 32px;\n",
              "      padding: 0 0 0 0;\n",
              "      width: 32px;\n",
              "    }\n",
              "\n",
              "    .colab-df-convert:hover {\n",
              "      background-color: #E2EBFA;\n",
              "      box-shadow: 0px 1px 2px rgba(60, 64, 67, 0.3), 0px 1px 3px 1px rgba(60, 64, 67, 0.15);\n",
              "      fill: #174EA6;\n",
              "    }\n",
              "\n",
              "    [theme=dark] .colab-df-convert {\n",
              "      background-color: #3B4455;\n",
              "      fill: #D2E3FC;\n",
              "    }\n",
              "\n",
              "    [theme=dark] .colab-df-convert:hover {\n",
              "      background-color: #434B5C;\n",
              "      box-shadow: 0px 1px 3px 1px rgba(0, 0, 0, 0.15);\n",
              "      filter: drop-shadow(0px 1px 2px rgba(0, 0, 0, 0.3));\n",
              "      fill: #FFFFFF;\n",
              "    }\n",
              "  </style>\n",
              "\n",
              "      <script>\n",
              "        const buttonEl =\n",
              "          document.querySelector('#df-ce12f12d-6a18-44b4-b288-3551c0ef9ae6 button.colab-df-convert');\n",
              "        buttonEl.style.display =\n",
              "          google.colab.kernel.accessAllowed ? 'block' : 'none';\n",
              "\n",
              "        async function convertToInteractive(key) {\n",
              "          const element = document.querySelector('#df-ce12f12d-6a18-44b4-b288-3551c0ef9ae6');\n",
              "          const dataTable =\n",
              "            await google.colab.kernel.invokeFunction('convertToInteractive',\n",
              "                                                     [key], {});\n",
              "          if (!dataTable) return;\n",
              "\n",
              "          const docLinkHtml = 'Like what you see? Visit the ' +\n",
              "            '<a target=\"_blank\" href=https://colab.research.google.com/notebooks/data_table.ipynb>data table notebook</a>'\n",
              "            + ' to learn more about interactive tables.';\n",
              "          element.innerHTML = '';\n",
              "          dataTable['output_type'] = 'display_data';\n",
              "          await google.colab.output.renderOutput(dataTable, element);\n",
              "          const docLink = document.createElement('div');\n",
              "          docLink.innerHTML = docLinkHtml;\n",
              "          element.appendChild(docLink);\n",
              "        }\n",
              "      </script>\n",
              "    </div>\n",
              "  </div>\n",
              "  "
            ],
            "text/plain": [
              "  InvoiceNo  CustomerID  StockCode                          Description  \\\n",
              "0    536365       17850      85123   WHITE HANGING HEART T-LIGHT HOLDER   \n",
              "1    536365       17850      71053                  WHITE METAL LANTERN   \n",
              "2    536365       17850      84406       CREAM CUPID HEARTS COAT HANGER   \n",
              "3    536365       17850      84029  KNITTED UNION FLAG HOT WATER BOTTLE   \n",
              "4    536365       17850      84029       RED WOOLLY HOTTIE WHITE HEART.   \n",
              "\n",
              "          InvoiceDate         Country InvoiceDate_Date  Year  Month      Time  \\\n",
              "0 2010-12-01 08:26:00  United Kingdom       2010-12-01  2010     12  08:26:00   \n",
              "1 2010-12-01 08:26:00  United Kingdom       2010-12-01  2010     12  08:26:00   \n",
              "2 2010-12-01 08:26:00  United Kingdom       2010-12-01  2010     12  08:26:00   \n",
              "3 2010-12-01 08:26:00  United Kingdom       2010-12-01  2010     12  08:26:00   \n",
              "4 2010-12-01 08:26:00  United Kingdom       2010-12-01  2010     12  08:26:00   \n",
              "\n",
              "   Quantity  UnitPrice  Income  \n",
              "0         6       2.55   15.30  \n",
              "1         6       3.39   20.34  \n",
              "2         8       2.75   22.00  \n",
              "3         6       3.39   20.34  \n",
              "4         6       3.39   20.34  "
            ]
          },
          "execution_count": 259,
          "metadata": {},
          "output_type": "execute_result"
        }
      ],
      "source": [
        "df.head()"
      ]
    },
    {
      "cell_type": "code",
      "execution_count": null,
      "metadata": {
        "colab": {
          "base_uri": "https://localhost:8080/"
        },
        "id": "P7LLef-HeLcU",
        "outputId": "41a10e2a-2541-47ab-ae1f-32646544cb89"
      },
      "outputs": [
        {
          "name": "stdout",
          "output_type": "stream",
          "text": [
            "shape of the data: (404613, 13)\n",
            "\n",
            " Sum of Null Values: \n",
            "  InvoiceNo           0\n",
            "CustomerID          0\n",
            "StockCode           0\n",
            "Description         0\n",
            "InvoiceDate         0\n",
            "Country             0\n",
            "InvoiceDate_Date    0\n",
            "Year                0\n",
            "Month               0\n",
            "Time                0\n",
            "Quantity            0\n",
            "UnitPrice           0\n",
            "Income              0\n",
            "dtype: int64\n",
            "\n",
            " The data types of columns: \n",
            " InvoiceNo                   object\n",
            "CustomerID                   int64\n",
            "StockCode                    int64\n",
            "Description                 object\n",
            "InvoiceDate         datetime64[ns]\n",
            "Country                     object\n",
            "InvoiceDate_Date            object\n",
            "Year                         int64\n",
            "Month                        int64\n",
            "Time                        object\n",
            "Quantity                     int64\n",
            "UnitPrice                  float64\n",
            "Income                     float64\n",
            "dtype: object\n",
            "\n",
            " Summary Statistics: \n",
            "           CustomerID      StockCode           Year          Month  \\\n",
            "count  404613.000000  404613.000000  404613.000000  404613.000000   \n",
            "mean    15295.513945   30782.505075    2010.933999       7.607029   \n",
            "std      1710.466178   20615.670871       0.248285       3.419001   \n",
            "min     12346.000000   10002.000000    2010.000000       1.000000   \n",
            "25%     13969.000000   22029.000000    2011.000000       5.000000   \n",
            "50%     15159.000000   22666.000000    2011.000000       8.000000   \n",
            "75%     16794.000000   23269.000000    2011.000000      11.000000   \n",
            "max     18287.000000   90214.000000    2011.000000      12.000000   \n",
            "\n",
            "            Quantity      UnitPrice         Income  \n",
            "count  404613.000000  404613.000000  404613.000000  \n",
            "mean       12.108108       2.898944      20.444467  \n",
            "std       249.328073       4.431694     422.920798  \n",
            "min    -80995.000000       0.000000 -168469.600000  \n",
            "25%         2.000000       1.250000       4.200000  \n",
            "50%         5.000000       1.950000      10.790000  \n",
            "75%        12.000000       3.750000      19.500000  \n",
            "max     80995.000000     649.500000  168469.600000  \n"
          ]
        }
      ],
      "source": [
        "def summarize_data(df):\n",
        "    # Get the shape of the DataFrame\n",
        "    shape = df.shape\n",
        "    # Get the sum of null values for each column\n",
        "    null_sum = df.isnull().sum()\n",
        "    # Get a summary of the statistics for each column\n",
        "    summary = df.describe()\n",
        "    # Check the data types of columns\n",
        "    type_data = df.dtypes\n",
        "\n",
        "\n",
        "    return shape, null_sum, summary,type_data\n",
        "\n",
        "shape, null_sum,summary , type_data= summarize_data(df)\n",
        "\n",
        "print(\"shape of the data:\", shape)\n",
        "\n",
        "print(\"\\n Sum of Null Values: \\n \",null_sum)\n",
        "\n",
        "print(\"\\n The data types of columns: \\n\",type_data)\n",
        "\n",
        "print(\"\\n Summary Statistics: \\n\", summary)\n"
      ]
    },
    {
      "cell_type": "markdown",
      "metadata": {
        "id": "VY87uO7ZfxGz"
      },
      "source": [
        "### Key Points\n",
        "\n",
        "\n",
        "*   The minimum value of the quantity is -80995, which indicates that some orders were cancelled and returned\n",
        "*   The minimum value of the unit price is -11062.06, which may indicate an error in the data\n",
        "*It looks like there are 1454 missing values in the Description column, and 135080 missing values in the CustomerID column.\n",
        "\n"
      ]
    },
    {
      "cell_type": "code",
      "execution_count": null,
      "metadata": {
        "id": "qL5pl9Xjggds"
      },
      "outputs": [],
      "source": []
    },
    {
      "cell_type": "code",
      "execution_count": null,
      "metadata": {
        "colab": {
          "base_uri": "https://localhost:8080/"
        },
        "id": "lgKWISarm4ts",
        "outputId": "087f781c-fe2b-4c07-ce80-7515dd0481f5"
      },
      "outputs": [
        {
          "name": "stderr",
          "output_type": "stream",
          "text": [
            "/usr/local/lib/python3.8/dist-packages/pandas/core/generic.py:6392: SettingWithCopyWarning: \n",
            "A value is trying to be set on a copy of a slice from a DataFrame\n",
            "\n",
            "See the caveats in the documentation: https://pandas.pydata.org/pandas-docs/stable/user_guide/indexing.html#returning-a-view-versus-a-copy\n",
            "  return self._update_inplace(result)\n"
          ]
        },
        {
          "name": "stdout",
          "output_type": "stream",
          "text": [
            "Count of Negetive values:  33\n",
            "Minimum Unit Price: 0.0\n"
          ]
        }
      ],
      "source": [
        "# Fill missing values in the Description column with 'Description not available'\n",
        "df['Description'].fillna('Description Not Available', inplace=True)\n",
        "\n",
        "Negetive_values=[]\n",
        "\n",
        "for Val in df['UnitPrice']:\n",
        "  if Val<=0:\n",
        "    Negetive_values.append(Val)\n",
        "print(\"Count of Negetive values: \" , len(Negetive_values))\n",
        "\n",
        "# Remove rows with negative unit prices\n",
        "df = df[df['UnitPrice'] >= 0]\n",
        "# Check the minimum value\n",
        "print(\"Minimum Unit Price:\", df['UnitPrice'].min())\n",
        "\n",
        "\n"
      ]
    },
    {
      "cell_type": "markdown",
      "metadata": {
        "id": "YSVpNvhchZTc"
      },
      "source": [
        "\n",
        "\n",
        "*   \"All missing values in the Description column have been replaced with 'Description not available'. The negative values in the UnitPrice column have been removed.\"\n",
        "  \n",
        "\n"
      ]
    },
    {
      "cell_type": "code",
      "execution_count": null,
      "metadata": {
        "colab": {
          "base_uri": "https://localhost:8080/",
          "height": 641
        },
        "id": "NGP9hREcgm_a",
        "outputId": "d41f9883-bb09-4a5f-e9d5-95cbbf849e9b"
      },
      "outputs": [
        {
          "data": {
            "text/html": [
              "\n",
              "  <div id=\"df-d67f241a-51b9-4270-910f-82e3394ef3a1\">\n",
              "    <div class=\"colab-df-container\">\n",
              "      <div>\n",
              "<style scoped>\n",
              "    .dataframe tbody tr th:only-of-type {\n",
              "        vertical-align: middle;\n",
              "    }\n",
              "\n",
              "    .dataframe tbody tr th {\n",
              "        vertical-align: top;\n",
              "    }\n",
              "\n",
              "    .dataframe thead th {\n",
              "        text-align: right;\n",
              "    }\n",
              "</style>\n",
              "<table border=\"1\" class=\"dataframe\">\n",
              "  <thead>\n",
              "    <tr style=\"text-align: right;\">\n",
              "      <th></th>\n",
              "      <th>InvoiceNo</th>\n",
              "      <th>CustomerID</th>\n",
              "      <th>StockCode</th>\n",
              "      <th>Description</th>\n",
              "      <th>InvoiceDate</th>\n",
              "      <th>Country</th>\n",
              "      <th>InvoiceDate_Date</th>\n",
              "      <th>Year</th>\n",
              "      <th>Month</th>\n",
              "      <th>Time</th>\n",
              "      <th>Quantity</th>\n",
              "      <th>UnitPrice</th>\n",
              "      <th>Income</th>\n",
              "    </tr>\n",
              "  </thead>\n",
              "  <tbody>\n",
              "    <tr>\n",
              "      <th>0</th>\n",
              "      <td>536365</td>\n",
              "      <td>17850</td>\n",
              "      <td>85123</td>\n",
              "      <td>WHITE HANGING HEART T-LIGHT HOLDER</td>\n",
              "      <td>2010-12-01 08:26:00</td>\n",
              "      <td>United Kingdom</td>\n",
              "      <td>2010-12-01</td>\n",
              "      <td>2010</td>\n",
              "      <td>12</td>\n",
              "      <td>08:26:00</td>\n",
              "      <td>6</td>\n",
              "      <td>2.55</td>\n",
              "      <td>15.30</td>\n",
              "    </tr>\n",
              "    <tr>\n",
              "      <th>1</th>\n",
              "      <td>536365</td>\n",
              "      <td>17850</td>\n",
              "      <td>71053</td>\n",
              "      <td>WHITE METAL LANTERN</td>\n",
              "      <td>2010-12-01 08:26:00</td>\n",
              "      <td>United Kingdom</td>\n",
              "      <td>2010-12-01</td>\n",
              "      <td>2010</td>\n",
              "      <td>12</td>\n",
              "      <td>08:26:00</td>\n",
              "      <td>6</td>\n",
              "      <td>3.39</td>\n",
              "      <td>20.34</td>\n",
              "    </tr>\n",
              "    <tr>\n",
              "      <th>2</th>\n",
              "      <td>536365</td>\n",
              "      <td>17850</td>\n",
              "      <td>84406</td>\n",
              "      <td>CREAM CUPID HEARTS COAT HANGER</td>\n",
              "      <td>2010-12-01 08:26:00</td>\n",
              "      <td>United Kingdom</td>\n",
              "      <td>2010-12-01</td>\n",
              "      <td>2010</td>\n",
              "      <td>12</td>\n",
              "      <td>08:26:00</td>\n",
              "      <td>8</td>\n",
              "      <td>2.75</td>\n",
              "      <td>22.00</td>\n",
              "    </tr>\n",
              "    <tr>\n",
              "      <th>3</th>\n",
              "      <td>536365</td>\n",
              "      <td>17850</td>\n",
              "      <td>84029</td>\n",
              "      <td>KNITTED UNION FLAG HOT WATER BOTTLE</td>\n",
              "      <td>2010-12-01 08:26:00</td>\n",
              "      <td>United Kingdom</td>\n",
              "      <td>2010-12-01</td>\n",
              "      <td>2010</td>\n",
              "      <td>12</td>\n",
              "      <td>08:26:00</td>\n",
              "      <td>6</td>\n",
              "      <td>3.39</td>\n",
              "      <td>20.34</td>\n",
              "    </tr>\n",
              "    <tr>\n",
              "      <th>4</th>\n",
              "      <td>536365</td>\n",
              "      <td>17850</td>\n",
              "      <td>84029</td>\n",
              "      <td>RED WOOLLY HOTTIE WHITE HEART.</td>\n",
              "      <td>2010-12-01 08:26:00</td>\n",
              "      <td>United Kingdom</td>\n",
              "      <td>2010-12-01</td>\n",
              "      <td>2010</td>\n",
              "      <td>12</td>\n",
              "      <td>08:26:00</td>\n",
              "      <td>6</td>\n",
              "      <td>3.39</td>\n",
              "      <td>20.34</td>\n",
              "    </tr>\n",
              "    <tr>\n",
              "      <th>...</th>\n",
              "      <td>...</td>\n",
              "      <td>...</td>\n",
              "      <td>...</td>\n",
              "      <td>...</td>\n",
              "      <td>...</td>\n",
              "      <td>...</td>\n",
              "      <td>...</td>\n",
              "      <td>...</td>\n",
              "      <td>...</td>\n",
              "      <td>...</td>\n",
              "      <td>...</td>\n",
              "      <td>...</td>\n",
              "      <td>...</td>\n",
              "    </tr>\n",
              "    <tr>\n",
              "      <th>541904</th>\n",
              "      <td>581587</td>\n",
              "      <td>12680</td>\n",
              "      <td>22613</td>\n",
              "      <td>PACK OF 20 SPACEBOY NAPKINS</td>\n",
              "      <td>2011-12-09 12:50:00</td>\n",
              "      <td>France</td>\n",
              "      <td>2011-12-09</td>\n",
              "      <td>2011</td>\n",
              "      <td>12</td>\n",
              "      <td>12:50:00</td>\n",
              "      <td>12</td>\n",
              "      <td>0.85</td>\n",
              "      <td>10.20</td>\n",
              "    </tr>\n",
              "    <tr>\n",
              "      <th>541905</th>\n",
              "      <td>581587</td>\n",
              "      <td>12680</td>\n",
              "      <td>22899</td>\n",
              "      <td>CHILDREN'S APRON DOLLY GIRL</td>\n",
              "      <td>2011-12-09 12:50:00</td>\n",
              "      <td>France</td>\n",
              "      <td>2011-12-09</td>\n",
              "      <td>2011</td>\n",
              "      <td>12</td>\n",
              "      <td>12:50:00</td>\n",
              "      <td>6</td>\n",
              "      <td>2.10</td>\n",
              "      <td>12.60</td>\n",
              "    </tr>\n",
              "    <tr>\n",
              "      <th>541906</th>\n",
              "      <td>581587</td>\n",
              "      <td>12680</td>\n",
              "      <td>23254</td>\n",
              "      <td>CHILDRENS CUTLERY DOLLY GIRL</td>\n",
              "      <td>2011-12-09 12:50:00</td>\n",
              "      <td>France</td>\n",
              "      <td>2011-12-09</td>\n",
              "      <td>2011</td>\n",
              "      <td>12</td>\n",
              "      <td>12:50:00</td>\n",
              "      <td>4</td>\n",
              "      <td>4.15</td>\n",
              "      <td>16.60</td>\n",
              "    </tr>\n",
              "    <tr>\n",
              "      <th>541907</th>\n",
              "      <td>581587</td>\n",
              "      <td>12680</td>\n",
              "      <td>23255</td>\n",
              "      <td>CHILDRENS CUTLERY CIRCUS PARADE</td>\n",
              "      <td>2011-12-09 12:50:00</td>\n",
              "      <td>France</td>\n",
              "      <td>2011-12-09</td>\n",
              "      <td>2011</td>\n",
              "      <td>12</td>\n",
              "      <td>12:50:00</td>\n",
              "      <td>4</td>\n",
              "      <td>4.15</td>\n",
              "      <td>16.60</td>\n",
              "    </tr>\n",
              "    <tr>\n",
              "      <th>541908</th>\n",
              "      <td>581587</td>\n",
              "      <td>12680</td>\n",
              "      <td>22138</td>\n",
              "      <td>BAKING SET 9 PIECE RETROSPOT</td>\n",
              "      <td>2011-12-09 12:50:00</td>\n",
              "      <td>France</td>\n",
              "      <td>2011-12-09</td>\n",
              "      <td>2011</td>\n",
              "      <td>12</td>\n",
              "      <td>12:50:00</td>\n",
              "      <td>3</td>\n",
              "      <td>4.95</td>\n",
              "      <td>14.85</td>\n",
              "    </tr>\n",
              "  </tbody>\n",
              "</table>\n",
              "<p>404613 rows × 13 columns</p>\n",
              "</div>\n",
              "      <button class=\"colab-df-convert\" onclick=\"convertToInteractive('df-d67f241a-51b9-4270-910f-82e3394ef3a1')\"\n",
              "              title=\"Convert this dataframe to an interactive table.\"\n",
              "              style=\"display:none;\">\n",
              "        \n",
              "  <svg xmlns=\"http://www.w3.org/2000/svg\" height=\"24px\"viewBox=\"0 0 24 24\"\n",
              "       width=\"24px\">\n",
              "    <path d=\"M0 0h24v24H0V0z\" fill=\"none\"/>\n",
              "    <path d=\"M18.56 5.44l.94 2.06.94-2.06 2.06-.94-2.06-.94-.94-2.06-.94 2.06-2.06.94zm-11 1L8.5 8.5l.94-2.06 2.06-.94-2.06-.94L8.5 2.5l-.94 2.06-2.06.94zm10 10l.94 2.06.94-2.06 2.06-.94-2.06-.94-.94-2.06-.94 2.06-2.06.94z\"/><path d=\"M17.41 7.96l-1.37-1.37c-.4-.4-.92-.59-1.43-.59-.52 0-1.04.2-1.43.59L10.3 9.45l-7.72 7.72c-.78.78-.78 2.05 0 2.83L4 21.41c.39.39.9.59 1.41.59.51 0 1.02-.2 1.41-.59l7.78-7.78 2.81-2.81c.8-.78.8-2.07 0-2.86zM5.41 20L4 18.59l7.72-7.72 1.47 1.35L5.41 20z\"/>\n",
              "  </svg>\n",
              "      </button>\n",
              "      \n",
              "  <style>\n",
              "    .colab-df-container {\n",
              "      display:flex;\n",
              "      flex-wrap:wrap;\n",
              "      gap: 12px;\n",
              "    }\n",
              "\n",
              "    .colab-df-convert {\n",
              "      background-color: #E8F0FE;\n",
              "      border: none;\n",
              "      border-radius: 50%;\n",
              "      cursor: pointer;\n",
              "      display: none;\n",
              "      fill: #1967D2;\n",
              "      height: 32px;\n",
              "      padding: 0 0 0 0;\n",
              "      width: 32px;\n",
              "    }\n",
              "\n",
              "    .colab-df-convert:hover {\n",
              "      background-color: #E2EBFA;\n",
              "      box-shadow: 0px 1px 2px rgba(60, 64, 67, 0.3), 0px 1px 3px 1px rgba(60, 64, 67, 0.15);\n",
              "      fill: #174EA6;\n",
              "    }\n",
              "\n",
              "    [theme=dark] .colab-df-convert {\n",
              "      background-color: #3B4455;\n",
              "      fill: #D2E3FC;\n",
              "    }\n",
              "\n",
              "    [theme=dark] .colab-df-convert:hover {\n",
              "      background-color: #434B5C;\n",
              "      box-shadow: 0px 1px 3px 1px rgba(0, 0, 0, 0.15);\n",
              "      filter: drop-shadow(0px 1px 2px rgba(0, 0, 0, 0.3));\n",
              "      fill: #FFFFFF;\n",
              "    }\n",
              "  </style>\n",
              "\n",
              "      <script>\n",
              "        const buttonEl =\n",
              "          document.querySelector('#df-d67f241a-51b9-4270-910f-82e3394ef3a1 button.colab-df-convert');\n",
              "        buttonEl.style.display =\n",
              "          google.colab.kernel.accessAllowed ? 'block' : 'none';\n",
              "\n",
              "        async function convertToInteractive(key) {\n",
              "          const element = document.querySelector('#df-d67f241a-51b9-4270-910f-82e3394ef3a1');\n",
              "          const dataTable =\n",
              "            await google.colab.kernel.invokeFunction('convertToInteractive',\n",
              "                                                     [key], {});\n",
              "          if (!dataTable) return;\n",
              "\n",
              "          const docLinkHtml = 'Like what you see? Visit the ' +\n",
              "            '<a target=\"_blank\" href=https://colab.research.google.com/notebooks/data_table.ipynb>data table notebook</a>'\n",
              "            + ' to learn more about interactive tables.';\n",
              "          element.innerHTML = '';\n",
              "          dataTable['output_type'] = 'display_data';\n",
              "          await google.colab.output.renderOutput(dataTable, element);\n",
              "          const docLink = document.createElement('div');\n",
              "          docLink.innerHTML = docLinkHtml;\n",
              "          element.appendChild(docLink);\n",
              "        }\n",
              "      </script>\n",
              "    </div>\n",
              "  </div>\n",
              "  "
            ],
            "text/plain": [
              "       InvoiceNo  CustomerID  StockCode                          Description  \\\n",
              "0         536365       17850      85123   WHITE HANGING HEART T-LIGHT HOLDER   \n",
              "1         536365       17850      71053                  WHITE METAL LANTERN   \n",
              "2         536365       17850      84406       CREAM CUPID HEARTS COAT HANGER   \n",
              "3         536365       17850      84029  KNITTED UNION FLAG HOT WATER BOTTLE   \n",
              "4         536365       17850      84029       RED WOOLLY HOTTIE WHITE HEART.   \n",
              "...          ...         ...        ...                                  ...   \n",
              "541904    581587       12680      22613          PACK OF 20 SPACEBOY NAPKINS   \n",
              "541905    581587       12680      22899         CHILDREN'S APRON DOLLY GIRL    \n",
              "541906    581587       12680      23254        CHILDRENS CUTLERY DOLLY GIRL    \n",
              "541907    581587       12680      23255      CHILDRENS CUTLERY CIRCUS PARADE   \n",
              "541908    581587       12680      22138        BAKING SET 9 PIECE RETROSPOT    \n",
              "\n",
              "               InvoiceDate         Country InvoiceDate_Date  Year  Month  \\\n",
              "0      2010-12-01 08:26:00  United Kingdom       2010-12-01  2010     12   \n",
              "1      2010-12-01 08:26:00  United Kingdom       2010-12-01  2010     12   \n",
              "2      2010-12-01 08:26:00  United Kingdom       2010-12-01  2010     12   \n",
              "3      2010-12-01 08:26:00  United Kingdom       2010-12-01  2010     12   \n",
              "4      2010-12-01 08:26:00  United Kingdom       2010-12-01  2010     12   \n",
              "...                    ...             ...              ...   ...    ...   \n",
              "541904 2011-12-09 12:50:00          France       2011-12-09  2011     12   \n",
              "541905 2011-12-09 12:50:00          France       2011-12-09  2011     12   \n",
              "541906 2011-12-09 12:50:00          France       2011-12-09  2011     12   \n",
              "541907 2011-12-09 12:50:00          France       2011-12-09  2011     12   \n",
              "541908 2011-12-09 12:50:00          France       2011-12-09  2011     12   \n",
              "\n",
              "            Time  Quantity  UnitPrice  Income  \n",
              "0       08:26:00         6       2.55   15.30  \n",
              "1       08:26:00         6       3.39   20.34  \n",
              "2       08:26:00         8       2.75   22.00  \n",
              "3       08:26:00         6       3.39   20.34  \n",
              "4       08:26:00         6       3.39   20.34  \n",
              "...          ...       ...        ...     ...  \n",
              "541904  12:50:00        12       0.85   10.20  \n",
              "541905  12:50:00         6       2.10   12.60  \n",
              "541906  12:50:00         4       4.15   16.60  \n",
              "541907  12:50:00         4       4.15   16.60  \n",
              "541908  12:50:00         3       4.95   14.85  \n",
              "\n",
              "[404613 rows x 13 columns]"
            ]
          },
          "execution_count": 262,
          "metadata": {},
          "output_type": "execute_result"
        }
      ],
      "source": [
        "def extract_date_info(df):\n",
        "\n",
        "  # Convert InvoiceDate to datetime\n",
        "  df['InvoiceDate'] = pd.to_datetime(df['InvoiceDate'])\n",
        "\n",
        " # Extract Date ,year, month, and time\n",
        "  df['InvoiceDate_Date'] = df['InvoiceDate'].dt.date\n",
        "  df['Year'] = df['InvoiceDate'].dt.year\n",
        "  df['Month'] = df['InvoiceDate'].dt.month\n",
        "  df['Time'] = df['InvoiceDate'].dt.time\n",
        "\n",
        "  # Calculate Income\n",
        "  df['Income'] = df['UnitPrice'] * df['Quantity']\n",
        "\n",
        "  return df\n",
        "#\n",
        "extract_date_info(df)"
      ]
    },
    {
      "cell_type": "code",
      "execution_count": null,
      "metadata": {
        "colab": {
          "base_uri": "https://localhost:8080/",
          "height": 337
        },
        "id": "QWen510gjO1C",
        "outputId": "cd336054-17ad-483b-d75c-f9d97f9093e7"
      },
      "outputs": [
        {
          "data": {
            "text/html": [
              "\n",
              "  <div id=\"df-2d09d2f8-4a51-4b4e-b6f3-10403e0079d2\">\n",
              "    <div class=\"colab-df-container\">\n",
              "      <div>\n",
              "<style scoped>\n",
              "    .dataframe tbody tr th:only-of-type {\n",
              "        vertical-align: middle;\n",
              "    }\n",
              "\n",
              "    .dataframe tbody tr th {\n",
              "        vertical-align: top;\n",
              "    }\n",
              "\n",
              "    .dataframe thead th {\n",
              "        text-align: right;\n",
              "    }\n",
              "</style>\n",
              "<table border=\"1\" class=\"dataframe\">\n",
              "  <thead>\n",
              "    <tr style=\"text-align: right;\">\n",
              "      <th></th>\n",
              "      <th>InvoiceNo</th>\n",
              "      <th>CustomerID</th>\n",
              "      <th>StockCode</th>\n",
              "      <th>Description</th>\n",
              "      <th>InvoiceDate</th>\n",
              "      <th>Country</th>\n",
              "      <th>InvoiceDate_Date</th>\n",
              "      <th>Year</th>\n",
              "      <th>Month</th>\n",
              "      <th>Time</th>\n",
              "      <th>Quantity</th>\n",
              "      <th>UnitPrice</th>\n",
              "      <th>Income</th>\n",
              "    </tr>\n",
              "  </thead>\n",
              "  <tbody>\n",
              "    <tr>\n",
              "      <th>0</th>\n",
              "      <td>536365</td>\n",
              "      <td>17850</td>\n",
              "      <td>85123</td>\n",
              "      <td>WHITE HANGING HEART T-LIGHT HOLDER</td>\n",
              "      <td>2010-12-01 08:26:00</td>\n",
              "      <td>United Kingdom</td>\n",
              "      <td>2010-12-01</td>\n",
              "      <td>2010</td>\n",
              "      <td>12</td>\n",
              "      <td>08:26:00</td>\n",
              "      <td>6</td>\n",
              "      <td>2.55</td>\n",
              "      <td>15.30</td>\n",
              "    </tr>\n",
              "    <tr>\n",
              "      <th>1</th>\n",
              "      <td>536365</td>\n",
              "      <td>17850</td>\n",
              "      <td>71053</td>\n",
              "      <td>WHITE METAL LANTERN</td>\n",
              "      <td>2010-12-01 08:26:00</td>\n",
              "      <td>United Kingdom</td>\n",
              "      <td>2010-12-01</td>\n",
              "      <td>2010</td>\n",
              "      <td>12</td>\n",
              "      <td>08:26:00</td>\n",
              "      <td>6</td>\n",
              "      <td>3.39</td>\n",
              "      <td>20.34</td>\n",
              "    </tr>\n",
              "    <tr>\n",
              "      <th>2</th>\n",
              "      <td>536365</td>\n",
              "      <td>17850</td>\n",
              "      <td>84406</td>\n",
              "      <td>CREAM CUPID HEARTS COAT HANGER</td>\n",
              "      <td>2010-12-01 08:26:00</td>\n",
              "      <td>United Kingdom</td>\n",
              "      <td>2010-12-01</td>\n",
              "      <td>2010</td>\n",
              "      <td>12</td>\n",
              "      <td>08:26:00</td>\n",
              "      <td>8</td>\n",
              "      <td>2.75</td>\n",
              "      <td>22.00</td>\n",
              "    </tr>\n",
              "    <tr>\n",
              "      <th>3</th>\n",
              "      <td>536365</td>\n",
              "      <td>17850</td>\n",
              "      <td>84029</td>\n",
              "      <td>KNITTED UNION FLAG HOT WATER BOTTLE</td>\n",
              "      <td>2010-12-01 08:26:00</td>\n",
              "      <td>United Kingdom</td>\n",
              "      <td>2010-12-01</td>\n",
              "      <td>2010</td>\n",
              "      <td>12</td>\n",
              "      <td>08:26:00</td>\n",
              "      <td>6</td>\n",
              "      <td>3.39</td>\n",
              "      <td>20.34</td>\n",
              "    </tr>\n",
              "    <tr>\n",
              "      <th>4</th>\n",
              "      <td>536365</td>\n",
              "      <td>17850</td>\n",
              "      <td>84029</td>\n",
              "      <td>RED WOOLLY HOTTIE WHITE HEART.</td>\n",
              "      <td>2010-12-01 08:26:00</td>\n",
              "      <td>United Kingdom</td>\n",
              "      <td>2010-12-01</td>\n",
              "      <td>2010</td>\n",
              "      <td>12</td>\n",
              "      <td>08:26:00</td>\n",
              "      <td>6</td>\n",
              "      <td>3.39</td>\n",
              "      <td>20.34</td>\n",
              "    </tr>\n",
              "  </tbody>\n",
              "</table>\n",
              "</div>\n",
              "      <button class=\"colab-df-convert\" onclick=\"convertToInteractive('df-2d09d2f8-4a51-4b4e-b6f3-10403e0079d2')\"\n",
              "              title=\"Convert this dataframe to an interactive table.\"\n",
              "              style=\"display:none;\">\n",
              "        \n",
              "  <svg xmlns=\"http://www.w3.org/2000/svg\" height=\"24px\"viewBox=\"0 0 24 24\"\n",
              "       width=\"24px\">\n",
              "    <path d=\"M0 0h24v24H0V0z\" fill=\"none\"/>\n",
              "    <path d=\"M18.56 5.44l.94 2.06.94-2.06 2.06-.94-2.06-.94-.94-2.06-.94 2.06-2.06.94zm-11 1L8.5 8.5l.94-2.06 2.06-.94-2.06-.94L8.5 2.5l-.94 2.06-2.06.94zm10 10l.94 2.06.94-2.06 2.06-.94-2.06-.94-.94-2.06-.94 2.06-2.06.94z\"/><path d=\"M17.41 7.96l-1.37-1.37c-.4-.4-.92-.59-1.43-.59-.52 0-1.04.2-1.43.59L10.3 9.45l-7.72 7.72c-.78.78-.78 2.05 0 2.83L4 21.41c.39.39.9.59 1.41.59.51 0 1.02-.2 1.41-.59l7.78-7.78 2.81-2.81c.8-.78.8-2.07 0-2.86zM5.41 20L4 18.59l7.72-7.72 1.47 1.35L5.41 20z\"/>\n",
              "  </svg>\n",
              "      </button>\n",
              "      \n",
              "  <style>\n",
              "    .colab-df-container {\n",
              "      display:flex;\n",
              "      flex-wrap:wrap;\n",
              "      gap: 12px;\n",
              "    }\n",
              "\n",
              "    .colab-df-convert {\n",
              "      background-color: #E8F0FE;\n",
              "      border: none;\n",
              "      border-radius: 50%;\n",
              "      cursor: pointer;\n",
              "      display: none;\n",
              "      fill: #1967D2;\n",
              "      height: 32px;\n",
              "      padding: 0 0 0 0;\n",
              "      width: 32px;\n",
              "    }\n",
              "\n",
              "    .colab-df-convert:hover {\n",
              "      background-color: #E2EBFA;\n",
              "      box-shadow: 0px 1px 2px rgba(60, 64, 67, 0.3), 0px 1px 3px 1px rgba(60, 64, 67, 0.15);\n",
              "      fill: #174EA6;\n",
              "    }\n",
              "\n",
              "    [theme=dark] .colab-df-convert {\n",
              "      background-color: #3B4455;\n",
              "      fill: #D2E3FC;\n",
              "    }\n",
              "\n",
              "    [theme=dark] .colab-df-convert:hover {\n",
              "      background-color: #434B5C;\n",
              "      box-shadow: 0px 1px 3px 1px rgba(0, 0, 0, 0.15);\n",
              "      filter: drop-shadow(0px 1px 2px rgba(0, 0, 0, 0.3));\n",
              "      fill: #FFFFFF;\n",
              "    }\n",
              "  </style>\n",
              "\n",
              "      <script>\n",
              "        const buttonEl =\n",
              "          document.querySelector('#df-2d09d2f8-4a51-4b4e-b6f3-10403e0079d2 button.colab-df-convert');\n",
              "        buttonEl.style.display =\n",
              "          google.colab.kernel.accessAllowed ? 'block' : 'none';\n",
              "\n",
              "        async function convertToInteractive(key) {\n",
              "          const element = document.querySelector('#df-2d09d2f8-4a51-4b4e-b6f3-10403e0079d2');\n",
              "          const dataTable =\n",
              "            await google.colab.kernel.invokeFunction('convertToInteractive',\n",
              "                                                     [key], {});\n",
              "          if (!dataTable) return;\n",
              "\n",
              "          const docLinkHtml = 'Like what you see? Visit the ' +\n",
              "            '<a target=\"_blank\" href=https://colab.research.google.com/notebooks/data_table.ipynb>data table notebook</a>'\n",
              "            + ' to learn more about interactive tables.';\n",
              "          element.innerHTML = '';\n",
              "          dataTable['output_type'] = 'display_data';\n",
              "          await google.colab.output.renderOutput(dataTable, element);\n",
              "          const docLink = document.createElement('div');\n",
              "          docLink.innerHTML = docLinkHtml;\n",
              "          element.appendChild(docLink);\n",
              "        }\n",
              "      </script>\n",
              "    </div>\n",
              "  </div>\n",
              "  "
            ],
            "text/plain": [
              "  InvoiceNo  CustomerID  StockCode                          Description  \\\n",
              "0    536365       17850      85123   WHITE HANGING HEART T-LIGHT HOLDER   \n",
              "1    536365       17850      71053                  WHITE METAL LANTERN   \n",
              "2    536365       17850      84406       CREAM CUPID HEARTS COAT HANGER   \n",
              "3    536365       17850      84029  KNITTED UNION FLAG HOT WATER BOTTLE   \n",
              "4    536365       17850      84029       RED WOOLLY HOTTIE WHITE HEART.   \n",
              "\n",
              "          InvoiceDate         Country InvoiceDate_Date  Year  Month      Time  \\\n",
              "0 2010-12-01 08:26:00  United Kingdom       2010-12-01  2010     12  08:26:00   \n",
              "1 2010-12-01 08:26:00  United Kingdom       2010-12-01  2010     12  08:26:00   \n",
              "2 2010-12-01 08:26:00  United Kingdom       2010-12-01  2010     12  08:26:00   \n",
              "3 2010-12-01 08:26:00  United Kingdom       2010-12-01  2010     12  08:26:00   \n",
              "4 2010-12-01 08:26:00  United Kingdom       2010-12-01  2010     12  08:26:00   \n",
              "\n",
              "   Quantity  UnitPrice  Income  \n",
              "0         6       2.55   15.30  \n",
              "1         6       3.39   20.34  \n",
              "2         8       2.75   22.00  \n",
              "3         6       3.39   20.34  \n",
              "4         6       3.39   20.34  "
            ]
          },
          "execution_count": 263,
          "metadata": {},
          "output_type": "execute_result"
        }
      ],
      "source": [
        "# Reorder Data frame\n",
        "# Get a list of the current column names\n",
        "cols = list(df.columns)\n",
        "\n",
        "# Specify the desired order of the columns\n",
        "cols = ['InvoiceNo','CustomerID','StockCode','Description','InvoiceDate','Country','InvoiceDate_Date', 'Year','Month',\n",
        "        'Time','Quantity', 'UnitPrice', 'Income']\n",
        "\n",
        "# Reorder the columns in the DataFrame\n",
        "df = df[cols]\n",
        "\n",
        "#\n",
        "df.head()"
      ]
    },
    {
      "cell_type": "code",
      "execution_count": null,
      "metadata": {
        "id": "5gOwPqZ7jOfv"
      },
      "outputs": [],
      "source": [
        "df.to_csv('cleaned_retail_data.csv', index=False)"
      ]
    },
    {
      "cell_type": "code",
      "execution_count": null,
      "metadata": {
        "id": "wBloTpiMvyxc"
      },
      "outputs": [],
      "source": []
    },
    {
      "cell_type": "code",
      "execution_count": null,
      "metadata": {
        "id": "0gt6O3Rfvzh6"
      },
      "outputs": [],
      "source": [
        "#create Continet column in data set\n",
        "\n",
        "def map_country_to_continent(df):\n",
        "    # Define a dictionary to map each country to its corresponding continent\n",
        "    continent_dict = {\n",
        "        'United Kingdom': 'Europe',\n",
        "        'France': 'Europe',\n",
        "        'Australia': 'Australia',\n",
        "        'Netherlands': 'Europe',\n",
        "        'Germany': 'Europe',\n",
        "        'Norway': 'Europe',\n",
        "        'EIRE': 'Europe',\n",
        "        'Switzerland': 'Europe',\n",
        "        'Spain': 'Europe',\n",
        "        'Poland': 'Europe',\n",
        "        'Portugal': 'Europe',\n",
        "        'Italy': 'Europe',\n",
        "        'Belgium': 'Europe',\n",
        "        'Lithuania': 'Europe',\n",
        "        'Japan': 'Asia',\n",
        "        'Iceland': 'Europe',\n",
        "        'Channel Islands': 'Europe',\n",
        "        'Denmark': 'Europe',\n",
        "        'Cyprus': 'Europe',\n",
        "        'Sweden': 'Europe',\n",
        "        'Austria': 'Europe',\n",
        "        'Israel': 'Asia',\n",
        "        'Finland': 'Europe',\n",
        "        'Bahrain': 'Asia',\n",
        "        'Greece': 'Europe',\n",
        "        'Hong Kong': 'Asia',\n",
        "        'Singapore': 'Asia',\n",
        "        'Lebanon': 'Asia',\n",
        "        'United Arab Emirates': 'Asia',\n",
        "        'Saudi Arabia': 'Asia',\n",
        "        'Czech Republic': 'Europe',\n",
        "        'Canada': 'North America',\n",
        "        'Unspecified': 'Other',\n",
        "        'Brazil': 'South America',\n",
        "        'USA': 'North America',\n",
        "        'European Community': 'Europe',\n",
        "        'Malta': 'Europe',\n",
        "        'RSA': 'Africa'\n",
        "    }\n",
        "\n",
        "    # Create a new column \"Continent\" and map each country to its corresponding continent\n",
        "    df['Continent'] = df['Country'].map(continent_dict)\n",
        "\n",
        "    return df\n",
        "\n",
        "# Apply the function to the data frame\n",
        "df = map_country_to_continent(df)\n",
        "\n"
      ]
    },
    {
      "cell_type": "code",
      "execution_count": null,
      "metadata": {
        "colab": {
          "base_uri": "https://localhost:8080/",
          "height": 330
        },
        "id": "_x4cRH5HHIjK",
        "outputId": "2e711e32-47f8-4494-f82f-cabd2102e65f"
      },
      "outputs": [
        {
          "data": {
            "text/html": [
              "\n",
              "  <div id=\"df-47637ae8-85b2-4760-ba98-961703bf225e\">\n",
              "    <div class=\"colab-df-container\">\n",
              "      <div>\n",
              "<style scoped>\n",
              "    .dataframe tbody tr th:only-of-type {\n",
              "        vertical-align: middle;\n",
              "    }\n",
              "\n",
              "    .dataframe tbody tr th {\n",
              "        vertical-align: top;\n",
              "    }\n",
              "\n",
              "    .dataframe thead th {\n",
              "        text-align: right;\n",
              "    }\n",
              "</style>\n",
              "<table border=\"1\" class=\"dataframe\">\n",
              "  <thead>\n",
              "    <tr style=\"text-align: right;\">\n",
              "      <th></th>\n",
              "      <th>InvoiceNo</th>\n",
              "      <th>CustomerID</th>\n",
              "      <th>StockCode</th>\n",
              "      <th>Description</th>\n",
              "      <th>InvoiceDate</th>\n",
              "      <th>Country</th>\n",
              "      <th>InvoiceDate_Date</th>\n",
              "      <th>Year</th>\n",
              "      <th>Month</th>\n",
              "      <th>Time</th>\n",
              "      <th>Quantity</th>\n",
              "      <th>UnitPrice</th>\n",
              "      <th>Income</th>\n",
              "      <th>Continent</th>\n",
              "    </tr>\n",
              "  </thead>\n",
              "  <tbody>\n",
              "    <tr>\n",
              "      <th>0</th>\n",
              "      <td>536365</td>\n",
              "      <td>17850</td>\n",
              "      <td>85123</td>\n",
              "      <td>WHITE HANGING HEART T-LIGHT HOLDER</td>\n",
              "      <td>2010-12-01 08:26:00</td>\n",
              "      <td>United Kingdom</td>\n",
              "      <td>2010-12-01</td>\n",
              "      <td>2010</td>\n",
              "      <td>12</td>\n",
              "      <td>08:26:00</td>\n",
              "      <td>6</td>\n",
              "      <td>2.55</td>\n",
              "      <td>15.30</td>\n",
              "      <td>Europe</td>\n",
              "    </tr>\n",
              "    <tr>\n",
              "      <th>1</th>\n",
              "      <td>536365</td>\n",
              "      <td>17850</td>\n",
              "      <td>71053</td>\n",
              "      <td>WHITE METAL LANTERN</td>\n",
              "      <td>2010-12-01 08:26:00</td>\n",
              "      <td>United Kingdom</td>\n",
              "      <td>2010-12-01</td>\n",
              "      <td>2010</td>\n",
              "      <td>12</td>\n",
              "      <td>08:26:00</td>\n",
              "      <td>6</td>\n",
              "      <td>3.39</td>\n",
              "      <td>20.34</td>\n",
              "      <td>Europe</td>\n",
              "    </tr>\n",
              "    <tr>\n",
              "      <th>2</th>\n",
              "      <td>536365</td>\n",
              "      <td>17850</td>\n",
              "      <td>84406</td>\n",
              "      <td>CREAM CUPID HEARTS COAT HANGER</td>\n",
              "      <td>2010-12-01 08:26:00</td>\n",
              "      <td>United Kingdom</td>\n",
              "      <td>2010-12-01</td>\n",
              "      <td>2010</td>\n",
              "      <td>12</td>\n",
              "      <td>08:26:00</td>\n",
              "      <td>8</td>\n",
              "      <td>2.75</td>\n",
              "      <td>22.00</td>\n",
              "      <td>Europe</td>\n",
              "    </tr>\n",
              "    <tr>\n",
              "      <th>3</th>\n",
              "      <td>536365</td>\n",
              "      <td>17850</td>\n",
              "      <td>84029</td>\n",
              "      <td>KNITTED UNION FLAG HOT WATER BOTTLE</td>\n",
              "      <td>2010-12-01 08:26:00</td>\n",
              "      <td>United Kingdom</td>\n",
              "      <td>2010-12-01</td>\n",
              "      <td>2010</td>\n",
              "      <td>12</td>\n",
              "      <td>08:26:00</td>\n",
              "      <td>6</td>\n",
              "      <td>3.39</td>\n",
              "      <td>20.34</td>\n",
              "      <td>Europe</td>\n",
              "    </tr>\n",
              "    <tr>\n",
              "      <th>4</th>\n",
              "      <td>536365</td>\n",
              "      <td>17850</td>\n",
              "      <td>84029</td>\n",
              "      <td>RED WOOLLY HOTTIE WHITE HEART.</td>\n",
              "      <td>2010-12-01 08:26:00</td>\n",
              "      <td>United Kingdom</td>\n",
              "      <td>2010-12-01</td>\n",
              "      <td>2010</td>\n",
              "      <td>12</td>\n",
              "      <td>08:26:00</td>\n",
              "      <td>6</td>\n",
              "      <td>3.39</td>\n",
              "      <td>20.34</td>\n",
              "      <td>Europe</td>\n",
              "    </tr>\n",
              "  </tbody>\n",
              "</table>\n",
              "</div>\n",
              "      <button class=\"colab-df-convert\" onclick=\"convertToInteractive('df-47637ae8-85b2-4760-ba98-961703bf225e')\"\n",
              "              title=\"Convert this dataframe to an interactive table.\"\n",
              "              style=\"display:none;\">\n",
              "        \n",
              "  <svg xmlns=\"http://www.w3.org/2000/svg\" height=\"24px\"viewBox=\"0 0 24 24\"\n",
              "       width=\"24px\">\n",
              "    <path d=\"M0 0h24v24H0V0z\" fill=\"none\"/>\n",
              "    <path d=\"M18.56 5.44l.94 2.06.94-2.06 2.06-.94-2.06-.94-.94-2.06-.94 2.06-2.06.94zm-11 1L8.5 8.5l.94-2.06 2.06-.94-2.06-.94L8.5 2.5l-.94 2.06-2.06.94zm10 10l.94 2.06.94-2.06 2.06-.94-2.06-.94-.94-2.06-.94 2.06-2.06.94z\"/><path d=\"M17.41 7.96l-1.37-1.37c-.4-.4-.92-.59-1.43-.59-.52 0-1.04.2-1.43.59L10.3 9.45l-7.72 7.72c-.78.78-.78 2.05 0 2.83L4 21.41c.39.39.9.59 1.41.59.51 0 1.02-.2 1.41-.59l7.78-7.78 2.81-2.81c.8-.78.8-2.07 0-2.86zM5.41 20L4 18.59l7.72-7.72 1.47 1.35L5.41 20z\"/>\n",
              "  </svg>\n",
              "      </button>\n",
              "      \n",
              "  <style>\n",
              "    .colab-df-container {\n",
              "      display:flex;\n",
              "      flex-wrap:wrap;\n",
              "      gap: 12px;\n",
              "    }\n",
              "\n",
              "    .colab-df-convert {\n",
              "      background-color: #E8F0FE;\n",
              "      border: none;\n",
              "      border-radius: 50%;\n",
              "      cursor: pointer;\n",
              "      display: none;\n",
              "      fill: #1967D2;\n",
              "      height: 32px;\n",
              "      padding: 0 0 0 0;\n",
              "      width: 32px;\n",
              "    }\n",
              "\n",
              "    .colab-df-convert:hover {\n",
              "      background-color: #E2EBFA;\n",
              "      box-shadow: 0px 1px 2px rgba(60, 64, 67, 0.3), 0px 1px 3px 1px rgba(60, 64, 67, 0.15);\n",
              "      fill: #174EA6;\n",
              "    }\n",
              "\n",
              "    [theme=dark] .colab-df-convert {\n",
              "      background-color: #3B4455;\n",
              "      fill: #D2E3FC;\n",
              "    }\n",
              "\n",
              "    [theme=dark] .colab-df-convert:hover {\n",
              "      background-color: #434B5C;\n",
              "      box-shadow: 0px 1px 3px 1px rgba(0, 0, 0, 0.15);\n",
              "      filter: drop-shadow(0px 1px 2px rgba(0, 0, 0, 0.3));\n",
              "      fill: #FFFFFF;\n",
              "    }\n",
              "  </style>\n",
              "\n",
              "      <script>\n",
              "        const buttonEl =\n",
              "          document.querySelector('#df-47637ae8-85b2-4760-ba98-961703bf225e button.colab-df-convert');\n",
              "        buttonEl.style.display =\n",
              "          google.colab.kernel.accessAllowed ? 'block' : 'none';\n",
              "\n",
              "        async function convertToInteractive(key) {\n",
              "          const element = document.querySelector('#df-47637ae8-85b2-4760-ba98-961703bf225e');\n",
              "          const dataTable =\n",
              "            await google.colab.kernel.invokeFunction('convertToInteractive',\n",
              "                                                     [key], {});\n",
              "          if (!dataTable) return;\n",
              "\n",
              "          const docLinkHtml = 'Like what you see? Visit the ' +\n",
              "            '<a target=\"_blank\" href=https://colab.research.google.com/notebooks/data_table.ipynb>data table notebook</a>'\n",
              "            + ' to learn more about interactive tables.';\n",
              "          element.innerHTML = '';\n",
              "          dataTable['output_type'] = 'display_data';\n",
              "          await google.colab.output.renderOutput(dataTable, element);\n",
              "          const docLink = document.createElement('div');\n",
              "          docLink.innerHTML = docLinkHtml;\n",
              "          element.appendChild(docLink);\n",
              "        }\n",
              "      </script>\n",
              "    </div>\n",
              "  </div>\n",
              "  "
            ],
            "text/plain": [
              "  InvoiceNo  CustomerID  StockCode                          Description  \\\n",
              "0    536365       17850      85123   WHITE HANGING HEART T-LIGHT HOLDER   \n",
              "1    536365       17850      71053                  WHITE METAL LANTERN   \n",
              "2    536365       17850      84406       CREAM CUPID HEARTS COAT HANGER   \n",
              "3    536365       17850      84029  KNITTED UNION FLAG HOT WATER BOTTLE   \n",
              "4    536365       17850      84029       RED WOOLLY HOTTIE WHITE HEART.   \n",
              "\n",
              "          InvoiceDate         Country InvoiceDate_Date  Year  Month      Time  \\\n",
              "0 2010-12-01 08:26:00  United Kingdom       2010-12-01  2010     12  08:26:00   \n",
              "1 2010-12-01 08:26:00  United Kingdom       2010-12-01  2010     12  08:26:00   \n",
              "2 2010-12-01 08:26:00  United Kingdom       2010-12-01  2010     12  08:26:00   \n",
              "3 2010-12-01 08:26:00  United Kingdom       2010-12-01  2010     12  08:26:00   \n",
              "4 2010-12-01 08:26:00  United Kingdom       2010-12-01  2010     12  08:26:00   \n",
              "\n",
              "   Quantity  UnitPrice  Income Continent  \n",
              "0         6       2.55   15.30    Europe  \n",
              "1         6       3.39   20.34    Europe  \n",
              "2         8       2.75   22.00    Europe  \n",
              "3         6       3.39   20.34    Europe  \n",
              "4         6       3.39   20.34    Europe  "
            ]
          },
          "execution_count": 265,
          "metadata": {},
          "output_type": "execute_result"
        }
      ],
      "source": [
        "df.head()"
      ]
    },
    {
      "cell_type": "code",
      "execution_count": null,
      "metadata": {
        "colab": {
          "base_uri": "https://localhost:8080/",
          "height": 350
        },
        "id": "yrF10KJXpvNm",
        "outputId": "54804731-1650-4ed7-b391-205736a6cf75"
      },
      "outputs": [
        {
          "name": "stderr",
          "output_type": "stream",
          "text": [
            "/usr/local/lib/python3.8/dist-packages/seaborn/distributions.py:2619: FutureWarning: `distplot` is a deprecated function and will be removed in a future version. Please adapt your code to use either `displot` (a figure-level function with similar flexibility) or `histplot` (an axes-level function for histograms).\n",
            "  warnings.warn(msg, FutureWarning)\n"
          ]
        },
        {
          "data": {
            "image/png": "[encoded data removed]",
            "text/plain": [
              "<Figure size 432x288 with 1 Axes>"
            ]
          },
          "metadata": {
            "needs_background": "light"
          },
          "output_type": "display_data"
        }
      ],
      "source": [
        "# 1. Distribution of Quantity\n",
        "sns.distplot(df['Quantity'], kde=True)\n",
        "plt.title(\"Distribution of Quantity\")\n",
        "plt.xlabel(\"Quantity\")\n",
        "plt.ylabel(\"Count\")\n",
        "plt.show()"
      ]
    },
    {
      "cell_type": "code",
      "execution_count": null,
      "metadata": {
        "colab": {
          "base_uri": "https://localhost:8080/",
          "height": 393
        },
        "id": "DJAxY154qmUr",
        "outputId": "bfd01474-92b7-4b69-d8da-3e6c5f00b63e"
      },
      "outputs": [
        {
          "data": {
            "image/png": "[encoded data removed]",
            "text/plain": [
              "<Figure size 432x288 with 1 Axes>"
            ]
          },
          "metadata": {
            "needs_background": "light"
          },
          "output_type": "display_data"
        }
      ],
      "source": [
        "# 2. Distribution of Quantity by Country\n",
        "sns.boxplot(x='Country', y='Quantity', data=df ,showfliers=False)\n",
        "plt.title(\"Distribution of Quantity by Country\")\n",
        "plt.xlabel(\"Country\")\n",
        "plt.ylabel(\"Quantity\")\n",
        "plt.xticks(rotation=90)\n",
        "plt.show()"
      ]
    },
    {
      "cell_type": "code",
      "execution_count": null,
      "metadata": {
        "colab": {
          "base_uri": "https://localhost:8080/",
          "height": 393
        },
        "id": "BXphuqCFq6Y1",
        "outputId": "62dca5f1-89dd-42c8-f1e6-908809cfae8f"
      },
      "outputs": [
        {
          "data": {
            "image/png": "[encoded data removed]",
            "text/plain": [
              "<Figure size 432x288 with 1 Axes>"
            ]
          },
          "metadata": {
            "needs_background": "light"
          },
          "output_type": "display_data"
        }
      ],
      "source": [
        "# 3. Distribution of Unit Price by Country\n",
        "sns.boxplot(x='Country', y='UnitPrice', data=df,showfliers=False)\n",
        "plt.title(\"Distribution of Unit Price by Country\")\n",
        "plt.xlabel(\"Country\")\n",
        "plt.ylabel(\"Unit Price\")\n",
        "plt.xticks(rotation=90)\n",
        "plt.show()"
      ]
    },
    {
      "cell_type": "markdown",
      "metadata": {
        "id": "frQUpVSy8UCA"
      },
      "source": [
        "* The highest mean unit price can be observed in Lebanon and Bahrain, indicating similar values. Although the best selling country is the UK, it has an average unit price over 2"
      ]
    },
    {
      "cell_type": "code",
      "execution_count": null,
      "metadata": {
        "colab": {
          "base_uri": "https://localhost:8080/",
          "height": 281
        },
        "id": "QRo7YjPBrJPX",
        "outputId": "43617a45-92ca-434d-d6a7-9a5040553cb4"
      },
      "outputs": [
        {
          "data": {
            "image/png": "[encoded data removed]",
            "text/plain": [
              "<Figure size 432x288 with 2 Axes>"
            ]
          },
          "metadata": {
            "needs_background": "light"
          },
          "output_type": "display_data"
        }
      ],
      "source": [
        "# 4. Correlation Matrix\n",
        "corr = df.corr()\n",
        "sns.heatmap(corr, annot=True, cmap='coolwarm')\n",
        "plt.title(\"Correlation Matrix\")\n",
        "plt.show()"
      ]
    },
    {
      "cell_type": "markdown",
      "metadata": {
        "id": "BvPr5qi6sMTd"
      },
      "source": [
        "\n",
        "\n",
        "*   In the case of Quantity and Income, we can see that the correlation is 0.89, which is a strong positive correlation. This means that as the quantity of products sold increases, the income also increases.\n",
        "\n",
        "* For Unit Price and Income, we can see that the correlation is -0.18, which is a weak negative correlation. This means that as the unit price of the products decreases, the income increases, but not as strongly as in the case of Quantity and Income\n",
        "\n",
        "\n"
      ]
    },
    {
      "cell_type": "code",
      "execution_count": null,
      "metadata": {
        "colab": {
          "base_uri": "https://localhost:8080/",
          "height": 474
        },
        "id": "g7x3ssV4seoU",
        "outputId": "525871f0-913a-4e5c-acfe-102205125d02"
      },
      "outputs": [
        {
          "data": {
            "image/png": "[encoded data removed]",
            "text/plain": [
              "<Figure size 1080x432 with 1 Axes>"
            ]
          },
          "metadata": {
            "needs_background": "light"
          },
          "output_type": "display_data"
        }
      ],
      "source": [
        "# 5. Count of Orders by Country for top Ten\n",
        "\n",
        "plt.figure(figsize=(15, 6))\n",
        "sns.countplot(x='Country', data=df, order=df['Country'].value_counts().iloc[:10].index)\n",
        "plt.title(\"Count of Orders by Country\")\n",
        "plt.xlabel(\"Country\")\n",
        "plt.ylabel(\"Count\")\n",
        "plt.xticks(rotation=90)\n",
        "for i in range(df['Country'].value_counts().iloc[:10].shape[0]):\n",
        "    count = df['Country'].value_counts().iloc[:10].values[i]\n",
        "    plt.text(i, count+10, str(count), ha='center')\n",
        "plt.show()\n"
      ]
    },
    {
      "cell_type": "markdown",
      "metadata": {
        "id": "gSvfzH997guw"
      },
      "source": [
        "* European-based countries hold a record of selling many products in this system. The best-selling country is the UK with nearly 50,000 sales. Second place goes to Germany, which has almost 1/5 of the UK's sales."
      ]
    },
    {
      "cell_type": "code",
      "execution_count": null,
      "metadata": {
        "colab": {
          "base_uri": "https://localhost:8080/",
          "height": 503
        },
        "id": "86HhHFwWtfrR",
        "outputId": "2ca9863e-7357-48f5-a5d9-7c6c30616bf4"
      },
      "outputs": [
        {
          "data": {
            "image/png": "[encoded data removed]",
            "text/plain": [
              "<Figure size 1080x432 with 1 Axes>"
            ]
          },
          "metadata": {
            "needs_background": "light"
          },
          "output_type": "display_data"
        }
      ],
      "source": [
        "# 6. Count of Orders by Country for last Ten\n",
        "\n",
        "plt.figure(figsize=(15, 6))\n",
        "sns.countplot(x='Country', data=df, order=df['Country'].value_counts().iloc[-10:].index)\n",
        "plt.title(\"Count of Orders by Country\")\n",
        "plt.xlabel(\"Country\")\n",
        "plt.ylabel(\"Count\")\n",
        "plt.xticks(rotation=90)\n",
        "for i in range(df['Country'].value_counts().iloc[-10:].shape[0]):\n",
        "    count = df['Country'].value_counts().iloc[-10:].values[i]\n",
        "    plt.text(i, count+10, str(count), ha='center')\n",
        "plt.show()\n"
      ]
    },
    {
      "cell_type": "markdown",
      "metadata": {
        "id": "NulBUSUz6oOP"
      },
      "source": [
        "* According to the graph, Arabic countries have the lowest product count which are 19 for Bahrain and 20 for Saudi Arabia respectively."
      ]
    },
    {
      "cell_type": "code",
      "execution_count": null,
      "metadata": {
        "colab": {
          "base_uri": "https://localhost:8080/",
          "height": 366
        },
        "id": "fm2Xr_6W6RtW",
        "outputId": "ba4ab83b-e046-4543-fd65-bceb710328aa"
      },
      "outputs": [
        {
          "data": {
            "image/png": "[encoded data removed]",
            "text/plain": [
              "<Figure size 432x288 with 1 Axes>"
            ]
          },
          "metadata": {
            "needs_background": "light"
          },
          "output_type": "display_data"
        }
      ],
      "source": [
        "#top oder caneld countries\n",
        "# Extract the data of cancelled orders\n",
        "cancelled_orders = df[df['InvoiceNo'].astype(str).str.startswith('C')]\n",
        "\n",
        "# Get the count of cancelled orders for each country\n",
        "cancelled_orders_count = cancelled_orders['Country'].value_counts()\n",
        "\n",
        "# Plot the data\n",
        "cancelled_orders_count[:5].plot(kind='bar')\n",
        "\n",
        "# Add labels and title\n",
        "plt.xlabel('Country')\n",
        "plt.ylabel('Number of cancelled orders')\n",
        "plt.title('Top 5 countries with the highest number of cancelled orders')\n",
        "\n",
        "# Show the plot\n",
        "plt.show()\n",
        "\n"
      ]
    },
    {
      "cell_type": "code",
      "execution_count": null,
      "metadata": {
        "colab": {
          "base_uri": "https://localhost:8080/",
          "height": 393
        },
        "id": "ebzfHofE-Emg",
        "outputId": "c38f38ae-a747-4323-ba1e-5c84ad39cddf"
      },
      "outputs": [
        {
          "data": {
            "image/png": "[encoded data removed]",
            "text/plain": [
              "<Figure size 432x288 with 1 Axes>"
            ]
          },
          "metadata": {
            "needs_background": "light"
          },
          "output_type": "display_data"
        }
      ],
      "source": [
        "cancelled_orders_count[-5:].plot(kind='bar')\n",
        "\n",
        "# Add labels and title\n",
        "plt.xlabel('Country')\n",
        "plt.ylabel('Number of cancelled orders')\n",
        "plt.title('Last 5 countries with the highest number of cancelled orders')\n",
        "\n",
        "# Show the plot\n",
        "plt.show()"
      ]
    },
    {
      "cell_type": "markdown",
      "metadata": {
        "id": "gwsvtbOU9lXw"
      },
      "source": [
        "Since being a top selling country, the UK holds the highest number of order cancellations, followed by Germany, EIRE and France accordingly. The country with the lowest number of order cancellations is Saudi Arabia with only 1 cancellation."
      ]
    },
    {
      "cell_type": "code",
      "execution_count": null,
      "metadata": {
        "colab": {
          "base_uri": "https://localhost:8080/",
          "height": 320
        },
        "id": "9sdsWFNH0zBo",
        "outputId": "606135d7-ed42-4e38-ad7d-4ca98185a27b"
      },
      "outputs": [
        {
          "name": "stderr",
          "output_type": "stream",
          "text": [
            "<ipython-input-28-916e93b06048>:10: UserWarning: Tight layout not applied. The bottom and top margins cannot be made large enough to accommodate all axes decorations. \n",
            "  plt.tight_layout()\n"
          ]
        },
        {
          "data": {
            "text/plain": [
              "<Figure size 1080x432 with 0 Axes>"
            ]
          },
          "metadata": {},
          "output_type": "display_data"
        },
        {
          "data": {
            "image/png": "[encoded data removed]",
            "text/plain": [
              "<Figure size 432x288 with 1 Axes>"
            ]
          },
          "metadata": {
            "needs_background": "light"
          },
          "output_type": "display_data"
        }
      ],
      "source": [
        "#  The total sales by country over time\n",
        "plt.figure(figsize=(15, 6))\n",
        "pivoted.plot(linewidth=2)\n",
        "plt.title(\"Line Plot of Total Sales by Country\")\n",
        "plt.xlabel(\"Invoice Date\")\n",
        "plt.ylabel(\"Total Sales (Quantity)\")\n",
        "\n",
        "# Divide the country labels into 4 columns\n",
        "plt.xticks(rotation=90, ha=\"center\")\n",
        "plt.tight_layout()\n",
        "plt.subplots_adjust(bottom=0.4)\n",
        "\n",
        "# Show the country labels under the graph\n",
        "ax = plt.gca()\n",
        "ax.legend(loc='center left', bbox_to_anchor=(1.0, 0.5), ncol=4)\n",
        "plt.show()\n"
      ]
    },
    {
      "cell_type": "code",
      "execution_count": null,
      "metadata": {
        "colab": {
          "base_uri": "https://localhost:8080/",
          "height": 404
        },
        "id": "eDeyvjx92Xi9",
        "outputId": "a58d698c-0bfb-4d17-e4a1-9bc36ce870dd"
      },
      "outputs": [
        {
          "data": {
            "image/png": "[encoded data removed]",
            "text/plain": [
              "<Figure size 1080x432 with 1 Axes>"
            ]
          },
          "metadata": {
            "needs_background": "light"
          },
          "output_type": "display_data"
        }
      ],
      "source": [
        "plt.figure(figsize=(15, 6))\n",
        "sns.boxplot(x='Continent', y='Quantity', data=df, showfliers=False)\n",
        "plt.title(\"Box Plot of Quantity by Continent (without Outliers)\")\n",
        "plt.xlabel(\"Continent\")\n",
        "plt.ylabel(\"Quantity\")\n",
        "plt.show()\n",
        "\n"
      ]
    },
    {
      "cell_type": "code",
      "execution_count": null,
      "metadata": {
        "colab": {
          "base_uri": "https://localhost:8080/",
          "height": 404
        },
        "id": "uBUxUPG7_YNl",
        "outputId": "2cd5e4a5-b005-4e42-df0b-eb23426bd713"
      },
      "outputs": [
        {
          "data": {
            "image/png": "[encoded data removed]",
            "text/plain": [
              "<Figure size 1080x432 with 1 Axes>"
            ]
          },
          "metadata": {
            "needs_background": "light"
          },
          "output_type": "display_data"
        }
      ],
      "source": [
        "plt.figure(figsize=(15, 6))\n",
        "sns.boxplot(x='Continent', y='UnitPrice', data=df, showfliers=False)\n",
        "plt.title(\"Box Plot of UnitPrice by Continent (without Outliers)\")\n",
        "plt.xlabel(\"Continent\")\n",
        "plt.ylabel(\"UnitPrice\")\n",
        "plt.show()"
      ]
    },
    {
      "cell_type": "markdown",
      "metadata": {
        "id": "TAyzJjkj_evB"
      },
      "source": [
        "The above two graphs show the distribution of sales and unit price across the continents. According to the graphs, the highest mean unit price and the highest values can be seen in the South American region. On the other hand, Australia holds both these values in terms of quantity count."
      ]
    },
    {
      "cell_type": "code",
      "execution_count": null,
      "metadata": {
        "colab": {
          "base_uri": "https://localhost:8080/"
        },
        "id": "GPXLBW38leUq",
        "outputId": "5699dc19-a0f3-4393-e421-c2a15868bd22"
      },
      "outputs": [
        {
          "name": "stdout",
          "output_type": "stream",
          "text": [
            "                       Sum Income  Total Quantity  Total Sales\n",
            "Country                                                       \n",
            "United Kingdom        8209930.484         4263827       495476\n",
            "Netherlands            284661.540          200128         2371\n",
            "EIRE                   263276.820          142637         8196\n",
            "Germany                221698.210          117448         9495\n",
            "France                 197403.900          110480         8557\n",
            "Australia              137077.270           83653         1259\n",
            "Switzerland             56385.350           30325         2002\n",
            "Spain                   54774.580           26824         2533\n",
            "Belgium                 40910.960           23152         2069\n",
            "Sweden                  36595.910           35637          462\n",
            "Japan                   35340.620           25218          358\n",
            "Norway                  35163.460           19247         1086\n",
            "Portugal                29367.020           16180         1519\n",
            "Finland                 22326.740           10666          695\n",
            "Channel Islands         20086.290            9479          758\n",
            "Denmark                 18768.140            8188          389\n",
            "Italy                   16890.510            7999          803\n",
            "Cyprus                  12946.290            6317          622\n",
            "Austria                 10154.320            4827          401\n",
            "Hong Kong               10117.040            4769          288\n",
            "Singapore                9120.390            5234          229\n",
            "Israel                   7907.820            4353          297\n",
            "Poland                   7213.140            3653          341\n",
            "Unspecified              4749.790            3300          446\n",
            "Greece                   4710.520            1556          146\n",
            "Iceland                  4310.000            2458          182\n",
            "Canada                   3666.380            2763          151\n",
            "Malta                    2505.470             944          127\n",
            "United Arab Emirates     1902.280             982           68\n",
            "USA                      1730.920            1034          291\n",
            "Lebanon                  1693.880             386           45\n",
            "Lithuania                1661.060             652           35\n",
            "European Community       1291.750             497           61\n",
            "Brazil                   1143.600             356           32\n",
            "RSA                      1002.310             352           58\n",
            "Czech Republic            707.720             592           30\n",
            "Bahrain                   548.400             260           19\n",
            "Saudi Arabia              131.170              75           10\n"
          ]
        },
        {
          "name": "stderr",
          "output_type": "stream",
          "text": [
            "<ipython-input-32-3e55ed6b425a>:2: SettingWithCopyWarning: \n",
            "A value is trying to be set on a copy of a slice from a DataFrame.\n",
            "Try using .loc[row_indexer,col_indexer] = value instead\n",
            "\n",
            "See the caveats in the documentation: https://pandas.pydata.org/pandas-docs/stable/user_guide/indexing.html#returning-a-view-versus-a-copy\n",
            "  df['Income'] = df['Quantity'] * df['UnitPrice']\n"
          ]
        }
      ],
      "source": [
        "#What is the Sum Income,  Total Quantity,  Total Sales value for each country?\n",
        "\n",
        "def average_transaction_value_per_country(df):\n",
        "    df['Income'] = df['Quantity'] * df['UnitPrice']\n",
        "    avg_income_per_country = df.groupby('Country').agg({'Income': 'sum','Quantity': 'sum', 'InvoiceNo': 'count'})\n",
        "    avg_income_per_country.columns = ['Sum Income', 'Total Quantity', 'Total Sales']\n",
        "    avg_income_per_country = avg_income_per_country.sort_values(by='Sum Income', ascending=False)\n",
        "    return avg_income_per_country\n",
        "\n",
        "result = average_transaction_value_per_country(df)\n",
        "result = result.sort_values(by='Sum Income', ascending=False)\n",
        "print(result)\n"
      ]
    },
    {
      "cell_type": "markdown",
      "metadata": {
        "id": "QuiZ9a_VAq_c"
      },
      "source": [
        "* The above table displays the highest income, sales, and quantity according to the countries. The UK holds the first place for it."
      ]
    },
    {
      "cell_type": "code",
      "execution_count": null,
      "metadata": {
        "colab": {
          "base_uri": "https://localhost:8080/",
          "height": 1000
        },
        "id": "4Q2ikXqy4xHe",
        "outputId": "34c129f9-2e7a-4bce-9d32-71ada5c0bd7e"
      },
      "outputs": [
        {
          "data": {
            "image/png": "[encoded data removed]",
            "text/plain": [
              "<Figure size 432x288 with 1 Axes>"
            ]
          },
          "metadata": {
            "needs_background": "light"
          },
          "output_type": "display_data"
        },
        {
          "name": "stdout",
          "output_type": "stream",
          "text": [
            "Number of unique customers by country:\n",
            "Country\n",
            "United Kingdom          3950\n",
            "Germany                   95\n",
            "France                    87\n",
            "Spain                     31\n",
            "Belgium                   25\n",
            "Switzerland               21\n",
            "Portugal                  19\n",
            "Italy                     15\n",
            "Finland                   12\n",
            "Austria                   11\n",
            "Norway                    10\n",
            "Netherlands                9\n",
            "Australia                  9\n",
            "Channel Islands            9\n",
            "Denmark                    9\n",
            "Cyprus                     8\n",
            "Sweden                     8\n",
            "Japan                      8\n",
            "Poland                     6\n",
            "USA                        4\n",
            "Canada                     4\n",
            "Unspecified                4\n",
            "Israel                     4\n",
            "Greece                     4\n",
            "EIRE                       3\n",
            "Malta                      2\n",
            "United Arab Emirates       2\n",
            "Bahrain                    2\n",
            "Lithuania                  1\n",
            "Czech Republic             1\n",
            "Lebanon                    1\n",
            "RSA                        1\n",
            "Saudi Arabia               1\n",
            "Singapore                  1\n",
            "Iceland                    1\n",
            "Brazil                     1\n",
            "European Community         1\n",
            "Hong Kong                  0\n",
            "Name: CustomerID, dtype: int64\n"
          ]
        }
      ],
      "source": [
        "'''\n",
        "below function is to get CustomerID distribution and find unique\n",
        "coutromer by ceach country.\n",
        "\n",
        "'''\n",
        "def customer_id_distribution(df):\n",
        "    # Plot the distribution of the Customer ID variable\n",
        "    plt.hist(df['CustomerID'].dropna(), bins=100)\n",
        "    plt.xlabel(\"Customer ID\")\n",
        "    plt.ylabel(\"Frequency\")\n",
        "    plt.title(\"Distribution of Customer ID\")\n",
        "    plt.show()\n",
        "\n",
        "    # Find the number of unique customers by country\n",
        "    unique_customers_per_country = df.groupby('Country')['CustomerID'].nunique().sort_values(ascending=False)\n",
        "    return unique_customers_per_country\n",
        "\n",
        "\n",
        "\n",
        "unique_customers = customer_id_distribution(df)\n",
        "print(\"Number of unique customers by country:\")\n",
        "print(unique_customers)\n"
      ]
    },
    {
      "cell_type": "code",
      "execution_count": null,
      "metadata": {
        "colab": {
          "base_uri": "https://localhost:8080/"
        },
        "id": "Py_EAwG54xAc",
        "outputId": "1887f9ac-3c1b-4689-ead2-a57c94998f3e"
      },
      "outputs": [
        {
          "name": "stdout",
          "output_type": "stream",
          "text": [
            "CustomerID\n",
            "14646    278778.02\n",
            "18102    259657.30\n",
            "17450    189735.53\n",
            "14911    128650.08\n",
            "12415    123638.18\n",
            "           ...    \n",
            "12666      -227.44\n",
            "16252      -295.09\n",
            "16742      -464.90\n",
            "15823      -811.86\n",
            "14213     -1192.20\n",
            "Name: Income, Length: 4363, dtype: float64\n"
          ]
        }
      ],
      "source": [
        "def avg_trans_value(df):\n",
        "    # Group the data frame by Customer ID\n",
        "    grouped = df.groupby('CustomerID')\n",
        "\n",
        "    # Calculate the average transaction value for each customer\n",
        "    avg_trans = grouped['Income'].sum().sort_values(ascending=False)\n",
        "\n",
        "    return avg_trans\n",
        "\n",
        "# Call the function and pass in the data frame\n",
        "avg_trans = avg_trans_value(df)\n",
        "print(avg_trans)"
      ]
    },
    {
      "cell_type": "markdown",
      "metadata": {
        "id": "gsE0m_grCYFS"
      },
      "source": [
        "*This shows the average spending by customers, where customer 14646 holds the highest value and customer 14213 has the lowest."
      ]
    },
    {
      "cell_type": "code",
      "execution_count": null,
      "metadata": {
        "id": "MFBEAHKxCVJC"
      },
      "outputs": [],
      "source": []
    },
    {
      "cell_type": "code",
      "execution_count": null,
      "metadata": {
        "colab": {
          "base_uri": "https://localhost:8080/",
          "height": 537
        },
        "id": "zH9mLHoH540m",
        "outputId": "303029df-6d35-471d-9837-52a82c30bec9"
      },
      "outputs": [
        {
          "name": "stdout",
          "output_type": "stream",
          "text": [
            "CustomerID\n",
            "17448.0     -4287.63\n",
            "15369.0     -1592.49\n",
            "14213.0     -1192.20\n",
            "17603.0     -1165.30\n",
            "12503.0     -1126.00\n",
            "             ...    \n",
            "12415.0    123725.45\n",
            "14911.0    132572.62\n",
            "17450.0    187482.17\n",
            "18102.0    256438.49\n",
            "14646.0    279489.02\n",
            "Name: Income, Length: 4372, dtype: float64\n"
          ]
        },
        {
          "data": {
            "image/png": "[encoded data removed]",
            "text/plain": [
              "<Figure size 432x288 with 1 Axes>"
            ]
          },
          "metadata": {
            "needs_background": "light"
          },
          "output_type": "display_data"
        }
      ],
      "source": [
        "\n",
        "def avg_trans_value_top_and_last_5(df):\n",
        "    # Group the data frame by Customer ID\n",
        "    grouped = df.groupby('CustomerID')\n",
        "\n",
        "    # Calculate the average transaction value for each customer\n",
        "    avg_trans = grouped['Income'].sum()\n",
        "\n",
        "    # Sort the average transaction values in ascending order\n",
        "    avg_trans_sorted = avg_trans.sort_values()\n",
        "    print(avg_trans_sorted)\n",
        "\n",
        "    # Get the top 5 and last 5 average transaction values\n",
        "    # top_5 = avg_trans_sorted.iloc[:5]\n",
        "    last_5 = avg_trans_sorted.iloc[-5:]\n",
        "\n",
        "    # Plot the top 5 and last 5 average transaction values in a bar graph\n",
        "    fig, ax = plt.subplots()\n",
        "    # top_5.plot(kind='bar', color='blue', ax=ax, label='Top 5')\n",
        "    last_5.plot(kind='bar', color='red', ax=ax, label='Last 5')\n",
        "    ax.legend()\n",
        "    ax.set_xlabel('Customer ID')\n",
        "    ax.set_ylabel('Average Transaction Value')\n",
        "    plt.show()\n",
        "\n",
        "# Call the function and pass in the data frame\n",
        "avg_trans_value_top_and_last_5(df)\n"
      ]
    },
    {
      "cell_type": "code",
      "execution_count": null,
      "metadata": {
        "colab": {
          "base_uri": "https://localhost:8080/",
          "height": 535
        },
        "id": "I9K3CToe8-dJ",
        "outputId": "5e70119c-d498-4d6b-ebe8-b80ca349d45e"
      },
      "outputs": [
        {
          "name": "stdout",
          "output_type": "stream",
          "text": [
            "CustomerID\n",
            "15195.0    3861.000000\n",
            "13135.0    3096.000000\n",
            "17846.0    2033.100000\n",
            "16532.0    1687.200000\n",
            "15749.0    1435.726667\n",
            "14213.0    -238.440000\n",
            "13154.0    -611.860000\n",
            "12503.0   -1126.000000\n",
            "15369.0   -1592.490000\n",
            "17448.0   -4287.630000\n",
            "Name: Income, dtype: float64\n"
          ]
        },
        {
          "data": {
            "image/png": "[encoded data removed]",
            "text/plain": [
              "<Figure size 432x288 with 1 Axes>"
            ]
          },
          "metadata": {
            "needs_background": "light"
          },
          "output_type": "display_data"
        }
      ],
      "source": [
        "\n",
        "# Calculate the average transaction value for each customer\n",
        "avg_txn_val = df.groupby(\"CustomerID\").mean()[\"Income\"]\n",
        "# avg_txn_val = df.groupby(\"CustomerID\").sum()[\"Income\"]\n",
        "# Sort the customers based on average transaction value\n",
        "sorted_customers = avg_txn_val.sort_values(ascending=False)\n",
        "\n",
        "# Select the top 5 and bottom 5 customers\n",
        "top_5 = sorted_customers.iloc[:5]\n",
        "bottom_5 = sorted_customers.iloc[-5:]\n",
        "\n",
        "# Concatenate the top 5 and bottom 5 customers into a single data frame\n",
        "top_and_bottom_5 = pd.concat([top_5, bottom_5])\n",
        "print(top_and_bottom_5)\n",
        "# Plot the average transaction value for each customer\n",
        "top_and_bottom_5.plot(kind=\"bar\")\n",
        "plt.xlabel(\"CustomerID\")\n",
        "plt.ylabel(\"Average Transaction Value\")\n",
        "plt.title(\"Top and Bottom 5 Customers by Average Transaction Value\")\n",
        "plt.show()\n"
      ]
    },
    {
      "cell_type": "code",
      "execution_count": null,
      "metadata": {
        "colab": {
          "base_uri": "https://localhost:8080/",
          "height": 295
        },
        "id": "PtSphG6j8-Lx",
        "outputId": "5392e1dd-92db-44c7-8cff-d97f81f2840a"
      },
      "outputs": [
        {
          "data": {
            "image/png": "[encoded data removed]",
            "text/plain": [
              "<Figure size 432x288 with 1 Axes>"
            ]
          },
          "metadata": {
            "needs_background": "light"
          },
          "output_type": "display_data"
        }
      ],
      "source": [
        "#What is the monthly distribution of transactions?\n",
        "# Group the data by month and count the number of transactions\n",
        "monthly_transactions = df.groupby('Month').size()\n",
        "\n",
        "# Plot the bar graph\n",
        "plt.bar(monthly_transactions.index, monthly_transactions.values)\n",
        "plt.xlabel(\"Month\")\n",
        "plt.ylabel(\"Number of Transactions\")\n",
        "plt.title(\"Monthly Distribution of Transactions\")\n",
        "plt.show()\n",
        "\n"
      ]
    },
    {
      "cell_type": "markdown",
      "metadata": {
        "id": "xy-8Qlj7ELBM"
      },
      "source": [
        "* Most of the products have been sold at the end of the year. The reasons behind this may be because the main product selling region is Europe, and it is festival time at the end of the year."
      ]
    },
    {
      "cell_type": "code",
      "execution_count": null,
      "metadata": {
        "colab": {
          "base_uri": "https://localhost:8080/"
        },
        "id": "YZ7WMHRkBYht",
        "outputId": "a9231372-66ec-4ada-e2ac-ac403570d6f7"
      },
      "outputs": [
        {
          "name": "stdout",
          "output_type": "stream",
          "text": [
            "     StockCode                         Description\n",
            "0       85123A  WHITE HANGING HEART T-LIGHT HOLDER\n",
            "2313     22423            REGENCY CAKESTAND 3 TIER\n",
            "4516    85099B             JUMBO BAG RED RETROSPOT\n",
            "6675     47566                       PARTY BUNTING\n",
            "8402     20725             LUNCH BAG RED RETROSPOT\n"
          ]
        }
      ],
      "source": [
        "#What is the most frequent Stock Code and its Description?\n",
        "\n",
        "def frequent_stock_code(df):\n",
        "    # Grouping the dataframe by Stock Code\n",
        "    group = df.groupby('StockCode').size().reset_index(name='counts')\n",
        "    # Sorting the values based on counts in descending order\n",
        "    group = group.sort_values(by='counts', ascending=False)\n",
        "    # Selecting the top 5 Stock Codes\n",
        "    top_5 = group.head(5)\n",
        "    # Merging the top 5 Stock Codes with original dataframe to get the Description\n",
        "    result = pd.merge(top_5, df, on='StockCode')\n",
        "    # Removing duplicate rows based on Stock Code\n",
        "    result = result.drop_duplicates(subset='StockCode')\n",
        "    # Selecting only Stock Code and Description columns\n",
        "    result = result[['StockCode', 'Description']]\n",
        "    return result\n",
        "\n",
        "result = frequent_stock_code(df)\n",
        "print(result)\n",
        "\n"
      ]
    },
    {
      "cell_type": "markdown",
      "metadata": {
        "id": "PlKG6q8-D8Mw"
      },
      "source": [
        "* WHITE HANGING HEART T-LIGHT HOLDER is most famous product"
      ]
    },
    {
      "cell_type": "code",
      "execution_count": null,
      "metadata": {
        "colab": {
          "base_uri": "https://localhost:8080/",
          "height": 502
        },
        "id": "ox6ipps7BYRR",
        "outputId": "55551324-dc00-4adc-ff87-77f9c2980e43"
      },
      "outputs": [
        {
          "name": "stdout",
          "output_type": "stream",
          "text": [
            "         StockCode      Income\n",
            "4059           DOT  206245.480\n",
            "1271         22423  164762.190\n",
            "2517         47566   98302.980\n",
            "3670        85123A   97894.500\n",
            "3659        85099B   92356.030\n",
            "4042             D   -5696.220\n",
            "4039  BANK CHARGES   -7175.639\n",
            "4041          CRUK   -7933.430\n",
            "4060             M  -68674.190\n",
            "4037     AMAZONFEE -221520.500\n"
          ]
        },
        {
          "data": {
            "image/png": "[encoded data removed]",
            "text/plain": [
              "<Figure size 432x288 with 1 Axes>"
            ]
          },
          "metadata": {
            "needs_background": "light"
          },
          "output_type": "display_data"
        }
      ],
      "source": [
        "#What is the sum transaction value for each Stock Code?\n",
        "# Calculate the sum transaction value for each Stock Code\n",
        "df_sum_transaction_value = df.groupby('StockCode').agg({'Income': 'sum'})\n",
        "\n",
        "# Reset the index\n",
        "df_sum_transaction_value = df_sum_transaction_value.reset_index()\n",
        "df_sum_transaction_value = df_sum_transaction_value.sort_values(by='Income', ascending=False)\n",
        "# Print the result\n",
        "# print(df_sum_transaction_value.head())\n",
        "# print(\"Least Incomed Stockecodes\")\n",
        "# print(df_sum_transaction_value.tail())\n",
        "# Select the top 5 and bottom 5 customers\n",
        "top_5 =df_sum_transaction_value.iloc[:5]\n",
        "bottom_5 = df_sum_transaction_value.iloc[-5:]\n",
        "\n",
        "# Concatenate the top 5 and bottom 5 StockCode into a single data frame\n",
        "top_and_bottom_5 = pd.concat([top_5, bottom_5])\n",
        "print(top_and_bottom_5)\n",
        "# Plot the Sum of  transaction value for each StockCode\n",
        "top_and_bottom_5.plot(kind=\"bar\")\n",
        "plt.xlabel(\"StockCode\")\n",
        "plt.ylabel(\"Sum of Transaction Value\")\n",
        "plt.title(\"Top and Bottom 5 StockCode by Sum of Transaction Value\")\n",
        "plt.show()\n"
      ]
    },
    {
      "cell_type": "markdown",
      "metadata": {
        "id": "CeH8qdxsE120"
      },
      "source": [
        "This visualization displays the stock codes with the highest and lowest income. The codes 4059 and 4037 hold these values, respectively."
      ]
    },
    {
      "cell_type": "code",
      "execution_count": null,
      "metadata": {
        "colab": {
          "base_uri": "https://localhost:8080/",
          "height": 502
        },
        "id": "5aZ0xLrtGnNk",
        "outputId": "61288a4a-efbb-48d2-bacc-ea0925206ab1"
      },
      "outputs": [
        {
          "name": "stdout",
          "output_type": "stream",
          "text": [
            "     StockCode  Quantity\n",
            "1070     22197     56450\n",
            "2622     84077     53847\n",
            "3659    85099B     47363\n",
            "3670    85123A     38830\n",
            "2735     84879     36221\n",
            "3283   79323LP     -2618\n",
            "3286    79323W     -4838\n",
            "3213    72140F     -5368\n",
            "1828     23003     -8516\n",
            "1830     23005    -14418\n"
          ]
        },
        {
          "data": {
            "image/png": "[encoded data removed]",
            "text/plain": [
              "<Figure size 432x288 with 1 Axes>"
            ]
          },
          "metadata": {
            "needs_background": "light"
          },
          "output_type": "display_data"
        }
      ],
      "source": [
        "#What is the most 5 popular and unpopular Stock Code?\n",
        "# Calculate the sum transaction value for each Stock Code\n",
        "df_sum_transaction_value = df.groupby('StockCode').agg({'Quantity': 'sum'})\n",
        "\n",
        "# Reset the index\n",
        "df_sum_transaction_value = df_sum_transaction_value.reset_index()\n",
        "df_sum_transaction_value = df_sum_transaction_value.sort_values(by='Quantity', ascending=False)\n",
        "\n",
        "top_5 =df_sum_transaction_value.iloc[:5]\n",
        "bottom_5 = df_sum_transaction_value.iloc[-5:]\n",
        "\n",
        "# Concatenate the top 5 and bottom 5 StockCode into a single data frame\n",
        "top_and_bottom_5 = pd.concat([top_5, bottom_5])\n",
        "print(top_and_bottom_5)\n",
        "# Plot StockCode\n",
        "top_and_bottom_5.plot(kind=\"bar\")\n",
        "plt.xlabel(\"StockCode\")\n",
        "plt.ylabel(\"Sum of Quantity\")\n",
        "plt.title(\"Top and Bottom 5 popular StockCode \")\n",
        "plt.show()"
      ]
    },
    {
      "cell_type": "markdown",
      "metadata": {
        "id": "pgqexLCeFfBH"
      },
      "source": [
        "This visualization displays the stock codes with the highest and lowest popular. The codes 1070 and 1830 hold these values, respectively."
      ]
    },
    {
      "cell_type": "code",
      "execution_count": null,
      "metadata": {
        "id": "3zHTW_cyAFlT"
      },
      "outputs": [],
      "source": [
        "def popular_products(df):\n",
        "    # Group by Description, Country, and sum the Quantity and Income for each product\n",
        "    product_group = df.groupby(['Description', 'Country']).agg({'Quantity': 'sum', 'Income': 'sum'})\n",
        "\n",
        "    # Sort by Quantity in descending order\n",
        "    product_group = product_group.sort_values('Quantity', ascending=False)\n",
        "\n",
        "    # Get the top 5 most sold products\n",
        "    top_5_products = product_group.head(5)\n",
        "\n",
        "    return top_5_products\n"
      ]
    },
    {
      "cell_type": "code",
      "execution_count": null,
      "metadata": {
        "colab": {
          "base_uri": "https://localhost:8080/",
          "height": 238
        },
        "id": "n_MEyR3QaLmr",
        "outputId": "f9685710-965d-49f9-f45b-ddd874d4fcef"
      },
      "outputs": [
        {
          "data": {
            "text/html": [
              "\n",
              "  <div id=\"df-7fcf949c-008d-478f-a9fd-0baa8d339b9f\">\n",
              "    <div class=\"colab-df-container\">\n",
              "      <div>\n",
              "<style scoped>\n",
              "    .dataframe tbody tr th:only-of-type {\n",
              "        vertical-align: middle;\n",
              "    }\n",
              "\n",
              "    .dataframe tbody tr th {\n",
              "        vertical-align: top;\n",
              "    }\n",
              "\n",
              "    .dataframe thead th {\n",
              "        text-align: right;\n",
              "    }\n",
              "</style>\n",
              "<table border=\"1\" class=\"dataframe\">\n",
              "  <thead>\n",
              "    <tr style=\"text-align: right;\">\n",
              "      <th></th>\n",
              "      <th></th>\n",
              "      <th>Quantity</th>\n",
              "      <th>Income</th>\n",
              "    </tr>\n",
              "    <tr>\n",
              "      <th>Description</th>\n",
              "      <th>Country</th>\n",
              "      <th></th>\n",
              "      <th></th>\n",
              "    </tr>\n",
              "  </thead>\n",
              "  <tbody>\n",
              "    <tr>\n",
              "      <th>WORLD WAR 2 GLIDERS ASSTD DESIGNS</th>\n",
              "      <th>United Kingdom</th>\n",
              "      <td>48326</td>\n",
              "      <td>12055.96</td>\n",
              "    </tr>\n",
              "    <tr>\n",
              "      <th>JUMBO BAG RED RETROSPOT</th>\n",
              "      <th>United Kingdom</th>\n",
              "      <td>43167</td>\n",
              "      <td>84516.44</td>\n",
              "    </tr>\n",
              "    <tr>\n",
              "      <th>POPCORN HOLDER</th>\n",
              "      <th>United Kingdom</th>\n",
              "      <td>34365</td>\n",
              "      <td>32425.81</td>\n",
              "    </tr>\n",
              "    <tr>\n",
              "      <th>ASSORTED COLOUR BIRD ORNAMENT</th>\n",
              "      <th>United Kingdom</th>\n",
              "      <td>33679</td>\n",
              "      <td>54662.15</td>\n",
              "    </tr>\n",
              "    <tr>\n",
              "      <th>WHITE HANGING HEART T-LIGHT HOLDER</th>\n",
              "      <th>United Kingdom</th>\n",
              "      <td>33193</td>\n",
              "      <td>93953.07</td>\n",
              "    </tr>\n",
              "  </tbody>\n",
              "</table>\n",
              "</div>\n",
              "      <button class=\"colab-df-convert\" onclick=\"convertToInteractive('df-7fcf949c-008d-478f-a9fd-0baa8d339b9f')\"\n",
              "              title=\"Convert this dataframe to an interactive table.\"\n",
              "              style=\"display:none;\">\n",
              "        \n",
              "  <svg xmlns=\"http://www.w3.org/2000/svg\" height=\"24px\"viewBox=\"0 0 24 24\"\n",
              "       width=\"24px\">\n",
              "    <path d=\"M0 0h24v24H0V0z\" fill=\"none\"/>\n",
              "    <path d=\"M18.56 5.44l.94 2.06.94-2.06 2.06-.94-2.06-.94-.94-2.06-.94 2.06-2.06.94zm-11 1L8.5 8.5l.94-2.06 2.06-.94-2.06-.94L8.5 2.5l-.94 2.06-2.06.94zm10 10l.94 2.06.94-2.06 2.06-.94-2.06-.94-.94-2.06-.94 2.06-2.06.94z\"/><path d=\"M17.41 7.96l-1.37-1.37c-.4-.4-.92-.59-1.43-.59-.52 0-1.04.2-1.43.59L10.3 9.45l-7.72 7.72c-.78.78-.78 2.05 0 2.83L4 21.41c.39.39.9.59 1.41.59.51 0 1.02-.2 1.41-.59l7.78-7.78 2.81-2.81c.8-.78.8-2.07 0-2.86zM5.41 20L4 18.59l7.72-7.72 1.47 1.35L5.41 20z\"/>\n",
              "  </svg>\n",
              "      </button>\n",
              "      \n",
              "  <style>\n",
              "    .colab-df-container {\n",
              "      display:flex;\n",
              "      flex-wrap:wrap;\n",
              "      gap: 12px;\n",
              "    }\n",
              "\n",
              "    .colab-df-convert {\n",
              "      background-color: #E8F0FE;\n",
              "      border: none;\n",
              "      border-radius: 50%;\n",
              "      cursor: pointer;\n",
              "      display: none;\n",
              "      fill: #1967D2;\n",
              "      height: 32px;\n",
              "      padding: 0 0 0 0;\n",
              "      width: 32px;\n",
              "    }\n",
              "\n",
              "    .colab-df-convert:hover {\n",
              "      background-color: #E2EBFA;\n",
              "      box-shadow: 0px 1px 2px rgba(60, 64, 67, 0.3), 0px 1px 3px 1px rgba(60, 64, 67, 0.15);\n",
              "      fill: #174EA6;\n",
              "    }\n",
              "\n",
              "    [theme=dark] .colab-df-convert {\n",
              "      background-color: #3B4455;\n",
              "      fill: #D2E3FC;\n",
              "    }\n",
              "\n",
              "    [theme=dark] .colab-df-convert:hover {\n",
              "      background-color: #434B5C;\n",
              "      box-shadow: 0px 1px 3px 1px rgba(0, 0, 0, 0.15);\n",
              "      filter: drop-shadow(0px 1px 2px rgba(0, 0, 0, 0.3));\n",
              "      fill: #FFFFFF;\n",
              "    }\n",
              "  </style>\n",
              "\n",
              "      <script>\n",
              "        const buttonEl =\n",
              "          document.querySelector('#df-7fcf949c-008d-478f-a9fd-0baa8d339b9f button.colab-df-convert');\n",
              "        buttonEl.style.display =\n",
              "          google.colab.kernel.accessAllowed ? 'block' : 'none';\n",
              "\n",
              "        async function convertToInteractive(key) {\n",
              "          const element = document.querySelector('#df-7fcf949c-008d-478f-a9fd-0baa8d339b9f');\n",
              "          const dataTable =\n",
              "            await google.colab.kernel.invokeFunction('convertToInteractive',\n",
              "                                                     [key], {});\n",
              "          if (!dataTable) return;\n",
              "\n",
              "          const docLinkHtml = 'Like what you see? Visit the ' +\n",
              "            '<a target=\"_blank\" href=https://colab.research.google.com/notebooks/data_table.ipynb>data table notebook</a>'\n",
              "            + ' to learn more about interactive tables.';\n",
              "          element.innerHTML = '';\n",
              "          dataTable['output_type'] = 'display_data';\n",
              "          await google.colab.output.renderOutput(dataTable, element);\n",
              "          const docLink = document.createElement('div');\n",
              "          docLink.innerHTML = docLinkHtml;\n",
              "          element.appendChild(docLink);\n",
              "        }\n",
              "      </script>\n",
              "    </div>\n",
              "  </div>\n",
              "  "
            ],
            "text/plain": [
              "                                                   Quantity    Income\n",
              "Description                        Country                           \n",
              "WORLD WAR 2 GLIDERS ASSTD DESIGNS  United Kingdom     48326  12055.96\n",
              "JUMBO BAG RED RETROSPOT            United Kingdom     43167  84516.44\n",
              "POPCORN HOLDER                     United Kingdom     34365  32425.81\n",
              "ASSORTED COLOUR BIRD ORNAMENT      United Kingdom     33679  54662.15\n",
              "WHITE HANGING HEART T-LIGHT HOLDER United Kingdom     33193  93953.07"
            ]
          },
          "execution_count": 35,
          "metadata": {},
          "output_type": "execute_result"
        }
      ],
      "source": [
        "popular_products(df)"
      ]
    },
    {
      "cell_type": "code",
      "execution_count": null,
      "metadata": {
        "colab": {
          "base_uri": "https://localhost:8080/"
        },
        "id": "Gx48a5hZfNBn",
        "outputId": "5333e339-fe0d-4e31-b12e-aea60d2b3104"
      },
      "outputs": [
        {
          "name": "stdout",
          "output_type": "stream",
          "text": [
            "['United Kingdom' 'France' 'Australia' 'Netherlands' 'Germany' 'Norway'\n",
            " 'EIRE' 'Switzerland' 'Spain' 'Poland' 'Portugal' 'Italy' 'Belgium'\n",
            " 'Lithuania' 'Japan' 'Iceland' 'Channel Islands' 'Denmark' 'Cyprus'\n",
            " 'Sweden' 'Austria' 'Israel' 'Finland' 'Greece' 'Singapore' 'Lebanon'\n",
            " 'United Arab Emirates' 'Saudi Arabia' 'Czech Republic' 'Canada'\n",
            " 'Unspecified' 'Brazil' 'USA' 'European Community' 'Bahrain' 'Malta' 'RSA']\n"
          ]
        }
      ],
      "source": [
        "unique_countries = df[\"Country\"].unique()\n",
        "print(unique_countries)\n"
      ]
    },
    {
      "cell_type": "code",
      "execution_count": null,
      "metadata": {
        "colab": {
          "base_uri": "https://localhost:8080/",
          "height": 609
        },
        "id": "HJvVCYWk6q9D",
        "outputId": "c3eb2546-126e-49e7-f0d0-08ff764a8e13"
      },
      "outputs": [
        {
          "name": "stdout",
          "output_type": "stream",
          "text": [
            "                   Income\n",
            "Continent                \n",
            "Africa            1002.31\n",
            "Asia             55772.66\n",
            "Australia       136972.15\n",
            "Europe         8069710.85\n",
            "North America     4846.36\n",
            "Other             2667.07\n",
            "South America     1125.75\n"
          ]
        },
        {
          "data": {
            "image/png": "[encoded data removed]",
            "text/plain": [
              "<Figure size 720x432 with 1 Axes>"
            ]
          },
          "metadata": {
            "needs_background": "light"
          },
          "output_type": "display_data"
        }
      ],
      "source": [
        "# Group the data by continent and sum the Income for each continent\n",
        "continent_group = df.groupby('Continent').agg({'Income': 'sum'})\n",
        "print(continent_group)\n",
        "# Plot the bar chart\n",
        "plt.figure(figsize=(10, 6))\n",
        "sns.barplot(x=continent_group.index, y='Income', data=continent_group)\n",
        "plt.title('Total Sales by Continent')\n",
        "plt.xlabel('Continent')\n",
        "plt.ylabel('Total Sales')\n",
        "plt.xticks(rotation=45)\n",
        "plt.show()\n"
      ]
    },
    {
      "cell_type": "code",
      "execution_count": null,
      "metadata": {
        "colab": {
          "base_uri": "https://localhost:8080/",
          "height": 295
        },
        "id": "tENuhLIKk2Ag",
        "outputId": "05ad97c0-6ef7-45f3-df86-53ec9178502b"
      },
      "outputs": [
        {
          "data": {
            "image/png": "[encoded data removed]",
            "text/plain": [
              "<Figure size 432x288 with 1 Axes>"
            ]
          },
          "metadata": {
            "needs_background": "light"
          },
          "output_type": "display_data"
        }
      ],
      "source": [
        "# Group the data by continent and sum the Income for each continent\n",
        "continent_group = df.groupby('Continent').agg({'Income': 'mean'})\n",
        "\n",
        "# Plot the bar chart\n",
        "plt.bar(continent_group.index, continent_group['Income'])\n",
        "\n",
        "# Add labels and title to the chart\n",
        "plt.xlabel('Continent')\n",
        "plt.ylabel('Total Sales')\n",
        "plt.title('Total Sales by Continent')\n",
        "\n",
        "# Show the chart\n",
        "plt.show()"
      ]
    },
    {
      "cell_type": "code",
      "execution_count": null,
      "metadata": {
        "colab": {
          "base_uri": "https://localhost:8080/",
          "height": 542
        },
        "id": "C5ppewyJdk7C",
        "outputId": "6d88b295-6345-4220-db8a-2277ccad255a"
      },
      "outputs": [
        {
          "data": {
            "text/html": [
              "<html>\n",
              "<head><meta charset=\"utf-8\" /></head>\n",
              "<body>\n",
              "    <div>            <script src=\"https://cdnjs.cloudflare.com/ajax/libs/mathjax/2.7.5/MathJax.js?config=TeX-AMS-MML_SVG\"></script><script type=\"text/javascript\">if (window.MathJax) {MathJax.Hub.Config({SVG: {font: \"STIX-Web\"}});}</script>                <script type=\"text/javascript\">window.PlotlyConfig = {MathJaxConfig: 'local'};</script>\n",
              "        <script src=\"https://cdn.plot.ly/plotly-2.8.3.min.js\"></script>                <div id=\"4a7e94e7-7a70-4efb-9feb-1ed3725bd2c9\" class=\"plotly-graph-div\" style=\"height:525px; width:100%;\"></div>            <script type=\"text/javascript\">                                    window.PLOTLYENV=window.PLOTLYENV || {};                                    if (document.getElementById(\"4a7e94e7-7a70-4efb-9feb-1ed3725bd2c9\")) {                    Plotly.newPlot(                        \"4a7e94e7-7a70-4efb-9feb-1ed3725bd2c9\",                        [{\"domain\":{\"x\":[0.0,1.0],\"y\":[0.0,1.0]},\"hovertemplate\":\"Continent=%{label}<br>Income=%{value}<extra></extra>\",\"labels\":[\"Africa\",\"Asia\",\"Australia\",\"Europe\",\"North America\",\"Other\",\"South America\"],\"legendgroup\":\"\",\"name\":\"\",\"showlegend\":true,\"values\":[1002.3100000000001,55772.659999999996,136972.15,8069710.85,4846.36,2667.07,1125.75],\"type\":\"pie\"}],                        {\"template\":{\"data\":{\"bar\":[{\"error_x\":{\"color\":\"#2a3f5f\"},\"error_y\":{\"color\":\"#2a3f5f\"},\"marker\":{\"line\":{\"color\":\"#E5ECF6\",\"width\":0.5},\"pattern\":{\"fillmode\":\"overlay\",\"size\":10,\"solidity\":0.2}},\"type\":\"bar\"}],\"barpolar\":[{\"marker\":{\"line\":{\"color\":\"#E5ECF6\",\"width\":0.5},\"pattern\":{\"fillmode\":\"overlay\",\"size\":10,\"solidity\":0.2}},\"type\":\"barpolar\"}],\"carpet\":[{\"aaxis\":{\"endlinecolor\":\"#2a3f5f\",\"gridcolor\":\"white\",\"linecolor\":\"white\",\"minorgridcolor\":\"white\",\"startlinecolor\":\"#2a3f5f\"},\"baxis\":{\"endlinecolor\":\"#2a3f5f\",\"gridcolor\":\"white\",\"linecolor\":\"white\",\"minorgridcolor\":\"white\",\"startlinecolor\":\"#2a3f5f\"},\"type\":\"carpet\"}],\"choropleth\":[{\"colorbar\":{\"outlinewidth\":0,\"ticks\":\"\"},\"type\":\"choropleth\"}],\"contour\":[{\"colorbar\":{\"outlinewidth\":0,\"ticks\":\"\"},\"colorscale\":[[0.0,\"#0d0887\"],[0.1111111111111111,\"#46039f\"],[0.2222222222222222,\"#7201a8\"],[0.3333333333333333,\"#9c179e\"],[0.4444444444444444,\"#bd3786\"],[0.5555555555555556,\"#d8576b\"],[0.6666666666666666,\"#ed7953\"],[0.7777777777777778,\"#fb9f3a\"],[0.8888888888888888,\"#fdca26\"],[1.0,\"#f0f921\"]],\"type\":\"contour\"}],\"contourcarpet\":[{\"colorbar\":{\"outlinewidth\":0,\"ticks\":\"\"},\"type\":\"contourcarpet\"}],\"heatmap\":[{\"colorbar\":{\"outlinewidth\":0,\"ticks\":\"\"},\"colorscale\":[[0.0,\"#0d0887\"],[0.1111111111111111,\"#46039f\"],[0.2222222222222222,\"#7201a8\"],[0.3333333333333333,\"#9c179e\"],[0.4444444444444444,\"#bd3786\"],[0.5555555555555556,\"#d8576b\"],[0.6666666666666666,\"#ed7953\"],[0.7777777777777778,\"#fb9f3a\"],[0.8888888888888888,\"#fdca26\"],[1.0,\"#f0f921\"]],\"type\":\"heatmap\"}],\"heatmapgl\":[{\"colorbar\":{\"outlinewidth\":0,\"ticks\":\"\"},\"colorscale\":[[0.0,\"#0d0887\"],[0.1111111111111111,\"#46039f\"],[0.2222222222222222,\"#7201a8\"],[0.3333333333333333,\"#9c179e\"],[0.4444444444444444,\"#bd3786\"],[0.5555555555555556,\"#d8576b\"],[0.6666666666666666,\"#ed7953\"],[0.7777777777777778,\"#fb9f3a\"],[0.8888888888888888,\"#fdca26\"],[1.0,\"#f0f921\"]],\"type\":\"heatmapgl\"}],\"histogram\":[{\"marker\":{\"pattern\":{\"fillmode\":\"overlay\",\"size\":10,\"solidity\":0.2}},\"type\":\"histogram\"}],\"histogram2d\":[{\"colorbar\":{\"outlinewidth\":0,\"ticks\":\"\"},\"colorscale\":[[0.0,\"#0d0887\"],[0.1111111111111111,\"#46039f\"],[0.2222222222222222,\"#7201a8\"],[0.3333333333333333,\"#9c179e\"],[0.4444444444444444,\"#bd3786\"],[0.5555555555555556,\"#d8576b\"],[0.6666666666666666,\"#ed7953\"],[0.7777777777777778,\"#fb9f3a\"],[0.8888888888888888,\"#fdca26\"],[1.0,\"#f0f921\"]],\"type\":\"histogram2d\"}],\"histogram2dcontour\":[{\"colorbar\":{\"outlinewidth\":0,\"ticks\":\"\"},\"colorscale\":[[0.0,\"#0d0887\"],[0.1111111111111111,\"#46039f\"],[0.2222222222222222,\"#7201a8\"],[0.3333333333333333,\"#9c179e\"],[0.4444444444444444,\"#bd3786\"],[0.5555555555555556,\"#d8576b\"],[0.6666666666666666,\"#ed7953\"],[0.7777777777777778,\"#fb9f3a\"],[0.8888888888888888,\"#fdca26\"],[1.0,\"#f0f921\"]],\"type\":\"histogram2dcontour\"}],\"mesh3d\":[{\"colorbar\":{\"outlinewidth\":0,\"ticks\":\"\"},\"type\":\"mesh3d\"}],\"parcoords\":[{\"line\":{\"colorbar\":{\"outlinewidth\":0,\"ticks\":\"\"}},\"type\":\"parcoords\"}],\"pie\":[{\"automargin\":true,\"type\":\"pie\"}],\"scatter\":[{\"marker\":{\"colorbar\":{\"outlinewidth\":0,\"ticks\":\"\"}},\"type\":\"scatter\"}],\"scatter3d\":[{\"line\":{\"colorbar\":{\"outlinewidth\":0,\"ticks\":\"\"}},\"marker\":{\"colorbar\":{\"outlinewidth\":0,\"ticks\":\"\"}},\"type\":\"scatter3d\"}],\"scattercarpet\":[{\"marker\":{\"colorbar\":{\"outlinewidth\":0,\"ticks\":\"\"}},\"type\":\"scattercarpet\"}],\"scattergeo\":[{\"marker\":{\"colorbar\":{\"outlinewidth\":0,\"ticks\":\"\"}},\"type\":\"scattergeo\"}],\"scattergl\":[{\"marker\":{\"colorbar\":{\"outlinewidth\":0,\"ticks\":\"\"}},\"type\":\"scattergl\"}],\"scattermapbox\":[{\"marker\":{\"colorbar\":{\"outlinewidth\":0,\"ticks\":\"\"}},\"type\":\"scattermapbox\"}],\"scatterpolar\":[{\"marker\":{\"colorbar\":{\"outlinewidth\":0,\"ticks\":\"\"}},\"type\":\"scatterpolar\"}],\"scatterpolargl\":[{\"marker\":{\"colorbar\":{\"outlinewidth\":0,\"ticks\":\"\"}},\"type\":\"scatterpolargl\"}],\"scatterternary\":[{\"marker\":{\"colorbar\":{\"outlinewidth\":0,\"ticks\":\"\"}},\"type\":\"scatterternary\"}],\"surface\":[{\"colorbar\":{\"outlinewidth\":0,\"ticks\":\"\"},\"colorscale\":[[0.0,\"#0d0887\"],[0.1111111111111111,\"#46039f\"],[0.2222222222222222,\"#7201a8\"],[0.3333333333333333,\"#9c179e\"],[0.4444444444444444,\"#bd3786\"],[0.5555555555555556,\"#d8576b\"],[0.6666666666666666,\"#ed7953\"],[0.7777777777777778,\"#fb9f3a\"],[0.8888888888888888,\"#fdca26\"],[1.0,\"#f0f921\"]],\"type\":\"surface\"}],\"table\":[{\"cells\":{\"fill\":{\"color\":\"#EBF0F8\"},\"line\":{\"color\":\"white\"}},\"header\":{\"fill\":{\"color\":\"#C8D4E3\"},\"line\":{\"color\":\"white\"}},\"type\":\"table\"}]},\"layout\":{\"annotationdefaults\":{\"arrowcolor\":\"#2a3f5f\",\"arrowhead\":0,\"arrowwidth\":1},\"autotypenumbers\":\"strict\",\"coloraxis\":{\"colorbar\":{\"outlinewidth\":0,\"ticks\":\"\"}},\"colorscale\":{\"diverging\":[[0,\"#8e0152\"],[0.1,\"#c51b7d\"],[0.2,\"#de77ae\"],[0.3,\"#f1b6da\"],[0.4,\"#fde0ef\"],[0.5,\"#f7f7f7\"],[0.6,\"#e6f5d0\"],[0.7,\"#b8e186\"],[0.8,\"#7fbc41\"],[0.9,\"#4d9221\"],[1,\"#276419\"]],\"sequential\":[[0.0,\"#0d0887\"],[0.1111111111111111,\"#46039f\"],[0.2222222222222222,\"#7201a8\"],[0.3333333333333333,\"#9c179e\"],[0.4444444444444444,\"#bd3786\"],[0.5555555555555556,\"#d8576b\"],[0.6666666666666666,\"#ed7953\"],[0.7777777777777778,\"#fb9f3a\"],[0.8888888888888888,\"#fdca26\"],[1.0,\"#f0f921\"]],\"sequentialminus\":[[0.0,\"#0d0887\"],[0.1111111111111111,\"#46039f\"],[0.2222222222222222,\"#7201a8\"],[0.3333333333333333,\"#9c179e\"],[0.4444444444444444,\"#bd3786\"],[0.5555555555555556,\"#d8576b\"],[0.6666666666666666,\"#ed7953\"],[0.7777777777777778,\"#fb9f3a\"],[0.8888888888888888,\"#fdca26\"],[1.0,\"#f0f921\"]]},\"colorway\":[\"#636efa\",\"#EF553B\",\"#00cc96\",\"#ab63fa\",\"#FFA15A\",\"#19d3f3\",\"#FF6692\",\"#B6E880\",\"#FF97FF\",\"#FECB52\"],\"font\":{\"color\":\"#2a3f5f\"},\"geo\":{\"bgcolor\":\"white\",\"lakecolor\":\"white\",\"landcolor\":\"#E5ECF6\",\"showlakes\":true,\"showland\":true,\"subunitcolor\":\"white\"},\"hoverlabel\":{\"align\":\"left\"},\"hovermode\":\"closest\",\"mapbox\":{\"style\":\"light\"},\"paper_bgcolor\":\"white\",\"plot_bgcolor\":\"#E5ECF6\",\"polar\":{\"angularaxis\":{\"gridcolor\":\"white\",\"linecolor\":\"white\",\"ticks\":\"\"},\"bgcolor\":\"#E5ECF6\",\"radialaxis\":{\"gridcolor\":\"white\",\"linecolor\":\"white\",\"ticks\":\"\"}},\"scene\":{\"xaxis\":{\"backgroundcolor\":\"#E5ECF6\",\"gridcolor\":\"white\",\"gridwidth\":2,\"linecolor\":\"white\",\"showbackground\":true,\"ticks\":\"\",\"zerolinecolor\":\"white\"},\"yaxis\":{\"backgroundcolor\":\"#E5ECF6\",\"gridcolor\":\"white\",\"gridwidth\":2,\"linecolor\":\"white\",\"showbackground\":true,\"ticks\":\"\",\"zerolinecolor\":\"white\"},\"zaxis\":{\"backgroundcolor\":\"#E5ECF6\",\"gridcolor\":\"white\",\"gridwidth\":2,\"linecolor\":\"white\",\"showbackground\":true,\"ticks\":\"\",\"zerolinecolor\":\"white\"}},\"shapedefaults\":{\"line\":{\"color\":\"#2a3f5f\"}},\"ternary\":{\"aaxis\":{\"gridcolor\":\"white\",\"linecolor\":\"white\",\"ticks\":\"\"},\"baxis\":{\"gridcolor\":\"white\",\"linecolor\":\"white\",\"ticks\":\"\"},\"bgcolor\":\"#E5ECF6\",\"caxis\":{\"gridcolor\":\"white\",\"linecolor\":\"white\",\"ticks\":\"\"}},\"title\":{\"x\":0.05},\"xaxis\":{\"automargin\":true,\"gridcolor\":\"white\",\"linecolor\":\"white\",\"ticks\":\"\",\"title\":{\"standoff\":15},\"zerolinecolor\":\"white\",\"zerolinewidth\":2},\"yaxis\":{\"automargin\":true,\"gridcolor\":\"white\",\"linecolor\":\"white\",\"ticks\":\"\",\"title\":{\"standoff\":15},\"zerolinecolor\":\"white\",\"zerolinewidth\":2}}},\"legend\":{\"tracegroupgap\":0},\"title\":{\"text\":\"Mean Sales by Continent\"}},                        {\"responsive\": true}                    ).then(function(){\n",
              "                            \n",
              "var gd = document.getElementById('4a7e94e7-7a70-4efb-9feb-1ed3725bd2c9');\n",
              "var x = new MutationObserver(function (mutations, observer) {{\n",
              "        var display = window.getComputedStyle(gd).display;\n",
              "        if (!display || display === 'none') {{\n",
              "            console.log([gd, 'removed!']);\n",
              "            Plotly.purge(gd);\n",
              "            observer.disconnect();\n",
              "        }}\n",
              "}});\n",
              "\n",
              "// Listen for the removal of the full notebook cells\n",
              "var notebookContainer = gd.closest('#notebook-container');\n",
              "if (notebookContainer) {{\n",
              "    x.observe(notebookContainer, {childList: true});\n",
              "}}\n",
              "\n",
              "// Listen for the clearing of the current output cell\n",
              "var outputEl = gd.closest('.output');\n",
              "if (outputEl) {{\n",
              "    x.observe(outputEl, {childList: true});\n",
              "}}\n",
              "\n",
              "                        })                };                            </script>        </div>\n",
              "</body>\n",
              "</html>"
            ]
          },
          "metadata": {},
          "output_type": "display_data"
        }
      ],
      "source": [
        "import plotly.express as px\n",
        "import plotly.graph_objs as go\n",
        "\n",
        "# Group the data by continent and sum the Income for each continent\n",
        "continent_group = df.groupby('Continent').agg({'Income': 'sum'})\n",
        "\n",
        "# Create a donut chart using Plotly Express\n",
        "fig = px.pie(continent_group,\n",
        "             values='Income',\n",
        "             names=continent_group.index,\n",
        "             title='Mean Sales by Continent')\n",
        "\n",
        "# Update the layout to remove the hole in the center of the chart\n",
        "# fig.update_layout(\n",
        "#     updatemenus=[\n",
        "#         dict(\n",
        "#             type=\"buttons\",\n",
        "#             showactive=False,\n",
        "#             buttons=[\n",
        "#                 dict(\n",
        "#                     label=\"Pie Chart\",\n",
        "#                     method=\"update\",\n",
        "#                     args=[{\"visible\": [True, True, True, True]},\n",
        "#                           {\"title\": \"Total Sales by Continent\",\n",
        "#                            \"annotations\": []}]\n",
        "#                 )\n",
        "#                 ,\n",
        "#                 # dict(\n",
        "#                 #     label=\"Donut Chart\",\n",
        "#                 #     method=\"update\",\n",
        "#                 #     args=[{\"visible\": [True, True, True, True]},\n",
        "#                 #           {\"title\": \"Total Sales by Continent\",\n",
        "#                 #            \"annotations\": [{\"text\": \"Total Sales\",\n",
        "#                 #                             \"font\": {\"size\": 20},\n",
        "#                 #                             \"showarrow\": False,\n",
        "#                 #                             \"textangle\": -90}]}]\n",
        "#                 # )\n",
        "#             ]\n",
        "#         )\n",
        "#     ]\n",
        "# )\n",
        "\n",
        "# Show the chart\n",
        "fig.show()\n"
      ]
    },
    {
      "cell_type": "code",
      "execution_count": null,
      "metadata": {
        "colab": {
          "base_uri": "https://localhost:8080/",
          "height": 539
        },
        "id": "rXOUpx1baLSf",
        "outputId": "11eec8ed-8b37-4eaf-85f5-d7633d98a2b5"
      },
      "outputs": [
        {
          "data": {
            "image/png": "[encoded data removed]",
            "text/plain": [
              "<Figure size 1440x576 with 1 Axes>"
            ]
          },
          "metadata": {
            "needs_background": "light"
          },
          "output_type": "display_data"
        }
      ],
      "source": [
        "#Total income for each country using a bar chart:\n",
        "# Group the data by country and sum the Income for each country\n",
        "country_group = df.groupby('Country').agg({'Income': 'mean'})\n",
        "\n",
        "# Plot the bar chart\n",
        "fig, ax = plt.subplots(figsize=(20, 8))\n",
        "country_group.plot(kind='bar', ax=ax)\n",
        "\n",
        "# Add labels and title to the chart\n",
        "ax.set_xlabel('Country')\n",
        "ax.set_ylabel('Income')\n",
        "ax.set_title('Mean Income by Country')\n",
        "\n",
        "# country_group['Income'].plot(kind='bar', title='Total Income by Country')\n",
        "\n",
        "# Show the chart\n",
        "plt.show()"
      ]
    },
    {
      "cell_type": "code",
      "execution_count": null,
      "metadata": {
        "colab": {
          "base_uri": "https://localhost:8080/",
          "height": 323
        },
        "id": "7BNDHcOVueLZ",
        "outputId": "8d8ebf06-5cca-4a23-f332-46ce940f544e"
      },
      "outputs": [
        {
          "data": {
            "text/plain": [
              "<matplotlib.axes._subplots.AxesSubplot at 0x7fbfdaa1f340>"
            ]
          },
          "execution_count": 77,
          "metadata": {},
          "output_type": "execute_result"
        },
        {
          "data": {
            "image/png": "[encoded data removed]",
            "text/plain": [
              "<Figure size 432x288 with 1 Axes>"
            ]
          },
          "metadata": {
            "needs_background": "light"
          },
          "output_type": "display_data"
        }
      ],
      "source": [
        "# Total sales for different years\n",
        "df.groupby('Year')['Income'].sum().plot(kind = 'bar')"
      ]
    },
    {
      "cell_type": "markdown",
      "metadata": {
        "id": "Mm7ciCaeHnO9"
      },
      "source": [
        "According to data set data has only twoyear 2010 and 2012 , data are collected by 2010 dec to 2011 dec"
      ]
    },
    {
      "cell_type": "code",
      "execution_count": null,
      "metadata": {
        "id": "C87g5OR7ud-d"
      },
      "outputs": [],
      "source": [
        "def monthly_sales(df):\n",
        "    # Group the data by Month and sum the Income for each month\n",
        "    month_group = df.groupby(['Year','Month']).agg({'Income': 'sum'})\n",
        "\n",
        "    return month_group\n"
      ]
    },
    {
      "cell_type": "code",
      "execution_count": null,
      "metadata": {
        "colab": {
          "base_uri": "https://localhost:8080/",
          "height": 387
        },
        "id": "0cTC3RC-vCK5",
        "outputId": "8cc9a611-5ab9-4b75-a37d-5b80f3b52ab9"
      },
      "outputs": [
        {
          "data": {
            "text/html": [
              "\n",
              "  <div id=\"df-21455dfe-4b58-4932-918d-e068a5efab83\">\n",
              "    <div class=\"colab-df-container\">\n",
              "      <div>\n",
              "<style scoped>\n",
              "    .dataframe tbody tr th:only-of-type {\n",
              "        vertical-align: middle;\n",
              "    }\n",
              "\n",
              "    .dataframe tbody tr th {\n",
              "        vertical-align: top;\n",
              "    }\n",
              "\n",
              "    .dataframe thead th {\n",
              "        text-align: right;\n",
              "    }\n",
              "</style>\n",
              "<table border=\"1\" class=\"dataframe\">\n",
              "  <thead>\n",
              "    <tr style=\"text-align: right;\">\n",
              "      <th></th>\n",
              "      <th></th>\n",
              "      <th>Income</th>\n",
              "    </tr>\n",
              "    <tr>\n",
              "      <th>Year</th>\n",
              "      <th>Month</th>\n",
              "      <th></th>\n",
              "    </tr>\n",
              "  </thead>\n",
              "  <tbody>\n",
              "    <tr>\n",
              "      <th>2010</th>\n",
              "      <th>12</th>\n",
              "      <td>748957.020</td>\n",
              "    </tr>\n",
              "    <tr>\n",
              "      <th rowspan=\"12\" valign=\"top\">2011</th>\n",
              "      <th>1</th>\n",
              "      <td>560000.260</td>\n",
              "    </tr>\n",
              "    <tr>\n",
              "      <th>2</th>\n",
              "      <td>498062.650</td>\n",
              "    </tr>\n",
              "    <tr>\n",
              "      <th>3</th>\n",
              "      <td>683267.080</td>\n",
              "    </tr>\n",
              "    <tr>\n",
              "      <th>4</th>\n",
              "      <td>493207.121</td>\n",
              "    </tr>\n",
              "    <tr>\n",
              "      <th>5</th>\n",
              "      <td>723333.510</td>\n",
              "    </tr>\n",
              "    <tr>\n",
              "      <th>6</th>\n",
              "      <td>691123.120</td>\n",
              "    </tr>\n",
              "    <tr>\n",
              "      <th>7</th>\n",
              "      <td>681300.111</td>\n",
              "    </tr>\n",
              "    <tr>\n",
              "      <th>8</th>\n",
              "      <td>704804.630</td>\n",
              "    </tr>\n",
              "    <tr>\n",
              "      <th>9</th>\n",
              "      <td>1019687.622</td>\n",
              "    </tr>\n",
              "    <tr>\n",
              "      <th>10</th>\n",
              "      <td>1070704.670</td>\n",
              "    </tr>\n",
              "    <tr>\n",
              "      <th>11</th>\n",
              "      <td>1461756.250</td>\n",
              "    </tr>\n",
              "    <tr>\n",
              "      <th>12</th>\n",
              "      <td>433668.010</td>\n",
              "    </tr>\n",
              "  </tbody>\n",
              "</table>\n",
              "</div>\n",
              "      <button class=\"colab-df-convert\" onclick=\"convertToInteractive('df-21455dfe-4b58-4932-918d-e068a5efab83')\"\n",
              "              title=\"Convert this dataframe to an interactive table.\"\n",
              "              style=\"display:none;\">\n",
              "        \n",
              "  <svg xmlns=\"http://www.w3.org/2000/svg\" height=\"24px\"viewBox=\"0 0 24 24\"\n",
              "       width=\"24px\">\n",
              "    <path d=\"M0 0h24v24H0V0z\" fill=\"none\"/>\n",
              "    <path d=\"M18.56 5.44l.94 2.06.94-2.06 2.06-.94-2.06-.94-.94-2.06-.94 2.06-2.06.94zm-11 1L8.5 8.5l.94-2.06 2.06-.94-2.06-.94L8.5 2.5l-.94 2.06-2.06.94zm10 10l.94 2.06.94-2.06 2.06-.94-2.06-.94-.94-2.06-.94 2.06-2.06.94z\"/><path d=\"M17.41 7.96l-1.37-1.37c-.4-.4-.92-.59-1.43-.59-.52 0-1.04.2-1.43.59L10.3 9.45l-7.72 7.72c-.78.78-.78 2.05 0 2.83L4 21.41c.39.39.9.59 1.41.59.51 0 1.02-.2 1.41-.59l7.78-7.78 2.81-2.81c.8-.78.8-2.07 0-2.86zM5.41 20L4 18.59l7.72-7.72 1.47 1.35L5.41 20z\"/>\n",
              "  </svg>\n",
              "      </button>\n",
              "      \n",
              "  <style>\n",
              "    .colab-df-container {\n",
              "      display:flex;\n",
              "      flex-wrap:wrap;\n",
              "      gap: 12px;\n",
              "    }\n",
              "\n",
              "    .colab-df-convert {\n",
              "      background-color: #E8F0FE;\n",
              "      border: none;\n",
              "      border-radius: 50%;\n",
              "      cursor: pointer;\n",
              "      display: none;\n",
              "      fill: #1967D2;\n",
              "      height: 32px;\n",
              "      padding: 0 0 0 0;\n",
              "      width: 32px;\n",
              "    }\n",
              "\n",
              "    .colab-df-convert:hover {\n",
              "      background-color: #E2EBFA;\n",
              "      box-shadow: 0px 1px 2px rgba(60, 64, 67, 0.3), 0px 1px 3px 1px rgba(60, 64, 67, 0.15);\n",
              "      fill: #174EA6;\n",
              "    }\n",
              "\n",
              "    [theme=dark] .colab-df-convert {\n",
              "      background-color: #3B4455;\n",
              "      fill: #D2E3FC;\n",
              "    }\n",
              "\n",
              "    [theme=dark] .colab-df-convert:hover {\n",
              "      background-color: #434B5C;\n",
              "      box-shadow: 0px 1px 3px 1px rgba(0, 0, 0, 0.15);\n",
              "      filter: drop-shadow(0px 1px 2px rgba(0, 0, 0, 0.3));\n",
              "      fill: #FFFFFF;\n",
              "    }\n",
              "  </style>\n",
              "\n",
              "      <script>\n",
              "        const buttonEl =\n",
              "          document.querySelector('#df-21455dfe-4b58-4932-918d-e068a5efab83 button.colab-df-convert');\n",
              "        buttonEl.style.display =\n",
              "          google.colab.kernel.accessAllowed ? 'block' : 'none';\n",
              "\n",
              "        async function convertToInteractive(key) {\n",
              "          const element = document.querySelector('#df-21455dfe-4b58-4932-918d-e068a5efab83');\n",
              "          const dataTable =\n",
              "            await google.colab.kernel.invokeFunction('convertToInteractive',\n",
              "                                                     [key], {});\n",
              "          if (!dataTable) return;\n",
              "\n",
              "          const docLinkHtml = 'Like what you see? Visit the ' +\n",
              "            '<a target=\"_blank\" href=https://colab.research.google.com/notebooks/data_table.ipynb>data table notebook</a>'\n",
              "            + ' to learn more about interactive tables.';\n",
              "          element.innerHTML = '';\n",
              "          dataTable['output_type'] = 'display_data';\n",
              "          await google.colab.output.renderOutput(dataTable, element);\n",
              "          const docLink = document.createElement('div');\n",
              "          docLink.innerHTML = docLinkHtml;\n",
              "          element.appendChild(docLink);\n",
              "        }\n",
              "      </script>\n",
              "    </div>\n",
              "  </div>\n",
              "  "
            ],
            "text/plain": [
              "                 Income\n",
              "Year Month             \n",
              "2010 12      748957.020\n",
              "2011 1       560000.260\n",
              "     2       498062.650\n",
              "     3       683267.080\n",
              "     4       493207.121\n",
              "     5       723333.510\n",
              "     6       691123.120\n",
              "     7       681300.111\n",
              "     8       704804.630\n",
              "     9      1019687.622\n",
              "     10     1070704.670\n",
              "     11     1461756.250\n",
              "     12      433668.010"
            ]
          },
          "execution_count": 81,
          "metadata": {},
          "output_type": "execute_result"
        }
      ],
      "source": [
        "monthly_sales(df)"
      ]
    },
    {
      "cell_type": "code",
      "execution_count": null,
      "metadata": {
        "colab": {
          "base_uri": "https://localhost:8080/",
          "height": 295
        },
        "id": "66PRY9J9vB7p",
        "outputId": "664dea05-4adb-4d38-bf41-e70a9aca2b2a"
      },
      "outputs": [
        {
          "data": {
            "image/png": "[encoded data removed]",
            "text/plain": [
              "<Figure size 432x288 with 1 Axes>"
            ]
          },
          "metadata": {
            "needs_background": "light"
          },
          "output_type": "display_data"
        }
      ],
      "source": [
        "# Filter the data for the year 2011\n",
        "df_2011 = df[df['Year'] == 2011]\n",
        "# Group the data by month and sum the Income for each month\n",
        "month_group = df_2011.groupby('Month').agg({'Income': 'sum'})\n",
        "\n",
        "# Plot the bar graph\n",
        "plt.bar(month_group.index, month_group['Income'], color='blue')\n",
        "\n",
        "# Add labels and title\n",
        "plt.xlabel('Month')\n",
        "plt.ylabel('Income')\n",
        "plt.title('Month-wise Sales 2011')\n",
        "\n",
        "# Show the graph\n",
        "plt.show()\n"
      ]
    },
    {
      "cell_type": "code",
      "execution_count": null,
      "metadata": {
        "id": "tfZkx3qAaLMV"
      },
      "outputs": [],
      "source": [
        "# Sum of returns by Country\n",
        "\n",
        "def create_returns_matrix(df):\n",
        "    # Filter the data to only include returns (Quantity < 0)\n",
        "    returns_df = df[df['Quantity'] < 0]\n",
        "    # Group the data by country and year, and sum the returns for each combination\n",
        "    returns_group = returns_df.groupby(['Continent', 'Year']).agg({'Quantity': 'sum'})\n",
        "\n",
        "    # Pivot the data to create the matrix table\n",
        "    returns_matrix = returns_group.pivot_table(index='Continent', columns='Year', values='Quantity')\n",
        "\n",
        "    return returns_matrix\n"
      ]
    },
    {
      "cell_type": "code",
      "execution_count": null,
      "metadata": {
        "colab": {
          "base_uri": "https://localhost:8080/",
          "height": 193
        },
        "id": "7P_9_OausA51",
        "outputId": "6ff4d918-1a18-4592-a6bf-bee5aa138a64"
      },
      "outputs": [
        {
          "data": {
            "text/html": [
              "\n",
              "  <div id=\"df-e6bf1098-449c-409e-b60b-c69907841128\">\n",
              "    <div class=\"colab-df-container\">\n",
              "      <div>\n",
              "<style scoped>\n",
              "    .dataframe tbody tr th:only-of-type {\n",
              "        vertical-align: middle;\n",
              "    }\n",
              "\n",
              "    .dataframe tbody tr th {\n",
              "        vertical-align: top;\n",
              "    }\n",
              "\n",
              "    .dataframe thead th {\n",
              "        text-align: right;\n",
              "    }\n",
              "</style>\n",
              "<table border=\"1\" class=\"dataframe\">\n",
              "  <thead>\n",
              "    <tr style=\"text-align: right;\">\n",
              "      <th>Year</th>\n",
              "      <th>2010</th>\n",
              "      <th>2011</th>\n",
              "    </tr>\n",
              "    <tr>\n",
              "      <th>Continent</th>\n",
              "      <th></th>\n",
              "      <th></th>\n",
              "    </tr>\n",
              "  </thead>\n",
              "  <tbody>\n",
              "    <tr>\n",
              "      <th>Asia</th>\n",
              "      <td>-56.0</td>\n",
              "      <td>-868.0</td>\n",
              "    </tr>\n",
              "    <tr>\n",
              "      <th>Australia</th>\n",
              "      <td>-13.0</td>\n",
              "      <td>-543.0</td>\n",
              "    </tr>\n",
              "    <tr>\n",
              "      <th>Europe</th>\n",
              "      <td>-20019.0</td>\n",
              "      <td>-461608.0</td>\n",
              "    </tr>\n",
              "    <tr>\n",
              "      <th>North America</th>\n",
              "      <td>NaN</td>\n",
              "      <td>-1424.0</td>\n",
              "    </tr>\n",
              "  </tbody>\n",
              "</table>\n",
              "</div>\n",
              "      <button class=\"colab-df-convert\" onclick=\"convertToInteractive('df-e6bf1098-449c-409e-b60b-c69907841128')\"\n",
              "              title=\"Convert this dataframe to an interactive table.\"\n",
              "              style=\"display:none;\">\n",
              "        \n",
              "  <svg xmlns=\"http://www.w3.org/2000/svg\" height=\"24px\"viewBox=\"0 0 24 24\"\n",
              "       width=\"24px\">\n",
              "    <path d=\"M0 0h24v24H0V0z\" fill=\"none\"/>\n",
              "    <path d=\"M18.56 5.44l.94 2.06.94-2.06 2.06-.94-2.06-.94-.94-2.06-.94 2.06-2.06.94zm-11 1L8.5 8.5l.94-2.06 2.06-.94-2.06-.94L8.5 2.5l-.94 2.06-2.06.94zm10 10l.94 2.06.94-2.06 2.06-.94-2.06-.94-.94-2.06-.94 2.06-2.06.94z\"/><path d=\"M17.41 7.96l-1.37-1.37c-.4-.4-.92-.59-1.43-.59-.52 0-1.04.2-1.43.59L10.3 9.45l-7.72 7.72c-.78.78-.78 2.05 0 2.83L4 21.41c.39.39.9.59 1.41.59.51 0 1.02-.2 1.41-.59l7.78-7.78 2.81-2.81c.8-.78.8-2.07 0-2.86zM5.41 20L4 18.59l7.72-7.72 1.47 1.35L5.41 20z\"/>\n",
              "  </svg>\n",
              "      </button>\n",
              "      \n",
              "  <style>\n",
              "    .colab-df-container {\n",
              "      display:flex;\n",
              "      flex-wrap:wrap;\n",
              "      gap: 12px;\n",
              "    }\n",
              "\n",
              "    .colab-df-convert {\n",
              "      background-color: #E8F0FE;\n",
              "      border: none;\n",
              "      border-radius: 50%;\n",
              "      cursor: pointer;\n",
              "      display: none;\n",
              "      fill: #1967D2;\n",
              "      height: 32px;\n",
              "      padding: 0 0 0 0;\n",
              "      width: 32px;\n",
              "    }\n",
              "\n",
              "    .colab-df-convert:hover {\n",
              "      background-color: #E2EBFA;\n",
              "      box-shadow: 0px 1px 2px rgba(60, 64, 67, 0.3), 0px 1px 3px 1px rgba(60, 64, 67, 0.15);\n",
              "      fill: #174EA6;\n",
              "    }\n",
              "\n",
              "    [theme=dark] .colab-df-convert {\n",
              "      background-color: #3B4455;\n",
              "      fill: #D2E3FC;\n",
              "    }\n",
              "\n",
              "    [theme=dark] .colab-df-convert:hover {\n",
              "      background-color: #434B5C;\n",
              "      box-shadow: 0px 1px 3px 1px rgba(0, 0, 0, 0.15);\n",
              "      filter: drop-shadow(0px 1px 2px rgba(0, 0, 0, 0.3));\n",
              "      fill: #FFFFFF;\n",
              "    }\n",
              "  </style>\n",
              "\n",
              "      <script>\n",
              "        const buttonEl =\n",
              "          document.querySelector('#df-e6bf1098-449c-409e-b60b-c69907841128 button.colab-df-convert');\n",
              "        buttonEl.style.display =\n",
              "          google.colab.kernel.accessAllowed ? 'block' : 'none';\n",
              "\n",
              "        async function convertToInteractive(key) {\n",
              "          const element = document.querySelector('#df-e6bf1098-449c-409e-b60b-c69907841128');\n",
              "          const dataTable =\n",
              "            await google.colab.kernel.invokeFunction('convertToInteractive',\n",
              "                                                     [key], {});\n",
              "          if (!dataTable) return;\n",
              "\n",
              "          const docLinkHtml = 'Like what you see? Visit the ' +\n",
              "            '<a target=\"_blank\" href=https://colab.research.google.com/notebooks/data_table.ipynb>data table notebook</a>'\n",
              "            + ' to learn more about interactive tables.';\n",
              "          element.innerHTML = '';\n",
              "          dataTable['output_type'] = 'display_data';\n",
              "          await google.colab.output.renderOutput(dataTable, element);\n",
              "          const docLink = document.createElement('div');\n",
              "          docLink.innerHTML = docLinkHtml;\n",
              "          element.appendChild(docLink);\n",
              "        }\n",
              "      </script>\n",
              "    </div>\n",
              "  </div>\n",
              "  "
            ],
            "text/plain": [
              "Year              2010      2011\n",
              "Continent                       \n",
              "Asia             -56.0    -868.0\n",
              "Australia        -13.0    -543.0\n",
              "Europe        -20019.0 -461608.0\n",
              "North America      NaN   -1424.0"
            ]
          },
          "execution_count": 73,
          "metadata": {},
          "output_type": "execute_result"
        }
      ],
      "source": [
        "create_returns_matrix(df)"
      ]
    },
    {
      "cell_type": "code",
      "execution_count": null,
      "metadata": {
        "colab": {
          "base_uri": "https://localhost:8080/",
          "height": 770
        },
        "id": "3aVJxdOJaLE8",
        "outputId": "6e942305-673c-4612-b8fd-5f704e1648bb"
      },
      "outputs": [
        {
          "name": "stderr",
          "output_type": "stream",
          "text": [
            "<ipython-input-72-a7c1160d9ed8>:3: SettingWithCopyWarning: \n",
            "A value is trying to be set on a copy of a slice from a DataFrame.\n",
            "Try using .loc[row_indexer,col_indexer] = value instead\n",
            "\n",
            "See the caveats in the documentation: https://pandas.pydata.org/pandas-docs/stable/user_guide/indexing.html#returning-a-view-versus-a-copy\n",
            "  df['Return'] = df['Quantity'] < 0\n",
            "<ipython-input-72-a7c1160d9ed8>:4: SettingWithCopyWarning: \n",
            "A value is trying to be set on a copy of a slice from a DataFrame.\n",
            "Try using .loc[row_indexer,col_indexer] = value instead\n",
            "\n",
            "See the caveats in the documentation: https://pandas.pydata.org/pandas-docs/stable/user_guide/indexing.html#returning-a-view-versus-a-copy\n",
            "  df['Return'] = df['Return'].astype(int)\n"
          ]
        },
        {
          "data": {
            "text/html": [
              "<html>\n",
              "<head><meta charset=\"utf-8\" /></head>\n",
              "<body>\n",
              "    <div>            <script src=\"https://cdnjs.cloudflare.com/ajax/libs/mathjax/2.7.5/MathJax.js?config=TeX-AMS-MML_SVG\"></script><script type=\"text/javascript\">if (window.MathJax) {MathJax.Hub.Config({SVG: {font: \"STIX-Web\"}});}</script>                <script type=\"text/javascript\">window.PlotlyConfig = {MathJaxConfig: 'local'};</script>\n",
              "        <script src=\"https://cdn.plot.ly/plotly-2.8.3.min.js\"></script>                <div id=\"922a91ca-61fc-43e7-a20c-6c13ac4c2676\" class=\"plotly-graph-div\" style=\"height:525px; width:100%;\"></div>            <script type=\"text/javascript\">                                    window.PLOTLYENV=window.PLOTLYENV || {};                                    if (document.getElementById(\"922a91ca-61fc-43e7-a20c-6c13ac4c2676\")) {                    Plotly.newPlot(                        \"922a91ca-61fc-43e7-a20c-6c13ac4c2676\",                        [{\"alignmentgroup\":\"True\",\"hovertemplate\":\"Continent=Asia<br>Year=%{x}<br>Return=%{y}<extra></extra>\",\"legendgroup\":\"Asia\",\"marker\":{\"color\":\"#636efa\",\"pattern\":{\"shape\":\"\"}},\"name\":\"Asia\",\"offsetgroup\":\"Asia\",\"orientation\":\"v\",\"showlegend\":true,\"textposition\":\"auto\",\"x\":[2010,2011],\"xaxis\":\"x\",\"y\":[2,50],\"yaxis\":\"y\",\"type\":\"bar\"},{\"alignmentgroup\":\"True\",\"hovertemplate\":\"Continent=Australia<br>Year=%{x}<br>Return=%{y}<extra></extra>\",\"legendgroup\":\"Australia\",\"marker\":{\"color\":\"#EF553B\",\"pattern\":{\"shape\":\"\"}},\"name\":\"Australia\",\"offsetgroup\":\"Australia\",\"orientation\":\"v\",\"showlegend\":true,\"textposition\":\"auto\",\"x\":[2010,2011],\"xaxis\":\"x\",\"y\":[3,71],\"yaxis\":\"y\",\"type\":\"bar\"},{\"alignmentgroup\":\"True\",\"hovertemplate\":\"Continent=Europe<br>Year=%{x}<br>Return=%{y}<extra></extra>\",\"legendgroup\":\"Europe\",\"marker\":{\"color\":\"#00cc96\",\"pattern\":{\"shape\":\"\"}},\"name\":\"Europe\",\"offsetgroup\":\"Europe\",\"orientation\":\"v\",\"showlegend\":true,\"textposition\":\"auto\",\"x\":[2010,2011],\"xaxis\":\"x\",\"y\":[793,9593],\"yaxis\":\"y\",\"type\":\"bar\"},{\"alignmentgroup\":\"True\",\"hovertemplate\":\"Continent=North America<br>Year=%{x}<br>Return=%{y}<extra></extra>\",\"legendgroup\":\"North America\",\"marker\":{\"color\":\"#ab63fa\",\"pattern\":{\"shape\":\"\"}},\"name\":\"North America\",\"offsetgroup\":\"North America\",\"orientation\":\"v\",\"showlegend\":true,\"textposition\":\"auto\",\"x\":[2011],\"xaxis\":\"x\",\"y\":[112],\"yaxis\":\"y\",\"type\":\"bar\"}],                        {\"template\":{\"data\":{\"bar\":[{\"error_x\":{\"color\":\"#2a3f5f\"},\"error_y\":{\"color\":\"#2a3f5f\"},\"marker\":{\"line\":{\"color\":\"#E5ECF6\",\"width\":0.5},\"pattern\":{\"fillmode\":\"overlay\",\"size\":10,\"solidity\":0.2}},\"type\":\"bar\"}],\"barpolar\":[{\"marker\":{\"line\":{\"color\":\"#E5ECF6\",\"width\":0.5},\"pattern\":{\"fillmode\":\"overlay\",\"size\":10,\"solidity\":0.2}},\"type\":\"barpolar\"}],\"carpet\":[{\"aaxis\":{\"endlinecolor\":\"#2a3f5f\",\"gridcolor\":\"white\",\"linecolor\":\"white\",\"minorgridcolor\":\"white\",\"startlinecolor\":\"#2a3f5f\"},\"baxis\":{\"endlinecolor\":\"#2a3f5f\",\"gridcolor\":\"white\",\"linecolor\":\"white\",\"minorgridcolor\":\"white\",\"startlinecolor\":\"#2a3f5f\"},\"type\":\"carpet\"}],\"choropleth\":[{\"colorbar\":{\"outlinewidth\":0,\"ticks\":\"\"},\"type\":\"choropleth\"}],\"contour\":[{\"colorbar\":{\"outlinewidth\":0,\"ticks\":\"\"},\"colorscale\":[[0.0,\"#0d0887\"],[0.1111111111111111,\"#46039f\"],[0.2222222222222222,\"#7201a8\"],[0.3333333333333333,\"#9c179e\"],[0.4444444444444444,\"#bd3786\"],[0.5555555555555556,\"#d8576b\"],[0.6666666666666666,\"#ed7953\"],[0.7777777777777778,\"#fb9f3a\"],[0.8888888888888888,\"#fdca26\"],[1.0,\"#f0f921\"]],\"type\":\"contour\"}],\"contourcarpet\":[{\"colorbar\":{\"outlinewidth\":0,\"ticks\":\"\"},\"type\":\"contourcarpet\"}],\"heatmap\":[{\"colorbar\":{\"outlinewidth\":0,\"ticks\":\"\"},\"colorscale\":[[0.0,\"#0d0887\"],[0.1111111111111111,\"#46039f\"],[0.2222222222222222,\"#7201a8\"],[0.3333333333333333,\"#9c179e\"],[0.4444444444444444,\"#bd3786\"],[0.5555555555555556,\"#d8576b\"],[0.6666666666666666,\"#ed7953\"],[0.7777777777777778,\"#fb9f3a\"],[0.8888888888888888,\"#fdca26\"],[1.0,\"#f0f921\"]],\"type\":\"heatmap\"}],\"heatmapgl\":[{\"colorbar\":{\"outlinewidth\":0,\"ticks\":\"\"},\"colorscale\":[[0.0,\"#0d0887\"],[0.1111111111111111,\"#46039f\"],[0.2222222222222222,\"#7201a8\"],[0.3333333333333333,\"#9c179e\"],[0.4444444444444444,\"#bd3786\"],[0.5555555555555556,\"#d8576b\"],[0.6666666666666666,\"#ed7953\"],[0.7777777777777778,\"#fb9f3a\"],[0.8888888888888888,\"#fdca26\"],[1.0,\"#f0f921\"]],\"type\":\"heatmapgl\"}],\"histogram\":[{\"marker\":{\"pattern\":{\"fillmode\":\"overlay\",\"size\":10,\"solidity\":0.2}},\"type\":\"histogram\"}],\"histogram2d\":[{\"colorbar\":{\"outlinewidth\":0,\"ticks\":\"\"},\"colorscale\":[[0.0,\"#0d0887\"],[0.1111111111111111,\"#46039f\"],[0.2222222222222222,\"#7201a8\"],[0.3333333333333333,\"#9c179e\"],[0.4444444444444444,\"#bd3786\"],[0.5555555555555556,\"#d8576b\"],[0.6666666666666666,\"#ed7953\"],[0.7777777777777778,\"#fb9f3a\"],[0.8888888888888888,\"#fdca26\"],[1.0,\"#f0f921\"]],\"type\":\"histogram2d\"}],\"histogram2dcontour\":[{\"colorbar\":{\"outlinewidth\":0,\"ticks\":\"\"},\"colorscale\":[[0.0,\"#0d0887\"],[0.1111111111111111,\"#46039f\"],[0.2222222222222222,\"#7201a8\"],[0.3333333333333333,\"#9c179e\"],[0.4444444444444444,\"#bd3786\"],[0.5555555555555556,\"#d8576b\"],[0.6666666666666666,\"#ed7953\"],[0.7777777777777778,\"#fb9f3a\"],[0.8888888888888888,\"#fdca26\"],[1.0,\"#f0f921\"]],\"type\":\"histogram2dcontour\"}],\"mesh3d\":[{\"colorbar\":{\"outlinewidth\":0,\"ticks\":\"\"},\"type\":\"mesh3d\"}],\"parcoords\":[{\"line\":{\"colorbar\":{\"outlinewidth\":0,\"ticks\":\"\"}},\"type\":\"parcoords\"}],\"pie\":[{\"automargin\":true,\"type\":\"pie\"}],\"scatter\":[{\"marker\":{\"colorbar\":{\"outlinewidth\":0,\"ticks\":\"\"}},\"type\":\"scatter\"}],\"scatter3d\":[{\"line\":{\"colorbar\":{\"outlinewidth\":0,\"ticks\":\"\"}},\"marker\":{\"colorbar\":{\"outlinewidth\":0,\"ticks\":\"\"}},\"type\":\"scatter3d\"}],\"scattercarpet\":[{\"marker\":{\"colorbar\":{\"outlinewidth\":0,\"ticks\":\"\"}},\"type\":\"scattercarpet\"}],\"scattergeo\":[{\"marker\":{\"colorbar\":{\"outlinewidth\":0,\"ticks\":\"\"}},\"type\":\"scattergeo\"}],\"scattergl\":[{\"marker\":{\"colorbar\":{\"outlinewidth\":0,\"ticks\":\"\"}},\"type\":\"scattergl\"}],\"scattermapbox\":[{\"marker\":{\"colorbar\":{\"outlinewidth\":0,\"ticks\":\"\"}},\"type\":\"scattermapbox\"}],\"scatterpolar\":[{\"marker\":{\"colorbar\":{\"outlinewidth\":0,\"ticks\":\"\"}},\"type\":\"scatterpolar\"}],\"scatterpolargl\":[{\"marker\":{\"colorbar\":{\"outlinewidth\":0,\"ticks\":\"\"}},\"type\":\"scatterpolargl\"}],\"scatterternary\":[{\"marker\":{\"colorbar\":{\"outlinewidth\":0,\"ticks\":\"\"}},\"type\":\"scatterternary\"}],\"surface\":[{\"colorbar\":{\"outlinewidth\":0,\"ticks\":\"\"},\"colorscale\":[[0.0,\"#0d0887\"],[0.1111111111111111,\"#46039f\"],[0.2222222222222222,\"#7201a8\"],[0.3333333333333333,\"#9c179e\"],[0.4444444444444444,\"#bd3786\"],[0.5555555555555556,\"#d8576b\"],[0.6666666666666666,\"#ed7953\"],[0.7777777777777778,\"#fb9f3a\"],[0.8888888888888888,\"#fdca26\"],[1.0,\"#f0f921\"]],\"type\":\"surface\"}],\"table\":[{\"cells\":{\"fill\":{\"color\":\"#EBF0F8\"},\"line\":{\"color\":\"white\"}},\"header\":{\"fill\":{\"color\":\"#C8D4E3\"},\"line\":{\"color\":\"white\"}},\"type\":\"table\"}]},\"layout\":{\"annotationdefaults\":{\"arrowcolor\":\"#2a3f5f\",\"arrowhead\":0,\"arrowwidth\":1},\"autotypenumbers\":\"strict\",\"coloraxis\":{\"colorbar\":{\"outlinewidth\":0,\"ticks\":\"\"}},\"colorscale\":{\"diverging\":[[0,\"#8e0152\"],[0.1,\"#c51b7d\"],[0.2,\"#de77ae\"],[0.3,\"#f1b6da\"],[0.4,\"#fde0ef\"],[0.5,\"#f7f7f7\"],[0.6,\"#e6f5d0\"],[0.7,\"#b8e186\"],[0.8,\"#7fbc41\"],[0.9,\"#4d9221\"],[1,\"#276419\"]],\"sequential\":[[0.0,\"#0d0887\"],[0.1111111111111111,\"#46039f\"],[0.2222222222222222,\"#7201a8\"],[0.3333333333333333,\"#9c179e\"],[0.4444444444444444,\"#bd3786\"],[0.5555555555555556,\"#d8576b\"],[0.6666666666666666,\"#ed7953\"],[0.7777777777777778,\"#fb9f3a\"],[0.8888888888888888,\"#fdca26\"],[1.0,\"#f0f921\"]],\"sequentialminus\":[[0.0,\"#0d0887\"],[0.1111111111111111,\"#46039f\"],[0.2222222222222222,\"#7201a8\"],[0.3333333333333333,\"#9c179e\"],[0.4444444444444444,\"#bd3786\"],[0.5555555555555556,\"#d8576b\"],[0.6666666666666666,\"#ed7953\"],[0.7777777777777778,\"#fb9f3a\"],[0.8888888888888888,\"#fdca26\"],[1.0,\"#f0f921\"]]},\"colorway\":[\"#636efa\",\"#EF553B\",\"#00cc96\",\"#ab63fa\",\"#FFA15A\",\"#19d3f3\",\"#FF6692\",\"#B6E880\",\"#FF97FF\",\"#FECB52\"],\"font\":{\"color\":\"#2a3f5f\"},\"geo\":{\"bgcolor\":\"white\",\"lakecolor\":\"white\",\"landcolor\":\"#E5ECF6\",\"showlakes\":true,\"showland\":true,\"subunitcolor\":\"white\"},\"hoverlabel\":{\"align\":\"left\"},\"hovermode\":\"closest\",\"mapbox\":{\"style\":\"light\"},\"paper_bgcolor\":\"white\",\"plot_bgcolor\":\"#E5ECF6\",\"polar\":{\"angularaxis\":{\"gridcolor\":\"white\",\"linecolor\":\"white\",\"ticks\":\"\"},\"bgcolor\":\"#E5ECF6\",\"radialaxis\":{\"gridcolor\":\"white\",\"linecolor\":\"white\",\"ticks\":\"\"}},\"scene\":{\"xaxis\":{\"backgroundcolor\":\"#E5ECF6\",\"gridcolor\":\"white\",\"gridwidth\":2,\"linecolor\":\"white\",\"showbackground\":true,\"ticks\":\"\",\"zerolinecolor\":\"white\"},\"yaxis\":{\"backgroundcolor\":\"#E5ECF6\",\"gridcolor\":\"white\",\"gridwidth\":2,\"linecolor\":\"white\",\"showbackground\":true,\"ticks\":\"\",\"zerolinecolor\":\"white\"},\"zaxis\":{\"backgroundcolor\":\"#E5ECF6\",\"gridcolor\":\"white\",\"gridwidth\":2,\"linecolor\":\"white\",\"showbackground\":true,\"ticks\":\"\",\"zerolinecolor\":\"white\"}},\"shapedefaults\":{\"line\":{\"color\":\"#2a3f5f\"}},\"ternary\":{\"aaxis\":{\"gridcolor\":\"white\",\"linecolor\":\"white\",\"ticks\":\"\"},\"baxis\":{\"gridcolor\":\"white\",\"linecolor\":\"white\",\"ticks\":\"\"},\"bgcolor\":\"#E5ECF6\",\"caxis\":{\"gridcolor\":\"white\",\"linecolor\":\"white\",\"ticks\":\"\"}},\"title\":{\"x\":0.05},\"xaxis\":{\"automargin\":true,\"gridcolor\":\"white\",\"linecolor\":\"white\",\"ticks\":\"\",\"title\":{\"standoff\":15},\"zerolinecolor\":\"white\",\"zerolinewidth\":2},\"yaxis\":{\"automargin\":true,\"gridcolor\":\"white\",\"linecolor\":\"white\",\"ticks\":\"\",\"title\":{\"standoff\":15},\"zerolinecolor\":\"white\",\"zerolinewidth\":2}}},\"xaxis\":{\"anchor\":\"y\",\"domain\":[0.0,1.0],\"title\":{\"text\":\"Year\"}},\"yaxis\":{\"anchor\":\"x\",\"domain\":[0.0,1.0],\"title\":{\"text\":\"Returns\"}},\"legend\":{\"title\":{\"text\":\"Continent\"},\"tracegroupgap\":0},\"margin\":{\"t\":60},\"barmode\":\"stack\",\"title\":{\"text\":\"Returns by Continent and Year\"}},                        {\"responsive\": true}                    ).then(function(){\n",
              "                            \n",
              "var gd = document.getElementById('922a91ca-61fc-43e7-a20c-6c13ac4c2676');\n",
              "var x = new MutationObserver(function (mutations, observer) {{\n",
              "        var display = window.getComputedStyle(gd).display;\n",
              "        if (!display || display === 'none') {{\n",
              "            console.log([gd, 'removed!']);\n",
              "            Plotly.purge(gd);\n",
              "            observer.disconnect();\n",
              "        }}\n",
              "}});\n",
              "\n",
              "// Listen for the removal of the full notebook cells\n",
              "var notebookContainer = gd.closest('#notebook-container');\n",
              "if (notebookContainer) {{\n",
              "    x.observe(notebookContainer, {childList: true});\n",
              "}}\n",
              "\n",
              "// Listen for the clearing of the current output cell\n",
              "var outputEl = gd.closest('.output');\n",
              "if (outputEl) {{\n",
              "    x.observe(outputEl, {childList: true});\n",
              "}}\n",
              "\n",
              "                        })                };                            </script>        </div>\n",
              "</body>\n",
              "</html>"
            ]
          },
          "metadata": {},
          "output_type": "display_data"
        }
      ],
      "source": [
        "# returns by continent and year\n",
        "# Prepare the data\n",
        "df['Return'] = df['Quantity'] < 0\n",
        "df['Return'] = df['Return'].astype(int)\n",
        "return_data = df[df['Return'] == 1].groupby(['Continent', 'Year']).agg({'Return': 'sum'})\n",
        "return_data = return_data.reset_index()\n",
        "\n",
        "# Create the stacked bar chart\n",
        "fig = px.bar(return_data, x='Year', y='Return', color='Continent', barmode='stack')\n",
        "fig.update_layout(title='Returns by Continent and Year', xaxis_title='Year', yaxis_title='Returns')\n",
        "\n",
        "# Show the chart\n",
        "fig.show()\n"
      ]
    },
    {
      "cell_type": "markdown",
      "metadata": {
        "id": "KGzxvmz_IAQM"
      },
      "source": [
        "product returns by continent each year, Highest product return indicate in 2011 in europ."
      ]
    },
    {
      "cell_type": "code",
      "execution_count": null,
      "metadata": {
        "colab": {
          "base_uri": "https://localhost:8080/",
          "height": 528
        },
        "id": "DyRBYJODZatE",
        "outputId": "74a22427-6b2a-4f78-ff92-175f3149cd22"
      },
      "outputs": [
        {
          "data": {
            "image/png": "[encoded data removed]",
            "text/plain": [
              "<Figure size 1080x576 with 1 Axes>"
            ]
          },
          "metadata": {
            "needs_background": "light"
          },
          "output_type": "display_data"
        }
      ],
      "source": [
        "# Filter the data to only include returns (where Quantity is less than 0)\n",
        "returns = df[df['Quantity'] < 0]\n",
        "\n",
        "# Create a pivot table with the index being the year and month of the InvoiceDate,\n",
        "# the columns being the continent, and the values being the sum of the returns\n",
        "pivot_table = returns.pivot_table(index=returns['InvoiceDate'].dt.to_period(\"Y\"),\n",
        "                                   columns='Continent',\n",
        "                                   values='Quantity',\n",
        "                                   aggfunc='mean')\n",
        "\n",
        "# Plot the pivot table as a bar chart\n",
        "pivot_table.plot(kind='bar', figsize=(15,8))\n",
        "\n",
        "# Add a title and labels\n",
        "plt.title(\"Returns by Continent and Year\")\n",
        "plt.xlabel(\"Year\")\n",
        "plt.ylabel(\"Returns\")\n",
        "\n",
        "# Show the plot\n",
        "plt.show()\n"
      ]
    },
    {
      "cell_type": "code",
      "execution_count": null,
      "metadata": {
        "id": "geH6Iad_zDjs"
      },
      "outputs": [],
      "source": [
        "products = df['Description'].unique().tolist()"
      ]
    },
    {
      "cell_type": "code",
      "execution_count": null,
      "metadata": {
        "colab": {
          "base_uri": "https://localhost:8080/"
        },
        "id": "Bld7hNoGhodF",
        "outputId": "78c67eab-7b45-4125-b844-555cc58c97f9"
      },
      "outputs": [
        {
          "name": "stdout",
          "output_type": "stream",
          "text": [
            "['WHITE HANGING HEART T-LIGHT HOLDER', 'WHITE METAL LANTERN', 'CREAM CUPID HEARTS COAT HANGER', 'KNITTED UNION FLAG HOT WATER BOTTLE', 'RED WOOLLY HOTTIE WHITE HEART.', 'SET 7 BABUSHKA NESTING BOXES', 'GLASS STAR FROSTED T-LIGHT HOLDER', 'HAND WARMER UNION JACK', 'HAND WARMER RED POLKA DOT', 'ASSORTED COLOUR BIRD ORNAMENT', \"POPPY'S PLAYHOUSE BEDROOM \", \"POPPY'S PLAYHOUSE KITCHEN\", 'FELTCRAFT PRINCESS CHARLOTTE DOLL', 'IVORY KNITTED MUG COSY ', 'BOX OF 6 ASSORTED COLOUR TEASPOONS', 'BOX OF VINTAGE JIGSAW BLOCKS ', 'BOX OF VINTAGE ALPHABET BLOCKS', 'HOME BUILDING BLOCK WORD', 'LOVE BUILDING BLOCK WORD', 'RECIPE BOX WITH METAL HEART', 'DOORMAT NEW ENGLAND', 'JAM MAKING SET WITH JARS', 'RED COAT RACK PARIS FASHION', 'YELLOW COAT RACK PARIS FASHION', 'BLUE COAT RACK PARIS FASHION', 'BATH BUILDING BLOCK WORD', 'ALARM CLOCK BAKELIKE PINK', 'ALARM CLOCK BAKELIKE RED ', 'ALARM CLOCK BAKELIKE GREEN', 'PANDA AND BUNNIES STICKER SHEET', 'STARS GIFT TAPE ', 'INFLATABLE POLITICAL GLOBE ', 'VINTAGE HEADS AND TAILS CARD GAME ', 'SET/2 RED RETROSPOT TEA TOWELS ', 'ROUND SNACK BOXES SET OF4 WOODLAND ', 'SPACEBOY LUNCH BOX ', 'LUNCH BOX I LOVE LONDON', 'CIRCUS PARADE LUNCH BOX ', 'CHARLOTTE BAG DOLLY GIRL DESIGN', 'RED TOADSTOOL LED NIGHT LIGHT', ' SET 2 TEA TOWELS I LOVE LONDON ', 'VINTAGE SEASIDE JIGSAW PUZZLES', 'MINI JIGSAW CIRCUS PARADE ', 'MINI JIGSAW SPACEBOY', 'MINI PAINT SET VINTAGE ', 'POSTAGE', \"PAPER CHAIN KIT 50'S CHRISTMAS \", 'EDWARDIAN PARASOL RED', 'RETRO COFFEE MUGS ASSORTED', 'SAVE THE PLANET MUG', 'VINTAGE BILLBOARD DRINK ME MUG', 'VINTAGE BILLBOARD LOVE/HATE MUG', 'WOOD 2 DRAWER CABINET WHITE FINISH', 'WOOD S/3 CABINET ANT WHITE FINISH', 'WOODEN PICTURE FRAME WHITE FINISH', 'WOODEN FRAME ANTIQUE WHITE ', 'VICTORIAN SEWING BOX LARGE', 'HOT WATER BOTTLE TEA AND SYMPATHY', 'RED HANGING HEART T-LIGHT HOLDER', 'JUMBO BAG PINK POLKADOT', 'JUMBO  BAG BAROQUE BLACK WHITE', 'JUMBO BAG CHARLIE AND LOLA TOYS', 'STRAWBERRY CHARLOTTE BAG', 'RED 3 PIECE RETROSPOT CUTLERY SET', 'BLUE 3 PIECE POLKADOT CUTLERY SET', 'SET/6 RED SPOTTY PAPER PLATES', 'LUNCH BAG RED RETROSPOT', 'STRAWBERRY LUNCH BOX WITH CUTLERY', 'LUNCH BOX WITH CUTLERY RETROSPOT ', 'PACK OF 72 RETROSPOT CAKE CASES', 'PACK OF 60 DINOSAUR CAKE CASES', 'PACK OF 60 PINK PAISLEY CAKE CASES', '60 TEATIME FAIRY CAKE CASES', 'TOMATO CHARLIE+LOLA COASTER SET', 'CHARLIE & LOLA WASTEPAPER BIN FLORA', 'RED CHARLIE+LOLA PERSONAL DOORSIGN', 'JUMBO STORAGE BAG SUKI', 'JUMBO BAG PINK VINTAGE PAISLEY', 'JAM MAKING SET PRINTED', 'RETROSPOT TEA SET CERAMIC 11 PC ', 'GIRLY PINK TOOL SET', 'JUMBO SHOPPER VINTAGE RED PAISLEY', 'AIRLINE LOUNGE,METAL SIGN', 'WHITE SPOT RED CERAMIC DRAWER KNOB', 'RED DRAWER KNOB ACRYLIC EDWARDIAN', 'CLEAR DRAWER KNOB ACRYLIC EDWARDIAN', 'PHOTO CLIP LINE', 'FELT EGG COSY CHICKEN', 'PIGGY BANK RETROSPOT ', 'SKULL SHOULDER BAG', \"YOU'RE CONFUSING ME METAL SIGN \", 'COOK WITH WINE METAL SIGN ', 'GIN + TONIC DIET METAL SIGN', 'YELLOW BREAKFAST CUP AND SAUCER', 'PINK BREAKFAST CUP AND SAUCER ', 'PAPER CHAIN KIT RETROSPOT', 'SMALL HEART FLOWERS HOOK ', 'TEA TIME DES TEA COSY', 'FELT EGG COSY WHITE RABBIT ', 'ZINC WILLIE WINKIE  CANDLE STICK', 'CERAMIC CHERRY CAKE MONEY BANK', 'RETROSPOT LARGE MILK JUG', 'SET OF 6 FUNKY BEAKERS', 'EDWARDIAN PARASOL BLACK', 'EDWARDIAN PARASOL NATURAL', 'CERAMIC STRAWBERRY CAKE MONEY BANK', 'BLUE OWL SOFT TOY', 'BALLOON ART MAKE YOUR OWN FLOWERS', 'GLASS CLOCHE SMALL', 'GUMBALL MONOCHROME COAT RACK', 'DOORMAT FANCY FONT HOME SWEET HOME', 'Discount', 'VINTAGE SNAKES & LADDERS', 'CHOCOLATE CALCULATOR', 'RECYCLING BAG RETROSPOT ', 'TOY TIDY PINK POLKADOT', 'ANTIQUE GLASS DRESSING TABLE POT', 'IVORY GIANT GARDEN THERMOMETER', '3 TIER CAKE TIN GREEN AND CREAM', '3 TIER CAKE TIN RED AND CREAM', 'SET 3 WICKER OVAL BASKETS W LIDS', 'SET OF 3 COLOURED  FLYING DUCKS', 'WOOD BLACK BOARD ANT WHITE FINISH', 'COLOUR GLASS T-LIGHT HOLDER HANGING', 'HANGING METAL HEART LANTERN', 'HANGING MEDINA LANTERN SMALL', 'NATURAL SLATE HEART CHALKBOARD ', 'HEART OF WICKER SMALL', 'HEART OF WICKER LARGE', 'WHITE LOVEBIRD LANTERN', 'CLASSIC METAL BIRDCAGE PLANT HOLDER', 'CREAM HEART CARD HOLDER', 'ENAMEL FLOWER JUG CREAM', 'ENAMEL FIRE BUCKET CREAM', 'ENAMEL BREAD BIN CREAM', 'JUMBO BAG DOLLY GIRL DESIGN', 'TRADITIONAL CHRISTMAS RIBBONS', 'ORGANISER WOOD ANTIQUE WHITE ', 'LUNCH BAG DOLLY GIRL DESIGN', 'WHITE WIRE EGG HOLDER', 'JUMBO BAG RED RETROSPOT', 'CHILLI LIGHTS', 'LIGHT GARLAND BUTTERFILES PINK', 'WOODEN OWLS LIGHT GARLAND ', 'FAIRY TALE COTTAGE NIGHTLIGHT', 'HOME SMALL WOOD LETTERS', 'GINGHAM HEART  DOORSTOP RED', 'FIVE HEART HANGING DECORATION', 'ASSORTED BOTTLE TOP  MAGNETS ', 'FRIDGE MAGNETS US DINER ASSORTED', 'HOMEMADE JAM SCENTED CANDLES', 'FRIDGE MAGNETS LES ENFANTS ASSORTED', 'ROSE CARAVAN DOORSTOP', '5 HOOK HANGER MAGIC TOADSTOOL', 'CHRISTMAS LIGHTS 10 REINDEER', 'VINTAGE UNION JACK CUSHION COVER', 'SET OF 3 GOLD FLYING DUCKS', 'RED RETROSPOT UMBRELLA', 'BLACK/BLUE POLKADOT UMBRELLA', 'RED DINER WALL CLOCK', 'BLUE DINER WALL CLOCK', 'IVORY DINER WALL CLOCK', 'LARGE HEART MEASURING SPOONS', 'SMALL HEART MEASURING SPOONS', 'JAM JAR WITH PINK LID', 'JAM JAR WITH GREEN LID', 'ROSE COTTAGE KEEPSAKE BOX ', 'HANGING HEART ZINC T-LIGHT HOLDER', 'PAPER CHAIN KIT VINTAGE CHRISTMAS', 'DISCO BALL CHRISTMAS DECORATION', 'SMALL POPCORN HOLDER', 'LARGE POPCORN HOLDER ', 'SET/20 RED RETROSPOT PAPER NAPKINS ', 'SET/6 RED SPOTTY PAPER CUPS', 'POLKADOT RAIN HAT ', 'DELUXE SEWING KIT ', 'RETROSPOT HEART HOT WATER BOTTLE', 'ENGLISH ROSE HOT WATER BOTTLE', 'PHOTO CUBE', 'PLASTERS IN TIN CIRCUS PARADE ', 'PACK OF 12 PINK PAISLEY TISSUES ', 'PACK OF 12 BLUE PAISLEY TISSUES ', 'PACK OF 12 RED RETROSPOT TISSUES ', 'CHICK GREY HOT WATER BOTTLE', 'PLASTERS IN TIN VINTAGE PAISLEY ', 'PLASTERS IN TIN SKULLS', '3 STRIPEY MICE FELTCRAFT', 'SET OF 6 SOLDIER SKITTLES', 'TRADITIONAL WOODEN SKIPPING ROPE', 'WOODEN BOX OF DOMINOES', 'RUSTIC  SEVENTEEN DRAWER SIDEBOARD', 'PARTY CONES CARNIVAL ASSORTED', 'PARTY CONES CANDY ASSORTED', 'PICNIC BASKET WICKER SMALL', 'STAR DECORATION PAINTED ZINC ', 'RETROSPOT LAMP', 'FANCY FONT BIRTHDAY CARD, ', 'HAND WARMER SCOTTY DOG DESIGN', 'HAND WARMER OWL DESIGN', 'HAND WARMER RED RETROSPOT', 'DOG BOWL CHASING BALL DESIGN', 'CLOTHES PEGS RETROSPOT PACK 24 ', 'HAND OVER THE CHOCOLATE   SIGN ', 'TRAVEL SEWING KIT', 'BLACK HEART CARD HOLDER', 'SMALL GLASS HEART TRINKET POT', 'ALARM CLOCK BAKELIKE IVORY', 'ALARM CLOCK BAKELIKE ORANGE', 'HAND WARMER BIRD DESIGN', 'IVORY EMBROIDERED QUILT ', 'SET OF 3 BLACK FLYING DUCKS', 'RED RETROSPOT MUG', 'BABUSHKA LIGHTS STRING OF 10', 'DOORMAT FAIRY CAKE', 'STRAWBERRY CERAMIC TRINKET BOX', 'PINK DOUGHNUT TRINKET POT ', 'SILK PURSE BABUSHKA PINK', 'HOT WATER BOTTLE I AM SO POORLY', 'CHOCOLATE HOT WATER BOTTLE', 'WHITE SKULL HOT WATER BOTTLE ', 'SCOTTIE DOG HOT WATER BOTTLE', 'BIRD HOUSE HOT WATER BOTTLE', 'BOUDOIR SQUARE TISSUE BOX', 'SKULLS SQUARE TISSUE BOX', 'PHOTO FRAME CORNICE', 'SILK PURSE BABUSHKA RED', 'PICTURE DOMINOES', 'S/6 SEW ON CROCHET FLOWERS', 'SCANDINAVIAN REDS RIBBONS', 'BALLOONS  WRITING SET ', 'LAVENDER INCENSE IN TIN', 'TV DINNER TRAY VINTAGE PAISLEY', 'SET OF 4 ENGLISH ROSE PLACEMATS', 'SET OF 4 ENGLISH ROSE COASTERS', 'TRIPLE PHOTO FRAME CORNICE ', 'FAMILY PHOTO FRAME CORNICE', 'MIRRORED DISCO BALL ', 'DISCO BALL ROTATOR BATTERY OPERATED', 'SILVER LOOKING MIRROR', 'LADIES & GENTLEMEN METAL SIGN', 'METAL SIGN HER DINNER IS SERVED ', 'DOORMAT TOPIARY', 'BATHROOM METAL SIGN', 'KITCHEN METAL SIGN', 'TOILET METAL SIGN', 'METAL SIGN TAKE IT OR LEAVE IT ', \"I'M ON HOLIDAY METAL SIGN\", 'GROW YOUR OWN BASIL IN ENAMEL MUG', 'SET/10 PINK POLKADOT PARTY CANDLES', 'SET 20 NAPKINS FAIRY CAKES DESIGN ', 'SET OF 6 T-LIGHTS SNOWMEN', 'SET OF 6 T-LIGHTS SANTA', 'SET OF 9 HEART SHAPED BALLOONS', 'SANDWICH BATH SPONGE', 'APPLE BATH SPONGE', 'STRAWBERRY BATH SPONGE ', 'BLACK PIRATE TREASURE CHEST', 'STAR PORTABLE TABLE LIGHT ', 'SNOWFLAKE PORTABLE TABLE LIGHT ', 'PINK OVAL JEWELLED MIRROR', 'RETROSPOT CIGAR BOX MATCHES ', 'COSY HOUR GIANT TUBE MATCHES', 'JAZZ HEARTS PURSE NOTEBOOK', 'CANDLEHOLDER PINK HANGING HEART', 'ASSORTED COLOUR MINI CASES', 'LUNCH BAG SPACEBOY DESIGN ', 'LUNCH BAG WOODLAND', 'LUNCH BAG PINK POLKADOT', 'GUMBALL COAT RACK', 'BLUE NEW BAROQUE CANDLESTICK CANDLE', 'PINK NEW BAROQUECANDLESTICK CANDLE', 'FAIRY CAKE FLANNEL ASSORTED COLOUR', 'BREAD BIN DINER STYLE PINK', 'TEA TIME TABLE CLOTH', 'HOT WATER BOTTLE BABUSHKA ', 'HEART IVORY TRELLIS SMALL', 'PINK DRAWER KNOB ACRYLIC EDWARDIAN', 'GREEN DRAWER KNOB ACRYLIC EDWARDIAN', 'BLUE DRAWER KNOB ACRYLIC EDWARDIAN', 'SET 6 FOOTBALL CELEBRATION CANDLES', 'SET OF 6 GIRLS CELEBRATION CANDLES', 'ROMANTIC PINKS RIBBONS ', 'BRIGHT BLUES RIBBONS ', 'CHOCOLATE BOX RIBBONS ', 'PARTY INVITES FOOTBALL', 'PARTY INVITES JAZZ HEARTS', 'PARTY INVITES SPACEMAN', 'SET OF 3 BUTTERFLY COOKIE CUTTERS', 'SET OF 3 HEART COOKIE CUTTERS', '3 PIECE SPACEBOY COOKIE CUTTER SET', 'PACK OF 72 SKULL CAKE CASES', 'PACK OF 60 SPACEBOY CAKE CASES', '72 SWEETHEART FAIRY CAKE CASES', 'LUNCH BAG SUKI  DESIGN ', 'LUNCH BAG CARS BLUE', 'LUNCH BAG  BLACK SKULL.', 'HEART IVORY TRELLIS LARGE', 'SET/5 RED RETROSPOT LID GLASS BOWLS', 'MAGIC DRAWING SLATE DINOSAUR', 'MAGIC DRAWING SLATE BAKE A CAKE ', '12 PENCILS TALL TUBE SKULLS', 'RED  HARMONICA IN BOX ', 'BLUE HARMONICA IN BOX ', 'SKULLS  WATER TRANSFER TATTOOS ', 'PACK 3 BOXES BIRD PANNETONE ', 'SET OF 20 KIDS COOKIE CUTTERS', '10 COLOUR SPACEBOY PEN', 'VICTORIAN GLASS HANGING T-LIGHT', 'SINGLE HEART ZINC T-LIGHT HOLDER', 'HANGING METAL STAR LANTERN', 'SILVER HANGING T-LIGHT HOLDER', 'DOORMAT RED RETROSPOT', 'DOORMAT HEARTS', 'NATURAL SLATE RECTANGLE CHALKBOARD', 'LOVEBIRD HANGING DECORATION WHITE ', 'PENS ASSORTED FUNNY FACE', 'CARD CIRCUS PARADE', 'WRAP COWBOYS  ', 'AIRLINE BAG VINTAGE TOKYO 78', 'SET OF 72 RETROSPOT PAPER  DOILIES', 'SLEEPING CAT ERASERS', 'CARD BIRTHDAY COWBOY', 'PACK 3 BOXES CHRISTMAS PANNETONE', 'ROTATING SILVER ANGELS T-LIGHT HLDR', 'RIBBON REEL MAKING SNOWMEN ', '4 TRADITIONAL SPINNING TOPS', 'BAG 500g SWIRLY MARBLES', '5 STRAND GLASS NECKLACE CRYSTAL', 'SQUARECUSHION COVER PINK UNION FLAG', 'SPACEBOY CHILDRENS EGG CUP', \"CHILDREN'S SPACEBOY MUG\", 'FELTCRAFT CUSHION OWL', 'BLACK CANDELABRA T-LIGHT HOLDER', 'TOY TIDY DOLLY GIRL DESIGN', 'SET 12 LAVENDER  BOTANICAL T-LIGHTS', 'UNION JACK FLAG LUGGAGE TAG', 'RED HEART LUGGAGE TAG', 'RED GLASS TASSLE BAG CHARM', 'CLEAR ACRYLIC FACETED BANGLE', 'DOORMAT UNION JACK GUNS AND ROSES', 'VANILLA SCENT CANDLE JEWELLED BOX', 'FULL ENGLISH BREAKFAST PLATE', 'MAGIC DRAWING SLATE CIRCUS PARADE  ', 'CHRISTMAS HANGING HEART WITH BELL', 'CAKE STAND VICTORIAN FILIGREE MED', 'PAISLEY PATTERN  STICKERS', 'FLOWERS  STICKERS', 'BLACK LOVE BIRD CANDLE', 'PARTY TIME PENCIL ERASERS', \"PINK B'FLY C/COVER W BOBBLES\", 'PINK UNION JACK  LUGGAGE TAG', '6 RIBBONS ELEGANT CHRISTMAS ', 'AGED GLASS SILVER T-LIGHT HOLDER', 'BOOM BOX SPEAKER GIRLS', '6 RIBBONS SHIMMERING PINKS ', 'JUMBO BAG OWLS', 'OWL DOORSTOP', 'PAINTED METAL STAR WITH HOLLY BELLS', 'PAINTED METAL HEART WITH HOLLY BELL', 'ANGEL DECORATION STARS ON DRESS', 'JUMBO BAG STRAWBERRY', 'STRAWBERRY SHOPPER BAG', 'ROUND SNACK BOXES SET OF 4 FRUITS ', 'ROUND SNACK BOXES SET OF 4 SKULLS', 'DOLLY GIRL LUNCH BOX', 'GREEN POLKADOT PLATE ', 'BLUE POLKADOT PLATE ', 'RED RETROSPOT PLATE ', 'PINK  POLKADOT PLATE ', 'FELTCRAFT DOLL MOLLY', 'FELTCRAFT CHRISTMAS FAIRY', 'SET OF 3 NOTEBOOKS IN PARCEL', 'RED RETROSPOT TAPE', 'COSY SLIPPER SHOES SMALL  RED ', '6 RIBBONS RUSTIC CHARM', '12 DAISY PEGS IN WOOD BOX', '5 HOOK HANGER RED MAGIC TOADSTOOL', 'CHRISTMAS CRAFT TREE TOP ANGEL', 'CHRISTMAS CRAFT LITTLE FRIENDS', 'COSY SLIPPER SHOES SMALL GREEN', 'FELTCRAFT DOLL ROSIE', 'FELTCRAFT DOLL EMILY', 'FELTCRAFT PRINCESS OLIVIA DOLL', 'REX CASH+CARRY JUMBO SHOPPER', 'FELTCRAFT CUSHION RABBIT', 'FELTCRAFT CUSHION BUTTERFLY', 'TOTE BAG I LOVE LONDON', 'FOLDING UMBRELLA PINKWHITE POLKADOT', 'FOLDING UMBRELLA CREAM POLKADOT', 'FOLDING UMBRELLA WHITE/RED POLKADOT', 'SET 10 LIGHTS NIGHT OWL', 'FOLDING UMBRELLA RED/WHITE POLKADOT', 'S/4 VALENTINE DECOUPAGE HEART BOX', 'SOLDIERS EGG CUP ', 'RED RETROSPOT MINI CASES', 'Description Not Available', '60 CAKE CASES VINTAGE CHRISTMAS', 'RIBBON REEL CHRISTMAS SOCK BAUBLE', 'RIBBON REEL SNOWY VILLAGE', 'SET OF 20 VINTAGE CHRISTMAS NAPKINS', 'TURQUOISE CHRISTMAS TREE ', 'RED STAR CARD HOLDER', 'WICKER WREATH SMALL', 'ADVENT CALENDAR GINGHAM SACK', 'FELTCRAFT BUTTERFLY HEARTS', 'PARTY CONE CHRISTMAS DECORATION ', 'WICKER STAR ', 'VINTAGE SNAP CARDS', 'FELTCRAFT 6 FLOWER FRIENDS', 'BIRD DECORATION RED RETROSPOT', 'CHRISTMAS GINGHAM TREE', 'CHRISTMAS GINGHAM STAR', 'CHRISTMAS GINGHAM HEART', 'PACK OF 12 PINK POLKADOT TISSUES', 'FELTCRAFT PRINCESS LOLA DOLL', 'PACK OF 12 LONDON TISSUES ', 'PURPLE DRAWERKNOB ACRYLIC EDWARDIAN', \"CHILDREN'S APRON DOLLY GIRL \", 'CHILDRENS APRON SPACEBOY DESIGN', 'CHRISTMAS LIGHTS 10 SANTAS ', 'PACK OF 60 MUSHROOM CAKE CASES', '60 CAKE CASES DOLLY GIRL DESIGN', 'HAND WARMER BABUSHKA DESIGN', 'SET 12 RETRO WHITE CHALK STICKS', 'FELTCRAFT HAIRBAND RED AND BLUE', 'FELTCRAFT HAIRBAND PINK AND PURPLE', 'FELTCRAFT HAIRBANDS PINK AND WHITE ', 'TV DINNER TRAY DOLLY GIRL', 'PLASTERS IN TIN SPACEBOY', 'PLASTERS IN TIN WOODLAND ANIMALS', 'MAGIC DRAWING SLATE SPACEBOY ', 'MAGIC DRAWING SLATE GO TO THE FAIR ', 'MAGIC DRAWING SLATE DOLLY GIRL ', 'CHARLIE + LOLA RED HOT WATER BOTTLE', 'URBAN BLACK RIBBONS ', 'SET OF 6 T-LIGHTS TOADSTOOLS', 'ROTATING LEAVES T-LIGHT HOLDER', 'CUPCAKE LACE PAPER SET 6', 'TRADITIONAL WOODEN CATCH CUP GAME ', 'S/6 WOODEN SKITTLES IN COTTON BAG', 'RED METAL BEACH SPADE ', 'BOYS VINTAGE TIN SEASIDE BUCKET', 'GIRLS VINTAGE TIN SEASIDE BUCKET', 'GREY HEART HOT WATER BOTTLE', 'KINGS CHOICE TEA CADDY ', 'KINGS CHOICE BISCUIT TIN', 'METAL SIGN EMPIRE TEA', 'FAWN BLUE HOT WATER BOTTLE', 'PACK OF 6 BIRDY GIFT TAGS', 'CERAMIC STRAWBERRY MONEY BOX', 'CERAMIC HEART FAIRY CAKE MONEY BANK', 'CERAMIC PIRATE CHEST MONEY BANK', 'DOORSTOP RETROSPOT HEART', 'RETROSPOT BABUSHKA DOORSTOP', 'SWEETHEART WIRE WALL TIDY', 'RED RETROSPOT OVEN GLOVE ', 'NAMASTE SWAGAT INCENSE', 'CERAMIC STRAWBERRY DESIGN MUG', 'CLASSICAL ROSE SMALL VASE', 'HYACINTH BULB T-LIGHT CANDLES', 'CHRISTMAS CRAFT WHITE FAIRY ', 'COSY HOUR CIGAR BOX MATCHES ', 'RED TEA TOWEL CLASSIC DESIGN', 'HEART FILIGREE DOVE  SMALL', 'RETROSPOT CHILDRENS APRON', 'COLOURING PENCILS BROWN TUBE', '4 IVORY DINNER CANDLES SILVER FLOCK', 'ZINC METAL HEART DECORATION', 'GREEN FERN NOTEBOOK', 'BLUE PAISLEY NOTEBOOK', 'CHRYSANTHEMUM NOTEBOOK', 'LARGE CHINESE STYLE SCISSOR', 'SMALL CHINESE STYLE SCISSOR', 'HANGING GLASS ETCHED TEALIGHT', 'COOKING SET RETROSPOT', 'KINGS CHOICE GIANT TUBE MATCHES', 'PLACE SETTING WHITE STAR', 'S/15 SILVER GLASS BAUBLES IN BAG', 'FRENCH WC SIGN BLUE METAL', 'FAIRY SOAP SOAP HOLDER', 'GREEN GIANT GARDEN THERMOMETER', 'BLUE GIANT GARDEN THERMOMETER', 'VICTORIAN SEWING BOX SMALL ', 'VICTORIAN SEWING BOX MEDIUM', 'SET/10 RED POLKADOT PARTY CANDLES', 'WASHROOM METAL SIGN', 'BLACK SWEETHEART BRACELET', 'DIAMANTE HAIR GRIP PACK/2 BLACK DIA', 'BLACK DIAMANTE EXPANDABLE RING', 'DIAMANTE HAIR GRIP PACK/2 RUBY', 'DIAMANTE HAIR GRIP PACK/2 MONTANA', 'BLUE SWEETHEART BRACELET', 'PINK SWEETHEART BRACELET', 'PURPLE SWEETHEART BRACELET', 'RIBBON REEL CHRISTMAS PRESENT ', 'FIRST AID TIN', 'MAKE YOUR OWN MONSOON CARD KIT', 'PACK OF 12 HEARTS DESIGN TISSUES ', 'HEART FILIGREE DOVE LARGE', 'SWIRLY CIRCULAR RUBBERS IN BAG', 'VINTAGE PAISLEY STATIONERY SET', 'SET/10 BLUE POLKADOT PARTY CANDLES', 'RIBBON REEL SOCKS AND MITTENS', 'CHRISTMAS METAL TAGS ASSORTED ', 'CHRISTMAS TREE T-LIGHT HOLDER', 'STAR  T-LIGHT HOLDER ', 'HEART T-LIGHT HOLDER ', 'MINI FUNKY DESIGN TAPES', 'STAR WOODEN CHRISTMAS DECORATION', 'WOODEN HEART CHRISTMAS SCANDINAVIAN', 'CHRISTMAS RETROSPOT TREE WOOD', 'SET/9 CHRISTMAS T-LIGHTS SCENTED ', 'BLUE ROSE FABRIC MIRROR', 'THREE CANVAS LUGGAGE TAGS', 'RETROSPOT PARTY BAG + STICKER SET', 'RETROSPOT SMALL TUBE MATCHES', '3D CHRISTMAS STAMPS STICKERS ', '36 FOIL HEART CAKE CASES', 'PACK OF 6 SWEETIE GIFT BOXES', 'CINAMMON SET OF 9 T-LIGHTS', 'ORANGE SCENTED SET/9 T-LIGHTS', 'RIBBON REEL STRIPES DESIGN ', 'SET OF 2 TINS JARDIN DE PROVENCE', 'MAKE YOUR OWN PLAYTIME CARD KIT', 'DINOSAURS  WRITING SET ', 'SKULLS WRITING SET ', 'DOORMAT BLACK FLOCK ', 'CHRISTMAS DECOUPAGE CANDLE', 'OFFICE MUG WARMER POLKADOT', 'BLACK RECORD COVER FRAME', 'RECORD FRAME 7\" SINGLE SIZE ', '36 PENCILS TUBE RED RETROSPOT', '36 PENCILS TUBE WOODLAND', 'ROCKING HORSE RED CHRISTMAS ', 'REGENCY CAKESTAND 3 TIER', 'VINTAGE UNION JACK BUNTING', 'RETRO LONGBOARD IRONING BOARD COVER', '3D DOG PICTURE PLAYING CARDS', 'SAVE THE PLANET COTTON TOTE BAG', 'PAPER BUNTING WHITE LACE', 'GENTLEMAN SHIRT REPAIR KIT ', 'CARD I LOVE LONDON ', 'MIRRORED WALL ART FOXY', 'MIRRORED WALL ART GENTS', 'AIRLINE BAG VINTAGE JET SET WHITE', \"POTTING SHED SOW 'N' GROW SET\", 'AIRLINE BAG VINTAGE WORLD CHAMPION ', 'PINK HEARTS PAPER GARLAND', 'POTTING SHED SEED ENVELOPES', 'HI TEC ALPINE HAND WARMER', 'POLYESTER FILLER PAD 45x45cm', 'CARD DOLLY GIRL ', 'CARD BILLBOARD FONT', 'RAINY LADIES BIRTHDAY CARD', 'RED WHITE SCARF  HOT WATER BOTTLE', 'SET OF 2 TEA TOWELS APPLE AND PEARS', 'LANTERN CREAM GAZEBO ', 'BLUE BIRDHOUSE DECORATION', 'ANTIQUE SILVER TEA GLASS ENGRAVED', 'SET OF 2 WOODEN MARKET CRATES', 'CLASSIC FRENCH STYLE BASKET NATURAL', 'CRAZY DAISY HEART DECORATION', 'CARD HOLDER GINGHAM HEART', 'SMALL STRIPES CHOCOLATE GIFT BAG ', 'TRAY, BREAKFAST IN BED', 'PIZZA PLATE IN BOX', 'PINK HEART DOTS HOT WATER BOTTLE', 'PLACE SETTING WHITE HEART', 'SET OF 4 NAPKIN CHARMS LEAVES   ', 'SET OF 4 NAPKIN CHARMS STARS   ', 'SET OF 4 NAPKIN CHARMS CUTLERY', 'CARAVAN SQUARE TISSUE BOX', 'BUTTON BOX ', '12 MESSAGE CARDS WITH ENVELOPES', 'SMALL RED BABUSHKA NOTEBOOK ', 'HERB MARKER MINT', 'HERB MARKER ROSEMARY', 'HERB MARKER BASIL', 'HERB MARKER CHIVES ', 'HERB MARKER PARSLEY', 'HERB MARKER THYME', 'METAL MERRY CHRISTMAS WREATH', 'WHITE CHRISTMAS GARLAND STARS TREES', 'RETROSPOT GIANT TUBE MATCHES', '36 FOIL STAR CAKE CASES ', 'PACK OF 6 HANDBAG GIFT BOXES', 'GARLAND WOODEN HAPPY EASTER', 'CALENDAR PAPER CUT DESIGN', 'CALENDAR IN SEASON DESIGN', 'BLUE PAISLEY TISSUE BOX', 'PINK PAISLEY SQUARE TISSUE BOX ', 'TOAST ITS - HAPPY BIRTHDAY', 'SET/10 IVORY POLKADOT PARTY CANDLES', 'SKULLS STORAGE BOX SMALL', 'JUMBO STORAGE BAG SKULLS', 'GARDEN PATH JOURNAL', 'BLACK ORANGE SQUEEZER', 'SET OF 72 GREEN PAPER DOILIES', 'RETROSPOT RED WASHING UP GLOVES', 'SMALL LICORICE DES PINK BOWL', 'SWISS ROLL TOWEL, CHOCOLATE  SPOTS', 'PICNIC BASKET WICKER LARGE', 'CREAM SWEETHEART EGG HOLDER', 'PINK 3 PIECE POLKADOT CUTLERY SET', 'PINK PARTY BAGS', 'BLUE PARTY BAGS ', 'PINK CREAM FELT CRAFT TRINKET BOX ', 'RED RETROSPOT OVEN GLOVE DOUBLE', 'RIDGED GLASS STORAGE JAR CREAM LID', 'PACK OF 20 NAPKINS PANTRY DESIGN', 'SWEETHEART CAKESTAND 3 TIER', 'CHRISTMAS HANGING STAR WITH BELL', 'MULTICOLOUR  CONFETTI IN TUBE', 'CHOCOLATE 3 WICK MORRIS BOX CANDLE', 'SET OF 16 VINTAGE PISTACHIO CUTLERY', 'CHRISTMAS TOILET ROLL', 'WHITE BELL HONEYCOMB PAPER ', ' 4 PURPLE FLOCK DINNER CANDLES', 'PINK & WHITE BREAKFAST TRAY', 'ENGLISH ROSE SPIRIT LEVEL ', 'LARGE ROUND WICKER PLATTER ', 'BLACK TEA TOWEL CLASSIC DESIGN', 'CHRISTMAS LIGHTS 10 VINTAGE BAUBLES', 'ROSES REGENCY TEACUP AND SAUCER ', 'T-LIGHT HOLDER HANGING LACE', 'HANGING HEART MIRROR DECORATION ', 'CREAM SLICE FLANNEL CHOCOLATE SPOT ', 'CREAM SLICE FLANNEL PINK SPOT ', 'GREEN REGENCY TEACUP AND SAUCER', 'EIGHT PIECE DINOSAUR SET', 'HEADS AND TAILS SPORTING FUN', \"ASS COL SMALL SAND GECKO P'WEIGHT\", 'ENAMEL MEASURING JUG CREAM', '12 PENCILS SMALL TUBE SKULL', '12 PENCIL SMALL TUBE WOODLAND', 'BLUE PAPER PARASOL ', 'VICTORIAN  METAL POSTCARD SPRING', 'METAL 4 HOOK HANGER FRENCH CHATEAU', 'BLACK KITCHEN SCALES', 'RED KITCHEN SCALES', 'IVORY KITCHEN SCALES', 'MULTI COLOUR SILVER T-LIGHT HOLDER', '3 HOOK HANGER MAGIC GARDEN', 'ASSORTED COLOUR LIZARD SUCTION HOOK', 'JUMBO BAG WOODLAND ANIMALS', \"CHILDREN'S CIRCUS PARADE MUG\", 'PACK 3 FIRE ENGINE/CAR PATCHES', 'CARD PSYCHEDELIC APPLES', 'IVORY ENCHANTED FOREST PLACEMAT', 'PACK OF 6 PANNETONE GIFT BOXES', 'MEASURING TAPE BABUSHKA RED', 'RED ENCHANTED FOREST PLACEMAT', 'CHILDRENS DOLLY GIRL MUG', 'TOADSTOOL MONEY BOX', 'MAKE YOUR OWN FLOWERPOWER CARD KIT', 'PAPER CHAIN KIT LONDON', 'MEASURING TAPE BABUSHKA BLUE', 'PENCIL CASE LIFE IS BEAUTIFUL', 'WOODEN ROUNDERS GARDEN SET ', 'CHILDS BREAKFAST SET DOLLY GIRL ', 'CHILDS BREAKFAST SET SPACEBOY ', 'CAKE PLATE LOVEBIRD WHITE', 'WOODEN ADVENT CALENDAR RED', 'GREEN CHRISTMAS TREE CARD HOLDER', 'STRING OF STARS CARD HOLDER', 'SET/12 TAPER CANDLES', 'MINT KITCHEN SCALES', 'WHITE WOOD GARDEN PLANT LADDER', 'GLASS JAR ENGLISH CONFECTIONERY', 'GLASS JAR DIGESTIVE BISCUITS', 'MILK BOTTLE WITH GLASS STOPPER ', 'WELCOME  WOODEN BLOCK LETTERS', 'SET/4 MODERN VINTAGE COTTON NAPKINS', 'VINTAGE UNION JACK APRON', 'SWALLOW SQUARE TISSUE BOX', 'NO JUNK MAIL METAL SIGN', 'SLATE TILE NATURAL HANGING', 'VINTAGE GLASS COFFEE CADDY', 'SILVER GLASS T-LIGHT SET', 'RIDGED GLASS FINGER BOWL', 'GLASS  BEURRE DISH', 'GIN & TONIC DIET GREETING CARD ', 'BIRTHDAY CARD, RETRO SPOT', 'WRAP RED APPLES ', 'RED RETROSPOT WRAP ', 'WRAP CHRISTMAS SCREEN PRINT', 'FANCY FONTS BIRTHDAY WRAP', 'CLASSIC WHITE FRAME', 'BLACK DINER WALL CLOCK', 'DOORMAT PEACE ON EARTH BLUE', 'BOX OF 24 COCKTAIL PARASOLS', 'GROW YOUR OWN PLANT IN A CAN ', 'PLASTERS IN TIN STRONGMAN', 'MINI JIGSAW DINOSAUR ', 'MINI JIGSAW BAKE A CAKE ', 'MINI JIGSAW DOLLY GIRL', 'WOODEN SCHOOL COLOURING SET', 'PACK OF 12 TRADITIONAL CRAYONS', 'CARD PARTY GAMES ', 'BOOZE & WOMEN GREETING CARD ', 'PACK OF 12 SUKI TISSUES ', 'PACK OF 12 WOODLAND TISSUES ', 'PACK OF 12 SKULL TISSUES', 'PACK OF 12 CIRCUS PARADE TISSUES ', 'PACK OF 12 SPACEBOY TISSUES', 'LADS ONLY TISSUE BOX', 'RED RETROSPOT TISSUE BOX', 'GINGERBREAD MAN COOKIE CUTTER', 'GIN AND TONIC MUG', \"IF YOU CAN'T STAND THE HEAT MUG\", 'I CAN ONLY PLEASE ONE PERSON MUG', 'PINK HEART SHAPE EGG FRYING PAN', '200 RED + WHITE BENDY STRAWS', 'RECIPE BOX RETROSPOT ', 'RECIPE BOX PANTRY YELLOW DESIGN', 'RECIPE BOX BLUE SKETCHBOOK DESIGN', '20 DOLLY PEGS RETROSPOT', 'NO SINGING METAL SIGN', 'BISCUIT TIN VINTAGE RED', 'EMERGENCY FIRST AID TIN ', 'POLKADOT PEN', 'DECORATIVE PLANT POT WITH FRIEZE', 'FRENCH BLUE METAL DOOR SIGN 5', 'CHEST OF DRAWERS GINGHAM HEART ', 'RED RETROSPOT CAKE STAND', 'JOY WOODEN BLOCK LETTERS', 'NOEL WOODEN BLOCK LETTERS ', 'PEACE WOODEN BLOCK LETTERS', 'OFFICE MUG WARMER BLACK+SILVER ', 'SET OF 2 CHRISTMAS DECOUPAGE CANDLE', 'COSMETIC BAG VINTAGE ROSE PAISLEY', 'PINK ROSE FABRIC MIRROR', 'SILVER PLATE CANDLE BOWL SMALL', 'SMALL REGAL  SILVER CANDLEPOT ', 'ANTIQUE TALL SWIRLGLASS TRINKET POT', 'ANTIQUE GLASS PEDESTAL BOWL', 'GUMBALL MAGAZINE RACK', 'RED FLOWER CROCHET FOOD COVER', 'CHERRY CROCHET FOOD COVER', 'STRAWBERRY RAFFIA FOOD COVER', 'POLKA DOT RAFFIA FOOD COVER', 'DOORMAT SPOTTY HOME SWEET HOME', 'T-LIGHT GLASS FLUTED ANTIQUE', 'SILVER  CANDLEPOT JARDIN ', 'POLKADOT MUG PINK ', 'PAPER BUNTING COLOURED LACE', 'ANTIQUE GLASS HEART DECORATION ', 'SET OF 6 KASHMIR FOLKART BAUBLES', 'CHRISTMAS RETROSPOT ANGEL WOOD', 'CHRISTMAS RETROSPOT STAR WOOD', 'HEART WOODEN CHRISTMAS DECORATION', 'LARGE HANGING IVORY & RED WOOD BIRD', 'SMALL HANGING IVORY/RED WOOD BIRD', 'GRAND CHOCOLATECANDLE', 'FAIRY CAKE BIRTHDAY CANDLE SET', '3 HOOK PHOTO SHELF ANTIQUE WHITE', 'CREAM SWEETHEART WALL CABINET', 'DOORMAT ENGLISH ROSE ', 'DOORMAT UNION FLAG', 'ROMANTIC IMAGES NOTEBOOK SET', 'CURIOUS  IMAGES NOTEBOOK SET', 'VINTAGE KEEPSAKE BOX PARIS DAYS', 'RED GINGHAM ROSE JEWELLERY BOX', 'BLUE CHARLIE+LOLA PERSONAL DOORSIGN', 'CHARLIE+LOLA\"EXTREMELY BUSY\" SIGN', 'CHARLOTTE BAG SUKI DESIGN', 'LOLITA  DESIGN  COTTON TOTE BAG', 'LETS GO SHOPPING COTTON TOTE BAG', 'PAINT YOUR OWN CANVAS SET', 'CAMOUFLAGE LED TORCH', 'BLUE DRAGONFLY HELICOPTER', 'YELLOW SHARK HELICOPTER', 'RED SHARK HELICOPTER', 'TOOL BOX SOFT TOY ', \"DOCTOR'S BAG SOFT TOY\", 'CARRIAGE', 'JUMBO BAG SCANDINAVIAN PAISLEY', 'JUMBO BAG TOYS ', 'DECORATIVE ROSE BATHROOM BOTTLE', 'DECORATIVE CATS BATHROOM BOTTLE', 'RAIN PONCHO RETROSPOT', 'CHRISTMAS TREE DECORATION WITH BELL', 'CHRISTMAS TREE HEART DECORATION', 'CHRISTMAS TREE STAR DECORATION', 'CHRISTMAS HANGING TREE WITH BELL', 'GLITTER STAR GARLAND WITH BELLS ', 'GLITTER CHRISTMAS TREE WITH BELLS', 'LILAC DIAMANTE PEN IN GIFT BOX', 'HEARTS GIFT TAPE', 'CAKES AND BOWS GIFT  TAPE', 'BINGO SET', 'GARDEN METAL SIGN ', 'UNION STRIPE WITH FRINGE  HAMMOCK', 'SUKI  SHOULDER BAG', 'SKULLS DESIGN FLANNEL', 'KITTENS DESIGN FLANNEL', 'SET OF 6 STRAWBERRY CHOPSTICKS', 'MODERN FLORAL STATIONERY SET', 'BOHEMIAN COLLAGE STATIONERY SET', 'FLORAL FOLK STATIONERY SET', 'ROBOT BIRTHDAY CARD', 'CHRISTMAS CARD SCREEN PRINT ', 'CHRISTMAS PUDDING TRINKET POT ', 'CHOC TRUFFLE GOLD TRINKET POT ', 'BROWN  PIRATE TREASURE CHEST ', 'SMALL WHITE RETROSPOT MUG IN BOX ', '6 RIBBONS EMPIRE  ', 'RIBBON REEL POLKADOTS ', 'RIBBON REEL FLORA + FAUNA ', 'PAPER BUNTING RETROSPOT', 'LADLE LOVE HEART RED ', 'LADLE LOVE HEART PINK', 'ANGEL DECORATION 3 BUTTONS ', 'STAR DECORATION RUSTIC', 'HEART DECORATION WITH PEARLS ', 'HEART DECORATION RUSTIC HANGING ', 'HEART GARLAND RUSTIC PADDED', 'FAMILY ALBUM WHITE PICTURE FRAME', 'CAKE STAND VICTORIAN FILIGREE SMALL', 'LOCAL CAFE MUG', 'MILK PAN RED RETROSPOT', 'FRYING PAN UNION FLAG', 'EASTER DECORATION NATURAL CHICK', 'WASH BAG VINTAGE ROSE PAISLEY', 'PIG KEYRING WITH LIGHT & SOUND ', 'COFFEE MUG DOG + BALL DESIGN', 'COFFEE MUG CAT + BIRD DESIGN', 'TEA COSY RED  STRIPE', 'OFFICE MUG WARMER CHOC+BLUE', 'HEART DECORATION PAINTED ZINC ', 'DOVE DECORATION PAINTED ZINC ', 'PARTY PIZZA DISH BLUE POLKADOT', 'TEA BAG PLATE RED RETROSPOT', 'CHARLOTTE BAG PINK POLKADOT', 'GLASS JAR KINGS CHOICE', 'GLASS JAR DAISY FRESH COTTON WOOL', 'AIRLINE BAG VINTAGE JET SET BROWN', 'WALL TIDY RETROSPOT ', 'TOY TIDY SPACEBOY  ', 'PAPERWEIGHT KINGS CHOICE ', 'MAGNETS PACK OF 4 RETRO PHOTO', 'LIPSTICK PEN RED', 'TOOTHPASTE TUBE PEN', 'ENAMEL WATERING CAN CREAM', 'WATERING CAN PINK BUNNY', 'SET OF 9 BLACK SKULL BALLOONS', 'TV DINNER TRAY AIR HOSTESS ', 'EMPIRE UNION JACK TV DINNER TRAY', 'WATERING CAN GARDEN MARKER', 'BIRDHOUSE GARDEN MARKER ', 'DAISY GARDEN MARKER', 'SET OF 2 TINS VINTAGE BATHROOM ', 'CHILDS GARDEN SPADE PINK', 'CHILDS GARDEN RAKE PINK', 'CHILDS GARDEN BRUSH PINK', 'MINI JIGSAW BUNNIES', 'HOLIDAY FUN LUDO', 'TRADITIONAL MODELLING CLAY', 'CARDHOLDER GINGHAM STAR', 'WOODEN CROQUET GARDEN SET', 'SET OF 4 NAPKIN CHARMS HEARTS', 'RED BABY BUNTING ', 'FRENCH KITCHEN SIGN BLUE METAL', 'SET OF 6 RIBBONS VINTAGE CHRISTMAS', 'FUNKY DIVA PEN', 'SMALL PURPLE BABUSHKA NOTEBOOK ', 'LARGE RED BABUSHKA NOTEBOOK ', 'LARGE PURPLE BABUSHKA NOTEBOOK  ', 'CHALKBOARD KITCHEN ORGANISER', 'FLUTED ANTIQUE CANDLE HOLDER', 'CARD MOTORBIKE SANTA', 'CARD CHRISTMAS VILLAGE', 'CREAM WALL PLANTER HEART SHAPED', 'VINTAGE CREAM DOG FOOD CONTAINER', 'BREAD BIN DINER STYLE IVORY', 'LOVE HEART NAPKIN BOX ', 'NUMBER TILE COTTAGE GARDEN 8', 'YELLOW GIANT GARDEN THERMOMETER', 'METAL DECORATION NAUGHTY CHILDREN ', '36 DOILIES DOLLY GIRL', 'CIRCUS PARADE CHILDRENS EGG CUP ', 'BLUE VICTORIAN FABRIC OVAL BOX', 'RED VICTORIAN FABRIC OVAL BOX', 'SET OF 3 BIRD LIGHT PINK FEATHER ', 'PINK/WHITE CHRISTMAS TREE 60CM', 'PINK AND WHITE CHRISTMAS TREE 120CM', 'PINK CHRISTMAS FLOCK DROPLET ', 'ACRYLIC JEWEL ICICLE, PINK', 'SMALLFOLKART BAUBLE CHRISTMAS DEC', 'FOLKART ZINC HEART CHRISTMAS DEC', 'ROSE FOLKART HEART DECORATIONS', 'CERAMIC CAKE STAND + HANGING CAKES', 'CONDIMENT TRAY 4 BOWLS AND 4 SPOONS', 'TEA TIME OVEN GLOVE', 'SCOTTIES CHILDRENS APRON', 'PINK FAIRY CAKE CHILDRENS APRON', 'SCOTTIE DOGS BABY BIB', 'DOORMAT WELCOME PUPPIES', 'HANGING JAM JAR T-LIGHT HOLDER', 'SET OF 6 HALLOWEEN GHOST T-LIGHTS', 'IVORY PILLAR CANDLE SILVER FLOCK', 'IVORY PILLAR CANDLE GOLD FLOCK', 'SET/3 ROSE CANDLE IN JEWELLED BOX', 'SET/3 OCEAN SCENT CANDLE JEWEL BOX', 'SET/3 VANILLA SCENTED CANDLE IN BOX', 'SET/3 CHRISTMAS DECOUPAGE CANDLES', 'TUMBLER, BAROQUE', 'TUMBLER, NEW ENGLAND', 'LAUNDRY 15C METAL SIGN', 'HOT BATHS METAL SIGN', 'METAL SIGN,CUPCAKE SINGLE HOOK', 'METAL SIGN CUPCAKE SINGLE HOOK', 'CHARLIE+LOLA RED HOT WATER BOTTLE ', 'CHARLIE LOLA BLUE HOT WATER BOTTLE ', 'CHARLIE+LOLA PINK HOT WATER BOTTLE', 'PINK/PURPLE RETRO RADIO', 'CHERRY BLOSSOM  DECORATIVE FLASK', 'SET OF 12  VINTAGE POSTCARD SET', 'SET OF 6 VINTAGE NOTELETS KIT', 'ENVELOPE 50 ROMANTIC IMAGES', 'ENVELOPE 50 BLOSSOM IMAGES', 'YULETIDE IMAGES GIFT WRAP SET', 'SET/4 RED MINI ROSE CANDLE IN BOWL', '15CM CHRISTMAS GLASS BALL 20 LIGHTS', 'CREAM SWEETHEART LETTER RACK', 'SMALL SQUARE CUT GLASS CANDLESTICK', 'BEADED CRYSTAL HEART PINK SMALL', 'BEADED CRYSTAL HEART GREEN ON STICK', 'CHARLIE + LOLA BISCUITS TINS', 'RED DRAGONFLY HELICOPTER', 'SEWING SUSAN 21 NEEDLE SET', 'BASKET OF FLOWERS SEWING KIT', 'VICTORIAN SEWING KIT', 'EASTER BUNNY GARLAND OF FLOWERS', 'SET OF 3 BABUSHKA STACKING TINS', 'MIDNIGHT BLUE PAIR HEART HAIR SLIDE', 'SILVER M.O.P ORBIT DROP EARRINGS', 'EDWARDIAN DROP EARRINGS JET BLACK', 'RUBY GLASS CLUSTER EARRINGS', 'NECKLACE+BRACELET SET BLUE HIBISCUS', 'FRUIT SALAD BAG CHARM', 'GREEN MURANO TWIST BRACELET', 'PINK GLASS TASSLE BAG CHARM ', 'TURQUOISE GLASS TASSLE BAG CHARM ', 'ANT COPPER RED BOUDICCA BRACELET', 'SILVER/AMETHYST DROP EARRINGS LEAF', 'SILVER LARIAT BLACK STONE EARRINGS', 'GREEN ENAMEL+GLASS HAIR COMB', 'LETTER \"D\" BLING KEY RING', 'LETTER \"G\" BLING KEY RING', 'LETTER \"H\" BLING KEY RING', 'LETTER \"J\" BLING KEY RING', 'LETTER \"R\" BLING KEY RING', 'DOTCOM POSTAGE', 'FAIRY CAKE NOTEBOOK A5 SIZE', 'FAIRY CAKES NOTEBOOK A6 SIZE', 'ENGLISH ROSE NOTEBOOK A7 SIZE', 'FAIRY CAKES NOTEBOOK A7 SIZE', 'MOUSE TOY WITH PINK T-SHIRT', 'DOG TOY WITH PINK CROCHET SKIRT', 'BOYS ALPHABET IRON ON PATCHES', 'GREEN ROSE WASHBAG', 'SOFT PINK ROSE TOWEL ', 'MINT GREEN ROSE TOWEL', 'PINK BUTTERFLY HANDBAG W BOBBLES', 'ANTIQUE SILVER TEA GLASS ETCHED', 'SET OF 72 PINK HEART PAPER DOILIES', 'DENIM PATCH PURSE PINK BUTTERFLY', 'BLUE PATCH PURSE PINK HEART', 'RED SPOTTY BISCUIT TIN', 'VINTAGE CREAM CAT FOOD CONTAINER', 'ASSTD DESIGN RACING CAR PEN', 'KITTY PENCIL ERASERS', 'BROCADE RING PURSE ', 'ORIGAMI SANDLEWOOD INCENSE+FLOWER', 'ORIGAMI VANILLA INCENSE/CANDLE SET ', 'ORIGAMI JASMINE INCENSE/CANDLE SET', 'ORIGAMI LAVENDER INCENSE/CANDL SET ', 'ORIGAMI ROSE INCENSE/CANDLE SET ', 'ORIGAMI OPIUM INCENSE/CANDLE SET ', 'ORIGAMI SANDLEWOOD INCENSE/CAND SET', 'BLUE GLASS GEMS IN BAG', 'PORCELAIN BUTTERFLY OIL BURNER', 'VIPPASSPORT COVER ', 'RED RETROSPOT LUGGAGE TAG', 'FIRST CLASS HOLIDAY PURSE ', 'RED RETROSPOT BOWL', 'STRAWBERRY DREAM CHILDS UMBRELLA', 'WOODLAND CHARLOTTE BAG', 'RED RETROSPOT CHARLOTTE BAG', 'GOLD MINI TAPE MEASURE ', 'BLACK MINI TAPE MEASURE ', 'ABSTRACT CIRCLE JOURNAL ', 'FRENCH LATTICE CUSHION COVER ', 'FRENCH PAISLEY CUSHION COVER ', 'FRENCH FLORAL CUSHION COVER ', 'PORCELAIN T-LIGHT HOLDERS ASSORTED', 'RED FLORAL FELTCRAFT SHOULDER BAG', 'PINK BLUE FELT CRAFT TRINKET BOX', '12 PENCILS SMALL TUBE RED RETROSPOT', '12 PENCILS TALL TUBE WOODLAND', 'JAZZ HEARTS ADDRESS BOOK', 'ROSE DU SUD COSMETICS BAG', 'ANTIQUE ALL GLASS CANDLESTICK', 'VINTAGE BILLBOARD TEA MUG', 'VINTAGE BILLBOARD MUG ', 'JINGLE BELLS TREE DECORATION', 'MOODY GIRL DOOR HANGER ', 'BEWARE OF THE CAT METAL SIGN ', 'POTTERING IN THE SHED METAL SIGN', 'WHITE HONEYCOMB PAPER GARLAND ', 'LARGE WHITE HONEYCOMB PAPER BELL  ', 'PINK  HONEYCOMB PAPER BALL ', 'SKULL AND CROSSBONES  GARLAND ', 'SET 3 RETROSPOT TEA,COFFEE,SUGAR', 'RED RETROSPOT ROUND CAKE TINS', 'SWEETHEART CERAMIC TRINKET BOX', 'RED RETROSPOT CUP', 'WOODLAND  HEIGHT CHART STICKERS ', 'WHITE GOOSE FEATHER CHRISTMAS TREE ', 'GLASS HEART T-LIGHT HOLDER ', 'IVY HEART WREATH', 'EUCALYPTUS & PINECONE  WREATH', 'TOAST ITS - BEST MUM', 'MIRRORED WALL ART STARS', 'MIRRORED WALL ART PHOTO FRAMES', 'MIRRORED WALL ART SPLODGES', 'MIRRORED WALL ART TABLE LAMP', 'IVORY HANGING DECORATION  HEART', 'BROWN CHECK CAT DOORSTOP ', 'SPOTTY PINK DUCK DOORSTOP', 'ELEPHANT, BIRTHDAY CARD, ', 'RED HEART SHAPE LOVE BUCKET ', 'PINK  HEART SHAPE LOVE BUCKET ', 'ASSORTED MINI MADRAS NOTEBOOK', 'ASSORTED TUTTI FRUTTI KEYRING BALL', 'SKULLS  STICKERS', 'BAG 125g SWIRLY MARBLES', 'BAG 250g SWIRLY MARBLES', 'CANDY SHOP  STICKER SHEET', 'SWEET PUDDING STICKER SHEET', 'VINTAGE SHELLS PRINT', 'SET OF SALT AND PEPPER TOADSTOOLS', 'HOOK, 1 HANGER ,MAGIC GARDEN', 'PORCELAIN HANGING BELL SMALL', 'PAINTED LIGHTBULB STAR+ MOON', 'BLUE TEA TOWEL CLASSIC DESIGN', 'SET 12 KIDS  WHITE CHALK STICKS', 'LITTLE GREEN MONSTER SOFT TOY', 'CHRISTMAS MUSICAL ZINC STAR', 'CHRISTMAS MUSICAL ZINC HEART ', 'SKULLS AND CROSSBONES WRAP', 'POLYESTER FILLER PAD 45x30cm', 'POLYESTER FILLER PAD 40x40cm', 'PINK FLOWER FABRIC PONY', 'BIRTHDAY PARTY CORDON BARRIER TAPE', 'CAMOUFLAGE DESIGN TEDDY', 'BLUE SPOT CERAMIC DRAWER KNOB', 'CUSHION COVER PINK UNION JACK', 'FOUR HOOK  WHITE LOVEBIRDS', 'FRENCH BLUE METAL DOOR SIGN 3', 'FRENCH BLUE METAL DOOR SIGN No', 'BEACH HUT KEY CABINET', 'CHERRY BLOSSOM PASSPORT COVER', 'SMALL YELLOW BABUSHKA NOTEBOOK ', 'RETRO MOD TRAY', 'SWEETHEART WIRE MAGAZINE RACK', 'CARDHOLDER HOLLY WREATH METAL', 'SILVER CHRISTMAS TREE BAUBLE STAND ', 'SWEETHEART RECIPE BOOK STAND', 'OVERNIGHT BAG VINTAGE ROSE PAISLEY', 'FAUX FUR CHOCOLATE THROW', 'ANT WHITE WIRE HEART SPIRAL', 'FEATHER PEN,COAL BLACK', 'FEATHER PEN,LIGHT PINK', 'FEATHER PEN,HOT PINK', 'DOORMAT AIRMAIL ', 'DOORMAT 3 SMILEY CATS', 'BREAD BIN DINER STYLE RED ', 'MAGNETS PACK OF 4 VINTAGE COLLAGE', 'MAGNETS PACK OF 4 HOME SWEET HOME', 'MAGNETS PACK OF 4 CHILDHOOD MEMORY', 'ART LIGHTS,FUNK MONKEY', 'MINI CAKE STAND WITH HANGING CAKES', 'SET OF 4 FAIRY CAKE PLACEMATS', 'OFFICE MUG WARMER PINK', 'PLEASE ONE PERSON METAL SIGN', 'GLITTER CHRISTMAS HEART ', 'RED STRIPE CERAMIC DRAWER KNOB', 'NURSERY A,B,C PAINTED LETTERS', 'SET OF 2 ROUND TINS DUTCH CHEESE', 'GREEN GEISHA GIRL ', 'BLUE GEISHA GIRL ', 'NEWSPAPER STAND', 'CINAMMON & ORANGE WREATH', 'WOOD STOCKING CHRISTMAS SCANDISPOT', 'WOODEN TREE CHRISTMAS SCANDINAVIAN', 'ROCKING HORSE GREEN CHRISTMAS ', 'SET OF 4 NAPKIN CHARMS 3 KEYS ', 'SET OF 4 NAPKIN CHARMS INSTRUMENT', 'SET OF 4 NAPKIN CHARMS CROWNS ', 'SWALLOW WOODEN CHRISTMAS DECORATION', 'GLITTER CHRISTMAS TREE', 'GARLAND WITH STARS AND BELLS', 'CHRISTMAS GARLAND STARS,TREES', 'SWISS CHALET TREE DECORATION ', 'BIRD BOX CHRISTMAS TREE DECORATION', 'WOODEN ADVENT CALENDAR CREAM', 'Manual', 'DOORMAT I LOVE LONDON', 'WOOD AND GLASS MEDICINE CABINET', 'MA CAMPAGNE CUTLERY BOX', 'WICKER WREATH LARGE', 'TABLE LAMP WHITE SHADE WOOD BASE', 'SMALL FOLKART STAR CHRISTMAS DEC', 'SMALL HANGING GLASS+ZINC LANTERN', 'GREEN CHRISTMAS TREE STRING 20LIGHT', 'BLACK CHRISTMAS TREE 60CM', 'WOODEN STAR CHRISTMAS SCANDINAVIAN', 'FINE WICKER HEART ', 'UNION JACK FLAG PASSPORT COVER ', 'EDWARDIAN PARASOL PINK', 'S/4 CACTI CANDLES', 'PINK MARSHMALLOW SCARF KNITTING KIT', '6 CHOCOLATE LOVE HEART T-LIGHTS', '3 TRADITIONAL COOKIE CUTTERS  SET', 'CHILDRENS SPACEBOY MUG', 'MIRRORED WALL ART SKULLS', 'COWBOYS AND INDIANS BIRTHDAY CARD ', 'RING OF ROSES BIRTHDAY CARD', 'ALARM CLOCK BAKELIKE CHOCOLATE', 'CERAMIC CAKE DESIGN SPOTTED MUG', 'LIPSTICK PEN FUSCHIA', 'GREEN 3 PIECE POLKADOT CUTLERY SET', 'PAINTED METAL PEARS ASSORTED', 'COLOUR GLASS. STAR T-LIGHT HOLDER', 'SWALLOWS GREETING CARD', 'LETTER \"M\" BLING KEY RING', 'LETTER \"V\" BLING KEY RING', 'LETTER \"S\" BLING KEY RING', 'KIDS RAIN MAC PINK', 'SQUARE FLOOR CUSHION VINTAGE RED', 'BLUE  DIAMANTE PEN IN GIFT BOX', '36 PENCILS TUBE SKULLS', 'GREEN FERN JOURNAL ', 'BLACK EAR MUFF HEADPHONES', 'RED POLKADOT COFFEE  MUG', 'ASSORTED TUTTI FRUTTI MIRROR', 'SET OF 4 ROSE BOTANICAL CANDLES', 'FELT EGG COSY BLUE RABBIT ', 'LOVE HEART SOCK HANGER', 'FUNKY MONKEY GIFT BAG MEDIUM', 'ORIGAMI VANILLA INCENSE CONES', 'FAIRY DREAMS INCENSE ', 'DRAGONS BLOOD INCENSE', 'FIRST CLASS PASSPORT COVER ', 'TROPICAL PASSPORT COVER ', 'CHERRY BLOSSOM LUGGAGE TAG', 'PINK POLKADOT CHILDRENS UMBRELLA', 'RED RETROSPOT CHILDRENS UMBRELLA', 'FLORAL SOFT CAR TOY', 'MOUSEY LONG LEGS SOFT TOY', 'GREEN CAT FLORAL CUSHION COVER ', 'RED RETROSPOT SHOPPER BAG', 'BLUE POLKADOT WASHING UP GLOVES', 'BLUE PAISLEY SKETCHBOOK', 'ZINC HEART LATTICE T-LIGHT HOLDER', 'BLUE POT PLANT CANDLE ', 'ROSE DU SUD DRAWSTRING BAG', 'DARK BIRD HOUSE TREE DECORATION', 'VINTAGE RED TEATIME MUG', 'LARGE CAKE TOWEL, CHOCOLATE SPOTS', 'LARGE CAKE TOWEL PINK SPOTS', 'GOLD FISHING GNOME', 'HOME SWEET HOME METAL SIGN ', '3D HEARTS  HONEYCOMB PAPER GARLAND', 'PASTEL COLOUR HONEYCOMB FAN', 'SET/4 BADGES DOGS', 'SALLE DE BAIN HOOK', 'VINTAGE KITCHEN PRINT FRUITS', 'VINTAGE KITCHEN PRINT SEAFOOD', 'STRIPEY CHOCOLATE NESTING BOXES', 'TOAST ITS - FAIRY FLOWER', 'BASKET OF TOADSTOOLS', '12 IVORY ROSE PEG PLACE SETTINGS', 'RED RETROSPOT PUDDING BOWL', 'CERAMIC BIRDHOUSE CRESTED TIT SMALL', \"Dr. Jam's Arouzer Stress Ball\", 'ASSORTED TUTTI FRUTTI NOTEBOOK', 'ASSORTED TUTTI FRUTTI SMALL PURSE', 'RIDGED GLASS POSY VASE ', 'RED SPOT CERAMIC DRAWER KNOB', 'SMALL MEDINA STAMPED METAL BOWL ', 'MOCK LOBSTER FRIDGE MAGNET', 'BIG DOUGHNUT FRIDGE MAGNETS', 'GAOLERS KEYS DECORATIVE GARDEN ', 'DECORATIVE FLORE BATHROOM BOTTLE', 'GLITTER HEART GARLAND WITH BELLS ', 'ASSORTED CREEPY CRAWLIES', 'PINK DIAMANTE PEN IN GIFT BOX', 'POTTING SHED TEA MUG', 'KINGS CHOICE MUG', 'POTTING SHED TWINE', 'KEY FOB , GARAGE DESIGN', 'PHARMACIE FIRST AID TIN', 'CHOCOLATE THIS WAY METAL SIGN', 'SET OF 36 PAISLEY FLOWER DOILIES', 'RIBBON REEL LACE DESIGN ', 'PAPER CHAIN KIT EMPIRE', 'EMPIRE TISSUE BOX', 'SET OF 2 TEA TOWELS PING MICROWAVE', 'DIAMANTE HEART SHAPED WALL MIRROR, ', 'CAKE STAND VICTORIAN FILIGREE LARGE', 'WOOD STAMP SET THANK YOU', 'MAGIC GARDEN FELT GARLAND ', '6 EGG HOUSE PAINTED WOOD', 'COFFEE MUG BLUE PAISLEY DESIGN', 'TEA COSY BLUE STRIPE', 'FIVE CATS HANGING DECORATION', 'BLUE POLKADOT KIDS BAG', 'MOBILE VINTAGE HEARTS ', 'WOODLAND PARTY BAG + STICKER SET', 'HOME GARLAND PAINTED ZINC ', 'ILLUSTRATED CAT BOWL ', 'PAPERWEIGHT VINTAGE COLLAGE', 'MONEY BOX POCKET MONEY DESIGN', 'MONEY BOX BISCUITS DESIGN', 'LIPSTICK PEN BABY PINK', 'ENAMEL COLANDER CREAM', 'CAST IRON HOOK GARDEN FORK', 'CAST IRON HOOK GARDEN TROWEL', 'WOODEN UNION JACK BUNTING', 'CABIN BAG VINTAGE PAISLEY', 'MAGIC DRAWING SLATE PURDEY', 'FELTCRAFT HAIRBAND PINK AND BLUE', 'CHRISTMAS RETROSPOT HEART WOOD', 'STRAWBERRY FAIRY CAKE TEAPOT', 'PINK BABY BUNTING', 'FRENCH GARDEN SIGN BLUE METAL', 'DOORMAT WELCOME TO OUR HOME', \"POPPY'S PLAYHOUSE LIVINGROOM \", \"POPPY'S PLAYHOUSE BATHROOM\", 'LARGE YELLOW BABUSHKA NOTEBOOK ', 'BROCANTE COAT RACK', 'WHITE BROCANTE SOAP DISH', 'ROUND CAKE TIN VINTAGE GREEN', 'SOAP DISH BROCANTE', 'NUMBER TILE COTTAGE GARDEN 2', 'NOVELTY BISCUITS CAKE STAND 3 TIER', 'OVEN MITT APPLES DESIGN', 'CHILDRENS APRON APPLES DESIGN', 'CHRISTMAS METAL POSTCARD WITH BELLS', 'DOLLY GIRL CHILDRENS EGG CUP', 'IVORY STRING CURTAIN WITH POLE ', 'BLUE FELT HANGING HEART W FLOWER', 'PINK FELT HANGING HEART W FLOWER', 'FOLKART CLIP ON STARS', 'FOLKART HEART NAPKIN RINGS', 'FOLK ART METAL STAR T-LIGHT HOLDER', 'CERAMIC CAKE BOWL + HANGING CAKES', 'YELLOW/PINK CERAMIC CANDLE HOLDER', 'SUNSET COLOUR CHUNKY KNITTED THROW', 'WOVEN BERRIES CUSHION COVER ', 'TEA TIME PARTY BUNTING', 'TEA TIME KITCHEN APRON', 'BLUE HAPPY BIRTHDAY BUNTING', 'PINK HAPPY BIRTHDAY BUNTING', 'CAROUSEL DESIGN WASHBAG', 'LOVE HEART POCKET WARMER', 'A4 WALL TIDY BLUE OFFICE', 'COLUMBIAN  CUBE CANDLE ', 'CORONA MEXICAN TRAY', 'AREA PATROLLED METAL SIGN', \"FANNY'S REST STOPMETAL SIGN\", 'MIDNIGHT GLAMOUR SCARF KNITTING KIT', 'YELLOW METAL CHICKEN HEART ', 'PACK 20 ENGLISH ROSE PAPER NAPKINS', '3D SHEET OF DOG STICKERS', '3D SHEET OF CAT STICKERS', 'MIXED NUTS LIGHT GREEN BOWL', 'TALL ROCOCO CANDLE HOLDER', 'WHITE TRAVEL ALARM CLOCK', 'GRASS HOPPER WOODEN WALL CLOCK ', 'JUNGLE POPSICLES ICE LOLLY HOLDERS', 'LARGE TAHITI BEACH BAG', 'HAND TOWEL PINK FLOWER AND DAISY', 'ASSORTED COLOUR T-LIGHT HOLDER', 'RECTANGULAR SHAPED MIRROR', 'SET OF 3 CONEY ISLAND OVAL BOXES', 'SET/4 BLUE FLOWER CANDLES IN BOWL', 'FRENCH ENAMEL CANDLEHOLDER', 'BLACK ENCHANTED FOREST PLACEMAT', 'BEADED CRYSTAL HEART PINK ON STICK', 'SET/6 PINK BIRD T-LIGHT CANDLES', 'MINI PAINTED GARDEN DECORATION ', 'SET OF 6 3D KIT CARDS FOR KIDS', 'SET/3 DECOUPAGE STACKING TINS', 'BLACK VINTAGE EARRINGS', 'GOLD M.O.P ORBIT DROP EARRINGS', 'GOLD M.O.P ORBIT BRACELET', \"NEW BAROQUE B'FLY NECKLACE GREEN\", 'FLOWER GLASS GARLD NECKL36\"TURQUOIS', 'MURANO STYLE GLASS BRACELET BLACK', 'CRACKED GLAZE NECKLACE RED', 'CRACKED GLAZE EARRINGS RED', 'BLACK DIAMOND CLUSTER EARRINGS', 'BLUE MURANO TWIST NECKLACE', 'OLD ROSE COMBO BEAD NECKLACE', 'WHITE/PINK MINI CRYSTALS NECKLACE', 'ANT COPPER TURQ BOUDICCA BRACELET', 'PINK & WHITE ROSEBUD RING', 'PAIR BUTTERFLY HAIR CLIPS', 'DROP DIAMANTE EARRINGS CRYSTAL', 'DROP DIAMANTE EARRINGS GREEN', 'AMETHYST GLASS/SHELL/PEARL NECKLACE', 'JADE DROP EARRINGS W FILIGREE', 'CRYSTAL DIAMANTE STAR BROOCH', 'PINK ENAMEL+GLASS HAIR COMB', 'DIAMOND LAS VEGAS NECKLACE 45CM', 'LETTER \"A\" BLING KEY RING', 'LETTER \"E\" BLING KEY RING', 'PINK FLORAL FELTCRAFT SHOULDER BAG', 'WHITE STITCHED CUSHION COVER', 'PIN CUSHION BABUSHKA RED', 'PIN CUSHION BABUSHKA BLUE', 'PIN CUSHION BABUSHKA PINK', 'RED RETROSPOT PURSE ', 'LADYBIRD + BEE RAFFIA FOOD COVER', 'HOME SWEET HOME MUG', 'CHILDRENS GARDEN GLOVES BLUE', 'CHRYSANTHEMUM SKETCHBOOK ', 'VINTAGE UNION JACK DOORSTOP', 'WAKE UP COCKEREL TILE COASTER', 'ROSE 3 WICK MORRIS BOX CANDLE', 'ROSE SCENT CANDLE JEWELLED DRAWER', 'WHITE BAMBOO RIBS LAMPSHADE', 'FOLDING UMBRELLA CHOCOLATE POLKADOT', 'CAKE STAND LOVEBIRD 2 TIER WHITE', '3 GARDENIA MORRIS BOXED CANDLES', 'SET/4 GARDEN ROSE DINNER CANDLE', 'GOLD PRINT PAPER BAG', 'WOODEN HAPPY BIRTHDAY GARLAND', 'SET/4 BADGES CUTE CREATURES', 'BLUE PAISLEY POCKET BOOK', 'PORCELAIN ROSE LARGE ', 'PORCELAIN ROSE SMALL', 'BAKING SET SPACEBOY DESIGN', 'PEACE SMALL WOOD LETTERS', 'RED RETROSPOT APRON ', 'FELTCRAFT DOLL MARIA', 'PARTY METAL SIGN ', 'VINTAGE CREAM 3 BASKET CAKE STAND', 'DOORMAT RESPECTABLE HOUSE', 'MEMO BOARD RETROSPOT  DESIGN', 'PINK/YELLOW FLOWERS HANDBAG', 'CHARLIE+LOLA MY ROOM DOOR SIGN', 'CHRISTMAS CARD STACK OF PRESENTS', 'SET 12 KIDS COLOUR  CHALK STICKS', 'SPACEBOY BIRTHDAY CARD', 'JOY LARGE WOOD LETTERS', 'WORLD WAR 2 GLIDERS ASSTD DESIGNS', 'ENCHANTED BIRD COATHANGER 5 HOOK', 'CACTI T-LIGHT CANDLES', 'HANGING BAUBLE T-LIGHT HOLDER SMALL', 'BALLOON WATER BOMB PACK OF 35', 'BALLOON PUMP WITH 10 BALLOONS', 'ALPHABET STENCIL CRAFT', '3 TRADITIONAl BISCUIT CUTTERS  SET', 'IVORY PAPER CUP CAKE CASES ', 'PARTY INVITES WOODLAND', 'PARTY INVITES BALLOON GIRL', 'LOVELY BONBON STICKER SHEET', 'ASSTD DESIGN 3D PAPER STICKERS', 'CUTE CATS TAPE', 'PACK OF 12 COLOURED PENCILS', 'TOAST ITS - I LOVE YOU ', 'BANK ACCOUNT  GREETING  CARD ', 'EMPIRE BIRTHDAY CARD', 'TEA PARTY BIRTHDAY CARD', 'CARD CAT AND TREE ', 'CARD DOG AND BALL ', 'PENNY FARTHING BIRTHDAY CARD', 'BLUE STRIPE CERAMIC DRAWER KNOB', 'WHITE SPOT BLUE CERAMIC DRAWER KNOB', 'EMBOSSED GLASS TEALIGHT HOLDER', 'WATERING CAN GREEN DINOSAUR', 'WATERING CAN BLUE ELEPHANT', 'FLYING PIG WATERING CAN', 'FRENCH BLUE METAL DOOR SIGN 1', 'FRENCH BATHROOM SIGN BLUE METAL', 'CAKESTAND, 3 TIER, LOVEHEART', 'GLASS BELL JAR SMALL', 'GLASS BELL JAR LARGE', 'FRIDGE MAGNETS LA VIE EN ROSE', 'BROCANTE SHELF WITH HOOKS', 'GREEN POLKADOT BOWL', 'PICTURE FRAME WOOD TRIPLE PORTRAIT', 'SET3 BOOK BOX GREEN GINGHAM FLOWER ', 'ROUND CAKE TIN VINTAGE RED', 'RETRO PLASTIC ELEPHANT TRAY', 'RAINBOW PEGS PHOTO CLIP STRING', 'TEATIME PEN CASE & PENS', 'PHOTO FRAME 3 CLASSIC HANGING', '3D TRADITIONAL CHRISTMAS STICKERS', 'SEASIDE FLYING DISC', 'PEG BAG APPLES DESIGN', 'GREY FLORAL FELTCRAFT SHOULDER BAG', 'SET/3 RED GINGHAM ROSE STORAGE BOX', 'SMALL RED RETROSPOT MUG IN BOX ', '12 PENCILS TALL TUBE RED RETROSPOT', 'RED RETROSPOT TRADITIONAL TEAPOT ', 'DAIRY MAID  PUDDING BOWL', 'ASSORTED CAKES FRIDGE MAGNETS', 'FOOD CONTAINER SET 3 LOVE HEART ', 'DO NOT TOUCH MY STUFF DOOR HANGER ', 'KEEP OUT BOYS DOOR HANGER ', 'MOODY BOY  DOOR HANGER ', 'FILIGRIS HEART WITH BUTTERFLY', 'DECORATION HEN ON NEST, HANGING', 'HEN HOUSE DECORATION', 'PACK OF 12 STICKY BUNNIES', 'MINI WOODEN HAPPY BIRTHDAY GARLAND', 'WOOD STAMP SET BEST WISHES', 'WOOD STAMP SET HAPPY BIRTHDAY', 'GLAMOROUS  MUG', 'GARDENIA 3 WICK MORRIS BOXED CANDLE', 'CHEST 7 DRAWER MA CAMPAGNE', 'JUMBO BAG SPACEBOY DESIGN', 'AIRLINE BAG VINTAGE JET SET RED', 'COSY SLIPPER SHOES LARGE GREEN', 'WHITE JEWELLED HEART DECORATION', 'CHINESE DRAGON PAPER LANTERNS', 'MILK PAN PINK POLKADOT', 'BOOM BOX SPEAKER BOYS', 'SMALL PINK MAGIC CHRISTMAS TREE', 'SET OF 4 FAIRY CAKE PLACEMATS ', 'RECYCLED PENCIL WITH RABBIT ERASER', 'BLUE CALCULATOR RULER', 'RED FLOCK LOVE HEART PHOTO FRAME', 'SCENTED CANDLE IN DIGITALIS TIN', 'GROW YOUR OWN FLOWERS SET OF 3', 'VINTAGE POST OFFICE CABINET', 'CLEAR MILKSHAKE GLASS', 'BIRDS MOBILE VINTAGE DESIGN', 'DINOSAUR LUNCH BOX WITH CUTLERY', 'CHARLIE AND LOLA TABLE TINS', 'CHARLIE AND LOLA FIGURES TINS', 'CAKE STAND WHITE TWO TIER LACE', 'BLUE POLKADOT BOWL', 'PINK  POLKADOT CUP', 'PACK OF 6 SKULL PAPER CUPS', 'PACK OF 6 SKULL PAPER PLATES', 'PACK OF 20 SKULL PAPER NAPKINS', '200 BENDY SKULL STRAWS', 'SKULLS PARTY BAG + STICKER SET', 'STRAWBERRY HONEYCOMB  GARLAND ', 'PINK POLKADOT BOWL', 'SET OF 6 T-LIGHTS WEDDING CAKE ', 'MINI CAKE STAND T-LIGHT HOLDER', 'BLACK TEA,COFFEE,SUGAR JARS', 'SHOE SHINE BOX ', 'BREAD BIN DINER STYLE MINT', 'VANILLA INCENSE 40 CONES IN TIN', 'LAVENDER INCENSE 40 CONES IN TIN', 'COLUMBIAN CANDLE ROUND ', 'COLUMBIAN CANDLE RECTANGLE', 'ZINC FINISH 15CM PLANTER POTS', 'SILK PURSE BABUSHKA BLUE', 'ARMY CAMO BOOKCOVER TAPE', 'CARROT CHARLIE+LOLA COASTER SET', 'MEMO BOARD COTTAGE DESIGN', 'CHILDS GARDEN SPADE BLUE', 'SKULLS GREETING CARD', 'HANGING CHICK  YELLOW DECORATION', 'SET OF 72 SKULL PAPER  DOILIES', 'SPACEBOY GIFT WRAP', 'BLUE GLASS CHUNKY CHARM BRACELET', 'BLACK+WHITE NECKLACE W TASSEL', 'AMBER CHUNKY GLASS+BEAD NECKLACE', 'GINGHAM ROSE WRAP', '12 PENCILS TALL TUBE POSY', '12 COLOURED PARTY BALLOONS', 'PINK FLOWER CROCHET FOOD COVER', 'FLOWER VINE RAFFIA FOOD COVER', 'FOOD/DRINK SPONGE STICKERS', 'PINK HEART SHAPE PHOTO FRAME', 'SILVER DIAMANTE PEN IN GIFT BOX', 'BLUE JUICY FRUIT PHOTO FRAME', 'GREEN JUICY FRUIT PHOTO FRAME', 'GLITTER BUTTERFLY CLIPS', 'VINTAGE UNION JACK MEMOBOARD', 'WRAP PINK FAIRY CAKES ', 'BABY BOOM RIBBONS ', 'ENAMEL WASH BOWL CREAM', 'DIAMANTE BOW BROOCH BLACK COLOUR', 'DIAMANTE BOW BROOCH GREEN COLOUR', 'DIAMANTE BOW BROOCH RED COLOUR', 'LILY BROOCH AMETHYST COLOUR', 'PAIR OF ENAMEL BUTTERFLY HAIRCLIP', 'AMETHYST DIAMANTE EXPANDABLE RING', 'PURPLE GEMSTONE BRACELET', 'BLACK GEMSTONE BRACELET', 'PURPLE GEMSTONE NECKLACE 45CM', '5 STRAND GLASS NECKLACE BLACK', 'AMETHYST HOOP EARRING FLORAL LEAF', 'HANGING BAUBLE T-LIGHT HOLDER LARGE', 'CUT GLASS HEXAGON T-LIGHT HOLDER', 'CLAM SHELL SMALL ', 'CLAM SHELL LARGE', 'COCKLE SHELL DISH', 'PARTY PIZZA DISH RED RETROSPOT', 'SPACEBOY TV DINNER TRAY', 'PINK TALL PORCELAIN T-LIGHT HOLDER ', 'WHITE TALL PORCELAIN T-LIGHT HOLDER', 'KEY FOB , FRONT  DOOR ', 'KEY FOB , BACK DOOR ', 'SET OF 6 CAKE CHOPSTICKS', 'CHRYSANTHEMUM POCKET BOOK ', 'GARDEN PATH POCKET BOOK', 'RED DAISY POCKET BOOK ', 'FROG SOCK PUPPET', 'PINK HORSE SOCK PUPPET', '6 ROCKET BALLOONS ', 'BLACK WINE GLASS', 'CLASSICAL ROSE CANDLESTAND', 'BLACK CHAMPAGNE GLASS', 'PINK OWL SOFT TOY', 'RED RETROSPOT PEG BAG', 'FAIRY CAKE DESIGN UMBRELLA', 'WRAP, BILLBOARD FONTS DESIGN', 'GIFT BAG PSYCHEDELIC APPLES', 'WRAP GREEN PEARS ', '4 ROSE PINK DINNER CANDLES', '4 SKY BLUE DINNER CANDLES', 'TWO DOOR CURIO CABINET', 'PINK POLKADOT WRAP ', 'ASSORTED COLOURS SILK FAN', 'Bank Charges', 'RED RETROSPOT BUTTER DISH', 'LOVE GARLAND PAINTED ZINC ', 'MEASURING TAPE BABUSHKA PINK', 'VINTAGE KID DOLLY CARD ', 'BLUE POLKADOT WRAP', 'MIRROR LOVE BIRD T-LIGHT HOLDER', 'BLACK LOVE BIRD T-LIGHT HOLDER', 'HAND OPEN SHAPE GOLD', 'FELT FARM ANIMAL WHITE BUNNY ', 'SNOWSTORM PHOTO FRAME FRIDGE MAGNET', 'RED POLKADOT PUDDING BOWL', 'BLUE POLKADOT PUDDING BOWL', 'VINTAGE BLUE TINSEL REEL', 'JARDIN ETCHED GLASS BUTTER DISH', 'SPACE FROG', 'SPACE CADET BLACK', 'SPACE CADET RED', 'SPACE OWL', 'SPACE CADET WHITE', 'WOODLAND DESIGN  COTTON TOTE BAG', 'TOAST ITS - DINOSAUR', 'GARDEN PATH SKETCHBOOK', 'BLUE POLKADOT COFFEE MUG', 'MONSTERS STENCIL CRAFT', 'CITRONELLA CANDLE GARDEN POT', 'FUNKY WASHING UP GLOVES ASSORTED', 'CHILDS BREAKFAST SET CIRCUS PARADE', 'WOODLAND STORAGE BOX SMALL', 'SKULLS  DESIGN  COTTON TOTE BAG', 'FLOWER BURST SILVER RING CRYSTAL', 'KEY FOB , SHED', 'BOTANICAL LAVENDER BIRTHDAY CARD', 'GLASS CLOCHE LARGE', 'KIDS RAIN MAC BLUE', 'MONEY BOX CONFECTIONERY DESIGN', 'MONEY BOX KINGS CHOICE DESIGN', 'WEEKEND BAG VINTAGE ROSE PAISLEY', 'CHRISTMAS CARD SINGING ANGEL', 'PAPER BUNTING VINTAGE PAISLEY', 'CREAM SWEETHEART MINI CHEST', 'SILVER FISHING GNOME ', 'PARTY INVITES DINOSAURS', 'NUMBER TILE COTTAGE GARDEN 9', 'NUMBER TILE COTTAGE GARDEN 1', 'NUMBER TILE COTTAGE GARDEN No', 'BLUE POLKADOT CUP', 'BLUE/CREAM STRIPE CUSHION COVER ', 'UNION STRIPE CUSHION COVER ', 'KEY CABINET MA CAMPAGNE', 'DINOSAUR PARTY BAG + STICKER SET', 'VINTAGE RED KITCHEN CABINET', 'LARGE CAKE STAND HANGING HEARTS', 'LARGE CAKE STAND  HANGING STRAWBERY', 'RED RETROSPOT SUGAR JAM BOWL', 'RED RETROSPOT SHOPPING BAG', 'RED RETROSPOT WASHBAG', 'WRAP ENGLISH ROSE ', 'WRAP  PINK FLOCK', 'TUB 24 PINK FLOWER PEGS', 'FENG SHUI PILLAR CANDLE', 'DECOUPAGE,GREETING CARD,', 'DAIRY MAID TOASTRACK', 'DAIRY MAID TRADITIONAL TEAPOT ', 'LAVENDER SCENTED FABRIC HEART', 'BLUE POLKADOT PASSPORT COVER', 'SET/6 BEAD COASTERS GAUZE BAG GOLD', 'GROW YOUR OWN HERBS SET OF 3', 'WHITE CHRISTMAS STAR DECORATION', 'DOORMAT MERRY CHRISTMAS RED ', 'CARDHOLDER GINGHAM CHRISTMAS TREE', 'CABIN BAG VINTAGE RETROSPOT', '3 HEARTS HANGING DECORATION RUSTIC', 'TRADITIONAL KNITTING NANCY', 'MOROCCAN TEA GLASS', 'LUSH GREENS RIBBONS', 'PACK OF 6 SANDCASTLE FLAGS ASSORTED', 'BEADED PEARL HEART WHITE ON STICK', 'FROG CANDLE', 'VINTAGE RED MUG', 'MULTICOLOUR 3D BALLS GARLAND', 'LOVE LARGE WOOD LETTERS ', 'POTTERING MUG', ' OVAL WALL MIRROR DIAMANTE ', 'FRYING PAN PINK POLKADOT', 'METAL SIGN NEIGHBOURHOOD WITCH ', 'CHILDRENS GARDEN GLOVES PINK', 'SET/6 PURPLE BUTTERFLY T-LIGHTS', 'TEATIME FUNKY FLOWER BACKPACK FOR 2', 'HEARTS WRAPPING TAPE ', 'DOGGY RUBBER', 'MAGIC TREE -PAPER FLOWERS', 'BLUE PAISLEY JOURNAL ', 'NECKLACE+BRACELET SET FRUIT SALAD ', 'SKULLS TAPE', 'BOX OF 9 PEBBLE CANDLES', 'STRAWBERRIES  DESIGN FLANNEL ', 'PINK LOVE HEART SHAPE CUP', 'NATURAL SLATE CHALKBOARD LARGE ', 'TEA FOR ONE POLKADOT', 'PARTY BUNTING', 'QUEEN OF SKIES LUGGAGE TAG', 'CHARLIE AND LOLA CHARLOTTE BAG', 'TROPICAL  HONEYCOMB PAPER GARLAND ', 'SKULL LUNCH BOX WITH CUTLERY ', 'PINK UNION JACK  PASSPORT COVER ', 'RED LOVE HEART SHAPE CUP', 'WALL MIRROR RECTANGLE DIAMANTE PINK', 'CHILDS GARDEN BRUSH BLUE', 'PICNIC BOXES SET OF 3 RETROSPOT ', 'SET OF 4 POLKADOT PLACEMATS ', 'CHOCOLATE 1 WICK MORRIS BOX CANDLE', 'OCEAN SCENT CANDLE JEWELLED DRAWER', '75 GREEN PETIT FOUR CASES', 'SET OF 36 TEATIME PAPER DOILIES', 'ROSE DU SUD OVEN GLOVE', 'BLACK AND WHITE CAT BOWL', 'LA PALMIERA WALL THERMOMETER', 'SET/20 STRAWBERRY PAPER NAPKINS ', 'MIRROR MOSAIC GOBLET CANDLE HOLDER', 'HEART STRING MEMO HOLDER HANGING', 'T-LIGHT HOLDER WHITE LACE', 'DECORATION  PINK CHICK MAGIC GARDEN', 'DECORATION  BUTTERFLY  MAGIC GARDEN', 'BIRDHOUSE DECORATION MAGIC GARDEN', 'FELT TOADSTOOL  SMALL', 'HANGING METAL RABBIT DECORATION', 'GLASS JAR MARMALADE ', 'PAPERWEIGHT VINTAGE PAISLEY', 'RED GINGHAM TEDDY BEAR ', 'MINI JIGSAW PURDEY', 'PENS ASSORTED SPACEBALL', 'CUPBOARD 3 DRAWER MA CAMPAGNE', 'SET OF 6 T-LIGHTS CACTI ', 'NUMBER TILE VINTAGE FONT 3', 'NUMBER TILE VINTAGE FONT 5', 'PACK OF 20 NAPKINS RED APPLES', 'BLACK CHRISTMAS TREE 120CM', 'ASSORTED CIRCULAR MOBILE', 'SILVER BOOK MARK WITH BEADS', 'SET/6 TURQUOISE BUTTERFLY T-LIGHTS', 'LARGE CIRCULAR MIRROR MOBILE', 'METAL TUBE CHIME ON BAMBOO', 'RETRO PLASTIC POLKA TRAY', 'VINYL RECORD FRAME SILVER', 'ASSTD DESIGN BUBBLE GUM RING', 'PINK STITCHED WALL CLOCK', 'BLACK SQUARE TABLE CLOCK', 'BLUE FLY SWAT', 'WAKE UP COCKEREL TILE HOOK', 'PSYCHEDELIC TILE HOOK', 'EAU DE NILE HEART SHAPE PHOTO FRAME', 'FRENCH ENAMEL POT W LID', 'FRENCH ENAMEL UTENSIL HOLDER', 'BLACK GRAND BAROQUE PHOTO FRAME', 'IVORY LOVE BIRD CANDLE', 'EAU DE NIL LOVE BIRD CANDLE', 'PINK LOVE BIRD CANDLE', 'HANGING WOOD AND FELT BUTTERFLY ', 'COPPER/OLIVE GREEN FLOWER NECKLACE', 'GREEN PAIR HEART HAIR SLIDES', 'NEW BAROQUE LARGE NECKLACE BLK/WHIT', 'FIRE POLISHED GLASS NECKL GREEN', 'SUMMER DAISIES BAG CHARM', 'SUMMER BUTTERFLIES BAG CHARM', 'BLUE MURANO TWIST BRACELET', 'GREEN PENDANT TRIPLE SHELL NECKLACE', '5 STRAND GLASS NECKLACE AMETHYST', 'LARGE MINT DIAMANTE HAIRSLIDE', 'LETTER \"B\" BLING KEY RING', 'LETTER \"C\" BLING KEY RING', 'LETTER \"F\" BLING KEY RING', 'LETTER \"I\" BLING KEY RING', 'LETTER \"L\" BLING KEY RING', 'LETTER \"N\" BLING KEY RING', 'LETTER \"Y\" BLING KEY RING', 'CARTOON  PENCIL SHARPENERS', 'RATTLE SNAKE EGGS', \"DOLLY MIXTURE CHILDREN'S UMBRELLA\", 'MULTICOLOUR HONEYCOMB PAPER GARLAND', 'RIBBONS PURSE ', 'SWISS ROLL TOWEL, PINK  SPOTS', 'SET/4 BADGES BALLOON GIRL', 'SET/4 SKULL BADGES', 'GREEN GOOSE FEATHER CHRISTMAS TREE ', 'GREEN GOOSE FEATHER TREE 60CM', 'RETROSPOT CANDLE  LARGE', '12 RED ROSE PEG PLACE SETTINGS', '4 VANILLA BOTANICAL CANDLES', 'ASSORTED TUTTI FRUTTI  FOB NOTEBOOK', 'BUTTERFLIES STICKERS', 'SWEETIES  STICKERS', 'EIGHT PIECE SNAKE  SET', 'DINOSAUR KEYRINGS ASSORTED', 'MAN FLU METAL SIGN', 'RED RETROSPOT PICNIC BAG', 'WRAP CHRISTMAS VILLAGE', 'ASSORTED INCENSE PACK', 'VANILLA INCENSE IN TIN', 'NINJA RABBIT PINK', 'KNITTED RABBIT DOLL ', 'NECKLACE+BRACELET SET BLUE BLOSSOM', 'SET/6 POSIES PAPER PLATES', 'amazon', 'YULETIDE IMAGES S/6 PAPER BOXES', '3D VINTAGE CHRISTMAS STICKERS ', 'SET/3 FLORAL GARDEN TOOLS IN BAG', 'ROBOT MUG IN DISPLAY BOX', 'PACK/12 BLUE FOLKART CARDS', 'FOLK ART GREETING CARD,pack/12', 'VINTAGE CARAVAN GREETING CARD ', 'SET OF SKULL WALL STICKERS', 'HEARTS  STICKERS', 'ENGLISH ROSE GARDEN SECATEURS', 'ASSORTED FLOWER COLOUR \"LEIS\"', 'SMALL CAMPHOR WOOD FIELD  MUSHROOM', 'CAMPHOR WOOD PORTOBELLO MUSHROOM', 'PINK/GREEN FLOWER DESIGN BIG MUG', \"FLOWER FAIRY,5 SUMMER B'DRAW LINERS\", 'BLUE/YELLOW FLOWER DESIGN BIG MUG', 'GREEN/BLUE FLOWER DESIGN BIG MUG', 'SCANDINAVIAN PAISLEY PICNIC BAG', 'PINK VINTAGE PAISLEY PICNIC BAG', 'YELLOW/PINK FLOWER DESIGN BIG MUG', 'RED RETROSPOT TEA CUP AND SAUCER ', 'MORE BUTTER METAL SIGN ', 'DOORMAT NEIGHBOURHOOD WITCH ', 'METAL SIGN HIS DINNER IS SERVED', 'BEADED PEARL HEART WHITE LARGE', 'BEADED CRYSTAL HEART BLUE SMALL', 'GARLAND, MAGIC GARDEN 1.8M', 'HELLO SAILOR BLUE SOAP HOLDER', 'BATHROOM SET LOVE HEART DESIGN', 'CINNAMON SCENTED VOTIVE CANDLE', 'JASMINE VOTIVE CANDLE', 'SILVER MUG BONE CHINA TREE OF LIFE', 'SILVER MINI TAPE MEASURE ', 'WATERMELON BATH SPONGE', 'ZINC FOLKART SLEIGH BELLS', 'HOT BATHS SOAP HOLDER', 'BLUE CIRCLES DESIGN MONKEY DOLL', 'VINTAGE PHOTO ALBUM PARIS DAYS', 'FRAPPUCINO SCARF KNITTING KIT', 'BLUE LEAVES AND BEADS PHONE CHARM', 'BLACK GEMSTONE NECKLACE 45CM', 'VINTAGE ROSE BEAD BRACELET BLACK', 'BLUE/GREEN SHELL NECKLACE W PENDANT', 'SILVER/NATURAL SHELL NECKLACE', 'BLUE POLKADOT PURSE ', 'BLUE POLKADOT LUGGAGE TAG ', 'DAIRY MAID STRIPE MUG', 'MAGNETS PACK OF 4 SWALLOWS', 'BLUE ROUND COMPACT MIRROR', 'TROPICAL LUGGAGE TAG', 'ASSORTED MONKEY SUCTION CUP HOOK', 'ASSORTED TUTTI FRUTTI PEN', 'ASS FLORAL PRINT SPIRIT LEVEL ', 'COLUMBIAN CANDLE ROUND', 'FUSCHIA FLOWER PURSE WITH BEADS', 'ROSE SCENT CANDLE IN JEWELLED BOX', 'OCEAN SCENT CANDLE IN JEWELLED BOX', \"NURSE'S BAG SOFT TOY\", 'CHRISTMAS TREE PAINTED ZINC ', 'ANGEL DECORATION PAINTED ZINC ', 'PINK/WHITE RIBBED MELAMINE JUG', 'MODERN VINTAGE COTTON SHOPPING BAG', 'STRAWBERRY   PICNIC BAG', 'PINK DOG BOWL', 'GLASS JAR PEACOCK BATH SALTS', 'BATHROOM SCALES FOOTPRINTS IN SAND', 'NEW BAROQUE BLACK PHOTO ALBUM', 'SCENTED VELVET LOUNGE CANDLE ', 'BLUE FLOCK GLASS CANDLEHOLDER', 'SILVER GLITTER FLOWER VOTIVE HOLDER', 'GOLD MUG BONE CHINA TREE OF LIFE', 'SCANDINAVIAN 3 HEARTS NAPKIN RING', '3 ROSE MORRIS BOXED CANDLES', 'PINK BAROQUE FLOCK CANDLE HOLDER', 'SEWING BOX RETROSPOT DESIGN ', 'SILVER HOOP EARRINGS WITH FLOWER', 'SILVER BRACELET W PASTEL FLOWER', 'MIDNIGHT BLUE GLASS/SILVER BRACELET', 'BLACK/WHITE GLASS/SILVER BRACELET', 'CRACKED GLAZE NECKLACE IVORY', 'CRACKED GLAZE EARRINGS IVORY', '?', 'GLITTER HANGING BUTTERFLY STRING', 'SET OF 6 HEART CHOPSTICKS', 'MULTI HEARTS  STICKERS', 'FRENCH LAUNDRY SIGN BLUE METAL', 'FORKED CACTUS CANDLE', 'WAKE UP COCKEREL CALENDAR SIGN ', 'ENAMEL BLUE RIM COFFEE CONTAINER', 'ENAMEL BLUE RIM BISCUIT BIN', 'FLOWER FAIRY INCENSE BOUQUET', 'GLITTER SNOW PEAR TREE DECORATION', 'CAT BOWL VINTAGE CREAM', '3 WHITE CHOC MORRIS BOXED CANDLES', '4 BLUE DINNER CANDLES SILVER FLOCK', 'DANISH ROSE ROUND SEWING BOX', 'CRYSTAL DIAMANTE EXPANDABLE RING', 'WHITE GLASS CHUNKY CHARM BRACELET', 'RIBBON REEL HEARTS DESIGN ', 'ANT SILVER LIME GREEN BOUDICCA RING', 'ANT SILVER PURPLE BOUDICCA RING', 'VINTAGE UNION JACK PENNANT', 'BEADED LOVE HEART JEWELLERY SET', 'MAGNETS PACK OF 4 VINTAGE LABELS ', 'HAPPY STENCIL CRAFT', 'ASS DES PHONE SPONGE CRAFT STICKER', 'SWEETHEART WIRE FRUIT BOWL', 'COFFEE MUG PINK PAISLEY DESIGN', 'YELLOW FLOWERS FELT HANDBAG KIT', 'WHITE TISSUE REAM', 'FELT FARM ANIMAL CHICKEN', 'SMALL POP BOX,FUNKY MONKEY', 'STRIPES DESIGN TEDDY', 'CERAMIC STRAWBERRY TRINKET TRAY', 'PAPERWEIGHT CHILDHOOD MEMORIES', 'PINK PAINTED KASHMIRI CHAIR', '75 BLACK PETIT FOUR CASES', 'CREAM FELT EASTER EGG BASKET', 'BLUE FELT EASTER EGG BASKET', 'SMALL CHOCOLATES PINK BOWL', '12 PINK ROSE PEG PLACE SETTINGS', 'UNION FLAG WINDSOCK', 'FLOOR LAMP SHADE WOOD BASE', 'ETCHED GLASS COASTER', 'BUTTERFLY CROCHET FOOD COVER', 'PING MICROWAVE APRON', 'APRON APPLE DELIGHT', 'GINGHAM OVEN GLOVE RED HEART ', 'PINK GLASS CANDLEHOLDER', 'CHRISTMAS MUSICAL ZINC TREE', 'MAGIC DRAWING SLATE LEAP FROG ', 'PERIWINKLE T-LIGHT HOLDER', 'SILICON STAR BULB  BLUE', 'LARGE MEDINA STAMPED METAL BOWL ', 'BLUE NETTING STORAGE HANGER', 'TABLECLOTH RED APPLES DESIGN ', 'SILICON CUBE 25W, BLUE', 'SET/6 COLLAGE PAPER PLATES', 'MULTICOLOUR HONEYCOMB FAN', 'RETROSPOT PADDED SEAT CUSHION', 'MADRAS NOTEBOOK LARGE ', 'VINTAGE BEAD NOTEBOOK', 'BEADED CRYSTAL HEART PINK LARGE', 'SANDALWOOD FAN', 'HANGING HEART JAR T-LIGHT HOLDER', 'PACK 6 HEART/ICE-CREAM PATCHES', 'CREAM AND PINK FLOWERS PONY ', 'BLUE CIRCLES DESIGN TEDDY', 'CRYSTAL FROG PHONE CHARM', 'SOMBRERO ', 'ANIMAL STICKERS', 'GREEN BITTY LIGHT CHAIN', 'RAIN PONCHO ', 'ASSORTED TUTTI FRUTTI BRACELET', 'BLUE TRAVEL FIRST AID KIT', 'FRENCH TOILET SIGN BLUE METAL', 'BAG OF SILVER STONES', 'ABSTRACT CIRCLES SKETCHBOOK ', 'TEA TIME BREAKFAST BASKET', 'ALPHABET HEARTS STICKER SHEET', 'FOLKART STAR CHRISTMAS DECORATIONS', 'ASS COLOUR GLOWING TIARAS', 'WHITE BELL HONEYCOMB PAPER GARLAND ', 'SMALL SILVER TRELLIS CANDLEPOT', 'ROBIN CHRISTMAS CARD', '36 PENCILS TUBE POSY', 'FOLKART ZINC STAR CHRISTMAS DEC', 'STRING OF 8 BUTTERFLIES,PINK', 'UTILTY CABINET WITH HOOKS', 'FRENCH BLUE METAL DOOR SIGN 9', 'BATHROOM SCALES RUBBER DUCKS', 'FLOOR CUSHION ELEPHANT CARNIVAL', 'RABBIT  DESIGN  COTTON TOTE BAG', 'JIGSAW TREE WITH BIRDHOUSE', 'EASTER TIN BUNNY BOUQUET', 'EASTER TIN CHICKS PINK DAISY', 'MOTORING TISSUE BOX', 'KENSINGTON COFFEE SET', 'SET/12 FUNKY FELT FLOWER PEG IN BAG', 'PARTY CONES CANDY TREE DECORATION', 'SET OF 6 T-LIGHTS EASTER CHICKS', 'PINK PADDED MOBILE', 'S/12 MINI RABBIT EASTER', 'MEDIUM MEDINA STAMPED METAL BOWL ', 'MIRROR CORNICE', 'BLUE & WHITE BREAKFAST TRAY', \"RETRO PLASTIC 70'S TRAY\", 'PAPER POCKET TRAVELING FAN ', 'BEADED CRYSTAL HEART GREEN SMALL', 'HANGING FAIRY CAKE DECORATION', 'BLUE TEATIME PRINT BOWL ', 'HOUSE WRECKING METAL SIGN ', 'BISCUIT TIN VINTAGE GREEN', 'FRYING PAN RED RETROSPOT', 'SET OF 16 VINTAGE ROSE CUTLERY', 'NEW ENGLAND MUG W GIFT BOX', 'PINK GREEN EMBROIDERY COSMETIC BAG', 'BLUE GREEN EMBROIDERY COSMETIC BAG', 'PAIR PADDED HANGERS PINK CHECK', 'SMALL SILVER FLOWER CANDLE POT', 'RED ROSE AND LACE C/COVER', 'WOODLAND STORAGE BOX LARGE ', 'GLITTER CHRISTMAS STAR ', 'CARD SUKI BIRTHDAY', 'WRAP SUKI AND FRIENDS', 'BIRDCAGE DECORATION TEALIGHT HOLDER', 'BLUE PUDDING SPOON', 'RETRO PINK BALL ASHTRAY ', 'SUMMER FUN DESIGN SHOWER CAP', 'STRIPY DESIGN SHOWER CAP', 'SET/4 DAISY MIRROR MAGNETS', 'SET/4 BIRD MIRROR MAGNETS ', 'SET/4 BUTTERFLY MIRROR MAGNETS', 'FRENCH STYLE EMBOSSED HEART CABINET', 'SKULL DESIGN TV DINNER TRAY', 'GREEN SWEETHEART BRACELET', 'CARNIVAL BRACELET', '4 PEAR BOTANICAL DINNER CANDLES', 'FUNKY MONKEY MUG', 'ECONOMY LUGGAGE TAG', 'HEART CALCULATOR', 'BISCUITS SMALL BOWL LIGHT BLUE', 'SMALL MARSHMALLOWS PINK BOWL', 'PARTY PIZZA DISH GREEN POLKADOT', 'PARTY PIZZA DISH PINK POLKADOT', 'ASSORTED CHEESE FRIDGE MAGNETS', 'PEARL CRYSTAL PUMPKIN T-LIGHT HLDR', 'BREAD BIN, DINER STYLE, MINT', 'BREAD BIN, DINER STYLE, IVORY', 'CARD GINGHAM ROSE ', 'ROSE 1 WICK MORRIS BOXED CANDLE', 'DOLLY HONEYCOMB GARLAND', 'PINK KNITTED EGG COSY', 'BLUE KNITTED EGG COSY', 'WAY OUT METAL SIGN ', 'SAVOY ART DECO CLOCK', 'HALL CABINET WITH 3 DRAWERS', 'DOORMAT HOME SWEET HOME BLUE ', 'BLUE WIRE SPIRAL CANDLE HOLDER', 'S/12 VANILLA  BOTANICAL T-LIGHTS', 'SMALL HAMMERED SILVER CANDLEPOT ', 'WHITE CHRYSANTHEMUMS ART FLOWER', 'RETRO PLASTIC DAISY TRAY', 'ANGEL DECORATION WITH LACE PADDED', 'SUNSET CHECK HAMMOCK', 'CHRYSANTHEMUM  JOURNAL', 'ASSTD MULTICOLOUR CIRCLES MUG', 'FRENCH CHATEAU LARGE PLATTER ', 'ENVELOPE 50 CURIOUS IMAGES', 'FOLDING CAMPING SCISSOR W/KNIF & S', 'HAND OPEN SHAPE DECO.WHITE', 'PINK JEWELLED MIRROR TRINKET TRAY', 'WHITE SAGE INCENSE', 'AFGHAN SLIPPER SOCK PAIR', 'CITRONELLA CANDLE FLOWERPOT', 'SMALL GLASS SUNDAE DISH CLEAR', 'VINTAGE CARAVAN GIFT WRAP', 'GOLD EAR MUFF HEADPHONES', 'PAPERWEIGHT SAVE THE PLANET', 'SWEETHEART CARRY-ALL BASKET', 'RED RETROSPOT STORAGE JAR', 'PARTY FOOD SHOPPER BAG', 'CAMOUFLAGE EAR MUFF HEADPHONES', 'ZINC HEART LATTICE CHARGER LARGE', 'SMALL POLKADOT CHOCOLATE GIFT BAG ', 'GLASS CHALICE GREEN  SMALL ', 'RELAX LARGE WOOD LETTERS', 'BLUE POLKADOT EGG CUP ', 'ELEPHANT CARNIVAL POUFFE', 'VINTAGE PINK DECORATIVE PARASOL', 'MIRROR MOSAIC HURRICANE LAMP ', 'PING! MICROWAVE PLATE', 'CAKE STAND LOVEBIRD 2 TIER PINK', 'CAKE PLATE LOVEBIRD PINK', '12 EGG HOUSE PAINTED WOOD', 'ROUND CONTAINER SET OF 5 RETROSPOT', 'SET OF 36 DOILIES SPACEBOY DESIGN ', 'PACK OF 20 SPACEBOY NAPKINS', 'VINTAGE BEAD PINK PURSE ', 'VINTAGE BEAD PINK SCARF ', 'CERAMIC CAKE DESIGN SPOTTED PLATE', 'FUNKY MONKEY CUSHION COVER', 'WOVEN FROST CUSHION COVER', 'WOVEN CANDY CUSHION COVER ', 'TURQ ICE CREAM BUM BAG ', 'SET/4 WHITE RETRO STORAGE CUBES ', 'HEN HOUSE W CHICK STANDING', 'GIRLS ALPHABET IRON ON PATCHES ', 'ENCHANTED BIRD PLANT CAGE', 'SET OF 4 DIAMOND NAPKIN RINGS', 'CANDY SPOT EGG WARMER HARE', 'HILDA CANDY SPOT RABBIT', 'HANGING WOOD AND FELT HEART', 'HANGING WOOD AND FELT FLOWER', 'ANTIQUE OLIVE GREEN FLOWER EARRINGS', 'GREEN VINTAGE EARRINGS ', 'GOLD M PEARL  ORBIT NECKLACE', 'CRYSTAL STILETTO PHONE CHARM', 'LIGHT TOPAZ TEAL/AQUA COL NECKLACE', 'PINK SWEETIE NECKLACE', 'IVORY PENDANT TRIPLE SHELL NECKLACE', 'ST TROPEZ NECKLACE', 'AMBER DROP EARRINGS W LONG BEADS', 'AMETHYST DROP EARRINGS W LONG BEADS', 'BLACK ENAMEL FLOWER RING', 'JET BLACK LAS VEGAS BRACELET ROUND', 'PINK JEWELLED PHOTO FRAME', 'POCKET BAG BLUE PAISLEY RED SPOT', 'POCKET BAG PINK PAISELY BROWN SPOT', 'BOTTLE BAG RETROSPOT ', 'SET OF 2 ROUND TINS CAMEMBERT ', 'CHILDS GARDEN TROWEL PINK', 'CHILDS GARDEN FORK PINK', 'FRENCH BLUE METAL DOOR SIGN 2', 'FRENCH BLUE METAL DOOR SIGN 7', 'CARD WEDDING DAY', 'SET OF PICTURE FRAME  STICKERS', 'PINK GOOSE FEATHER TREE 60CM', 'IVORY HANGING DECORATION  BIRD', 'FRENCH LAVENDER SCENT HEART', 'BLUE EGG  SPOON', 'DAIRY MAID LARGE MILK JUG', '4 WILDFLOWER BOTANICAL CANDLES', 'GARLAND WITH HEARTS AND BELLS', 'GREEN  DIAMANTE PEN IN GIFT BOX', 'CAKES AND RABBITS DESIGN FLANNEL ', 'MIRROR MOSAIC CANDLE PLATE', 'BIRD DECORATION GREEN POLKADOT', 'NOEL GARLAND PAINTED ZINC ', '4 GOLD FLOCK CHRISTMAS BALLS', 'YELLOW FELT HANGING HEART W FLOWER', 'WOVEN BUBBLE GUM CUSHION COVER', 'SET/6 PINK  BUTTERFLY T-LIGHTS', 'PINK METAL CHICKEN HEART ', 'KITCHEN FLOWER POTS WALL PLAQUE', 'S/4 IVORY MINI ROSE CANDLE IN BOWL', 'S/4 BLACK MINI ROSE CANDLE IN BOWL', 'BEADED CRYSTAL HEART BLUE ON STICK', 'AMBER GLASS/SILVER BRACELET', 'FIRE POLISHED GLASS BRACELET BLACK', 'CHUNKY CRACKED GLAZE NECKLACE IVORY', 'LILY BROOCH OLIVE COLOUR', 'WHITE FRANGIPANI NECKLACE', 'TURQ STONE/CRYSTAL EARRINGS', 'GREEN STONE/CRYSTAL EARRINGS', 'PURPLE PAPER PARASOL', 'GREEN FERN SKETCHBOOK ', 'SMALL PINK GLASS SUNDAE DISH', 'ESSENTIAL BALM 3.5g TIN IN ENVELOPE', 'CAKE SHOP  STICKER SHEET', '72 CAKE CASES VINTAGE CHRISTMAS', 'SET OF 16 VINTAGE SKY BLUE CUTLERY', 'LARGE STRIPES CHOCOLATE GIFT BAG', 'WOODEN SKITTLES GARDEN SET', 'CUBIC MUG FLOCK BLUE ON BROWN', 'CUBIC MUG PINK POLKADOT', 'VINTAGE KEEPSAKE BOX TRAVELOGUE', 'VINTAGE NOTEBOOK PARIS DAYS', 'PINK/WHITE \"KEEP CLEAN\" BULLET BIN', 'FRENCH BLUE METAL DOOR SIGN 8', 'FRENCH BLUE METAL DOOR SIGN 0', 'SET OF 36 MUSHROOM PAPER DOILIES', 'DOORMAT WELCOME SUNRISE', 'TOXIC AREA  DOOR HANGER ', 'LA PALMIERA TILE COASTER', 'JIGSAW RABBIT AND BIRDHOUSE', 'WOODEN BOX ADVENT CALENDAR ', 'PLASMATRONIC LAMP', '4 BURGUNDY WINE DINNER CANDLES', 'SILVER OVAL SHAPE TRINKET BOX', 'WRAP BLUE RUSSIAN FOLKART', 'DAISY JOURNAL ', 'DUSTY PINK CHRISTMAS TREE 30CM', 'HANGING PHOTO CLIP ROPE LADDER', 'PINK PARTY SUNGLASSES', 'POSY CANDY BAG', 'BLACKCHRISTMAS TREE 30CM', 'SMALL DOLLY MIX DESIGN ORANGE BOWL', 'POCKET MIRROR WOODLAND', 'HEART SHAPE WIRELESS DOORBELL', 'SET/6 GREEN SPRING PAPER CUPS', 'ASSORTED TUTTI FRUTTI LARGE PURSE', 'COFFEE SCENT PILLAR CANDLE', 'PINK ROSE WASHBAG', 'GARDENIA 1 WICK MORRIS BOXED CANDLE', 'SILVER LATTICE VANILLA CANDLE POT', 'PACK 3 IRON ON DOG PATCHES', 'DAISY NOTEBOOK ', 'BLACK FINE BEAD NECKLACE W TASSEL', 'FIRE POLISHED GLASS NECKL BRONZE', 'ROUND PINK HEART MIRROR', 'GOLD COSMETIC BAG PINK STAR', 'EIGHT PIECE CREEPY CRAWLIE SET', 'SMOKEY GREY COLOUR D.O.F. GLASS', 'S/3 POT POURI CUSHIONS BLUE COLOURS', 'BLACK AND WHITE DOG BOWL', 'SPOTS ON RED BOOKCOVER TAPE', 'ASSORTED TUTTI FRUTTI HEART BOX', 'POLYESTER FILLER PAD 65CMx65CM', 'FRENCH BLUE METAL DOOR SIGN 6', 'SMALL RED RETROSPOT WINDMILL', 'HAND TOWEL PALE BLUE W FLOWERS', 'BLUE ORGANDY ROUND LAMPSHADE W BEA', 'WHITE AND BLUE CERAMIC OIL BURNER', 'PAPER CHAIN KIT SKULLS ', 'PINK FAIRY CAKE CUSHION COVER', 'GREEN POP ART MAO CUSHION COVER ', 'HEART SHAPED MIRROR', 'GOLD WASHBAG', 'PINK PAISLEY ROSE GIFT WRAP', 'WOODLAND  STICKERS', 'SILVER TEDDY BEAR', 'PSYCHEDELIC WALL THERMOMETER', 'MAGIC DRAWING SLATE BUNNIES ', 'check', 'WRAP FOLK ART', 'damages', 'ROSE DU SUD WASHBAG ', 'NINJA RABBIT BLACK', 'BATHROOM METAL SIGN ', 'DAISIES  HONEYCOMB GARLAND ', 'SET/4 BADGES BEETLES', 'DINOSAUR HEIGHT CHART STICKER SET', 'LARGE CAMPHOR WOOD FIELD MUSHROOM ', \"Dad's Cab Electronic Meter\", 'MIRROR MOSAIC VOTIVE HOLDER', 'PINK CHICK EGG WARMER + EGG CUP', 'PET MUG, GOLDFISH', 'SET/4 2 TONE EGG SHAPE MIXING BOWLS', '50CM METAL STRING WITH  7 CLIPS', 'BLUE TV TRAY TABLE ', 'PINK/BLUE DISC/MIRROR STRING', 'MEDIUM PINK BUDDHA HEAD ', 'SET OF 4 POLKADOT COASTERS', 'WHITE HAND TOWEL WITH BUTTERFLY', 'CANDY SPOT CUSHION COVER', 'CANDY SPOT EGG WARMER RABBIT', 'SMALL ROUND CUT GLASS CANDLESTICK', 'MIDNIGHT BLUE VINTAGE EARRINGS', 'DIAMANTE HAIR GRIP PACK/2 CRYSTAL', 'VINTAGE ENAMEL & CRYSTAL EARRINGS', 'BLACK DIAMOND CLUSTER NECKLACE', 'PURPLE FRANGIPANI HAIRCLIP', 'GREEN GLASS TASSLE BAG CHARM', 'AMBER GLASS TASSLE BAG CHARM', 'PURPLE GLASS TASSLE BAG CHARM', 'TURQ+RED BOUDICCA LARGE BRACELET', 'ANT COPPER PINK BOUDICCA BRACELET', 'PINK GLASS CHUNKY CHARM BRACELET', 'DROP DIAMANTE EARRINGS PURPLE', 'BLACK CHUNKY BEAD BRACELET W STRAP', 'AMBER DIAMANTE EXPANDABLE RING', 'PAIR OF PINK FLOWER CLUSTER SLIDE', 'RED PAPER PARASOL', 'SILVER JEWELLED MIRROR TRINKET TRAY', '4 LILY  BOTANICAL DINNER CANDLES', 'GROW A FLYTRAP OR SUNFLOWER IN TIN', 'VINTAGE BEAD PINK EVENING BAG', 'ENGLISH ROSE SCENTED HANGING FLOWER', 'CUPID DESIGN SCENTED CANDLES', 'SQUARE CHERRY BLOSSOM CABINET', 'BLUE ROSE PATCH PURSE PINK BUTTERFL', 'WHITE BEADED GARLAND STRING 20LIGHT', 'FRENCH BLUE METAL DOOR SIGN 4', 'CHILDS GARDEN TROWEL BLUE ', 'CHILDS GARDEN RAKE BLUE', 'LUNCH BOX WITH CUTLERY FAIRY CAKES ', 'WOODEN REGATTA BUNTING', 'SAMPLES', 'FREESTYLE CANVAS ART PICTURE', 'CUBIC MUG FLOCK PINK ON BROWN', 'AMAZON FEE', 'PORCELAIN BUDAH INCENSE HOLDER', 'WISE MAN STAR SHAPE EGG PAN', 'LOVE POTION MASALA INCENSE', 'SET OF 16 VINTAGE RED CUTLERY', 'WOOD STAMP SET FLOWERS', 'CALENDAR FAMILY FAVOURITES', 'BANQUET BIRTHDAY  CARD  ', 'MULTICOLOUR SPRING FLOWER MUG', 'TEATIME PUSH DOWN RUBBER', 'HOUSE SHAPE PENCIL SHARPENER', 'DAISY SKETCHBOOK ', 'LARGE PINK GLASS SUNDAE DISH', 'SET/3 TALL GLASS CANDLE HOLDER PINK', 'SMALL CHUNKY GLASS ROMAN  BOWL', 'RIDGED GLASS T-LIGHT HOLDER', 'HANGING CHICK GREEN DECORATION', 'PENS ASSORTED FUNKY JEWELED ', 'T-LIGHT HOLDER SWEETHEART HANGING', 'NUMBER TILE VINTAGE FONT 1', 'NUMBER TILE VINTAGE FONT 4', 'NUMBER TILE VINTAGE FONT No ', 'ENAMEL PINK TEA CONTAINER', '4 PINK FLOCK CHRISTMAS BALLS', 'TEA TIME TEAPOT IN GIFT BOX', 'TEA TIME TEA SET IN GIFT BOX', 'PAINTED LIGHTBULB RAINBOW DESIGN', 'BEADED CRYSTAL HEART GREEN LARGE', 'SET/6 EAU DE NIL BIRD T-LIGHTS', 'MIDNIGHT BLUE COPPER FLOWER NECKLAC', 'ROSE COLOUR PAIR HEART HAIR SLIDES', 'JADE GREEN ENAMEL HAIR COMB', 'SILVER BLACK ORBIT BRACELET', 'CRYSTAL SEA HORSE PHONE CHARM', '2 DAISIES HAIR COMB', 'DAISY HAIR COMB', 'GREEN DROP EARRINGS W BEAD CLUSTER', 'GREEN ENAMEL FLOWER HAIR TIE', 'RED   ACRYLIC FACETED BANGLE', 'GARDENERS KNEELING PAD', 'DOORMAT FRIENDSHIP ', '75 GREEN FAIRY CAKE CASES', 'COUNTRY COTTAGE  DOORSTOP GREEN', 'SET/6 FROG PRINCE T-LIGHT CANDLES', 'DOORSTOP FOOTBALL DESIGN', 'WATERING CAN SINGLE HOOK PISTACHIO', 'NUMBER TILE COTTAGE GARDEN 7', 'SILVER VANILLA  FLOWER CANDLE POT', 'PACK/12 XMAS FUN CARD', 'SET/6 BLACK BIRD T-LIGHT CANDLES', 'SET/6 IVORY BIRD T-LIGHT CANDLES', 'FRENCH ENAMEL WATER BASIN', 'BUTTONS AND STRIPES NOTEBOOK ', 'EAU DE NILE JEWELLED T-LIGHT HOLDER', 'TIGRIS EYE CHUNKY CHARM BRACELET', 'DOORSTOP RACING CAR DESIGN', 'VINTAGE UNION JACK SHOPPING BAG', 'NUMBER TILE COTTAGE GARDEN 5', 'PIG MUG IN TWO COLOUR DESIGNS', 'GREETING CARD, STICKY GORDON', 'LA PALMIERA TILE HOOK', 'S/4 PINK FLOWER CANDLES IN BOWL', 'MINI  ZINC GARDEN DECORATIONS ', 'ANTIQUE OPAL WHITE FLOWER EARRINGS', 'SILVER M.O.P ORBIT BRACELET', 'FILIGREE DIAMANTE EARRINGS', 'GLASS BEAD HOOP EARRINGS BLACK', 'DAISY HAIR BAND', 'CRYSTAL HOOP EARRING FLORAL LEAF', 'VINTAGE ROSE BEAD BRACELET RASPBERR', 'JET BLACK LAS VEGAS NECKLACE 45CM', 'LETTER \"K\" BLING KEY RING', 'LETTER \"P\" BLING KEY RING', 'LETTER \"Z\" BLING KEY RING', 'QUEEN OF THE SKIES HOLIDAY PURSE ', 'BLUE  TILE HOOK', 'ANTIQUE CREAM CUTLERY SHELF ', 'CLASSIC FRENCH STYLE BASKET GREEN ', 'PURPLE LAS VEGAS BRACELET ROUND', 'WRAP DOLLY GIRL', 'BIRTHDAY BANQUET GIFT WRAP', 'CERAMIC PLATE STRAWBERRY DESIGN', 'BAKING MOULD HEART MILK CHOCOLATE', 'BAKING MOULD HEART WHITE CHOCOLATE', 'BAKING MOULD TOFFEE CUP CHOCOLATE', 'BAKING MOULD CHOCOLATE CUPCAKES', 'WRAP I LOVE LONDON ', 'BLUE SCANDINAVIAN PAISLEY WRAP', 'BAKING MOULD ROSE WHITE CHOCOLATE', 'BAKING MOULD ROSE MILK CHOCOLATE', 'ZINC TOP  2 DOOR WOODEN SHELF ', 'CREAM SWEETHEART SHELF + HOOKS', 'FUSCHIA VOILE POINTY SHOE DEC', 'MEDINA STAMPED METAL STOOL', 'PINK SMALL JEWELLED PHOTOFRAME', 'WHITE HANGING BEADS CANDLE HOLDER', 'BLUE NEW BAROQUE FLOCK CANDLESTICK', 'PINK PAISLEY CUSHION COVER ', 'RED RETROSPOT BIG BOWL', 'LARGE  TALL CAMPHOR WOOD TOADSTOOL ', 'QUEEN OF THE SKIES PASSPORT COVER ', 'BLACK PHOTO ALBUM ', 'ASSORTED COLOUR SUCTION CUP HOOK', 'GINGHAM BABUSHKA DOORSTOP', 'DOORMAT MULTICOLOUR STRIPE', 'IVORY SCULPTED RND CANDLE ', 'COLUMBIAN CUBE CANDLE', 'HEART T-LIGHT HOLDER', 'FOLK ART METAL HEART T-LIGHT HOLDER', 'CERAMIC BOWL WITH STRAWBERRY DESIGN', 'AMETHYST CHUNKY BEAD BRACELET W STR', 'AMBER CHUNKY BEAD BRACELET W STRAP', 'BLUE FLOCK CUSHION COVER ', 'VINTAGE NOTEBOOK BEAUTY GIRL', 'BLUE PADDED SOFT MOBILE', 'CD WALL TIDY RED FLOWERS', 'MAGAZINE RACK GEBRA ASSORTED ', 'FROSTED WHITE BASE ', 'GREETING CARD, OVERCROWDED POOL.', 'WHITE SILVER NECKLACE SHELL GLASS', 'MURANO STYLE GLASS BRACELET GOLD', 'DIAMANTE HAIR GRIP PACK/2 PERIDOT', 'PINK CRYSTAL SKULL PHONE CHARM', 'PINK MURANO TWIST BRACELET', 'GREEN ENAMEL FLOWER RING', 'ORIGAMI ROSE INCENSE IN TUBE', 'ASSORTED LAQUERED INCENSE HOLDERS', 'RETROSPOT CANDLE  MEDIUM', 'GREEN BIRDHOUSE DECORATION', 'EASTER TIN BUCKET', 'LARGE RED RETROSPOT WINDMILL', 'LARGE SKULL WINDMILL', 'MINI JIGSAW GO TO THE FAIR', 'MINI JIGSAW LEAP FROG', 'CERAMIC LOVE HEART MONEY BANK', 'CHRISTMAS CRAFT HEART STOCKING ', 'BAKING SET 9 PIECE RETROSPOT ', 'ORANGE VOTIVE CANDLE', 'METAL BASE FOR CANDLES', 'FLORAL BLUE MONSTER', 'GIFT BAG BIRTHDAY', 'CLEAR LOVE BIRD T-LIGHT HOLDER', 'CHERRY BLOSSOM TABLE CLOCK ', 'REGENCY MIRROR WITH SHUTTERS', 'PINK CAT BOWL', 'FAWN AND MUSHROOM GREETING CARD', 'BAKING MOULD CHOCOLATE CUP CAKES', 'PINK REGENCY TEACUP AND SAUCER', 'GREEN SQUARE COMPACT MIRROR', 'BLUE HEART COMPACT MIRROR', 'ASSORTED COLOUR METAL CAT ', 'TRIANGULAR POUFFE VINTAGE ', 'FELT TOADSTOOL LARGE', '4 LAVENDER BOTANICAL DINNER CANDLES', 'CAKE STAND 3 TIER MAGIC GARDEN', 'BAKING MOULD EASTER EGG MILK CHOC', 'CUT GLASS T-LIGHT HOLDER OCTAGON', 'SET/4 SPRING FLOWER DECORATION', 'ASS COL CIRCLE MOBILE ', 'FLOWER GLASS GARLAND NECKL.36\"BLACK', 'RED RETROSPOT SMALL MILK JUG', '*Boombox Ipod Classic', 'WHITE GOOSE FEATHER TREE 60CM ', 'RETROSPOT CANDLE  SMALL', 'FRYING PAN BLUE POLKADOT', 'EGG CUP NATURAL CHICKEN', 'WHEELBARROW FOR CHILDREN ', 'MAGIC SHEEP WOOL GROWING FROM PAPER', 'PINK HEARTS LIGHT CHAIN ', 'RED KUKUI COCONUT SEED NECKLACE', 'BROWN KUKUI COCONUT SEED NECKLACE', 'FIRE POLISHED GLASS BRACELET MONTAN', 'FIRE POLISHED GLASS BRACELET GREEN', 'CLEAR CRYSTAL STAR PHONE CHARM', 'PINK LEAVES AND BEADS PHONE CHARM', 'GREEN LEAVES AND BEADS PHONE CHARM', 'PURPLE LEAVES AND BEADS PHONE CHAR', 'ANT COPPER LIME BOUDICCA BRACELET', 'BUTTERFLY HAIR BAND', 'DROP EARRINGS W FLOWER & LEAF', 'LETTER \"O\" BLING KEY RING', 'SUNJAR LED NIGHT NIGHT LIGHT', 'faulty', 'MEDIUM CHINESE STYLE SCISSOR', 'SMALL FOLDING SCISSOR(POINTED EDGE)', 'BLUE BREAKFAST CUP AND SAUCER ', 'RETRO \"TEA FOR ONE\" ', 'GARDEN PATH NOTEBOOK ', 'ABSTRACT CIRCLES POCKET BOOK', 'HAIRCLIPS FORTIES FABRIC ASSORTED', '3 TIER SWEETHEART GARDEN SHELF', 'SILVER STANDING GNOME   ', 'DANISH ROSE PHOTO FRAME', 'PINK FOXGLOVE ARTIIFCIAL FLOWER', 'JIGSAW TREE WITH WATERING CAN', 'IVORY SHELL HEART EARRINGS', 'WHITE SOAP RACK WITH 2 BOTTLES', 'ROMANTIC IMAGES GIFT WRAP SET', 'CURIOUS IMAGES GIFT WRAP SET', 'PINK POODLE HANGING DECORATION ', 'GLASS SPHERE CANDLE STAND MEDIUM', '3 WICK CHRISTMAS BRIAR CANDLE ', 'SET OF 16 VINTAGE BLACK CUTLERY', 'NUMBER TILE VINTAGE FONT 6 ', 'BLACK STITCHED WALL CLOCK', 'POMPOM CURTAIN', 'ENGLISH ROSE SMALL SCENTED FLOWER', 'Dotcom sales', 'HAWAIIAN GRASS SKIRT ', 'ASSORTED EASTER DECORATIONS  BELLS', 'BAKING MOULD EASTER EGG WHITE CHOC', 'TEATIME ROUND PENCIL SHARPENER ', 'PINK POT PLANT CANDLE', 'FELT EGG COSY LADYBIRD ', 'WOVEN ROSE GARDEN CUSHION COVER ', 'SET OF 4 CAROUSEL PLACEMATS ', 'SET OF 4 GREEN CAROUSEL COASTERS', 'FOLK FELT HANGING MULTICOL GARLAND', 'RUBY GLASS CLUSTER BRACELET', 'CHUNKY SILVER NECKLACE PASTEL FLOWE', 'RED ENAMEL FLOWER RING', 'SET/4 COLOURFUL MIXING BOWLS', 'SET OF 4 PISTACHIO LOVEBIRD COASTER', 'SET OF 4 BLACK LOVEBIRD COASTERS', 'EMPIRE DESIGN ROSETTE', 'GOLD STANDING GNOME', 'FIRST CLASS LUGGAGE TAG ', \"ASS COL LARGE SAND FROG P'WEIGHT\", 'HANGING CHICK CREAM DECORATION', 'BLUE POLKADOT GARDEN PARASOL', 'SILVER FABRIC MIRROR', 'DANISH ROSE TRINKET TRAYS', 'SET 4 NURSERY DES ROUND BOXES', 'DANISH ROSE DELUXE COASTER', 'SMALL KITCHEN FLOWER POTS PLAQUE', 'BUNNY WOODEN PAINTED WITH FLOWER ', 'BUNNY WOODEN PAINTED WITH BIRD ', 'WRAP GREEN RUSSIAN FOLKART ', 'POPART RECT PENCIL SHARPENER ASST', 'LARGE TORTILLA DESIGN RED BOWL', 'BLUE KNITTED HEN ', 'CANDY SPOT HEART DECORATION', 'HOLLY TOP CHRISTMAS STOCKING', 'FLOWER PURPLE CLOCK W/SUCKER', 'MINI CAKE STAND  HANGING STRAWBERY', 'FRUIT TREE AND BIRDS WALL PLAQUE', 'SPRIG LAVENDER ARTIFICIAL FLOWER', 'SET OF 3 PINK FLYING DUCKS', 'PAINTED PINK RABBIT ', 'PINK POLKADOT GARDEN PARASOL', 'PAPERWEIGHT HOME SWEET HOME', 'GLASS CHALICE BLUE SMALL ', 'STARFISH SOAP DISH', 'OYSTER TRINKET BOX', 'DECORATION , WOBBLY RABBIT , METAL ', 'DECORATION , WOBBLY CHICKEN, METAL ', 'PINK FEATHER CHRISTMAS DECORATION', 'WHITE CHRISTMAS FLOCK DROPLET ', 'WOVEN SUNSET CUSHION COVER ', 'BEACH HUT DESIGN BLACKBOARD', 'PINK SCOTTIE DOG W FLOWER PATTERN', 'S/4 GROOVY CAT MAGNETS', 'BILI NUT AND WOOD NECKLACE', 'MURANO STYLE GLASS BRACELET RED', 'AQUA BERTIE GLASS BEAD BAG CHARM', 'PURPLE BERTIE GLASS BEAD BAG CHARM', 'BOXED GLASS ASHTRAY', 'STRAWBRY SCENTED VOTIVE CANDLE', 'LOVE SEAT ANTIQUE WHITE METAL', 'DOG BOWL VINTAGE CREAM', 'MIRROR MOSAIC T-LIGHT HOLDER ', 'MINI HIGHLIGHTER PENS', 'SILVER PHOTO FRAME', 'GOLD PHOTO FRAME', 'CRYSTAL PAIR HEART HAIR SLIDES', 'PINK VINTAGE VICTORIAN EARRINGS', 'SMALL TALL CAMPHOR WOOD TOADSTOOL', 'BLOSSOM IMAGES GIFT WRAP SET', 'ASSORTED EASTER GIFT TAGS', 'EASTER TIN KEEPSAKE', 'EASTER TIN CHICKS IN GARDEN', 'JIGSAW TOADSTOOLS 3 PIECE', 'BLUE TILED TRAY', 'TROPICAL HOLIDAY PURSE ', 'CAROUSEL PONIES BABY BIB', 'VIP HOLIDAY PURSE', 'PARTY TIME DESIGN FLANNEL', 'ECONOMY HOLIDAY PURSE', 'OLD DOC RUSSEL METAL SIGN', 'BLUE SHARK HELICOPTER', 'GREEN WIRE STANDING CANDLE HOLDER', 'ROMANTIC IMAGES SCRAP BOOK SET', 'LETTER SHAPE PENCIL SHARPENER', 'DOOR HANGER  MUM + DADS ROOM', 'GOLD SCROLL GLASS T-LIGHT HOLDER', 'PINK BUTTERFLY WASHBAG', 'FLOWER GLASS GARLD NECKL36\"AMETHYST', 'PURPLE BOUDICCA LARGE BRACELET', 'RED BOUDICCA LARGE BRACELET', 'PINK BOUDICCA LARGE BRACELET', 'BATHROOM SCALES, TROPICAL BEACH', 'CHARLIE & LOLA WASTEPAPER BIN BLUE', 'PINK  HONEYCOMB PAPER FAN', 'SET OF 36 DINOSAUR PAPER DOILIES', 'EASTER TREE YELLOW BIRDS', 'NUMBER TILE VINTAGE FONT 8', 'GREEN HEART COMPACT MIRROR', 'PINK BERTIE MOBILE PHONE CHARM', 'GOLD/AMBER DROP EARRINGS W LEAF', 'BLACK CHRISTMAS FLOCK DROPLET ', 'FLOWERS TILE HOOK', 'DANISH ROSE BEDSIDE CABINET', 'WHITE MURANO TWIST BRACELET', 'HANGING METAL CHICKEN DECORATION', 'MR ROBOT SOFT TOY', 'GOLD TEDDY BEAR', 'PINK  HEART CONFETTI IN TUBE', 'MIRRORED DOVE WALL DECORATION', 'CD WALL TIDY BLUE OFFICE', 'PINK GINGHAM CAT WITH SCARF', 'PINK BITTY LIGHT CHAIN', 'PINK METAL SWINGING BUNNY', 'MONTANA DIAMOND CLUSTER EARRINGS', 'PINK ROSEBUD PEARL BRACELET', 'WHITE  ROSEBUD PEARL BRACELET', 'BLACK SILOUETTE CANDLE PLATE', 'HEN PARTY CORDON BARRIER TAPE', 'EMPIRE GIFT WRAP', 'CANDLE PLATE LACE WHITE', 'ANT SILVER FUSCHIA BOUDICCA RING', 'PINK/WHITE GLASS DEMI CHOKER', 'IVORY SHELL HEART NECKLACE', 'MOROCCAN BEATEN METAL DISH LARGE', 'ZINC HEART LATTICE CHARGER SMALL', 'SILVER APERITIF GLASS', 'ANTIQUE GLASS PLACE SETTING', 'SET OF 6 HERB TINS SKETCHBOOK', 'SET OF 6 SPICE TINS PANTRY DESIGN', 'SET OF 3 CAKE TINS PANTRY DESIGN ', 'PINK DOG CANNISTER', 'ORANGE TV TRAY TABLE ', 'SWEETHEART CREAM STEEL TABLE RECT', 'GREY ACRYLIC FACETED BANGLE', 'LARGE CAKE TOWEL CHOCOLATE SPOTS', 'DANISH ROSE FOLDING CHAIR', 'DIAMANTE RING ASSORTED IN BOX.', 'PURPLE ACRYLIC FACETED BANGLE', 'VINTAGE BLUE KITCHEN CABINET', 'SET 3 WICKER STORAGE BASKETS ', 'SILVER ROCOCO CANDLE STICK', 'GOLD COSMETICS BAG WITH BUTTERFLY', 'PINK OVAL SHAPE TRINKET BOX', 'DANISH ROSE DECORATIVE PLATE', 'WOOLLY HAT SOCK GLOVE ADVENT STRING', 'BAKING MOULD TOFFEE CUP  CHOCOLATE', 'BAKING MOULD CUPCAKE CHOCOLATE', 'SET OF 3 CAKE TINS SKETCHBOOK', 'WRAP CIRCUS PARADE', 'CHILDS GARDEN FORK BLUE ', 'HAPPY EASTER HANGING DECORATION', 'HANGING HEART BASKET', 'HANGING SPRING FLOWER EGG LARGE', 'WHITE STITCHED WALL CLOCK', 'ASSTD COL BUTTERFLY/CRYSTAL W/CHIME', 'BLUE DAISY MOBILE', 'ASS FLORAL PRINT MULTI SCREWDRIVER', 'NUMBER TILE VINTAGE FONT 9 ', 'NUMBER TILE VINTAGE FONT 7', 'NUMBER TILE VINTAGE FONT 2', 'NUMBER TILE VINTAGE FONT 0', 'HIPPY CHIC DECORATIVE PARASOL', 'MRS ROBOT SOFT TOY', 'PINK BERTIE GLASS BEAD BAG CHARM', 'RED HEARTS LIGHT CHAIN ', 'WHITE TEA,COFFEE,SUGAR JARS', 'JAM JAR WITH BLUE LID', 'MILK PAN BLUE POLKADOT', 'CRYSTAL STUD EARRINGS ASSORTED COL ', 'RETRO BROWN BALL ASHTRAY ', 'SILVER ROCCOCO CHANDELIER', 'amazon sales', 'COFFEE MUG APPLES DESIGN', 'PINK HAWAIIAN PICNIC HAMPER FOR 2', 'OPULENT VELVET SET/3 CANDLES', 'KEEP OUT GIRLS DOOR HANGER ', 'WHITE DOVE HONEYCOMB PAPER GARLAND', 'PINK FLY SWAT', 'TEA TIME CAKE STAND IN GIFT BOX', 'IVORY HANGING DECORATION  EGG', 'FINE SILVER NECKLACE W PASTEL FLOWE', 'FELT FARM ANIMAL SHEEP', 'FELT FARM ANIMAL RABBIT', 'FELT FARM ANIMAL HEN', 'ACRYLIC JEWEL SNOWFLAKE,PINK', 'JARDIN ETCHED GLASS FRUITBOWL', 'FRESHWATER PEARL BRACELET GOLD', 'PALE PINK/AMETHYST STONE NECKLACE', 'FIRE POLISHED GLASS NECKL GOLD', 'PEARL & SHELL 42\"NECKL. GREEN', 'TEAL/FUSCHIA COL BEAD NECKLACE', 'AMBER FINE BEAD NECKLACE W TASSEL', 'PINK FLOCK GLASS CANDLEHOLDER', 'JARDIN ETCHED GLASS SMALL BELL JAR', 'BOTANICAL ROSE GREETING CARD', 'BOTANICAL LILY GREETING CARD', 'BLACK MEDIUM GLASS CAKE STAND', 'STRIPES DESIGN MONKEY DOLL', 'BLUE GINGHAM ROSE CUSHION COVER', 'ASSTD FRUIT+FLOWERS FRIDGE MAGNETS', 'FOLDING UMBRELLA BLACKBLUE POLKADOT', 'NUMBER TILE COTTAGE GARDEN 0 ', 'NUMBER TILE COTTAGE GARDEN 6', 'NUMBER TILE COTTAGE GARDEN 4', 'NUMBER TILE COTTAGE GARDEN 3 ', 'COFFEE MUG PEARS  DESIGN', 'SCOTTIES DESIGN WASHBAG', 'ROUND WHITE CONFETTI IN TUBE', 'CAKE STAND LACE WHITE', 'LONDON BUS COFFEE MUG', 'CERAMIC BOWL WITH LOVE HEART DESIGN', 'BOTANICAL ROSE GIFT WRAP', 'PINK SPOTS CHOCOLATE NESTING BOXES ', 'QUEENS GUARD COFFEE MUG', 'GREEN ROUND COMPACT MIRROR', 'PSYCHEDELIC TILE COASTER', 'RED PUDDING SPOON', 'MULTICOLOUR RABBIT EGG WARMER', 'CURIOUS IMAGES SCRAP BOOK SET', 'PINK NEW BAROQUE FLOCK CANDLESTICK', 'BLACK DROP CRYSTAL NECKLACE', 'APRON MODERN VINTAGE COTTON', 'POLKADOT COFFEE CUP & SAUCER PINK', 'BLACK SMALL GLASS CAKE STAND', 'SKULLS STORAGE BOX LARGE', '4 PINK DINNER CANDLE SILVER FLOCK', 'ENAMEL PINK COFFEE CONTAINER', 'SET OF THREE VINTAGE GIFT WRAPS', 'SUNFLOWER DECORATIVE PARASOL', 'PINK FLUFFY CHRISTMAS DECORATION', 'MONEY BOX HOUSEKEEPING DESIGN', 'SILVER DISCO HANDBAG', 'SILVER T-LIGHT SETTING', 'BLOSSOM IMAGES SCRAP BOOK SET', 'DECORATION WHITE CHICK MAGIC GARDEN', 'MONEY BOX FIRST ADE DESIGN', 'PINK FELT EASTER RABBIT GARLAND', 'SCHOOL DESK AND CHAIR ', 'WHITE BAROQUE WALL CLOCK ', 'BLACK BAROQUE WALL CLOCK ', 'CANDY SPOT HAND BAG', 'PURPLE ENAMEL FLOWER RING', 'PURPLE ENAMEL FLOWER HAIR TIE', 'GOLD DIAMANTE STAR BROOCH', 'HANGING HEN ON NEST DECORATION', 'NEW BAROQUE JEWELLERY BOX ', 'PINK MONTE CARLO HANDBAG', 'SILVER DROP EARRINGS WITH FLOWER', 'WHITE ROSEBUD  PEARL EARRINGS', 'FLORAL PINK MONSTER', 'GOLD FABRIC MIRROR', '*USB Office Mirror Ball', 'PAINTED YELLOW WOODEN DAISY', 'MUG , DOTCOMGIFTSHOP.COM ', 'PINK STOCKING CHRISTMAS DECORATION', 'SET/3 POLKADOT STACKING TINS', 'GLASS BEAD HOOP EARRINGS MONTANA', 'PINK CRYSTAL+GLASS BRACELET', 'BLACK GLASS BRACELET W HEART CHARMS', 'LAVENDER SCENT CAKE CANDLE', 'POLYESTER FILLER PAD 30CMx30CM', 'RUBY DROP CHANDELIER EARRINGS', 'LETTER \"T\" BLING KEY RING', 'SET/3 POT PLANT CANDLES', 'RED  EGG  SPOON', 'MINI LADLE LOVE HEART PINK', 'PURPLE CRYSTAL DROP EARRINGS', 'MIDNIGHT BLUE DROP CRYSTAL NECKLACE', 'FRESHWATER PEARL BRACELET IVORY', 'TURQ PENDANT TRIPLE SHELL NECKLACE', 'GREEN PENDANT SHELL NECKLACE', 'PINK ROSEBUD PEARL EARRINGS', 'DROP DIAMANTE EARRINGS BLACK DIAMON', 'PINK ENAMEL FLOWER HAIR TIE', 'LAZER CUT NECKLACE W PASTEL BEADS', '5 STRAND GLASS NECKLACE AMBER', 'SILVER/MOP ORBIT NECKLACE', 'PURPLE CHUNKY GLASS+BEAD NECKLACE', 'ETCHED GLASS STAR TREE DECORATION', 'CLASSIC FRENCH STYLE BASKET BROWN', 'EAU DE NILE JEWELLED PHOTOFRAME', 'PINK BOUDOIR T-LIGHT HOLDER', 'CREAM DELPHINIUM ARTIFICIAL FLOWER', 'LARGE WHITE/PINK ROSE ART FLOWER', 'MEDIUM WHITE/PINK ROSE ART FLOWER', 'WHITE ANEMONE ARTIFICIAL FLOWER', 'PINK CANDYSTUFT ARTIFICIAL FLOWER', 'WRAP MONSTER FUN ', 'TOYBOX  WRAP ', 'BLUE BLOSSOM HAIR CLIP', 'PINK STRAWBERRY HANDBAG ', 'SMALL SKULL WINDMILL', 'SET/3 RABBITS FLOWER SKIPPPING ROPE', 'GREETING CARD,SQUARE, DOUGHNUTS', 'HOT WATER BOTTLE BABUSHKA LARGE', 'BIRTHDAY BANNER TAPE', 'EASTER CRAFT 4 CHICKS ', 'BLACK CRYSTAL DROP EARRINGS', 'CRACKED GLAZE EARRINGS BROWN', 'MOP PENDANT SHELL NECKLACE', 'DIAMANTE NECKLACE BLACK ', 'Dotcomgiftshop Gift Voucher £40.00', 'WHITE HEART CONFETTI IN TUBE', 'GLASS BEAD HOOP EARRINGS AMETHYST', 'CANNABIS LEAF BEAD CURTAIN', 'OPIUM SCENTED VOTIVE CANDLE', 'Found', 'LOVE HEART TRINKET POT', 'ACRYLIC HANGING JEWEL,BLUE', 'GLOW IN DARK DOLPHINS', 'YELLOW DRAGONFLY HELICOPTER', 'CHEST NATURAL WOOD 20 DRAWERS', 'CAMOUFLAGE DOG COLLAR', 'PINK PAPER PARASOL ', 'WHITE BIRD GARDEN DESIGN MUG', 'LARGE ROUND CUTGLASS CANDLESTICK', 'ICON PLACEMAT POP ART ELVIS', 'BLACK FLOWER CANDLE PLATE', 'POPART WOODEN PENCILS ASST', 'RED POLKADOT BEAKER ', 'TEA PARTY  WRAPPING PAPER ', 'BLUE SCOTTIE DOG W FLOWER PATTERN', 'ANTIQUE CREAM CUTLERY CUPBOARD', 'MINI LADLE LOVE HEART RED ', 'ACRYLIC GEOMETRIC LAMP', 'MIDNIGHT BLUE CRYSTAL DROP EARRINGS', 'PURPLE VINTAGE EARRINGS', \"NEW BAROQUE B'FLY NECKLACE MONTANA\", \"NEW BAROQUE B'FLY NECKLACE CRYSTAL\", 'PURPLE FRANGIPANI NECKLACE', 'SILVER/NAT SHELL NECKLACE W PENDANT', 'LARGE CRYSTAL DIAMANTE HAIRSLIDE', 'BUNNY DECORATION MAGIC GARDEN', 'Dotcomgiftshop Gift Voucher £50.00', 'GREETING CARD, TWO SISTERS.', 'RED PURSE WITH PINK HEART', 'BLUE CHENILLE SHAGGY CUSHION COVER ', 'PINK CAT FLORAL CUSHION COVER ', 'PINK DOLLY HAIR CLIPS', 'RASTA IN BATH W SPLIFF ASHTRAY', 'reverse 21/5/10 adjustment', 'VINTAGE GLASS TEA CADDY', 'AMBER BERTIE GLASS BEAD BAG CHARM', 'BLACK BAROQUE CARRIAGE CLOCK', 'BUNNY EGG GARLAND', 'FLOWERS TILE COASTER', 'JARDIN ETCHED GLASS CHEESE DISH', 'BOX/12 CHICK & EGG IN BASKET', 'HANGING SPRING FLOWER EGG SMALL', 'EASTER DECORATION SITTING BUNNY', 'TINY CRYSTAL BRACELET GREEN', 'PEARL AND CHERRY QUARTZ BRACLET', 'TURQUOISE BERTIE GLASS BEAD CHARM', 'PINK ROSEBUD & PEARL NECKLACE', 'WHITE ROSEBUD & PEARL NECKLACE', 'VINTAGE GOLD TINSEL REEL', 'PINK/FLOWER RABBIT EGG WARMER ', 'ENGLISH ROSE METAL WASTE BIN', 'WRAP DAISY CARPET ', 'WRAP WEDDING DAY', 'Dotcomgiftshop Gift Voucher £30.00', 'Dotcomgiftshop Gift Voucher £20.00', 'FLAMINGO LIGHTS', 'ANTIQUE LILY FAIRY LIGHTS', 'FUSCHIA RETRO BAR STOOL', 'CANDY SPOT BUNNY', 'RABBIT EASTER DECORATION', 'MULTICOLOUR EASTER RABBIT ', 'VINTAGE WOODEN BAR STOOL', 'YELLOW POT PLANT CANDLE', 'DAISY FOLKART HEART DECORATION', 'RESIN NECKLACE W PASTEL BEADS', 'CONGRATULATIONS BUNTING', 'BLACK CHERRY LIGHTS', 'ASSORTED TUTTI FRUTTI ROUND BOX', 'WHITE SQUARE TABLE CLOCK', 'PINK DAISY BAG CHARM', 'BLACK 3 BEAD DROP EARRINGS', 'VINTAGE KITCHEN PRINT PUDDINGS', 'WRAP, CAROUSEL', 'BLUE  VOILE LAMPSHADE', 'SET/6 COLLAGE PAPER CUPS', 'SET/6 FRUIT SALAD PAPER CUPS', 'SET/6 FRUIT SALAD  PAPER PLATES', 'METALIC LEAVES BAG CHARMS', 'CITRUS GARLAND FELT FLOWERS ', 'EASTER DECORATION HANGING BUNNY', 'EASTER DECORATION EGG BUNNY ', 'ROSE DU SUD CUSHION COVER', 'LIGHTHOUSE PRINTED METAL SIGN', 'TURQUOISE HEART OF GLASS BRACELET', 'GREEN HEART OF GLASS BRACELET', 'TURQUOISE CRYSTAL+GLASS BRACELET', 'RESIN BRACELET W PASTEL BEADS', 'PINK LARGE JEWELED PHOTOFRAME', 'NEW BAROQUE BLACK BOXES', 'MOROCCAN BEATEN METAL MIRROR', 'CANDY HEART HANGING DECORATION', 'PINK SQUARE TABLE CLOCK', 'GLASS AND PAINTED BEADS BRACELET OL', 'PINK COMBO MINI CRYSTALS NECKLACE', 'mouldy, thrown away.', 'HANGING RIDGE GLASS T-LIGHT HOLDER', 'PINK CHERRY LIGHTS', 'AMBER GLASS/SHELL/PEARL NECKLACE', 'LETTER \"W\" BLING KEY RING', 'DIAMANTE HAIR GRIP PACK/2 LT ROSE', 'BLUE CRUSOE CHECK LAMPSHADE', 'VINTAGE KITCHEN PRINT VEGETABLES', 'found', 'TINY CRYSTAL BRACELET BLUE', 'JADE CRYSTAL+GLASS BRACELET', 'PEACH KNITTED HEN ', 'SET OF 12 MINI BUNNIES IN A BUCKET', 'BLOSSOM  IMAGES NOTEBOOK SET', 'PINK HEART RED HANDBAG', 'LITTLE PINK MONSTER SOFT TOY', 'TEA TIME TEA TOWELS ', 'COLOURFUL FLOWER FRUIT BOWL', 'THE KING GIFT BAG', 'BLUE CRYSTAL BOOT PHONE CHARM', 'SILVER/CRYSTAL DROP EARRINGS W LEAF', 'AMBER CRYSTAL DROP EARRINGS', 'GLASS AND PAINTED BEADS BRACELET TO', 'VINTAGE ENAMEL & CRYSTAL NECKLACE', 'GLASS CAKE COVER AND PLATE', 'PINK POLKADOT KIDS BAG', 'MIRROR MOSAIC T-LIGHT HOLDER ROUND', 'ROSE PENDANT TRIPLE SHELL NECKLACE', 'BLACK BIRD GARDEN DESIGN MUG', 'counted', 'WRAP DOILEY DESIGN', 'PINK RETRO BIG FLOWER BAG', 'FIRE POLISHED GLASS BRACELET RED', 'MIRRORED WALL ART POPPIES', 'WHITE/PINK CHICK DECORATION', 'WRAP ALPHABET DESIGN', 'PINK FELT EASTER EGG BASKET', 'HANGING BUTTERFLY  EGG', 'PINK HANGING GINGHAM EASTER HEN', 'BLUE HANGING GINGHAM EASTER HEN', 'RED STONE/CRYSTAL EARRINGS', 'BLOND DOLL DOORSTOP', 'YELLOW EASTER EGG HUNT START POST', 'GREEN EASTER EGG HUNT START POST', 'HARDMAN MUG 3 ASSORTED', 'POTTING SHED CANDLE CITRONELLA', 'PINK CLEAR GLASS CANDLE PLATE', 'SET 3 SONG BIRD PAPER EGGS ASSORTED', 'SET 3 PAPER VINTAGE CHICK PAPER EGG', 'PEG BAG APPLE DESIGN', 'FRYING PAN RED POLKADOT ', 'SET/5 RED SPOTTY LID GLASS BOWLS', 'LUNCH BAG RED SPOTTY', 'SET/20 FRUIT SALAD PAPER NAPKINS ', 'MIRRORED WALL ART LADIES', 'ASSTD RASTA KEY-CHAINS', 'WRAP POPPIES  DESIGN', 'EASTER BUNNY HANGING GARLAND', 'BUNNY EGG BOX', 'EASTER BUNNY WITH BASKET ON BACK', 'BLUE EASTER EGG HUNT START POST', '3 PINK HEN+CHICKS IN BASKET', '12 PINK HEN+CHICKS IN BASKET', 'EASTER BUNNY WREATH', 'FROG KING WATERING CAN', 'ASSORTED SHAPES PHOTO CLIP SILVER ', 'WRAP VINTAGE PETALS  DESIGN', 'PINK BUTTERFLY CUSHION COVER ', 'WHITE CANDYSTUFT ARTIFICIAL FLOWER', '2 PICTURE BOOK EGGS EASTER BUNNY', 'ASSORTED FARMYARD ANIMALS IN BUCKET', 'SILVER LARIAT 40CM', 'BLUE SAVANNAH PICNIC HAMPER FOR 2', 'MEDIUM CERAMIC TOP STORAGE JAR', 'ZINC HEART LATTICE 2 WALL PLANTER', 'FLAG OF ST GEORGE ', 'LARGE BLUE PROVENCAL CERAMIC BALL', 'HEN HOUSE W FAMILY IN BARN & NEST', 'WHITE CHERRY LIGHTS', 'RED/CREAM STRIPE CUSHION COVER ', 'PINK CHERRY BLOSSOM CUP & SAUCER', 'FOUR RABBIT EASTER DECORATIONS', 'PINK HYDRANGEA ART FLOWER', 'CROCHET ROSE PURSE WITH SUEDE BACK', 'SMALL WHITE/PINK ROSE ART FLOWER', 'BEADED CRYSTAL HEART BLUE  LARGE', 'GREEN FERN POCKET BOOK', 'Given away', 'Dotcom', 'SWISS ROLL TOWEL PINK  SPOTS', 'GLASS CHALICE GREEN  LARGE ', 'GLASS BEAD HOOP EARRINGS GREEN', 'WHITE ENAMEL FLOWER HAIR TIE', 'UNION JACK HOT WATER BOTTLE ', 'RED DAISY PAPER LAMPSHADE', 'GREEN METAL SWINGING BUNNY', 'FLAMES SUNGLASSES PINK LENSES', 'PINK PILLAR CANDLE SILVER FLOCK', 'STANDING FAIRY POLE SUPPORT ', '2 PICTURE BOOK EGGS EASTER DUCKS', '2 PICTURE BOOK EGGS EASTER CHICKS', 'VINTAGE BEAD PINK SHADE ', 'DECORATIVE HANGING SHELVING UNIT', 'MUSICAL ZINC HEART DECORATION ', 'RUSTIC WOODEN CABINET, GLASS DOORS', 'TINY CRYSTAL BRACELET RED', 'WHITE/PINK CHICK EASTER DECORATION', 'EASTER CRAFT IVY WREATH WITH CHICK', 'STEEL SWEETHEART ROUND TABLE CREAM', 'ORANGE FLOWER MUG ', 'label mix up', 'GINGHAM HEART DECORATION', 'MOROCCAN BEATEN METAL DISH', 'S/2 ZINC HEART DESIGN PLANTERS', 'RETROSPOT WOODEN HEART DECORATION', 'CUPID SCENTED CANDLE IN GLASS', 'CHRISTMAS STAR WISH LIST CHALKBOARD', 'samples/damages', 'WHITE HEART OF GLASS BRACELET', 'PINK HEART OF GLASS BRACELET', 'LONG SILVER NECKLACE PASTEL FLOWER', 'GOLD/M.O.P PENDANT ORBIT NECKLACE', 'SILVER/M.O.P PENDANT ORBIT NECKLACE', 'FLORAL BATHROOM SET', 'VINTAGE NOTEBOOK TRAVELOGUE', 'BLACK DROP EARRINGS W LONG BEADS', 'OOH LA LA DOGS COLLAR', '15 PINK FLUFFY CHICKS IN BOX', 'ZINC HEART LATTICE TRAY OVAL ', 'SET OF 6 ICE CREAM SKITTLES', 'BLUE CUSHION COVER WITH FLOWER', 'PINK YELLOW PATCH CUSHION COVER', 'PINK STRING CURTAIN WITH POLE', 'HANGING HEART WITH BELL', 'A4 WALL TIDY RED FLOWERS', 'INCENSE BAZAAR PEACH', 'TRANQUILITY MASALA INCENSE', 'OCEAN STRIPE HAMMOCK ', 'ELEPHANT CLIP W SUCTION CUP', 'CHERRY BLOSSOM DECORATIVE FLASK', 'CREAM SWEETHEART MAGAZINE RACK', 'WHITE HYDRANGEA ART FLOWER', 'CREAM CLIMBING HYDRANGA ART FLOWER', 'BLUE STONES ON WIRE FOR CANDLE', 'GLITTER HEART DECORATION', 'PINK JEWELLED PHOTO FRAME ', 'PINK GAUZE BUTTERFLY LAMPSHADE', 'CHERRY BLOSSOM CANVAS ART PICTURE', 'BOTANICAL LAVENDER GIFT WRAP ', 'NECKLACE+BRACELET PINK BUTTERFLY', 'ICE CREAM DESIGN GARDEN PARASOL', 'SET 2 PANTRY DESIGN TEA TOWELS', 'METAL RABBIT LADDER EASTER ', 'thrown away', 'COTTON APRON PANTRY DESIGN', 'CANDY SPOT TEA COSY', 'ICON MUG REVOLUTIONARY', 'BOYS PARTY BAG', 'GIRLS PARTY BAG', 'ACRYLIC JEWEL SNOWFLAKE, PINK', 'POCKET MIRROR \"GLAMOROUS\"', 'LARGE ZINC GLASS CANDLEHOLDER', 'RETRO PILL BOX , REVOLUTIONARY', 'PAINTED SEA SHELL METAL WINDCHIME', 'FOLDING SHOE TIDY', 'MADRAS NOTEBOOK MEDIUM', 'SQUARE METAL CANDLEHOLDER BASE', 'M/COLOUR POM-POM CURTAIN', 'BLACK VINTAGE  CRYSTAL EARRINGS', 'WHITE VINTAGE CRYSTAL EARRINGS', 'WHITE VINT ART DECO CRYSTAL NECKLAC', 'BLACK VINT ART DEC CRYSTAL NECKLACE', 'NEW BAROQUE SMALL NECKLACE BLACK', 'LILAC GAUZE BUTTERFLY LAMPSHADE', 'PINK/PURPLE CIRCLE CURTAIN', 'POTTING SHED ROSE CANDLE', 'HEART BUTTONS JEWELLERY BOX', \"NEW BAROQUE B'FLY NECKLACE RED\", 'incorrectly made-thrown away.', 'PURPLE FOXGLOVE ARTIIFCIAL FLOWER', 'PINK ALLIUM  ARTIFICIAL FLOWER', 'GIANT MEDINA STAMPED METAL BOWL ', 'PINK FLOWERS RABBIT EASTER', 'PURPLE AMETHYST NECKLACE W TASSEL', 'BLUE/NAT SHELL NECKLACE W PENDANT', 'PINK DISCO HANDBAG', 'PANTRY SCRUBBING BRUSH', 'SET OF 4 PANTRY JELLY MOULDS', 'TRAVEL CARD WALLET FLOWER MEADOW', 'TRAVEL CARD WALLET PANTRY', 'TRAVEL CARD WALLET SKULLS', 'TRAVEL CARD WALLET VINTAGE ROSE ', 'TRAVEL CARD WALLET TRANSPORT', 'TRAVEL CARD WALLET RETROSPOT', 'TRAVEL CARD WALLET KEEP CALM', 'GIRAFFE WOODEN RULER', 'REVOLVER WOODEN RULER ', 'TRAVEL CARD WALLET RETRO PETALS', 'TRAVEL CARD WALLET SUKI', 'TRAVEL CARD WALLET VINTAGE TICKET', 'PANTRY ROLLING PIN', 'TRAVEL CARD WALLET UNION JACK', 'TRAVEL CARD WALLET I LOVE LONDON', 'RETRO TIN ASHTRAY,REVOLUTIONARY', 'FUSCHIA TABLE RUN FLOWER ', 'DOTCOMGIFTSHOP TEA TOWEL', 'SET/6 POSIES PAPER CUPS', 'PURPLE/BLUE CERAMIC CANDLE HOLDER', 'PURPLE/COPPER HANGING LAMPSHADE', 'CHILDRENS CUTLERY POLKADOT BLUE', 'CHILDRENS CUTLERY POLKADOT PINK', 'S/3 PINK SQUARE PLANTERS ROSES', 'BLUE WHITE PLASTIC RINGS LAMPSHADE', 'WHITE VINTAGE CRYSTAL BRACELET', 'GLASS BEAD HOOP NECKLACE AMETHYST', 'RASPBERRY ANT COPPER FLOWER NECKLAC', 'GLASS BEAD HOOP NECKLACE GREEN', 'GLASS BEAD HOOP NECKLACE MONTANA', 'PINK AND BLACK STRING CURTAIN', 'PACK 20 DOLLY PEGS', 'LUNCH BAG SUKI DESIGN ', 'JUMBO BAG SCANDINAVIAN BLUE PAISLEY', 'CHILDRENS CUTLERY RETROSPOT RED ', 'CHILDRENS CUTLERY POLKADOT GREEN ', 'CREAM SWEETHEART TRAYS', 'SCALLOP SHELL SOAP DISH', 'PINK RIVIERA HANDBAG', 'TOP SECRET PEN SET', 'BEACH HUT SHELF W 3 DRAWERS', 'NECKLACE+BRACELET SET PINK DAISY', 'PINK CHRYSANTHEMUMS ART FLOWER', 'BEST DAD CANDLE LETTERS', 'GROOVY CACTUS INFLATABLE', 'HEAVENS SCENT FRAGRANCE OILS ASSTD', 'SMALL SINGLE FLAME CANDLE HOLDER', 'PINK MURANO TWIST NECKLACE', 'ORANGE/WHT/FUSCHIA STONES NECKLACE', 'RIVIERA NECKLACE', 'CLASSIC DIAMANTE NECKLACE JET', 'DIAMANTE NECKLACE', 'CLASSIC DIAMANTE EARRINGS JET', 'BLUE DROP EARRINGS W BEAD CLUSTER', 'ANTIQUE RASPBERRY FLOWER EARRINGS', 'PURPLE ANEMONE ARTIFICIAL FLOWER', 'WHITE ALLIUM  ARTIFICIAL FLOWER', 'TOILET SIGN OCCUPIED OR VACANT', 'SMALL BLUE PROVENCAL CERAMIC BALL', 'PANTRY WASHING UP BRUSH', 'showroom', 'TREASURE ISLAND BOOK BOX', 'BUFFALO BILL TREASURE BOOK BOX', 'GYMKHANNA TREASURE BOOK BOX', 'ABC TREASURE BOOK BOX ', 'PANTRY PASTRY BRUSH', 'DOLLCRAFT GIRL AMELIE KIT', 'DOLLCRAFT GIRL NICOLE', 'CLEAR STATIONERY BOX SET ', 'SILVER/BLACK PENDANT ORBIT NECKLACE', 'BAROQUE BUTTERFLY EARRINGS PINK', 'FELTCRAFT GIRL NICOLE KIT', 'FELTCRAFT BOY JEAN-PAUL KIT', 'FELTCRAFT GIRL AMELIE KIT', 'GYMKHANA TREASURE BOOK BOX', \"MOTHER'S KITCHEN SPOON REST \", \"CLOCK MAGNET MUM'S KITCHEN\", 'JAM CLOCK MAGNET', 'PANTRY APPLE CORER', 'WHITE WITH BLACK CATS PLATE', \"MUM'S KITCHEN CLOCK\", 'RECYCLED ACAPULCO MAT RED', 'RECYCLED ACAPULCO MAT PINK', 'RECYCLED ACAPULCO MAT LAVENDER', 'RECYCLED ACAPULCO MAT GREEN', 'RECYCLED ACAPULCO MAT TURQUOISE', 'RECYCLED ACAPULCO MAT BLUE', 'S/4 ICON COASTER,ELVIS LIVES', 'DOLLCRAFT BOY JEAN-PAUL ', 'FRENCH STYLE STORAGE JAR JAM', 'BULL DOG BOTTLE OPENER', 'PINK CRYSTAL GUITAR PHONE CHARM', 'BLACK FEATHER CHRISTMAS DECORATION', 'GLASS AND BEADS BRACELET IVORY', 'MIA', 'PURPLE/TURQ FLOWERS HANDBAG', 'Adjustment', 'Dotcomgiftshop Gift Voucher £10.00', 'CROCHET ROSE DES CLOTHES HANGER', 'BLUE HOLE PUNCH', 'BABY MOUSE RED GINGHAM DRESS', 'BULL DOG BOTTLE TOP WALL CLOCK', 'FRENCH STYLE STORAGE JAR BONBONS', 'DOLLCRAFT GIRL AMELIE', 'Dotcom set', 'FRENCH STYLE STORAGE JAR CAFE ', 'wrongly sold as sets', 'Amazon sold sets', 'dotcom sold sets', 'wrongly sold sets', '? sold as sets?', '?sold as sets?', 'YELLOW/BLUE RETRO RADIO', 'RETRO PILL BOX KEY CHAIN,THE KING', 'CIRCUS PARADE BABY GIFT SET', ' SPACEBOY BABY GIFT SET', 'Thrown away.', 'I LOVE LONDON BABY GIFT SET', 'DOLLY GIRL BABY GIFT SET', 'damages/display', 'damaged stock', 'broken', 'throw away', 'ENGLISH ROSE NOTEBOOK A6 SIZE', 'PASTEL PINK PHOTO ALBUM ', 'BLUE POLKADOT BEAKER ', 'wrong barcode (22467)', 'wrongly sold (22719) barcode', 'BLUE FLYING SINGING CANARY', 'HELLO SAILOR BATHROOM SET', 'HEN HOUSE W CHICK IN NEST', 'WRAP BAD HAIR DAY', 'PIECE OF CAMO STATIONERY SET', 'WINE BOTTLE DRESSING LT.BLUE', 'DOORMAT CHRISTMAS VILLAGE', 'WIRE FLOWER T-LIGHT HOLDER', 'ANTIQUE SILVER T-LIGHT GLASS', 'SET OF 16 VINTAGE IVORY CUTLERY', 'MONTANA DIAMOND CLUSTER NECKLACE', 'RUBY GLASS NECKLACE 42\"', 'JUNGLE POPSICLES ICE LOLLY MOULDS', 'PINK SMALL GLASS CAKE STAND', 'FLAG OF ST GEORGE CHAIR', 'YELLOW PINK FLOWER DESIGN BIG BOWL', 'FRENCH CHATEAU OVAL PLATTER', 'ASSORTED SANSKRIT MINI NOTEBOOK', 'BLUE FLOWER DES PURSE', 'ELVIS WALLHANGING / CURTAIN', 'AMETHYST 3 BEAD DROP EARRINGS', 'wrong barcode', 'barcode problem', 'BIG POLKADOT MUG', '?lost', 'GREEN MURANO TWIST NECKLACE', 'PINK/AMETHYST/GOLD NECKLACE', 'ASSORTED COLOUR SILK GLASSES CASE', \"thrown away-can't sell.\", \"thrown away-can't sell\", 'DOUGHNUT LIP GLOSS ', 'ICE CREAM SUNDAE LIP GLOSS', 'ICE CREAM PEN LIP GLOSS ', 'OPEN CLOSED METAL SIGN', 'WINE BOTTLE DRESSING DARK BLUE', 'CROCHET BEAR RED/BLUE  KEYRING', 'FAN BLACK FRAME ', 'rcvd be air temp fix for dotcom sit', 'WRAP BILLBOARD FONTS DESIGN', 'SET OF 5 PANCAKE DAY MAGNETS', 'SET OF 4 JAM JAR MAGNETS', 'SET OF 5 MINI GROCERY MAGNETS', 'KNICKERBOCKERGLORY MAGNET ASSORTED ', 'PACK 4 FLOWER/BUTTERFLY PATCHES', 'SET OF 5 LUCKY CAT MAGNETS ', 'JARDIN ETCHED GLASS LARGE BELL JAR', 'MUMMY MOUSE RED GINGHAM RIBBON', 'FRENCH CHATEAU SMALL FRUITBOWL', 'FRENCH CHATEAU LARGE FRUIT BOWL ', 'damages?', 're dotcom quick fix.', 'WRAP CAROUSEL', 'SMALL TAHITI BEACH BAG', 'GOLDIE LOOKING MIRROR', \"Dotcom sold in 6's\", 'sold in set?', 'cracked', 'sold as 22467', 'ORANGE FELT VASE + FLOWERS', 'SET OF 6 NATIVITY MAGNETS ', 'SET OF 12 ROSE BOTANICAL T-LIGHTS', 'CROCHET WHITE RABBIT KEYRING ', 'SILVER/BLACK ORBIT NECKLACE', 'Damaged', 'VINTAGE BEAD COSMETIC BAG ', 'ENAMEL BLUE RIM TEA CONTAINER', 'BEACH HUT MIRROR', 'DECORATION WOBBLY RABBIT METAL ', 'BLUE CAT BISCUIT BARREL PINK HEART', 'HEN HOUSE WITH CHICK STANDING', 'TUMBLER BAROQUE', 'DECORATION WOBBLY CHICKEN', 'PINK ROUND COMPACT MIRROR', 'BLUE SQUARE COMPACT MIRROR', 'CHILDRENS CUTLERY DOLLY GIRL ', 'CHILDRENS CUTLERY SPACEBOY ', 'mystery! Only ever imported 1800', 'MERCHANT CHANDLER CREDIT ERROR, STO', 'POSSIBLE DAMAGES OR LOST?', \"NEW BAROQUE B'FLY NECKLACE PINK\", 'CHILDRENS CUTLERY CIRCUS PARADE', 'TUMBLER NEW ENGLAND', 'BOTANICAL LILY GIFT WRAP', 'BAROQUE BUTTERFLY EARRINGS BLACK', 'YELLOW/ORANGE FLOWER DESIGN PLATE', 'SWEETHEART KEY CABINET', 'CHARLOTTE BAG VINTAGE ALPHABET ', 'JUMBO BAG ALPHABET', 'LUNCH BAG ALPHABET DESIGN', 'JUMBO BAG APPLES', 'LUNCH BAG APPLE DESIGN', 'CHARLOTTE BAG APPLES DESIGN', 'CHARLOTTE BAG ALPHABET  DESIGN', 'KIDS CUTLERY SPACEBOY ', 'KIDS CUTLERY DOLLY GIRL ', 'LUNCH BAG VINTAGE LEAF DESIGN', 'S/2 BEACH HUT TREASURE CHESTS', 'damaged', 'PINK FEATHERS CURTAIN', 'DAMAGED', 'PADS TO MATCH ALL CUSHIONS', 'SQUARECUSHION COVER PINK UNION JACK', '3 BIRDS CANVAS SCREEN', 'LARGE DECO JEWELLERY STAND', 'PASTEL BLUE PHOTO ALBUM ', 'HEART BEADED TRELLIS DECORATION', 'GEMSTONE CHANDELIER T-LIGHT HOLDER', '16 PIECE CUTLERY SET PANTRY DESIGN', 'BEADED CHANDELIER T-LIGHT HOLDER', 'did  a credit  and did not tick ret', 'CHILDRENS TOY COOKING UTENSIL SET', 'BLACK GLASS/SHELL/PEARL NECKLACE', 'SMALL DECO JEWELLERY STAND', 'ALUMINIUM STAMPED HEART', 'DOUBLE CERAMIC PARLOUR HOOK', 'ZINC SWEETHEART WIRE LETTER RACK', 'FLOWER GLASS GARLAND NECKL.36\"BLUE', 'PARLOUR CERAMIC WALL HOOK', 'GEORGIAN TRINKET BOX', 'ORANGE/FUSCHIA STONES NECKLACE', \"COTE D'AZURE NECKLACE\", 'TRIPLE HOOK ANTIQUE IVORY ROSE', 'VINTAGE EMBOSSED HEART', 'GOLD WINE GOBLET', 'GOLD APERITIF GLASS', 'IVORY CHANDELIER T-LIGHT HOLDER', 'FLOWERS CHANDELIER T-LIGHT HOLDER', 'ROSE DU SUD CUSHION COVER ', 'TRIPLE WIRE HOOK IVORY HEART', 'TRIPLE WIRE HOOK PINK HEART', 'SMALL ZINC HEART WALL ORGANISER', 'SMALL IVORY HEART WALL ORGANISER', 'MARIE ANTOIENETT TRINKET BOX GOLD', 'IVORY SWEETHEART WIRE LETTER RACK ', 'Display', 'LARGE ZINC HEART WALL ORGANISER', 'LARGE IVORY HEART WALL ORGANISER', 'Missing', '60 GOLD AND SILVER FAIRY CAKE CASES', 'SINGLE ANTIQUE ROSE HOOK IVORY', 'MINIATURE ANTIQUE ROSE HOOK IVORY', 'ZINC T-LIGHT HOLDER STARS SMALL', 'IVORY WIRE KITCHEN ORGANISER', 'IVORY WIRE SWEETHEART LETTER TRAY', 'SINGLE WIRE HOOK PINK HEART', 'SINGLE WIRE HOOK IVORY HEART', 'IVORY SWEETHEART SOAP DISH', 'ZINC T-LIGHT HOLDER STAR LARGE', 'PINK BUTTERFLY CUSHION COVER', 'adjustment', 'returned', 'BAROQUE BUTTERFLY EARRINGS RED', 'ZINC WIRE SWEETHEART LETTER TRAY', 'LILAC VOTIVE CANDLE', 'wrong code?', 'wrong code', 'TEATIME GEL PENS ASST', 'EDWARDIAN PHOTO FRAME', 'MAXWELL 2 TONE BLUE 60 PAGE PHOTO A', 'MISTLETOE HEART WREATH CREAM', 'HANGING ENGRAVED METAL HEART', 'adjust', 'BLUE TABLE RUN FLOWER', 'BLUE STRIPES SHOULDER BAG', 'BLUE CHECK BAG W HANDLE 34X20CM', 'LASER CUT MULTI STRAND NECKLACE', 'REGENCY SUGAR TONGS', 'DOORMAT KEEP CALM AND COME IN', 'DOORMAT VINTAGE LEAVES DESIGN ', 'REGENCY TEA STRAINER', 'crushed', 'FLAG OF ST GEORGE CAR FLAG', 'HAYNES CAMPER SHOULDER BAG', 'SMALL ZINC/GLASS CANDLEHOLDER', 'GOLD FLOWER CUSHION COVER ', 'SET OF 10 LANTERNS FAIRY LIGHT STAR', 'PAPER LANTERN 7 POINT SNOW STAR', 'PAPER LANTERN 9 POINT SNOW STAR', 'PAPER LANTERN 9 POINT SNOW STAR ', 'CINDERELLA CHANDELIER ', 'BLING KEY RING STAND', 'MULTICOLOUR POLKADOT PLATE', 'MISTLETOE HEART WREATH GREEN', 'WHITE 3 FRAME BIRDS AND TREE ', 'WRAP SUMMER ROSE DESIGN', 'FRENCH PAISLEY CUSHION COVER', 'REGENCY TEA SPOON', 'REGENCY CAKE FORK', 'REGENCY CAKE SLICE', 'ANTIQUE IVORY WIRE BOWL SMALL', 'MINITURE ANTIQUE ROSE HOOK IVORY', 'PINK FLOCK PHOTO FRAME ', 'damages/showroom etc', 'samples', 'ZINC WIRE KITCHEN ORGANISER', 'damages/credits from ASOS.', 'FOOD COVER WITH BEADS SET 2 ', 'SPOTTY BUNTING', 'EDWARDIAN HEART PHOTO FRAME', 'ZINC SWEETHEART SOAP DISH', 'CRYSTAL STUD EARRINGS CLEAR DISPLAY', 'PAPER LANTERN 9 POINT HOLLY STAR 40', 'PAPER LANTERN 5 POINT STAR MOON 30', 'PAPER LANTERN 6 POINT SNOW STAR', 'BUNTING , SPOTTY ', 'POLYESTER FILLER PAD 60x40cm', 'mailout ', 'mailout', 'BLUE DISCO HANDBAG', 'JUMBO BAG VINTAGE LEAF', 'JUMBO BAG PEARS', 'JUMBO BAG DOILEY PATTERNS', 'LUNCH BAG DOILEY PATTERN ', 'MARIE ANTOINETTE TRINKET BOX GOLD', 'MARIE ANTOINETTE TRINKET BOX SILVER', 'PAPER LANTERN 9 POINT HOLLY STAR L', 'PAPER LANTERN 9 POINT DELUXE STAR', 'PAPER LANTERN 5 POINT SEQUIN STAR', 'PAPER LANTERN 9 POINT HOLLY STAR S', 'PAPER LANTERN 9 POINT HOLLY STAR 23', 'PAPER LANTERN 5 POINT STUDDED STAR', 'FOOD COVER WITH BEADS , SET 2 SIZES', 'FLOWER GARLAND NECKLACE RED', 'Not rcvd in 10/11/2010 delivery', 'CRYSTAL CZECH CROSS PHONE CHARM', 'FOLDING BUTTERFLY MIRROR IVORY ', 'FOLDING BUTTERFLY MIRROR HOT PINK ', 'BUNDLE OF 3 SCHOOL EXERCISE BOOKS  ', 'BUNDLE OF 3 RETRO NOTE BOOKS', 'BUNDLE OF 3 ALPHABET EXERCISE BOOKS', 'BUNDLE OF 3 RETRO EXERCISE BOOKS', 'REGENCY MILK JUG PINK ', 'REGENCY SUGAR BOWL GREEN', 'REGENCY TEAPOT ROSES ', 'REGENCY TEA PLATE PINK', 'REGENCY TEA PLATE GREEN ', 'REGENCY TEA PLATE ROSES ', 'GREEN METAL BOX ARMY SUPPLIES', 'RABBIT NIGHT LIGHT', 'FOLDING BUTTERFLY MIRROR RED  ', 'PARISIENNE JEWELLERY DRAWER ', 'PETIT TRAY CHIC', 'ZINC HERB GARDEN CONTAINER', 'LE GRAND TRAY CHIC SET', 'SET OF 10 LED DOLLY LIGHTS', 'RED METAL BOX TOP SECRET', 'GREEN METAL BOX TOP SECRET', 'PARISIENNE KEY CABINET ', 'Thrown away-rusty', 'SILVER BELLS TABLE DECORATION', 'SILVER HEARTS TABLE DECORATION', 'VINTAGE ENGRAVED HEART', 'SET 6 PAPER TABLE LANTERN HEARTS ', 'FLOWERS HANDBAG blue and orange', 'SMALL PARISIENNE HEART PHOTO FRAME ', 'FOLDING MIRROR HOT PINK ', 'LED TEA LIGHTS', 'BELL HEART DECORATION', 'ALUMINIUM HEART', 'CRYSTAL CHANDELIER T-LIGHT HOLDER', 'PARISIENNE CURIO CABINET', 'PARISIENNE SEWING BOX', 'TOADSTOOL BEDSIDE LIGHT ', 'SMALL CERAMIC TOP STORAGE JAR ', 'IVORY PANTRY HANGING LAMP ', 'CLASSIC SUGAR DISPENSER', 'MISELTOE HEART WREATH WHITE', 'MISELTOE HEART WREATH ', 'CLASSIC GLASS SWEET JAR', 'LARGE CERAMIC TOP STORAGE JAR', 'LARGE JEWELLERY STAND', 'SMALL JEWELLERY STAND', 'SILVER STARS TABLE DECORATION', 'GLASS BON BON JAR', 'WHITE WIRE PLANT POT HOLDER', 'CLASSIC GLASS COOKIE JAR', 'CLASSIC CAFE SUGAR DISPENSER', 'ZINC HEART FLOWER T-LIGHT HOLDER', 'JINGLE BELL HEART DECORATION', 'ZINC HEARTS PLANT POT HOLDER', 'WHITE HEARTS WIRE PLANT POT HOLDER', 'ZINC  HEART T-LIGHT HOLDER', 'METAL HERB GERDEN CONTAINER', 'ZINC PLANT POT HOLDER', 'FOLDING MIRROR IVORY ', 'FOLDING MIRROR RED  ', 'PEARL & SHELL 42\"NECKL. IVORY', 'SET 6 PAPER TABLE LANTERN STARS ', 'GARDENERS KNEELING PAD KEEP CALM ', 'GARDENERS KNEELING PAD CUP OF TEA ', 'KNEELING MAT HOUSEWORK  DESIGN', 'ENGLISH ROSE SCENTED HANGING HEART', 'VINTAGE GLASS T-LIGHT HOLDER', 'LARGE ANTIQUE WHITE PHOTO FRAME', 'ANTIQUE SILVER BAUBLE LAMP  ', 'FRENCH CARRIAGE LANTERN', 'ZINC  STAR T-LIGHT HOLDER ', 'sold as set/6 by dotcom', 'wet/rusty', 'damages/dotcom?', 'on cargo order', 'FUNKY FLOWER PICNIC BAG FOR 4', 'SET 10 NIGHT OWL LIGHTS', 'HEART SHAPED HOLLY WREATH', 'LILY BROOCH WHITE/SILVER COLOUR', 'BLUE DELPHINIUM ARTIFICIAL FLOWER', 'IVORY CAFE HANGING LAMP ', 'RED PEONY CUSHION COVER ', 'GREEN PEONY CUSHION COVER', 'SILVER FLOWR PINK SHELL NECKLACE', 'ZINC T-LIGHT HOLDER STARS LARGE', 'smashed', '16 PC CUTLERY SET PANTRY DESIGN', 'CAPIZ CHANDELIER', 'SILVER BLACK ORBIT DROP EARRINGS', 'incorrectly credited C550456 see 47', 'reverse previous adjustment', 'FILIGREE HEART BIRD WHITE ', 'FILIGREE HEART BUTTERFLY WHITE ', 'ZINC STAR T-LIGHT HOLDER ', 'Next Day Carriage', 'DECORATION SITTING BUNNY', 'CHERRY BLOSSOM PURSE', 'FILIGREE HEART DAISY WHITE', 'SET 4 VALENTINE DECOUPAGE HEART BOX', 'REINDEER HEART DECORATION SILVER', 'CHAMPAGNE TRAY BLANK CARD', 'JINGLE BELL HEART ANTIQUE GOLD', 'JINGLE BELL HEART ANTIQUE SILVER', 'WHITE ROCKING HORSE HAND PAINTED', 'STAR WREATH DECORATION WITH BELL', 'HEART WREATH DECORATION WITH BELL', 'LAUREL STAR ANTIQUE SILVER ', 'CHERUB HEART DECORATION GOLD', 'RED ROCKING HORSE HAND PAINTED', 'LAUREL HEART ANTIQUE GOLD', 'LAUREL HEART ANTIQUE SILVER', 'CHERUB HEART DECORATION SILVER ', 'wet damaged', 'SET 2 TEA TOWELS I LOVE LONDON ', 'SET OF 3 HANGING OWLS OLLIE BEAK', 'SET OF 3 WOODEN HEART DECORATIONS', 'PAPER LANTERN 5 POINT STAR MOON ', 'SET OF 60 I LOVE LONDON CAKE CASES ', 'SET OF 2 CERAMIC PAINTED HEARTS ', 'SET OF 60 PANTRY DESIGN CAKE CASES ', 'Water damaged', 'SET OF 36 DOILIES PANTRY DESIGN', 'SET OF 60 VINTAGE LEAF CAKE CASES ', 'HEART T-LIGHT HOLDER WILLIE WINKIE', 'STAR T-LIGHT HOLDER WILLIE WINKIE', 'BAROQUE BUTTERFLY EARRINGS MONTANA', 'WRAP GINGHAM ROSE ', 'MIRRORED WALL ART SNOWFLAKES', 'POP ART PUSH DOWN RUBBER ', 'WHITE FRANGIPANI HAIR CLIP', 'SET OF 4 KNICK KNACK TINS DOILEY ', 'SET OF 4 KNICK KNACK TINS LONDON ', 'BLUE FELT HANGING HEART WITH FLOWER', 'VINTAGE KEEPSAKE BOX PINK FLOWER', 'SET OF TEA COFFEE SUGAR TINS PANTRY', 'PINK FLOCK SUEDE CUSHION COVER ', 'SET OF 3 REGENCY CAKE TINS', 'SET OF 4 KNICK KNACK TINS POPPIES', 'DOILEY STORAGE TIN', 'STORAGE TIN VINTAGE LEAF', 'TREASURE TIN GYMKHANA DESIGN', 'TREASURE TIN BUFFALO BILL ', 'missing', \"BISCUIT TIN 50'S CHRISTMAS\", 'ROUND STORAGE TIN VINTAGE LEAF', 'SET OF 4 KNICK KNACK TINS LEAVES ', '36 DOILIES VINTAGE CHRISTMAS', 'FOLKART CHRISTMAS TREE T-LIGHT HOLD', 'BUBBLEGUM RING ASSORTED', 'SMALL WHITE HEART OF WICKER', 'DOILEY BISCUIT TIN', 'REINDEER HEART DECORATION GOLD', 'sold as set on dotcom', 'SET OF 3 WOODEN SLEIGH DECORATIONS', 'SET OF 3 WOODEN TREE DECORATIONS', 'SET OF 3 WOODEN STOCKING DECORATION', 'sold as set on dotcom and amazon', 'DANISH ROSE UMBRELLA STAND', 'water damage', 'sold as set by dotcom', 'PICNIC BASKET WICKER 60 PIECES', 'SET OF 2 CERAMIC CHRISTMAS TREES', 'SET OF 2 CERAMIC CHRISTMAS REINDEER', 'VINTAGE RED ENAMEL TRIM JUG ', 'LARGE WHITE HEART OF WICKER', 'POPCORN HOLDER', 'DOLPHIN WINDMILL', 'BLUE VINTAGE SPOT BEAKER', 'EGG FRYING PAN RED ', 'PINK VINTAGE SPOT BEAKER', 'GREEN VINTAGE SPOT BEAKER', 'JUMBO BAG VINTAGE CHRISTMAS ', 'SMALL POP BOX FUNKY MONKEY', 'GLASS BEAD HOOP NECKLACE BLACK', 'FLOWER GLASS GARLAND NECKL.36\"GREEN', 'ANTIQUE MID BLUE FLOWER EARRINGS', 'CHRISTMAS TABLE CANDLE SILVER SPIKE', 'EGG FRYING PAN IVORY ', 'EGG FRYING PAN BLUE ', 'EGG FRYING PAN PINK ', 'EGG FRYING PAN MINT ', 'SPACE BOY CHILDRENS CUP', 'DOLLY GIRL CHILDRENS CUP', 'DOLLY GIRL CHILDRENS BOWL', 'SPACEBOY CHILDRENS BOWL', 'RED VINTAGE SPOT BEAKER', 'VINTAGE  2 METER FOLDING RULER', 'BISCUIT TIN VINTAGE LEAF', 'CANNISTER VINTAGE LEAF DESIGN', 'VINTAGE RED ENAMEL TRIM MUG ', 'VINTAGE RED ENAMEL TRIM PLATE', 'VINTAGE RED TRIM ENAMEL BOWL ', 'Printing smudges/thrown away', 'printing smudges/thrown away', 'VINTAGE DONKEY TAIL GAME ', 'BISCUIT TIN VINTAGE CHRISTMAS', 'GLASS APOTHECARY BOTTLE PERFUME', 'GLASS APOTHECARY BOTTLE ELIXIR', 'DRAWER KNOB CERAMIC IVORY', 'CROCHET DOG KEYRING', 'GLASS  SONGBIRD STORAGE JAR', 'DRAWER KNOB CRACKLE GLAZE IVORY', 'DRAWER KNOB CRACKLE GLAZE BLUE', 'DRAWER KNOB CRACKLE GLAZE PINK', 'DRAWER KNOB CRACKLE GLAZE GREEN', 'DRAWER KNOB CERAMIC RED', 'DRAWER KNOB CERAMIC BLACK', 'GLASS APOTHECARY BOTTLE TONIC', 'DONKEY TAIL GAME ', 'TRANSPARENT ACRYLIC TAPE DISPENSER', ' TOADSTOOL BEDSIDE LIGHT ', \"JUMBO BAG 50'S CHRISTMAS \", 'DOORKNOB CRACKED GLAZE IVORY', 'DOORKNOB CRACKED GLAZE BLUE', 'SMALL BONNE JAM JAR  T-LIGHT HOLDER', 'to push order througha s stock was ', 'found some more on shelf', 'GLASS TWIST BON BON JAR', 'DRAWER KNOB VINTAGE GLASS STAR', 'PACK OF 6 LARGE FRUIT STRAWS ', 'SPACEBOY CHILDRENS CUP', 'CORDIAL GLASS JUG', 'COCKTAIL SWORDS 50 PIECES', 'PARTY CHARMS 50 PIECES', 'PACK OF 6 SMALL FRUIT STRAWS', 'PACK OF 6 COCKTAIL PARASOL STRAWS', '18PC WOODEN CUTLERY SET DISPOSABLE', '6PC WOOD PLATE SET DISPOSABLE', 'T-LIGHT HOLDER SILVER HEART HANDLE', 'GLASS BONNE JAM JAR', 'Show Samples', 'RIDGED BONNE JAM JAR T-LIGHT HOLDER', 'CLASSICAL ROSE TABLE LAMP', 'SMALL APOTHECARY MEASURING JAR ', 'TREE T-LIGHT HOLDER WILLIE WINKIE', 'T-LIGHT HOLDER SILVER PETIT FOUR ', 'WRAP VINTAGE LEAF DESIGN', 'PANTRY MAGNETIC  SHOPPING LIST', 'DRAWER KNOB VINTAGE GLASS HEXAGON', 'LARGE BONNE JAM JAR  T-LIGHT HOLDER', 'CHRISTMAS TREE HANGING SILVER ', 'CHRISTMAS TREE HANGING GOLD', 'SKETCHBOOK MAGNETIC SHOPPING LIST', 'RETRO LEAVES MAGNETIC NOTEPAD', 'SET OF 4 SANTA PLACE SETTINGS', 'WHITE WICKER STAR ', 'IVORY REFECTORY CLOCK', 'RED REFECTORY CLOCK ', 'MINT DINER WALL CLOCK', 'PINK DINER WALL CLOCK', 'RETO LEAVES MAGNETIC SHOPPING LIST', 'CANDLE HOLDER SILVER MADELINE', 'VEGETABLE MAGNETIC  SHOPPING LIST', 'CHRISTMAS TABLE SILVER CANDLE SPIKE', 'DIAMANTE NECKLACE PURPLE', 'BLUE REFECTORY CLOCK ', 'APOTHECARY MEASURING JAR', 'LARGE APOTHECARY MEASURING JAR ', 'DOORKNOB CRACKED GLAZE PINK', 'DOORKNOB CRACKED GLAZE GREEN', 'DRAWER KNOB VINTAGE GLASS BALL', 'FOUND', 'GLASS SONGBIRD STORAGE JAR', 'mix up with c', 'TRAVEL CARD WALLET VINTAGE LEAF', 'mouldy, unsaleable.', 'PINK EASTER HENS+FLOWER', 'VIP PASSPORT COVER ', 'GARAGE KEY FOB', 'BELL HEART ANTIQUE GOLD', 'LEAVES MAGNETIC  SHOPPING LIST', 'BOX OF 6 MINI VINTAGE CRACKERS', 'BAROQUE BUTTERFLY EARRINGS CRYSTAL', 'ROUND BLUE CLOCK WITH SUCKER', 'ROUND PURPLE CLOCK WITH SUCKER', 'FLOWER PURPLE CLOCK WITH SUCKER', 'FLOWER BLUE CLOCK WITH SUCKER', 'SET OF 4 KNICK KNACK TINS LEAF', \"GIANT 50'S CHRISTMAS CRACKER\", 'DOORMAT VINTAGE LEAF', 'PACKING CHARGE', 'VINTAGE LEAF MAGNETIC NOTEPAD', 'GREEN CRYSTAL DROP EARRINGS', 'TRAVEL CARD WALLET DOTCOMGIFTSHOP', \"BOX OF 6 MINI 50'S CRACKERS\", 'COPPER AND BRASS BAG CHARM', 'IVORY GOLD METAL BAG CHARM', 'WHITE WITH METAL BAG CHARM', 'GREEN WITH METAL BAG CHARM', 'RED PEONY TABLE CLOCK', 'LILAC FEATHERS CURTAIN', 'VINTAGE BEAD PINK JEWEL BOX', 'T-LIGHT HOLDER SILVER SAUCER', 'VINTAGE CHRISTMAS BUNTING', 'SET OF 6 TEA TIME BAKING CASES', 'SET OF 6 SNACK LOAF BAKING CASES', 'SET OF 12 FAIRY CAKE BAKING CASES', 'SET OF 12 MINI LOAF BAKING CASES', 'SET 40 HEART SHAPE PETIT FOUR CASES', 'ANTIQUE SILVER BOOK MARK WITH BEADS', 'BROWN VINTAGE VICTORIAN EARRINGS', 'PSYCHEDELIC METAL SIGN CALENDAR', 'ROUND ARTICULATED PINK CLOCK W/SUCK', 'PINK/BLUE STRING CURTAIN ', 'ENAMEL JUG PANTRY', 'ENAMEL BOWL PANTRY', 'ENAMEL MUG PANTRY', 'VINTAGE CHRISTMAS STOCKING ', 'wrongly marked. 23343 in box', 'came coded as 20713', 'VINTAGE CHRISTMAS TABLECLOTH', 'alan hodge cant mamage this section', 'AMBER BERTIE MOBILE PHONE CHARM', 'PINK BEADS+HAND PHONE CHARM', 'PACK OF SIX LED TEA LIGHTS', 'VINTAGE CHRISTMAS GIFT SACK', 'SPOTTED WHITE NATURAL SEED NECKLACE', 'ORANGE PENDANT TRIPLE SHELL NECKLAC', 'WRAP ALPHABET POSTER  ', 'dotcom', 'LAUREL STAR ANTIQUE GOLD', 'BLUE/YELLOW CERAMIC CANDLE HOLDER', 'GREEN/BLUE CERAMIC CANDLE HOLDER', 'AMBER 3 BEAD DROP EARRINGS', 'PURPLE DRESS JEWELLERY STAND', 'WRAP BIRD GARDEN ', 'WRAP PAISLEY PARK ', 'THE KING GIFT BAG 25x24x12cm', 'FBA', 'BLUE MONTE CARLO HANDBAG', 'CUTE RABBIT CEATURE SCREEN ', 'CUTE BIRD CEATURE SCREEN', 'WRAP RED DOILEY', 'WRAP FLOWER SHOP  ', 'WRAP MAGIC FOREST ', 'WHITE STONE/CRYSTAL EARRINGS', 'BIRD ON BRANCH CANVAS SCREEN', \"WRAP 50'S  CHRISTMAS\", 'SPACEBOY BEAKER', ' DOLLY GIRL BEAKER', 'I LOVE LONDON BEAKER', 'stock creditted wrongly', 'ebay', 'DOORKNOB CERAMIC IVORY', 'ORIENTAL RED CUSHION COVER ', 'incorrectly put back into stock', 'LIGHT PINK FLOCK GLASS CANDLEHOLDER', 'MONEY BOX FIRST AID DESIGN', 'VINTAGE CHRISTMAS CAKE FRILL', 'MISELTOE HEART WREATH CREAM', 'VINTAGE BEAD PINK JEWEL STAND', 'Damages/samples', 'SET 8 CANDLES VINTAGE DOILEY', 'SET OF 12 T-LIGHTS VINTAGE DOILEY', 'VINTAGE CHRISTMAS PAPER GIFT BAG', 'GIFT BAG LARGE VINTAGE CHRISTMAS', '6 GIFT TAGS VINTAGE CHRISTMAS ', \"6 GIFT TAGS 50'S CHRISTMAS \", 'RED SPOT PAPER GIFT BAG', 'Dotcomgiftshop Gift Voucher £100.00', ' RED SPOT GIFT BAG LARGE', 'SET OF 12 FORK CANDLES', 'Sold as 1 on dotcom', 'BLUE PAINTED KASHMIRI CHAIR', 'ROLL WRAP VINTAGE CHRISTMAS', 'ROLL WRAP VINTAGE SPOT ', 'GIFT BAG LARGE SPOT ', \"ROLL WRAP 50'S RED CHRISTMAS \", \"ROLL WRAP 50'S CHRISTMAS\", 'STORAGE TIN VINTAGE DOILEY ', 'JUMBO BAG VINTAGE DOILEY ', 'LUNCH BAG VINTAGE DOILEY ', 'ADULT APRON APPLE DELIGHT', 'WRAP  VINTAGE DOILEY ', 'SET OF 4 KNICK KNACK TINS DOILY ', 'RUSTIC STRAWBERRY JAMPOT LARGE ', 'PURPLE ENAMEL+GLASS HAIR COMB', 'JUMBO BAG VINTAGE DOILY ', 'LUNCH BAG VINTAGE DOILY ', 'SET 8 CANDLES VINTAGE DOILY', 'STORAGE TIN VINTAGE DOILY ', 'IVORY WICKER HEART LARGE', 'DECORATIVE WICKER HEART LARGE', 'ASSORTED COLOURED CIRCLE MOBILE ', 'DECORATIVE WICKER HEART MEDIUM', 'IVORY WICKER HEART SMALL', 'IVORY WICKER HEART MEDIUM', 'SET 6 SCHOOL MILK BOTTLES IN CRATE', 'WRAP  VINTAGE DOILY ', 'SET OF 4 KNICK KNACK TINS  DOILEY ', 'DECORATIVE WICKER HEART SMALL', 'HANGING CLEAR MINI BOTTLE', 'SET OF 12 T-LIGHTS VINTAGE DOILY', 'HANGING MINI COLOURED BOTTLES', 'RUSTIC STRAWBERRY JAMPOT SMALL', 'PINK ACRYLIC JEWEL SNOWFLAKE', 'ACRYLIC JEWEL ANGEL,PINK', 'WRAP RED VINTAGE DOILY', 'Adjust bad debt', 'CRACKED GLAZE NECKLACE BROWN', 'RUSTIC STRAWBERRY JAM POT SMALL', 'PINK/WHITE CHRISTMAS TREE 30CM', 'ACRYLIC JEWEL ICICLE, BLUE', 'taig adjust no stock', 'RUSTIC STRAWBERRY JAM POT LARGE ', 'VINTAGE CHRISTMAS GIFT BAG LARGE ', 'HOT WATER BOTTLE SEX BOMB', 'HOT STUFF HOT WATER BOTTLE', \"50'S CHRISTMAS PAPER GIFT BAG\", 'LOVE HOT WATER BOTTLE', '3 BLACK CATS W HEARTS BLANK CARD', 'HAPPY BIRTHDAY CARD STRIPEY TEDDY', 'HOT WATER BOTTLE KEEP CALM', 'DIAMANTE NECKLACE GREEN', \" 50'S CHRISTMAS GIFT BAG LARGE\", 'CORDIAL JUG', 'ICE CREAM BUBBLES', 'HAND WARMER RED LOVE HEART', 'NATURAL HANGING QUILTED HEARTS ', 'HANGING QUILTED PATCHWORK APPLES', 'HAPPY BIRTHDAY CARD TEDDY/CAKE', '3 DRAWER ANTIQUE WHITE WOOD CABINET', 'FLOWER FAIRY 5 DRAWER LINERS', 'ELEPHANT BIRTHDAY CARD ', 'HANGING JAM JAR T-LIGHT HOLDERS', 'FILIGREE DIAMANTE CHAIN', 'CRUK Commission', 'PARTY CONES CANDY DECORATION', 'PRETTY HANGING QUILTED HEARTS', 'SWEETHEART 3 TIER CAKE STAND ', 'PACK OF 12 VINTAGE CHRISTMAS TISSUE', \"PACK OF 12 50'S CHRISTMAS TISSUES\", 'PACK OF 12 PAISLEY PARK TISSUES ', 'FAIRY TALE COTTAGE NIGHT LIGHT', 'code mix up? 84930', '?display?', 'sold as 1', '?missing', 'crushed ctn', 'SET 10 CARDS PERFECT POST 17090', 'SET 10 CARD CHRISTMAS WELCOME 17112', 'SET 10 CARDS XMAS CHOIR 17068', 'MINT DINER CLOCK', 'BUTTERFLY CUSHION COVER', 'BELLE JARDINIERE CUSHION COVER', 'POSTE FRANCE CUSHION COVER', 'SET OF 2 TRAYS HOME SWEET HOME', 'HOME SWEET HOME CUSHION COVER ', 'STOOL HOME SWEET HOME ', 'FOOT STOOL HOME SWEET HOME ', 'PACK OF 12 DOLLY GIRL TISSUES', 'HOME SWEET HOME HANGING HEART', ' TRELLIS COAT RACK', 'HANGING HEART BONHEUR', 'LA JARDIN BOTANIQUE CUSHION COVER', 'STORAGE TIN HOME SWEET HOME', 'ZINC BOX SIGN HOME', 'GINGHAM RECIPE BOOK BOX', 'HOME SWEET HOME BLACKBOARD', 'HOME SWEET HOME KEY HOLDER', 'HOME SWEET HOME 2 DRAWER CABINET', 'PACK OF 12 RED APPLE TISSUES', 'PACK OF 12 VINTAGE LEAF TISSUES ', 'PACK OF 12 VINTAGE DOILY TISSUES', 'HOME SWEEET HOME 3 PEG HANGER ', 'LETTER HOLDER HOME SWEET HOME', \"GIFT BAG LARGE 50'S CHRISTMAS\", 'METAL SIGN DROP YOUR PANTS', 'HEART MIRROR ANTIQUE WHITE', 'SPACEBOY ROCKET LOLLY MAKERS', 'SHELF WITH 4 HOOKS HOME SWEET HOME', 'ENAMEL DINNER PLATE PANTRY', 'SET 10 CARDS 12 DAYS WRAP  17058', 'SET 10 CARDS OUT OF ORDER 17216', 'HOME SWEET HOME HOOK', 'BATHROOM HOOK', 'HOME SWEET HOME 3 PEG HANGER ', 'VINTAGE COFFEE GRINDER BOX', 'PHOTO FRAME LINEN AND LACE LARGE', 'SET 10 CARDS SCOTTIE DOG 17211', 'PHOTO FRAME LINEN AND LACE SMALL', 'RUSTIC MIRROR WITH LACE HEART', 'PANTRY HOOK BALLOON WHISK ', 'SET 10 XMAS CARDS & BADGES 17070', 'SET 10 CARDS JINGLE BELLS 16957', 'CURIO CABINET LINEN AND LACE ', 'Crushed', 'WOODLAND BUNNIES LOLLY MAKERS', 'PANTRY 3 HOOK ROLLING PIN HANGER', 'PANTRY HOOK SPATULA', 'test', 'temp adjustment', '3 RAFFIA RIBBONS VINTAGE CHRISTMAS', 'LAVENDER TOILETTE BOTTLE', 'HOME SWEET HOME BOTTLE ', \"3 RAFFIA RIBBONS 50'S CHRISTMAS \", ' I LOVE LONDON MINI BACKPACK', 'DOLLY GIRL MINI BACKPACK', 'SPACEBOY MINI BACKPACK', 'EMBOSSED HEART TRINKET BOX', 'WOODLAND MINI BACKPACK', 'PAINTED HEART WREATH WITH BELL', 'taig adjust', 'allocate stock for dotcom orders ta', 'CHAMBRE HOOK', 'SET 10 CARDS RED RIDING HOOD 17214', '??', 'add stock to allocate online orders', 'for online retail orders', 'SET 10 CARDS HATS & STOCKINGS 17081', 'CHRISTMAS HANGING SNOWFLAKE', 'PANTRY HOOK TEA STRAINER ', 'SET 6 CARDS SPARKLY REINDEER 17262', 'SET 10 CARDS MAGICAL TREE 17086', 'PANTRY CHOPPING BOARD', 'Amazon', 'ACRYLIC HANGING JEWEL,PINK', 'BLUE CLIMBING HYDRANGA ART FLOWER', 'found box', 'OOPS ! adjustment', 'Found in w/hse', 'LE JARDIN BOTANIQUE CUSHION COVER', 'website fixed', 'FLOWER FAIRY 5 SUMMER DRAW LINERS', 'SET 10 CARDS DRESSING UP 17077', 'SET 10 CARDS HANGING BAUBLES 17080', 'PLAYING CARDS KEEP CALM & CARRY ON', 'SET 12 COLOURING PENCILS DOILY', 'SET 12 COLOUR PENCILS SPACEBOY ', 'PLAYING CARDS JUBILEE UNION JACK', 'SET 36 COLOUR PENCILS SPACEBOY ', 'MINI PLAYING CARDS SPACEBOY ', 'PLAYING CARDS VINTAGE DOILEY ', 'SET 36 COLOUR PENCILS DOILEY', 'SET 12 COLOUR PENCILS DOILEY', 'PACK OF 12 DOILEY TISSUES', 'VINTAGE DOILY TRAVEL SEWING KIT', 'SET 12 COLOUR PENCILS LOVE LONDON', 'SET 36 COLOUR PENCILS LOVE LONDON', 'EMBROIDERED RIBBON REEL RUBY ', 'EMBROIDERED RIBBON REEL EMILY ', 'EMBROIDERED RIBBON REEL REBECCA ', 'SET 36 COLOURING PENCILS DOILY', 'SET 12 COLOUR PENCILS DOLLY GIRL ', 'PLAYING CARDS I LOVE LONDON ', 'SET 36 COLOUR PENCILS DOLLY GIRL', 'EMBROIDERED RIBBON REEL ROSIE', 'EMBROIDERED RIBBON REEL DAISY ', 'EMBROIDERED RIBBON REEL SALLY ', 'EMBROIDERED RIBBON REEL RACHEL ', 'MINI PLAYING CARDS GYMKHANA', 'MINI PLAYING CARDS DOLLY GIRL ', 'MINI PLAYING CARDS FUN FAIR ', 'MINI PLAYING CARDS BUFFALO BILL ', 'EMBROIDERED RIBBON REEL SUSIE ', 'SET 10 CARD PERFECT NATIVITY 17089', 'Dagamed', 'ROUND CACTUS CANDLE', 'DOLLY GIRL MINI RUCKSACK', 'SPACEBOY MINI RUCKSACK', 'PLAYING CARDS VINTAGE DOILY ', 'LARGE BLACK DIAMANTE HAIRSLIDE', 'SET 10 CARDS CHRISTMAS ROBIN 17095', 'PACK OF 12 CHRISTMAS FUN CARDS', 'SET 10 CARDS SNOWY SNOWDROPS  17100', 'SET 10 CARDS CHEERFUL ROBIN 17065', 'EMBROIDERED RIBBON REEL SOPHIE  ', 'EMBROIDERED RIBBON REEL CLAIRE', 'VINTAGE DOILY DELUXE SEWING KIT ', 'SET 10 CARDS ROBIN WATERPUMP  17096', 'SET 10 CARDS FILIGREE BAUBLE 16961', 'SMOKEY GREY COLOUR GLASS', 'SWEETHEART BIRD HOUSE', 'TUSCAN VILLA DOVECOTE', 'CARD HOLDER LOVE BIRD SMALL', 'HEART TRELLISTRIPLE T-LIGHT HOLDER', 'VINTAGE LEAF CHOPPING BOARD  ', 'POPPY FIELDS CHOPPING BOARD', 'RED APPLES CHOPPING BOARD   ', 'SIX DRAWER OFFICE TIDY', 'VEGETABLE GARDEN CHOPPING BOARD', 'SET 10 CARDS CHRISTMAS TREE 16955', ' NINE DRAWER OFFICE TIDY', 'CARD HOLDER LOVE BIRD LARGE ', 'HORSE & PONY WALL ART', 'BICYCLE SAFTEY WALL ART', 'STOP FOR TEA WALL ART', 'WALL ART CLASSIC PUDDINGS ', 'BUFFALO BILL WALL ART ', 'WALL ART WORK REST AND PLAY  ', \"WALL ART LOVES' SECRET \", 'DOG AND BALL WALL ART', 'DOG LICENCE WALL ART', 'WALL ART GARDEN HAVEN ', \"70'S ALPHABET WALL ART\", 'SPACEBOY WALL ART', 'KEEP CALM WALL ART ', 'WALL ART ONLY ONE PERSON ', 'WALL ART VINTAGE HEART', 'CAT AND BIRD WALL ART', 'TREASURE AHOY WALL ART', 'WALL ART BIG LOVE ', 'ANIMALS AND NATURE WALL ART', 'HANGING  BUTTERFLY T-LIGHT HOLDER', 'DOLLY GIRL WALL ART', 'VILLAGE SHOW WALL ART', 'WALL ART MID CENTURY MODERN ', 'historic computer difference?....se', 'WALL ART THE MAGIC FOREST ', 'I LOVE LONDON WALL ART', 'WALL ART KEEP CALM ', 'WALL ART BICYCLE SAFTEY ', 'WALL ART BUFFALO BILL ', 'WALL ART VILLAGE SHOW ', 'WALL ART STOP FOR TEA ', 'WALL ART DOG LICENCE ', 'WALL ART SPACEBOY', 'SET 10 MINI SANTA & SNOWMAN  17087', 'SET 10 CARDS DINKY TREE 17076', 'WALL ART I LOVE LONDON ', \"WALL ART 70'S ALPHABET \", 'Lighthouse Trading zero invc incorr', 'Incorrect stock entry.', 'incorrect stock entry.', 'KEY RING BASEBALL BOOT ASSORTED ', 'WALL ART HORSE & PONY ', 'WALL ART ANIMALS AND NATURE ', 'PINK HORSE SOCK PUPPET KIT', 'HEART TRELLIS TRIPLE T-LIGHT HOLDER', 'WALL ART CAT AND BIRD ', 'TUSCAN VILLA FEEDING STATION', 'KEY RING BASEBALL BOOT UNION JACK', 'WALL ART BICYCLE SAFETY', 'VINTAGE  2 METRE FOLDING RULER', 'michel oops', 'WALL ART DOLLY GIRL ', 'SET 10 CARDS 12 DAYS OF XMAS 17059', 'SET 10 CARDS POINSETTIA 17093', 'SET 10 CARDS CHRISTMAS HOLLY  17259', ' I LOVE LONDON MINI RUCKSACK', 'SET 36 COLOURING PENCILS DOILEY', 'SET 12 COLOURING PENCILS DOILEY', 'WOODLAND MINI RUCKSACK ', 'WALL ART DOG AND BALL ', 'wrongly coded 20713', 'wrongly coded-23343', \"WALL ART , LOVES' SECRET \", 'WALL ART,ONLY ONE PERSON ', 'WALL ART ,PUDDINGS ', 'stock check', 'crushed boxes', 'SET 10 MINICARDS CUTE SNOWMAN 17071', 'TUSCAN VILLA BIRD TABLE ', 'N0 SINGING METAL SIGN', 'WET/MOULDY', \"can't find\", 'UBO-LIGHT TRIOBASE PURPLE', 'SILVER 2 STRAND NECKLACE-LEAF CHARM', 'SILVER M.O.P. ORBIT NECKLACE', 'GOLD M.O.P. ORBIT NECKLACE', 'TUSCAN VILLA DOVECOTE BIRD FEEDER', 'WALL ART , THE MAGIC FOREST ', 'CREAM BUNNY EASTER EGG BASKET', 'PINK BUNNY EASTER EGG BASKET', 'BLUE BUNNY EASTER EGG BASKET', 'WALL ART TREASURE AHOY ', 'S/4 BLACK DISCO PARTITION PANEL', 'BLACK VINT ART DEC CRYSTAL BRACELET', 'mouldy', 'BOX OF 6 CHRISTMAS CAKE DECORATIONS', 'HENRIETTA HEN MUG ', 'MILK MAIDS MUG ', 'EGG CUP MILKMAID INGRID', 'PINK HANGING HEART T-LIGHT HOLDER', 'EGG CUP HENRIETTA HEN PINK', 'Wet pallet-thrown away', 'Had been put aside.', 'SWEET HEART CAKE CARRIER', 'T-LIGHT HOLDER HANGING LOVE BIRD', 'OVAL  MINI PORTRAIT FRAME', 'HEART MINI PORTRAIT FRAME', 'SQUARE MINI PORTRAIT FRAME', 'PEARLISED IVORY HEART LARGE ', 'SET 10 CARD KRAFT REINDEER 17084', 'DOLLY CABINET 2 DRAWERS ', 'EGG CUP MILKMAID HELGA ', 'MEDIUM PARLOUR PICTURE FRAME ', 'VINTAGE ZINC WATERING CAN', 'VINTAGE ZINC WATERING CAN SMALL', 'LARGE PARLOUR PICTURE FRAME', 'SMALL PARLOUR PICTURE FRAME', 'EGG CUP HENRIETTA HEN CREAM ', 'EGG CUP MILKMAID HEIDI', 'VINTAGE ZINC PLANTER  ', 'WIRE EGG BASKET ', 'PEARLISED IVORY HEART SMALL ', 'DOLLY CABINET 3 DRAWERS ', 'SNACK TRAY I LOVE LONDON', 'Sale error', 'DECROTIVEVINTAGE COFFEE GRINDER BOX', 'High Resolution Image', 'LANDMARK FRAME LONDON BRIDGE ', 'LANDMARK FRAME COVENT GARDEN ', 'LANDMARK FRAME OXFORD STREET', 'LANDMARK FRAME BAKER STREET ', 'LANDMARK FRAME NOTTING HILL ', 'MINI LIGHTS WOODLAND MUSHROOMS', 'LANDMARK FRAME CAMDEN TOWN ', 'GARLAND, VINTAGE BELLS', 'VINTAGE JINGLE BELLS HEART', 'VINTAGE JINGLE BELLS WREATH', 'WOODLAND LARGE BLUE FELT HEART', 'WOODLAND LARGE PINK FELT HEART', 'WOODLAND LARGE RED FELT HEART', 'ANTIQUE HEART SHELF UNIT', 'WOODLAND SMALL RED FELT HEART', 'SWEETHEART WALL TIDY ', 'ROCOCO WALL MIRROR WHITE', 'SET 12 VINTAGE DOILY CHALK ', 'BOTANICAL GARDENS WALL CLOCK ', 'VINTAGE BELLS GARLAND', 'ROCOCO WALL MIROR', 'TRADITIONAL PICK UP STICKS GAME ', 'SET OF 3 MINI HANGING PORTRAITS', 'TRADITIONAL NAUGHTS & CROSSES', 'TRADTIONAL ALPHABET STAMP SET', 'SET 4 PICNIC CUTLERY BLUEBERRY', 'THREE MINI HANGING FRAMES', 'WOODLAND SMALL BLUE FELT HEART', 'Amazon Adjustment', 'wrongly marked 23343', '20713 wrongly marked', 'SET 10 CARDS WISHING TREE 17116', 'STRAWBERRY CERAMIC TRINKET POT', 'VINTAGE DOILY JUMBO BAG RED ', 'LUNCH BAG PAISLEY PARK  ', 'JUMBO BAG PAISLEY PARK', 'UBO-LIGHT TRIOBASE BLUE', 're-adjustment', 'SET OF 36 VINTAGE CHRISTMAS DOILIES', 'SET OF 36 SPACEBOY PAPER DOILIES', 'SET OF 36 DOLLY GIRL PAPER DOILIES', 'Breakages', 'DECORATIVE VINTAGE COFFEE  BOX', 'SET OF 36 PANTRY PAPER DOILIES', 'SET 4 PICNIC CUTLERY FONDANT', 'Marked as 23343', 20713, 'wrongly coded 23343', 'WOODLAND SMALL PINK FELT HEART', 'SET 10 CARDS PRINTED GRAPHIC 17219', 'SET 10 CHRISTMAS CARDS HOHOHO 16956', 'SET 10 CARD SNOWMAN 16965', 'Found by jackie', 'SILVER RECORD COVER FRAME', 'Damages', 'CLASSIC CHROME BICYCLE BELL ', 'SET 4 PICNIC CUTLERY CHERRY ', 'SET OF 3 PANTRY WOODEN SPOONS', 'PANTRY KITCHEN THERMOMETER ', 'CHECK', 'SET 10 CARDS TRIANGLE ICONS  17220', 'SET 10 CARDS WORLD CHILDREN 17067', 'SET 10 CARDS CHRISTMAS BAUBLE 16954', 'Unsaleable, destroyed.', 'wrongly marked', 'dotcom sales', 'had been put aside', 'LIGHT DECORATION BATTERY OPERATED', 'KEEP CALM BIRTHDAY WRAP', 'RUBY GLASS CLUSTER NECKLACE', 'WRAP KEEP CALM BIRTHDAY', 'SET 10 CARDS RUDOLPHS NOSE 17097', 'LUNCH BAG RED VINTAGE DOILY', \"BLACK SIL'T SQU CANDLE PLATE \", 'damages wax', 'ANT SILVER TURQUOISE BOUDICCA RING', 'PINK POLKADOT PLATE ', 'water damaged', 'ST GEORGE SET OF 10 PARTY LIGHTS', 'WRAP A PRETTY THANK YOU', 'CLASSIC CROME BICYCLE BELL ', 'DOILY THANK YOU CARD', 'A PRETTY THANK YOU CARD', 'SET 10 CARDS JINGLE BELLS 17217', 'TUSCAN VILLA BIRD FEEDER', 'PAPER BUNTING VINTAGE PARTY', 'PAPER BUNTING PAISLEY PARK', 'Wrongly mrked had 85123a in box', 'wrongly marked carton 22804', \"SET 10 CARDS DAVID'S MADONNA 17074\", 'SET 10 CARDS XMAS GRAPHIC  17218', 'LARGE PARLOUR FRAME', 'MEDIUM PARLOUR FRAME ', 'SMALL PARLOUR FRAME', 'SET 10 CARDS 3 WISE MEN 17107', 'FLOWER SHOP DESIGN MUG', 'ROSE FLOWER CANDLE+INCENSE 16X16CM', 'WHITE CHRISTMAS TREE 60CM', 'missing?', 'PAISLEY PARK CARD', 'PACK 3 BOXES CHRISTMAS PANETTONE', 'PACK OF 6 PANETTONE GIFT BOXES', 'PACK 3 BOXES BIRD PANETTONE ', 'COLOURED GLASS STAR T-LIGHT HOLDER', 'wet rusty', 'SET 10 CARDS DECK THE HALLS 16960', '12 HANGING EGGS HAND PAINTED', 'SET OF 6 EASTER RAINBOW CHICKS', 'amazon adjust', '???lost', 'DUSTY PINK CHRISTMAS TREE 60CM', 'IVORY RETRO KITCHEN WALL CLOCK', 'dotcomstock', 'SET 10 CARD CHRISTMAS STAMPS 16963', 'John Lewis', 'sold with wrong barcode', 'WHITE MOROCCAN METAL LANTERN', 'CAT WITH SUNGLASSES BLANK CARD', 'BLUE RETRO KITCHEN WALL CLOCK', 'dotcom adjust', 'RED RETRO KITCHEN WALL CLOCK', 'rusty thrown away', 'rusty throw away', 'check?', 'PURPLE FINE BEAD NECKLACE W TASSEL', 'HAND PAINTED HANGING EASTER EGG', '?? missing', 'wet pallet', '????missing', '???missing', 'PAINT YOUR OWN EGGS IN CRATE', 'AMAZON', 'BICYCLE PUNCTURE REPAIR KIT ', 'CLASSIC BICYCLE CLIPS ', 'CROCHET LILAC/RED BEAR KEYRING', 'SILVER AND BLACK ORBIT NECKLACE', 'LARGE HEART FLOWERS HOOK   ', 'GIN AND TONIC DIET METAL SIGN', 'SNACK TRAY RED GINGHAM', 'SNACK TRAY HAPPY FOREST  ', 'SNACK TRAY PAISLEY PARK', 'SET OF 6 RIBBONS COUNTRY STYLE', 'SNACK TRAY RED VINTAGE DOILY', 'SET OF 6 RIBBONS PERFECTLY PRETTY  ', 'SET OF 6 RIBBONS PARTY', 'SET 10 CARDS SNOWY ROBIN 17099', 'lost in space', 'SET 10 CARDS SWIRLY XMAS TREE 17104', 'wet?', 'lost??', '???', 'LETTER \"U\" BLING KEY RING', 'wet', 'wet boxes', '????damages????', 'mixed up', 'lost', 'CREAM HANGING HEART T-LIGHT HOLDER', 'PAPER CRAFT , LITTLE BIRDIE']\n"
          ]
        },
        {
          "data": {
            "text/plain": [
              "4224"
            ]
          },
          "execution_count": 17,
          "metadata": {},
          "output_type": "execute_result"
        }
      ],
      "source": [
        "print(products)\n",
        "len(products)"
      ]
    },
    {
      "cell_type": "markdown",
      "metadata": {
        "id": "q696j76OgrVD"
      },
      "source": [
        "##Modling Part"
      ]
    },
    {
      "cell_type": "markdown",
      "metadata": {
        "id": "UZFndmrV2w3e"
      },
      "source": [
        "* Develop Recommendation model Using Tensorflow"
      ]
    },
    {
      "cell_type": "markdown",
      "metadata": {
        "id": "aQvL1iHXNZUU"
      },
      "source": [
        "The code is for creating a deep learning-based hybrid recommendation system using TensorFlow in Python. It starts by pre-processing the input data, including mapping customer IDs and stock codes to unique integer values, and splitting the data into training and testing sets. The customer and product models are then created, each consisting of input, embedding, flatten, and dense layers. The customer-based model maps customer IDs to a lower-dimensional representation and the product-based model maps stock codes to a lower-dimensional representation. The final hybrid model is created by merging the customer and product models and adding two dense layers as the output. The model is then compiled and trained using Adam optimization and mean squared error loss function."
      ]
    },
    {
      "cell_type": "code",
      "execution_count": null,
      "metadata": {
        "colab": {
          "base_uri": "https://localhost:8080/"
        },
        "id": "5eWNF6a7Fkns",
        "outputId": "87f7f23b-f2a5-4680-a775-71e04d4da45d"
      },
      "outputs": [
        {
          "name": "stdout",
          "output_type": "stream",
          "text": [
            "Looking in indexes: https://pypi.org/simple, https://us-python.pkg.dev/colab-wheels/public/simple/\n",
            "Collecting surprise\n",
            "  Downloading surprise-0.1-py2.py3-none-any.whl (1.8 kB)\n",
            "Collecting scikit-surprise\n",
            "  Downloading scikit-surprise-1.1.3.tar.gz (771 kB)\n",
            "\u001b[2K     \u001b[90m━━━━━━━━━━━━━━━━━━━━━━━━━━━━━━━━━━━━━━\u001b[0m \u001b[32m772.0/772.0 KB\u001b[0m \u001b[31m11.1 MB/s\u001b[0m eta \u001b[36m0:00:00\u001b[0m\n",
            "\u001b[?25h  Preparing metadata (setup.py) ... \u001b[?25l\u001b[?25hdone\n",
            "Requirement already satisfied: joblib>=1.0.0 in /usr/local/lib/python3.8/dist-packages (from scikit-surprise->surprise) (1.2.0)\n",
            "Requirement already satisfied: numpy>=1.17.3 in /usr/local/lib/python3.8/dist-packages (from scikit-surprise->surprise) (1.21.6)\n",
            "Requirement already satisfied: scipy>=1.3.2 in /usr/local/lib/python3.8/dist-packages (from scikit-surprise->surprise) (1.7.3)\n",
            "Building wheels for collected packages: scikit-surprise\n",
            "  Building wheel for scikit-surprise (setup.py) ... \u001b[?25l\u001b[?25hdone\n",
            "  Created wheel for scikit-surprise: filename=scikit_surprise-1.1.3-cp38-cp38-linux_x86_64.whl size=3366463 sha256=abd1c3f95495640acb55969abb35fad3f2a85e7324bb64498172c58b06aa6d5c\n",
            "  Stored in directory: /root/.cache/pip/wheels/af/db/86/2c18183a80ba05da35bf0fb7417aac5cddbd93bcb1b92fd3ea\n",
            "Successfully built scikit-surprise\n",
            "Installing collected packages: scikit-surprise, surprise\n",
            "Successfully installed scikit-surprise-1.1.3 surprise-0.1\n"
          ]
        }
      ],
      "source": [
        "pip install surprise"
      ]
    },
    {
      "cell_type": "code",
      "execution_count": null,
      "metadata": {
        "id": "3HDBa-u_zC81"
      },
      "outputs": [],
      "source": [
        "# Import the necessary libraries\n",
        "import pandas as pd\n",
        "import numpy as np\n",
        "import random\n",
        "from sklearn.model_selection import train_test_split\n",
        "import tensorflow as tf\n",
        "from tensorflow import keras\n",
        "from tensorflow.keras.layers import Embedding, Input, Flatten, Dot, Dense, Dropout\n",
        "from tensorflow.keras.models import Model\n",
        "import matplotlib.pyplot as plt"
      ]
    },
    {
      "cell_type": "code",
      "execution_count": null,
      "metadata": {
        "id": "wvqtQbr5zCyU"
      },
      "outputs": [],
      "source": [
        "#Load Data\n",
        "\n",
        "#data Url\n",
        "url = \"/content/drive/MyDrive/FireHouseTest/Online Retail.xlsx\"\n",
        "dfm = pd.read_excel(url)\n"
      ]
    },
    {
      "cell_type": "code",
      "execution_count": null,
      "metadata": {
        "colab": {
          "base_uri": "https://localhost:8080/"
        },
        "id": "6gVOCzq9zCh3",
        "outputId": "5d2b16c1-19d6-40f6-8d9d-8552c6c87a7c"
      },
      "outputs": [
        {
          "name": "stdout",
          "output_type": "stream",
          "text": [
            "InvoiceNo           0\n",
            "StockCode           0\n",
            "Description      1454\n",
            "Quantity            0\n",
            "InvoiceDate         0\n",
            "UnitPrice           0\n",
            "CustomerID     135080\n",
            "Country             0\n",
            "dtype: int64\n"
          ]
        }
      ],
      "source": [
        "print (dfm.isnull().sum())"
      ]
    },
    {
      "cell_type": "code",
      "execution_count": null,
      "metadata": {
        "id": "TdzvMhHZD_2T"
      },
      "outputs": [],
      "source": []
    },
    {
      "cell_type": "code",
      "execution_count": null,
      "metadata": {
        "id": "0RkWR2QgHj9k"
      },
      "outputs": [],
      "source": [
        "df=dfm.copy()"
      ]
    },
    {
      "cell_type": "code",
      "execution_count": null,
      "metadata": {
        "id": "dNQREWeXOsyI"
      },
      "outputs": [],
      "source": [
        "#handling StockCodes\n",
        "df['StockCode1'] = df['StockCode']"
      ]
    },
    {
      "cell_type": "code",
      "execution_count": null,
      "metadata": {
        "colab": {
          "base_uri": "https://localhost:8080/"
        },
        "id": "sYrAbSqZLwYZ",
        "outputId": "41f84b46-1c96-4ad5-ff87-5ca7fa6c9424"
      },
      "outputs": [
        {
          "data": {
            "text/plain": [
              "array(['85123', 71053, '84406', ..., 23609, 23617, 23843], dtype=object)"
            ]
          },
          "execution_count": 219,
          "metadata": {},
          "output_type": "execute_result"
        }
      ],
      "source": [
        "df['StockCode'] = df['StockCode'].apply(lambda x: x[:-1] if type(x) == str and len(x) == 6 and not x.isdigit() else x)\n",
        "df['StockCode'].unique()"
      ]
    },
    {
      "cell_type": "code",
      "execution_count": null,
      "metadata": {
        "id": "bnUf9w97NqYJ"
      },
      "outputs": [],
      "source": [
        "df['StockCode'] = df['StockCode'].apply(lambda x: int(x) if str(x).isdigit() else x)"
      ]
    },
    {
      "cell_type": "code",
      "execution_count": null,
      "metadata": {
        "id": "9a66S-kBOgZh"
      },
      "outputs": [],
      "source": [
        "df = df[df['StockCode'].astype(str).str.isdigit()]\n",
        "df['StockCode'] = df['StockCode'].astype(int)"
      ]
    },
    {
      "cell_type": "code",
      "execution_count": null,
      "metadata": {
        "id": "WlELCGNVPC2f"
      },
      "outputs": [],
      "source": [
        "df=df.dropna()"
      ]
    },
    {
      "cell_type": "code",
      "execution_count": null,
      "metadata": {
        "colab": {
          "base_uri": "https://localhost:8080/"
        },
        "id": "KR1IM0ofEDgp",
        "outputId": "611a69d3-e94f-4307-b0b2-180c0c1499e4"
      },
      "outputs": [
        {
          "data": {
            "text/plain": [
              "InvoiceNo      0\n",
              "StockCode      0\n",
              "Description    0\n",
              "Quantity       0\n",
              "InvoiceDate    0\n",
              "UnitPrice      0\n",
              "CustomerID     0\n",
              "Country        0\n",
              "StockCode1     0\n",
              "dtype: int64"
            ]
          },
          "execution_count": 223,
          "metadata": {},
          "output_type": "execute_result"
        }
      ],
      "source": [
        "df.isnull().sum()"
      ]
    },
    {
      "cell_type": "code",
      "execution_count": null,
      "metadata": {
        "id": "zpH8WkHFRFVl"
      },
      "outputs": [],
      "source": [
        "# Preprocess the data\n",
        "df = df.dropna()\n",
        "df['CustomerID'] = df['CustomerID'].astype(int)\n",
        "df['StockCode'] = df['StockCode'].astype(int)\n",
        "df['Quantity'] = df['Quantity'].astype(int)\n",
        "df['UnitPrice'] = df['UnitPrice'].astype(float)"
      ]
    },
    {
      "cell_type": "code",
      "execution_count": null,
      "metadata": {
        "id": "y8G8-wbmRFMK"
      },
      "outputs": [],
      "source": [
        "# Create a list of unique customer IDs and stock codes\n",
        "customer_ids = df['CustomerID'].unique().tolist()\n",
        "stock_codes = df['StockCode'].unique().tolist()"
      ]
    },
    {
      "cell_type": "code",
      "execution_count": null,
      "metadata": {
        "id": "5FOUleGwRFCd"
      },
      "outputs": [],
      "source": [
        "# Create a dictionary mapping customer IDs and stock codes to integers\n",
        "customer_id_map = {id: i for i, id in enumerate(customer_ids)}\n",
        "stock_code_map = {code: i for i, code in enumerate(stock_codes)}"
      ]
    },
    {
      "cell_type": "code",
      "execution_count": null,
      "metadata": {
        "id": "f0lFGA3SRE4r"
      },
      "outputs": [],
      "source": [
        "# Replace the customer IDs and stock codes in the data with the integers\n",
        "df['CustomerID'] = df['CustomerID'].map(lambda x: customer_id_map[x])\n",
        "df['StockCode'] = df['StockCode'].map(lambda x: stock_code_map[x])"
      ]
    },
    {
      "cell_type": "code",
      "execution_count": null,
      "metadata": {
        "id": "Hwn1Z75WREvP"
      },
      "outputs": [],
      "source": [
        "# Split the data into training and testing sets\n",
        "train_data, test_data = train_test_split(df, test_size=0.2)"
      ]
    },
    {
      "cell_type": "code",
      "execution_count": null,
      "metadata": {
        "id": "3qJOllPvRElK"
      },
      "outputs": [],
      "source": [
        "# Create the input and output data for the model\n",
        "train_input = train_data[['CustomerID', 'StockCode']]\n",
        "train_output = train_data[['Quantity']]\n",
        "test_input = test_data[['CustomerID', 'StockCode']]\n",
        "test_output = test_data[['Quantity']]"
      ]
    },
    {
      "cell_type": "code",
      "execution_count": null,
      "metadata": {
        "id": "AUvQ0T9pREcU"
      },
      "outputs": [],
      "source": [
        "# Create the customer-based model\n",
        "# customer_input = tf.keras.layers.Input(shape=(1,))\n",
        "# customer_embedding = tf.keras.layers.Embedding(len(customer_ids), 8)(customer_input)\n",
        "# customer_flatten = tf.keras.layers.Flatten()(customer_embedding)\n",
        "# customer_output = tf.keras.layers.Dense(64, activation='relu')(customer_flatten)\n",
        "\n",
        "customer_input = tf.keras.layers.Input(shape=(1,))\n",
        "customer_embedding = tf.keras.layers.Embedding(len(customer_ids), 64)(customer_input)\n",
        "customer_flatten = tf.keras.layers.Flatten()(customer_embedding)\n",
        "customer_output = tf.keras.layers.Dense(64, activation='relu')(customer_flatten)\n"
      ]
    },
    {
      "cell_type": "code",
      "execution_count": null,
      "metadata": {
        "id": "M8BeX7kKREKY"
      },
      "outputs": [],
      "source": [
        "# Create the product-based model\n",
        "product_input = tf.keras.layers.Input(shape=(1,))\n",
        "product_embedding = tf.keras.layers.Embedding(len(stock_codes), 8)(product_input)\n",
        "product_flatten = tf.keras.layers.Flatten()(product_embedding)\n",
        "product_output = tf.keras.layers.Dense(64, activation='relu')(product_flatten)"
      ]
    },
    {
      "cell_type": "code",
      "execution_count": null,
      "metadata": {
        "id": "nkin_1B1R-F3"
      },
      "outputs": [],
      "source": [
        "# Merge the customer and product models\n",
        "merged = tf.keras.layers.concatenate([customer_output, product_output])\n",
        "output = tf.keras.layers.Dense(32, activation='relu')(merged)\n",
        "output = tf.keras.layers.Dense(1)(output)"
      ]
    },
    {
      "cell_type": "code",
      "execution_count": null,
      "metadata": {
        "id": "RolBJPT8R90y"
      },
      "outputs": [],
      "source": [
        "# Create the hybrid model\n",
        "model = tf.keras.models.Model(inputs=[customer_input, product_input], outputs=output)"
      ]
    },
    {
      "cell_type": "code",
      "execution_count": null,
      "metadata": {
        "id": "_3kZVjyVR9kZ"
      },
      "outputs": [],
      "source": [
        "# Compile the model\n",
        "model.compile(optimizer='adam', loss='mean_squared_error')"
      ]
    },
    {
      "cell_type": "code",
      "execution_count": null,
      "metadata": {
        "colab": {
          "base_uri": "https://localhost:8080/"
        },
        "id": "gK96gpBfR9T4",
        "outputId": "8f83f081-0d2a-4825-e217-c3bf792b68b1"
      },
      "outputs": [
        {
          "name": "stdout",
          "output_type": "stream",
          "text": [
            "10116/10116 [==============================] - 97s 9ms/step - loss: 22378.8906\n"
          ]
        },
        {
          "data": {
            "text/plain": [
              "<keras.callbacks.History at 0x7fdd07a14460>"
            ]
          },
          "execution_count": 173,
          "metadata": {},
          "output_type": "execute_result"
        }
      ],
      "source": [
        "# Train the model\n",
        "model.fit([train_input['CustomerID'], train_input['StockCode']], train_output, epochs=1, batch_size=32)"
      ]
    },
    {
      "cell_type": "code",
      "execution_count": null,
      "metadata": {
        "colab": {
          "base_uri": "https://localhost:8080/"
        },
        "id": "ocnrR9v1R9CD",
        "outputId": "87c023a4-1f6f-4913-b14f-ad954c6da74e"
      },
      "outputs": [
        {
          "name": "stdout",
          "output_type": "stream",
          "text": [
            "2529/2529 [==============================] - 6s 2ms/step - loss: 218999.9375\n",
            "Score: 218999.9375\n"
          ]
        }
      ],
      "source": [
        "score = model.evaluate([test_input['CustomerID'], test_input['StockCode']], test_output)\n",
        "print(\"Score:\", score)"
      ]
    },
    {
      "cell_type": "code",
      "execution_count": null,
      "metadata": {
        "colab": {
          "base_uri": "https://localhost:8080/",
          "height": 1000
        },
        "id": "tWYNGyp2UajB",
        "outputId": "91d5e311-2e5d-4fbe-87d5-9ff908b261b5"
      },
      "outputs": [
        {
          "name": "stdout",
          "output_type": "stream",
          "text": [
            "Epoch 1/30\n",
            "10116/10116 [==============================] - 67s 7ms/step - loss: 39298.6133\n",
            "Epoch 2/30\n",
            "10116/10116 [==============================] - 78s 8ms/step - loss: 39118.5078\n",
            "Epoch 3/30\n",
            "10116/10116 [==============================] - 84s 8ms/step - loss: 38970.4922\n",
            "Epoch 4/30\n",
            "10116/10116 [==============================] - 70s 7ms/step - loss: 38797.0273\n",
            "Epoch 5/30\n",
            "10116/10116 [==============================] - 92s 9ms/step - loss: 38612.4727\n",
            "Epoch 6/30\n",
            "10116/10116 [==============================] - 72s 7ms/step - loss: 38374.2773\n",
            "Epoch 7/30\n",
            "10116/10116 [==============================] - 68s 7ms/step - loss: 37993.0547\n",
            "Epoch 8/30\n",
            "10116/10116 [==============================] - 65s 6ms/step - loss: 37717.8516\n",
            "Epoch 9/30\n",
            "10116/10116 [==============================] - 68s 7ms/step - loss: 37806.3633\n",
            "Epoch 10/30\n",
            "10116/10116 [==============================] - 69s 7ms/step - loss: 37264.7539\n",
            "Epoch 11/30\n",
            "10116/10116 [==============================] - 67s 7ms/step - loss: 37007.8281\n",
            "Epoch 12/30\n",
            "10116/10116 [==============================] - 65s 6ms/step - loss: 36347.5000\n",
            "Epoch 13/30\n",
            "10116/10116 [==============================] - 67s 7ms/step - loss: 35968.2969\n",
            "Epoch 14/30\n",
            "10116/10116 [==============================] - 67s 7ms/step - loss: 35495.2617\n",
            "Epoch 15/30\n",
            "10116/10116 [==============================] - 64s 6ms/step - loss: 35175.2227\n",
            "Epoch 16/30\n",
            "10116/10116 [==============================] - 67s 7ms/step - loss: 34678.8086\n",
            "Epoch 17/30\n",
            "10116/10116 [==============================] - 66s 7ms/step - loss: 34403.3086\n",
            "Epoch 18/30\n",
            "10116/10116 [==============================] - 66s 7ms/step - loss: 33524.0156\n",
            "Epoch 19/30\n",
            "10116/10116 [==============================] - 87s 9ms/step - loss: 33492.2422\n",
            "Epoch 20/30\n",
            "10116/10116 [==============================] - 61s 6ms/step - loss: 32689.8398\n",
            "Epoch 21/30\n",
            "10116/10116 [==============================] - 58s 6ms/step - loss: 32051.1992\n",
            "Epoch 22/30\n",
            "10116/10116 [==============================] - 59s 6ms/step - loss: 32095.6543\n",
            "Epoch 23/30\n",
            "10116/10116 [==============================] - 58s 6ms/step - loss: 31079.6445\n",
            "Epoch 24/30\n",
            "10116/10116 [==============================] - 58s 6ms/step - loss: 30438.2227\n",
            "Epoch 25/30\n",
            "10116/10116 [==============================] - 58s 6ms/step - loss: 30656.3066\n",
            "Epoch 26/30\n",
            "10116/10116 [==============================] - 58s 6ms/step - loss: 29558.9082\n",
            "Epoch 27/30\n",
            "10116/10116 [==============================] - 57s 6ms/step - loss: 28858.6953\n",
            "Epoch 28/30\n",
            "10116/10116 [==============================] - 57s 6ms/step - loss: 28614.3613\n",
            "Epoch 29/30\n",
            "10116/10116 [==============================] - 58s 6ms/step - loss: 27534.4297\n",
            "Epoch 30/30\n",
            "10116/10116 [==============================] - 58s 6ms/step - loss: 27455.1953\n"
          ]
        },
        {
          "ename": "NameError",
          "evalue": "ignored",
          "output_type": "error",
          "traceback": [
            "\u001b[0;31m---------------------------------------------------------------------------\u001b[0m",
            "\u001b[0;31mNameError\u001b[0m                                 Traceback (most recent call last)",
            "\u001b[0;32m<ipython-input-131-1a71128a2bb8>\u001b[0m in \u001b[0;36m<module>\u001b[0;34m\u001b[0m\n\u001b[1;32m      2\u001b[0m \u001b[0;34m\u001b[0m\u001b[0m\n\u001b[1;32m      3\u001b[0m \u001b[0;31m# Plot the training loss\u001b[0m\u001b[0;34m\u001b[0m\u001b[0;34m\u001b[0m\u001b[0;34m\u001b[0m\u001b[0m\n\u001b[0;32m----> 4\u001b[0;31m \u001b[0mplt\u001b[0m\u001b[0;34m.\u001b[0m\u001b[0mplot\u001b[0m\u001b[0;34m(\u001b[0m\u001b[0mhistory\u001b[0m\u001b[0;34m.\u001b[0m\u001b[0mhistory\u001b[0m\u001b[0;34m[\u001b[0m\u001b[0;34m'loss'\u001b[0m\u001b[0;34m]\u001b[0m\u001b[0;34m)\u001b[0m\u001b[0;34m\u001b[0m\u001b[0;34m\u001b[0m\u001b[0m\n\u001b[0m\u001b[1;32m      5\u001b[0m \u001b[0;34m\u001b[0m\u001b[0m\n\u001b[1;32m      6\u001b[0m \u001b[0;31m# Label the x-axis and y-axis\u001b[0m\u001b[0;34m\u001b[0m\u001b[0;34m\u001b[0m\u001b[0;34m\u001b[0m\u001b[0m\n",
            "\u001b[0;31mNameError\u001b[0m: name 'plt' is not defined"
          ]
        }
      ],
      "source": [
        "history = model.fit([train_input['CustomerID'], train_input['StockCode']], train_output, epochs=30, batch_size=32)\n",
        "\n",
        "# Plot the training loss\n",
        "plt.plot(history.history['loss'])\n",
        "\n",
        "# Label the x-axis and y-axis\n",
        "plt.xlabel('Epochs')\n",
        "plt.ylabel('Loss')\n",
        "\n",
        "# Show the plot\n",
        "plt.show()\n"
      ]
    },
    {
      "cell_type": "code",
      "execution_count": null,
      "metadata": {
        "colab": {
          "base_uri": "https://localhost:8080/",
          "height": 279
        },
        "id": "8heTyux8jJNY",
        "outputId": "0c435499-b1eb-42fd-9abb-00a11b5c16f8"
      },
      "outputs": [
        {
          "data": {
            "image/png": "[encoded data removed]",
            "text/plain": [
              "<Figure size 432x288 with 1 Axes>"
            ]
          },
          "metadata": {
            "needs_background": "light"
          },
          "output_type": "display_data"
        }
      ],
      "source": [
        "# Plot the training loss\n",
        "plt.plot(history.history['loss'])\n",
        "\n",
        "# Label the x-axis and y-axis\n",
        "plt.xlabel('Epochs')\n",
        "plt.ylabel('Loss')\n",
        "\n",
        "# Show the plot\n",
        "plt.show()\n"
      ]
    },
    {
      "cell_type": "code",
      "execution_count": null,
      "metadata": {
        "colab": {
          "base_uri": "https://localhost:8080/"
        },
        "id": "f6r1EMA2QQCi",
        "outputId": "10ab51ba-b162-44b7-aa9a-1c020bd29b6a"
      },
      "outputs": [
        {
          "name": "stdout",
          "output_type": "stream",
          "text": [
            "0 input_16\n",
            "1 input_17\n",
            "2 embedding_15\n",
            "3 embedding_16\n",
            "4 flatten_15\n",
            "5 flatten_16\n",
            "6 dense_30\n",
            "7 dense_31\n",
            "8 concatenate_7\n",
            "9 dense_32\n",
            "10 dense_33\n"
          ]
        }
      ],
      "source": [
        "for i, layer in enumerate(model.layers):\n",
        "    print(i, layer.name)\n"
      ]
    },
    {
      "cell_type": "code",
      "execution_count": null,
      "metadata": {
        "id": "2S0kQezA_Gr_"
      },
      "outputs": [],
      "source": [
        "#give recomdations\n",
        "\n",
        "def recommend(model, customer_id_map, stock_code_map, customer_id=None, stock_code=None):\n",
        "    if customer_id is not None:\n",
        "        # Get the embeddings for the customer\n",
        "        customer_embeddings = model.get_layer(\"embedding_15\").get_weights()[0][customer_id_map[customer_id]]\n",
        "\n",
        "        # Use the embeddings to make recommendations\n",
        "        stock_code_scores = customer_embeddings @ model.get_layer(\"dense_30\").get_weights()[0].T\n",
        "        top_stock_codes = np.argsort(-stock_code_scores)[:5]\n",
        "        top_stock_codes = [list(stock_code_map.keys())[list(stock_code_map.values()).index(code)] for code in top_stock_codes]\n",
        "        return top_stock_codes\n",
        "    elif stock_code is not None:\n",
        "        # Get the embeddings for the product\n",
        "        product_embeddings = model.get_layer(\"embedding_5\").get_weights()[0][stock_code_map[stock_code]]\n",
        "\n",
        "        # Use the embeddings to make recommendations\n",
        "        customer_id_scores = product_embeddings @ model.get_layer(\"dense_9\").get_weights()[0].T\n",
        "        top_customer_ids = np.argsort(-customer_id_scores)[:5]\n",
        "        top_customer_ids = [list(customer_id_map.keys())[list(customer_id_map.values()).index(id)] for id in top_customer_ids]\n",
        "        return top_customer_ids\n",
        "    else:\n",
        "        raise ValueError(\"Either customer_id or stock_code must be provided.\")\n"
      ]
    },
    {
      "cell_type": "code",
      "execution_count": null,
      "metadata": {
        "colab": {
          "base_uri": "https://localhost:8080/"
        },
        "id": "GVCckpwn_4Lg",
        "outputId": "b69012d2-0169-48c8-e6b8-40f08d9fcbad"
      },
      "outputs": [
        {
          "name": "stdout",
          "output_type": "stream",
          "text": [
            "peredicted product code for particular customer:  [22629, 20725, 21258, 21035, 21871]\n"
          ]
        }
      ],
      "source": [
        "rmd=recommend(model, customer_id_map, stock_code_map, customer_id=17850, stock_code=None)\n",
        "print(\"peredicted product code for particular customer: \" ,rmd)"
      ]
    },
    {
      "cell_type": "code",
      "execution_count": null,
      "metadata": {
        "id": "tLl0jfx6SM9t"
      },
      "outputs": [],
      "source": [
        "def get_stock_details(rmd, df):\n",
        "    stock_details = {}\n",
        "    for code in rmd:\n",
        "        print(code)\n",
        "        stock = df[df['StockCode'] == code]\n",
        "        if stock.empty:\n",
        "            continue\n",
        "        stock_details[code] = (stock['Description'].values[0], stock['StockCode1'].values[0])\n",
        "    return stock_details\n"
      ]
    },
    {
      "cell_type": "code",
      "execution_count": null,
      "metadata": {
        "colab": {
          "base_uri": "https://localhost:8080/"
        },
        "id": "3BZdYmT9R8xL",
        "outputId": "de01c79f-ea9e-4f57-ed37-5cea59b86652"
      },
      "outputs": [
        {
          "name": "stdout",
          "output_type": "stream",
          "text": [
            "2529/2529 [==============================] - 17s 7ms/step\n"
          ]
        }
      ],
      "source": [
        "prediction = model.predict([test_input['CustomerID'], test_input['StockCode']])\n"
      ]
    },
    {
      "cell_type": "code",
      "execution_count": null,
      "metadata": {
        "colab": {
          "base_uri": "https://localhost:8080/"
        },
        "id": "0ITOQ2LzUFgK",
        "outputId": "64e421bd-581b-4fb7-a61e-9b2f24ac590b"
      },
      "outputs": [
        {
          "name": "stdout",
          "output_type": "stream",
          "text": [
            "[[ 3.5004225]\n",
            " [63.967224 ]\n",
            " [58.682587 ]\n",
            " ...\n",
            " [ 4.763351 ]\n",
            " [ 9.864673 ]\n",
            " [15.266948 ]]\n"
          ]
        }
      ],
      "source": [
        "print(prediction)"
      ]
    },
    {
      "cell_type": "code",
      "execution_count": null,
      "metadata": {
        "colab": {
          "base_uri": "https://localhost:8080/"
        },
        "id": "Se-19sUOo4RH",
        "outputId": "82f3f299-cdb1-4dc5-883b-454e0772d2c0"
      },
      "outputs": [
        {
          "name": "stdout",
          "output_type": "stream",
          "text": [
            "Mean Squared Error: 219000.05072715538\n"
          ]
        }
      ],
      "source": [
        "# Evaluate the predictions\n",
        "from sklearn.metrics import mean_squared_error\n",
        "mean_squared_error = mean_squared_error(prediction, test_output)\n",
        "print(f'Mean Squared Error: {mean_squared_error}')"
      ]
    },
    {
      "cell_type": "markdown",
      "metadata": {
        "id": "DyrTPPvuZxlT"
      },
      "source": [
        "* Large loss values in a machine learning model indicate that the model is performing poorly and making inaccurate predictions. Loss is a measure of the difference between the predicted output of a model and the actual target output. The goal of training a model is to minimize the loss, so that the model can make accurate predictions.\n",
        "\n",
        "* it means that the model's predictions are far off from the actual target values, and that the model has not learned the relationships between the inputs and outputs effectively. This can be due to a variety of factors, such as overfitting, underfitting, poor model architecture, or a lack of training data"
      ]
    },
    {
      "cell_type": "code",
      "execution_count": null,
      "metadata": {
        "id": "8YHkrARZL16d"
      },
      "outputs": [],
      "source": [
        "#lets try above model using Description feild instead of StockCode."
      ]
    },
    {
      "cell_type": "code",
      "execution_count": null,
      "metadata": {
        "id": "SgxcTKpoL1rD"
      },
      "outputs": [],
      "source": [
        "\n",
        "# Clean the data\n",
        "df = df.dropna()\n",
        "df['CustomerID'] = df['CustomerID'].astype(int)\n",
        "df['StockCode'] = df['StockCode'].astype(int)\n",
        "df['Quantity'] = df['Quantity'].astype(int)\n",
        "df['UnitPrice'] = df['UnitPrice'].astype(float)\n",
        "\n",
        "# Create a list of unique customer IDs and product names\n",
        "customer_ids = df['CustomerID'].unique().tolist()\n",
        "product_names = df['Description'].unique().tolist()\n",
        "\n",
        "# Create a dictionary mapping customer IDs and product names to integers\n",
        "customer_id_map = {id: i for i, id in enumerate(customer_ids)}\n",
        "product_name_map = {name: i for i, name in enumerate(product_names)}\n",
        "\n",
        "# Replace the customer IDs and product names in the data with the integers\n",
        "df['CustomerID'] = df['CustomerID'].map(lambda x: customer_id_map[x])\n",
        "df['Description'] = df['Description'].map(lambda x: product_name_map[x])\n",
        "\n",
        "# Split the data into training and testing sets\n",
        "train_data, test_data = train_test_split(df, test_size=0.2)\n",
        "\n",
        "# Create the input and output data for the model\n",
        "train_input = train_data[['CustomerID', 'Description']]\n",
        "train_output = train_data[['Quantity']]\n",
        "test_input = test_data[['CustomerID', 'Description']]\n",
        "test_output = test_data[['Quantity']]\n",
        "\n",
        "# Create the customer-based model\n",
        "customer_input = tf.keras.layers.Input(shape=(1,))\n",
        "customer_embedding = tf.keras.layers.Embedding(len(customer_ids), 8)(customer_input)\n",
        "customer_flatten = tf.keras.layers.Flatten()(customer_embedding)\n",
        "customer_output = tf.keras.layers.Dense(64, activation='relu')(customer_flatten)\n",
        "\n",
        "# Create the product-based model\n",
        "product_input = tf.keras.layers.Input(shape=(1,))\n",
        "product_embedding = tf.keras.layers.Embedding(len(product_names), 8)(product_input)\n",
        "product_flatten = tf.keras.layers.Flatten()(product_embedding)\n",
        "product_output = tf.keras.layers.Dense(64, activation='relu')(product_flatten)\n",
        "\n",
        "# Merge the customer and product models\n",
        "merged = tf.keras.layers.concatenate([customer_output, product_output])\n",
        "output = tf.keras.layers.Dense(32, activation='relu')(merged)\n",
        "output = tf.keras.layers.Dense(1)(output)\n",
        "\n",
        "# Create the hybrid model\n",
        "model = tf.keras.models.Model(inputs=[customer_input, product_input], outputs=output)\n",
        "\n",
        "# Compile the model\n",
        "model.compile(optimizer='adam', loss='mean_squared_error')\n"
      ]
    },
    {
      "cell_type": "code",
      "execution_count": null,
      "metadata": {
        "colab": {
          "base_uri": "https://localhost:8080/"
        },
        "id": "GnPukQ2hL1cw",
        "outputId": "06877060-3aea-488d-f7a0-6bffc5080ee1"
      },
      "outputs": [
        {
          "name": "stdout",
          "output_type": "stream",
          "text": [
            "Epoch 1/10\n",
            "5058/5058 [==============================] - 15s 3ms/step - loss: 76721.8203\n",
            "Epoch 2/10\n",
            "5058/5058 [==============================] - 14s 3ms/step - loss: 76516.9766\n",
            "Epoch 3/10\n",
            "5058/5058 [==============================] - 14s 3ms/step - loss: 76424.3906\n",
            "Epoch 4/10\n",
            "5058/5058 [==============================] - 16s 3ms/step - loss: 76358.9922\n",
            "Epoch 5/10\n",
            "5058/5058 [==============================] - 21s 4ms/step - loss: 76327.4766\n",
            "Epoch 6/10\n",
            "5058/5058 [==============================] - 20s 4ms/step - loss: 76282.7500\n",
            "Epoch 7/10\n",
            "5058/5058 [==============================] - 17s 3ms/step - loss: 76247.7344\n",
            "Epoch 8/10\n",
            "5058/5058 [==============================] - 14s 3ms/step - loss: 76230.2578\n",
            "Epoch 9/10\n",
            "5058/5058 [==============================] - 14s 3ms/step - loss: 76200.4219\n",
            "Epoch 10/10\n",
            "5058/5058 [==============================] - 14s 3ms/step - loss: 76167.8750\n"
          ]
        },
        {
          "data": {
            "text/plain": [
              "<keras.callbacks.History at 0x7fdd03c8f070>"
            ]
          },
          "execution_count": 143,
          "metadata": {},
          "output_type": "execute_result"
        }
      ],
      "source": [
        "model.fit([train_input['CustomerID'], train_input['Description']], train_output, epochs=10, batch_size=64)"
      ]
    },
    {
      "cell_type": "code",
      "execution_count": null,
      "metadata": {
        "colab": {
          "base_uri": "https://localhost:8080/"
        },
        "id": "SpMxSL1Ukqlj",
        "outputId": "51424998-a088-4b27-ab29-52dc3889d5e3"
      },
      "outputs": [
        {
          "name": "stdout",
          "output_type": "stream",
          "text": [
            "2529/2529 [==============================] - 6s 2ms/step - loss: 1590.1488\n",
            "Test loss: 1590.1488037109375\n"
          ]
        }
      ],
      "source": [
        "test_loss = model.evaluate([test_input['CustomerID'], test_input['Description']], test_output)\n",
        "print(f'Test loss: {test_loss}')"
      ]
    },
    {
      "cell_type": "code",
      "execution_count": null,
      "metadata": {
        "colab": {
          "base_uri": "https://localhost:8080/"
        },
        "id": "JxJX0KGIksFO",
        "outputId": "f313fb97-94b5-4ac4-d6a1-53b0d0b45532"
      },
      "outputs": [
        {
          "name": "stdout",
          "output_type": "stream",
          "text": [
            "2529/2529 [==============================] - 5s 2ms/step\n"
          ]
        }
      ],
      "source": [
        "# Make predictions\n",
        "predictions = model.predict([test_input['CustomerID'], test_input['Description']])"
      ]
    },
    {
      "cell_type": "code",
      "execution_count": null,
      "metadata": {
        "colab": {
          "base_uri": "https://localhost:8080/"
        },
        "id": "hYFPuy4UlMnk",
        "outputId": "0831a3c7-1c33-47d9-f79e-3e2c048adbb5"
      },
      "outputs": [
        {
          "name": "stdout",
          "output_type": "stream",
          "text": [
            "[[18.892563  ]\n",
            " [ 7.1400714 ]\n",
            " [ 5.175719  ]\n",
            " ...\n",
            " [ 0.43825108]\n",
            " [10.963661  ]\n",
            " [10.921533  ]]\n"
          ]
        }
      ],
      "source": [
        "print(predictions )"
      ]
    },
    {
      "cell_type": "code",
      "execution_count": null,
      "metadata": {
        "colab": {
          "base_uri": "https://localhost:8080/"
        },
        "id": "wOHDDNCklT4w",
        "outputId": "88a8a64f-c26f-4f5c-d8c1-187831673845"
      },
      "outputs": [
        {
          "name": "stdout",
          "output_type": "stream",
          "text": [
            "Mean Squared Error: 1590.1475054746518\n"
          ]
        }
      ],
      "source": [
        "# Evaluate the predictions\n",
        "from sklearn.metrics import mean_squared_error\n",
        "mean_squared_error = mean_squared_error(predictions, test_output)\n",
        "print(f'Mean Squared Error: {mean_squared_error}')"
      ]
    },
    {
      "cell_type": "markdown",
      "metadata": {
        "id": "ANbXSO-YmY3j"
      },
      "source": [
        "* it also gives larger error, though is less than above model,model need to be fine tune"
      ]
    },
    {
      "cell_type": "markdown",
      "metadata": {
        "id": "2HPXWEfHpcOs"
      },
      "source": [
        "* lets try early Stopping method"
      ]
    },
    {
      "cell_type": "code",
      "execution_count": null,
      "metadata": {
        "id": "-b3rE_8af4M2"
      },
      "outputs": [],
      "source": [
        "\n",
        "class EarlyStoppingCallback(tf.keras.callbacks.Callback):\n",
        "    def __init__(self, patience=10):\n",
        "        super().__init__()\n",
        "        self.patience = patience\n",
        "        self.best_val_loss = float('inf')\n",
        "        self.early_stopping_counter = 0\n",
        "\n",
        "    def on_epoch_end(self, epoch, logs):\n",
        "        current_val_loss = logs.get('val_loss')\n",
        "        if current_val_loss < self.best_val_loss:\n",
        "            self.best_val_loss = current_val_loss\n",
        "            self.early_stopping_counter = 0\n",
        "        else:\n",
        "            self.early_stopping_counter += 1\n",
        "        if self.early_stopping_counter >= self.patience:\n",
        "            self.model.stop_training = True\n",
        "\n",
        "model = tf.keras.models.Model(inputs=[customer_input, product_input], outputs=output)\n",
        "\n",
        "model.compile(optimizer='adam', loss='mean_squared_error')\n",
        "early_stopping = EarlyStoppingCallback(patience=10)\n",
        "model.fit([train_input['CustomerID'], train_input['StockCode']], callbacks=[early_stopping])\n",
        "\n",
        "\n"
      ]
    },
    {
      "cell_type": "code",
      "execution_count": null,
      "metadata": {
        "id": "WJo0A0SobgGX"
      },
      "outputs": [],
      "source": []
    },
    {
      "cell_type": "markdown",
      "metadata": {
        "id": "3qXn37aCuxhL"
      },
      "source": [
        "# NearestNeighbors Algorithm"
      ]
    },
    {
      "cell_type": "code",
      "execution_count": null,
      "metadata": {
        "id": "W6ehoYrkuxhO"
      },
      "outputs": [],
      "source": [
        "import pandas as pd\n",
        "import numpy as np\n",
        "import matplotlib.pyplot as plt\n",
        "import seaborn as sns\n",
        "from scipy.sparse import csr_matrix\n",
        "from sklearn.neighbors import NearestNeighbors\n",
        "from sklearn.metrics import accuracy_score\n",
        "from sklearn.model_selection import train_test_split"
      ]
    },
    {
      "cell_type": "code",
      "execution_count": null,
      "metadata": {
        "id": "G-lH6FlyuxhQ"
      },
      "outputs": [],
      "source": [
        "data=dfm.copy()"
      ]
    },
    {
      "cell_type": "code",
      "execution_count": null,
      "metadata": {
        "colab": {
          "base_uri": "https://localhost:8080/"
        },
        "id": "NLicAGCAuxhR",
        "outputId": "fc2db50a-ac05-44f2-8807-050c583d539f"
      },
      "outputs": [
        {
          "name": "stderr",
          "output_type": "stream",
          "text": [
            "<ipython-input-227-bfcabbfc9c85>:3: SettingWithCopyWarning: \n",
            "A value is trying to be set on a copy of a slice from a DataFrame.\n",
            "Try using .loc[row_indexer,col_indexer] = value instead\n",
            "\n",
            "See the caveats in the documentation: https://pandas.pydata.org/pandas-docs/stable/user_guide/indexing.html#returning-a-view-versus-a-copy\n",
            "  data['CustomerID']=data['CustomerID'].astype(int)\n"
          ]
        },
        {
          "name": "stdout",
          "output_type": "stream",
          "text": [
            "int64\n",
            "int64\n"
          ]
        }
      ],
      "source": [
        "# Filter out the rows with missing CustomerID values\n",
        "data = data[pd.notnull(data['CustomerID'])]\n",
        "data['CustomerID']=data['CustomerID'].astype(int)\n",
        "# Filter out the rows with negative UnitPrice values\n",
        "data = data[data['UnitPrice'] > 0]\n",
        "\n",
        "# Filter out the rows with missing Description values\n",
        "data = data[pd.notnull(data['Description'])]\n",
        "\n",
        "# Filter out the rows with cancelled transactions (InvoiceNo starts with 'C')\n",
        "data = data[~data['InvoiceNo'].astype(str).str.startswith(\"C\")]\n",
        "\n",
        "#split Data\n",
        "\n",
        "\n",
        "# Create a pivot table to get the customer-item matrix\n",
        "customer_item_matrix = data.pivot_table(index='CustomerID', columns='StockCode', values='Quantity', fill_value=0)\n",
        "# print(customer_item_matrix)\n",
        "print(customer_item_matrix.index.dtype)\n",
        "\n",
        "# Convert the customer-item matrix to a sparse matrix\n",
        "sparse_matrix = csr_matrix(customer_item_matrix.values)\n",
        "\n",
        "# Fit the nearest neighbors model\n",
        "model_knn = NearestNeighbors(metric='cosine', algorithm='brute', n_neighbors=20, n_jobs=-1)\n",
        "model_knn.fit(sparse_matrix)\n",
        "\n",
        "\n",
        "print(customer_item_matrix.index.dtype)"
      ]
    },
    {
      "cell_type": "code",
      "execution_count": null,
      "metadata": {
        "colab": {
          "base_uri": "https://localhost:8080/"
        },
        "id": "Mf9sLdH0uxhT",
        "outputId": "fc77df9f-07e0-4105-d6dc-04436eba75f8"
      },
      "outputs": [
        {
          "data": {
            "text/plain": [
              "True"
            ]
          },
          "execution_count": 39,
          "metadata": {},
          "output_type": "execute_result"
        }
      ],
      "source": [
        "18283 in customer_item_matrix.index"
      ]
    },
    {
      "cell_type": "code",
      "execution_count": null,
      "metadata": {
        "colab": {
          "base_uri": "https://localhost:8080/"
        },
        "id": "BZjdNIyDuxhU",
        "outputId": "670ad96f-65c6-4445-fb0b-d30a8bd73396"
      },
      "outputs": [
        {
          "data": {
            "text/plain": [
              "int"
            ]
          },
          "execution_count": 40,
          "metadata": {},
          "output_type": "execute_result"
        }
      ],
      "source": [
        "type(18283)"
      ]
    },
    {
      "cell_type": "code",
      "execution_count": null,
      "metadata": {
        "id": "4IRhN1lnuxhV"
      },
      "outputs": [],
      "source": [
        "def recommend(customer_id, sparse_matrix, model_knn, customer_item_matrix, n_rec=10):\n",
        "  distances, indices = model_knn.kneighbors(sparse_matrix[customer_item_matrix.index == customer_id], n_neighbors=n_rec+1)\n",
        "  rec_items = []\n",
        "  for i in range(1, len(indices.flatten())):\n",
        "\n",
        "    item = customer_item_matrix.index[indices.flatten()[i]]\n",
        "    rec_items.append(item)\n",
        "  return rec_items"
      ]
    },
    {
      "cell_type": "code",
      "execution_count": null,
      "metadata": {
        "colab": {
          "base_uri": "https://localhost:8080/"
        },
        "id": "YCg9pxIkuxhX",
        "outputId": "f328cfcd-1061-4a96-c66c-8bdd8411e1d2"
      },
      "outputs": [
        {
          "name": "stdout",
          "output_type": "stream",
          "text": [
            "[14367, 17160, 16347, 14849, 12700, 15450, 17511, 15920, 12757, 16757]\n"
          ]
        }
      ],
      "source": [
        "print(recommend(18283, sparse_matrix, model_knn, customer_item_matrix, n_rec=10))"
      ]
    },
    {
      "cell_type": "code",
      "execution_count": null,
      "metadata": {
        "id": "yQib8Eugbfz6"
      },
      "outputs": [],
      "source": []
    },
    {
      "cell_type": "code",
      "execution_count": null,
      "metadata": {
        "id": "2bS4pQxYbff7"
      },
      "outputs": [],
      "source": []
    },
    {
      "cell_type": "markdown",
      "metadata": {
        "id": "30gPRc0ZqZ1v"
      },
      "source": [
        "# Singular Value Decomposition  Model"
      ]
    },
    {
      "cell_type": "code",
      "execution_count": null,
      "metadata": {
        "id": "aoLno-A2qlQr"
      },
      "outputs": [],
      "source": [
        "# Import the library\n",
        "from surprise import SVD, Dataset, Reader\n",
        "from surprise.model_selection import train_test_split"
      ]
    },
    {
      "cell_type": "code",
      "execution_count": null,
      "metadata": {
        "id": "GQeuBz4FtXnz"
      },
      "outputs": [],
      "source": [
        "dff=df.copy()"
      ]
    },
    {
      "cell_type": "code",
      "execution_count": null,
      "metadata": {
        "id": "hEDI7A-xEDIv"
      },
      "outputs": [],
      "source": [
        "# Preprocess the data\n",
        "dff = dff.dropna()\n",
        "dff['CustomerID'] = dff['CustomerID'].astype(int)\n",
        "dff['StockCode'] = dff['StockCode'].astype(int)\n",
        "dff['Quantity'] = dff['Quantity'].astype(int)\n"
      ]
    },
    {
      "cell_type": "code",
      "execution_count": null,
      "metadata": {
        "id": "4gICmQ2VOwIV"
      },
      "outputs": [],
      "source": [
        "# Create a reader object to specify the scale of the data\n",
        "reader = Reader(rating_scale=(0, df['Quantity'].max()))\n",
        "\n",
        "# Load the data into a Surprise dataset object\n",
        "dataset = Dataset.load_from_df(df[['CustomerID', 'StockCode', 'Quantity']], reader)"
      ]
    },
    {
      "cell_type": "code",
      "execution_count": null,
      "metadata": {
        "id": "d2VzLZRyubV-"
      },
      "outputs": [],
      "source": [
        "trainset, testset = train_test_split(dataset, test_size=0.2, random_state=42)\n"
      ]
    },
    {
      "cell_type": "code",
      "execution_count": null,
      "metadata": {
        "colab": {
          "base_uri": "https://localhost:8080/"
        },
        "id": "GkHY1mS7uF2B",
        "outputId": "290015bd-02e8-4d6e-c195-856d6163f7ae"
      },
      "outputs": [
        {
          "name": "stdout",
          "output_type": "stream",
          "text": [
            "<surprise.dataset.DatasetAutoFolds object at 0x7fdd095c4c10>\n"
          ]
        }
      ],
      "source": [
        "print(data)"
      ]
    },
    {
      "cell_type": "code",
      "execution_count": null,
      "metadata": {
        "colab": {
          "base_uri": "https://localhost:8080/"
        },
        "id": "G_L5uCh8HTU7",
        "outputId": "c65846e4-6567-4deb-8d45-5ddf6b69e5b1"
      },
      "outputs": [
        {
          "name": "stdout",
          "output_type": "stream",
          "text": [
            "RMSE: 80982.8717\n"
          ]
        },
        {
          "data": {
            "text/plain": [
              "80982.87169908073"
            ]
          },
          "execution_count": 237,
          "metadata": {},
          "output_type": "execute_result"
        }
      ],
      "source": [
        "# Train the SVD model\n",
        "algo = SVD()\n",
        "algo.fit(trainset)\n",
        "\n",
        "# Make predictions on the testing set\n",
        "predictions = algo.test(testset)\n",
        "\n",
        "# Evaluate the model\n",
        "from surprise.accuracy import rmse\n",
        "rmse(predictions)"
      ]
    },
    {
      "cell_type": "code",
      "execution_count": null,
      "metadata": {
        "id": "xkzWNnWu_fp6"
      },
      "outputs": [],
      "source": []
    },
    {
      "cell_type": "code",
      "execution_count": null,
      "metadata": {
        "id": "F3NN9GtF-8Z2"
      },
      "outputs": [],
      "source": []
    },
    {
      "cell_type": "code",
      "execution_count": null,
      "metadata": {
        "id": "lfbCQl7U-8JA"
      },
      "outputs": [],
      "source": []
    },
    {
      "cell_type": "code",
      "execution_count": null,
      "metadata": {
        "id": "pF8Qlv0XHV2D"
      },
      "outputs": [],
      "source": []
    },
    {
      "cell_type": "code",
      "execution_count": null,
      "metadata": {
        "id": "WrnFzSZCgpbL"
      },
      "outputs": [],
      "source": []
    },
    {
      "cell_type": "code",
      "execution_count": null,
      "metadata": {
        "id": "ks4-fK4bgpVT"
      },
      "outputs": [],
      "source": []
    },
    {
      "cell_type": "code",
      "execution_count": null,
      "metadata": {
        "id": "snb8FHnLm4ad"
      },
      "outputs": [],
      "source": [
        "Df_final=df"
      ]
    },
    {
      "cell_type": "code",
      "execution_count": null,
      "metadata": {
        "colab": {
          "base_uri": "https://localhost:8080/",
          "height": 683
        },
        "id": "1zWOtHtcm4WO",
        "outputId": "8998ce43-95f3-41ac-d6c1-4e5a24c749f6"
      },
      "outputs": [
        {
          "data": {
            "image/png": "[encoded data removed]",
            "text/plain": [
              "<Figure size 720x360 with 1 Axes>"
            ]
          },
          "metadata": {
            "needs_background": "light"
          },
          "output_type": "display_data"
        },
        {
          "data": {
            "image/png": "[encoded data removed]",
            "text/plain": [
              "<Figure size 720x360 with 1 Axes>"
            ]
          },
          "metadata": {
            "needs_background": "light"
          },
          "output_type": "display_data"
        }
      ],
      "source": [
        "import pandas as pd\n",
        "import matplotlib.pyplot as plt\n",
        "\n",
        "\n",
        "# Convert the InvoiceDate_Date column to a datetime object\n",
        "df['InvoiceDate_Date'] = pd.to_datetime(df['InvoiceDate_Date'])\n",
        "\n",
        "# Create a new column in the DataFrame with the month of the invoice\n",
        "df['InvoiceMonth'] = df['InvoiceDate_Date'].dt.month\n",
        "\n",
        "# Group the data by the InvoiceMonth and calculate the total number of invoices and income\n",
        "monthly_data = df.groupby(['InvoiceMonth']).agg({'InvoiceNo':'nunique', 'Income':'sum'})\n",
        "\n",
        "# Plot the monthly trend in the number of invoices\n",
        "plt.figure(figsize=(10, 5))\n",
        "plt.bar(monthly_data.index, monthly_data['InvoiceNo'], color='blue', label='Number of Invoices')\n",
        "plt.xlabel('Month')\n",
        "plt.ylabel('Number of Invoices')\n",
        "plt.title('Monthly Trend in Number of Invoices')\n",
        "plt.legend()\n",
        "plt.show()\n",
        "\n",
        "# Plot the monthly trend in the income\n",
        "plt.figure(figsize=(10, 5))\n",
        "plt.bar(monthly_data.index, monthly_data['Income'], color='red', label='Income')\n",
        "plt.xlabel('Month')\n",
        "plt.ylabel('Income')\n",
        "plt.title('Monthly Trend in Income')\n",
        "plt.legend()\n",
        "plt.show()\n"
      ]
    },
    {
      "cell_type": "code",
      "execution_count": null,
      "metadata": {
        "id": "5fcpzPqk3KJi"
      },
      "outputs": [],
      "source": []
    },
    {
      "cell_type": "code",
      "execution_count": null,
      "metadata": {
        "id": "VTUCvhZ23KEg"
      },
      "outputs": [],
      "source": []
    },
    {
      "cell_type": "code",
      "execution_count": null,
      "metadata": {
        "id": "KdWJf88p3J_Y"
      },
      "outputs": [],
      "source": []
    },
    {
      "cell_type": "code",
      "execution_count": null,
      "metadata": {
        "id": "6-bORJMp3J57"
      },
      "outputs": [],
      "source": []
    },
    {
      "cell_type": "code",
      "execution_count": null,
      "metadata": {
        "id": "1mbENu5w3J1F"
      },
      "outputs": [],
      "source": []
    },
    {
      "cell_type": "code",
      "execution_count": null,
      "metadata": {
        "id": "kx38pkk33Jv9"
      },
      "outputs": [],
      "source": []
    },
    {
      "cell_type": "code",
      "execution_count": null,
      "metadata": {
        "id": "HbCOpu3Q3Jq3"
      },
      "outputs": [],
      "source": []
    },
    {
      "cell_type": "code",
      "execution_count": null,
      "metadata": {
        "id": "Z7ZPbUHT3Jl6"
      },
      "outputs": [],
      "source": []
    },
    {
      "cell_type": "code",
      "execution_count": null,
      "metadata": {
        "id": "cjJOfJP-3JgP"
      },
      "outputs": [],
      "source": []
    },
    {
      "cell_type": "code",
      "execution_count": null,
      "metadata": {
        "id": "y0fGAkbe3JbS"
      },
      "outputs": [],
      "source": []
    },
    {
      "cell_type": "code",
      "execution_count": null,
      "metadata": {
        "id": "vbu24nCO3JWN"
      },
      "outputs": [],
      "source": []
    }
  ],
  "metadata": {
    "accelerator": "TPU",
    "colab": {
      "provenance": []
    },
    "gpuClass": "standard",
    "kernelspec": {
      "display_name": "Python 3",
      "name": "python3"
    },
    "language_info": {
      "name": "python"
    }
  },
  "nbformat": 4,
  "nbformat_minor": 0
}
