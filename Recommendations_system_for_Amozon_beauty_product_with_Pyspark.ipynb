{
  "nbformat": 4,
  "nbformat_minor": 0,
  "metadata": {
    "colab": {
      "provenance": [],
      "authorship_tag": "ABX9TyNFHNW5Wu2nqTkY61l8bbQG",
      "include_colab_link": true
    },
    "kernelspec": {
      "name": "python3",
      "display_name": "Python 3"
    },
    "language_info": {
      "name": "python"
    }
  },
  "cells": [
    {
      "cell_type": "markdown",
      "metadata": {
        "id": "view-in-github",
        "colab_type": "text"
      },
      "source": [
        "<a href=\"https://colab.research.google.com/github/RNimantha/recommendation/blob/main/Recommendations_system_for_Amozon_beauty_product_with_Pyspark.ipynb\" target=\"_parent\"><img src=\"https://colab.research.google.com/assets/colab-badge.svg\" alt=\"Open In Colab\"/></a>"
      ]
    },
    {
      "cell_type": "code",
      "source": [
        "!pip install mlflow"
      ],
      "metadata": {
        "colab": {
          "base_uri": "https://localhost:8080/"
        },
        "id": "Uho4lydswSq1",
        "outputId": "68210ace-b371-4e47-c9eb-5c6a8b2d9ffa"
      },
      "execution_count": 33,
      "outputs": [
        {
          "output_type": "stream",
          "name": "stdout",
          "text": [
            "Collecting mlflow\n",
            "  Downloading mlflow-2.11.3-py3-none-any.whl (19.7 MB)\n",
            "\u001b[2K     \u001b[90m━━━━━━━━━━━━━━━━━━━━━━━━━━━━━━━━━━━━━━━━\u001b[0m \u001b[32m19.7/19.7 MB\u001b[0m \u001b[31m29.9 MB/s\u001b[0m eta \u001b[36m0:00:00\u001b[0m\n",
            "\u001b[?25hRequirement already satisfied: click<9,>=7.0 in /usr/local/lib/python3.10/dist-packages (from mlflow) (8.1.7)\n",
            "Requirement already satisfied: cloudpickle<4 in /usr/local/lib/python3.10/dist-packages (from mlflow) (2.2.1)\n",
            "Requirement already satisfied: entrypoints<1 in /usr/local/lib/python3.10/dist-packages (from mlflow) (0.4)\n",
            "Collecting gitpython<4,>=3.1.9 (from mlflow)\n",
            "  Downloading GitPython-3.1.42-py3-none-any.whl (195 kB)\n",
            "\u001b[2K     \u001b[90m━━━━━━━━━━━━━━━━━━━━━━━━━━━━━━━━━━━━━━━━\u001b[0m \u001b[32m195.4/195.4 kB\u001b[0m \u001b[31m22.3 MB/s\u001b[0m eta \u001b[36m0:00:00\u001b[0m\n",
            "\u001b[?25hRequirement already satisfied: pyyaml<7,>=5.1 in /usr/local/lib/python3.10/dist-packages (from mlflow) (6.0.1)\n",
            "Requirement already satisfied: protobuf<5,>=3.12.0 in /usr/local/lib/python3.10/dist-packages (from mlflow) (3.20.3)\n",
            "Requirement already satisfied: pytz<2025 in /usr/local/lib/python3.10/dist-packages (from mlflow) (2023.4)\n",
            "Requirement already satisfied: requests<3,>=2.17.3 in /usr/local/lib/python3.10/dist-packages (from mlflow) (2.31.0)\n",
            "Collecting packaging<24 (from mlflow)\n",
            "  Downloading packaging-23.2-py3-none-any.whl (53 kB)\n",
            "\u001b[2K     \u001b[90m━━━━━━━━━━━━━━━━━━━━━━━━━━━━━━━━━━━━━━━━\u001b[0m \u001b[32m53.0/53.0 kB\u001b[0m \u001b[31m6.3 MB/s\u001b[0m eta \u001b[36m0:00:00\u001b[0m\n",
            "\u001b[?25hRequirement already satisfied: importlib-metadata!=4.7.0,<8,>=3.7.0 in /usr/local/lib/python3.10/dist-packages (from mlflow) (7.1.0)\n",
            "Requirement already satisfied: sqlparse<1,>=0.4.0 in /usr/local/lib/python3.10/dist-packages (from mlflow) (0.4.4)\n",
            "Collecting alembic!=1.10.0,<2 (from mlflow)\n",
            "  Downloading alembic-1.13.1-py3-none-any.whl (233 kB)\n",
            "\u001b[2K     \u001b[90m━━━━━━━━━━━━━━━━━━━━━━━━━━━━━━━━━━━━━━━━\u001b[0m \u001b[32m233.4/233.4 kB\u001b[0m \u001b[31m24.0 MB/s\u001b[0m eta \u001b[36m0:00:00\u001b[0m\n",
            "\u001b[?25hCollecting docker<8,>=4.0.0 (from mlflow)\n",
            "  Downloading docker-7.0.0-py3-none-any.whl (147 kB)\n",
            "\u001b[2K     \u001b[90m━━━━━━━━━━━━━━━━━━━━━━━━━━━━━━━━━━━━━━━━\u001b[0m \u001b[32m147.6/147.6 kB\u001b[0m \u001b[31m18.4 MB/s\u001b[0m eta \u001b[36m0:00:00\u001b[0m\n",
            "\u001b[?25hRequirement already satisfied: Flask<4 in /usr/local/lib/python3.10/dist-packages (from mlflow) (2.2.5)\n",
            "Requirement already satisfied: numpy<2 in /usr/local/lib/python3.10/dist-packages (from mlflow) (1.25.2)\n",
            "Requirement already satisfied: scipy<2 in /usr/local/lib/python3.10/dist-packages (from mlflow) (1.11.4)\n",
            "Requirement already satisfied: pandas<3 in /usr/local/lib/python3.10/dist-packages (from mlflow) (1.5.3)\n",
            "Collecting querystring-parser<2 (from mlflow)\n",
            "  Downloading querystring_parser-1.2.4-py2.py3-none-any.whl (7.9 kB)\n",
            "Requirement already satisfied: sqlalchemy<3,>=1.4.0 in /usr/local/lib/python3.10/dist-packages (from mlflow) (2.0.29)\n",
            "Requirement already satisfied: scikit-learn<2 in /usr/local/lib/python3.10/dist-packages (from mlflow) (1.2.2)\n",
            "Requirement already satisfied: pyarrow<16,>=4.0.0 in /usr/local/lib/python3.10/dist-packages (from mlflow) (14.0.2)\n",
            "Requirement already satisfied: markdown<4,>=3.3 in /usr/local/lib/python3.10/dist-packages (from mlflow) (3.6)\n",
            "Requirement already satisfied: matplotlib<4 in /usr/local/lib/python3.10/dist-packages (from mlflow) (3.7.1)\n",
            "Collecting graphene<4 (from mlflow)\n",
            "  Downloading graphene-3.3-py2.py3-none-any.whl (128 kB)\n",
            "\u001b[2K     \u001b[90m━━━━━━━━━━━━━━━━━━━━━━━━━━━━━━━━━━━━━━━━\u001b[0m \u001b[32m128.2/128.2 kB\u001b[0m \u001b[31m16.9 MB/s\u001b[0m eta \u001b[36m0:00:00\u001b[0m\n",
            "\u001b[?25hCollecting gunicorn<22 (from mlflow)\n",
            "  Downloading gunicorn-21.2.0-py3-none-any.whl (80 kB)\n",
            "\u001b[2K     \u001b[90m━━━━━━━━━━━━━━━━━━━━━━━━━━━━━━━━━━━━━━━━\u001b[0m \u001b[32m80.2/80.2 kB\u001b[0m \u001b[31m10.9 MB/s\u001b[0m eta \u001b[36m0:00:00\u001b[0m\n",
            "\u001b[?25hRequirement already satisfied: Jinja2<4,>=2.11 in /usr/local/lib/python3.10/dist-packages (from mlflow) (3.1.3)\n",
            "Collecting Mako (from alembic!=1.10.0,<2->mlflow)\n",
            "  Downloading Mako-1.3.2-py3-none-any.whl (78 kB)\n",
            "\u001b[2K     \u001b[90m━━━━━━━━━━━━━━━━━━━━━━━━━━━━━━━━━━━━━━━━\u001b[0m \u001b[32m78.7/78.7 kB\u001b[0m \u001b[31m10.5 MB/s\u001b[0m eta \u001b[36m0:00:00\u001b[0m\n",
            "\u001b[?25hRequirement already satisfied: typing-extensions>=4 in /usr/local/lib/python3.10/dist-packages (from alembic!=1.10.0,<2->mlflow) (4.10.0)\n",
            "Requirement already satisfied: urllib3>=1.26.0 in /usr/local/lib/python3.10/dist-packages (from docker<8,>=4.0.0->mlflow) (2.0.7)\n",
            "Requirement already satisfied: Werkzeug>=2.2.2 in /usr/local/lib/python3.10/dist-packages (from Flask<4->mlflow) (3.0.1)\n",
            "Requirement already satisfied: itsdangerous>=2.0 in /usr/local/lib/python3.10/dist-packages (from Flask<4->mlflow) (2.1.2)\n",
            "Collecting gitdb<5,>=4.0.1 (from gitpython<4,>=3.1.9->mlflow)\n",
            "  Downloading gitdb-4.0.11-py3-none-any.whl (62 kB)\n",
            "\u001b[2K     \u001b[90m━━━━━━━━━━━━━━━━━━━━━━━━━━━━━━━━━━━━━━━━\u001b[0m \u001b[32m62.7/62.7 kB\u001b[0m \u001b[31m8.2 MB/s\u001b[0m eta \u001b[36m0:00:00\u001b[0m\n",
            "\u001b[?25hCollecting graphql-core<3.3,>=3.1 (from graphene<4->mlflow)\n",
            "  Downloading graphql_core-3.2.3-py3-none-any.whl (202 kB)\n",
            "\u001b[2K     \u001b[90m━━━━━━━━━━━━━━━━━━━━━━━━━━━━━━━━━━━━━━━━\u001b[0m \u001b[32m202.9/202.9 kB\u001b[0m \u001b[31m24.4 MB/s\u001b[0m eta \u001b[36m0:00:00\u001b[0m\n",
            "\u001b[?25hCollecting graphql-relay<3.3,>=3.1 (from graphene<4->mlflow)\n",
            "  Downloading graphql_relay-3.2.0-py3-none-any.whl (16 kB)\n",
            "Collecting aniso8601<10,>=8 (from graphene<4->mlflow)\n",
            "  Downloading aniso8601-9.0.1-py2.py3-none-any.whl (52 kB)\n",
            "\u001b[2K     \u001b[90m━━━━━━━━━━━━━━━━━━━━━━━━━━━━━━━━━━━━━━━━\u001b[0m \u001b[32m52.8/52.8 kB\u001b[0m \u001b[31m6.5 MB/s\u001b[0m eta \u001b[36m0:00:00\u001b[0m\n",
            "\u001b[?25hRequirement already satisfied: zipp>=0.5 in /usr/local/lib/python3.10/dist-packages (from importlib-metadata!=4.7.0,<8,>=3.7.0->mlflow) (3.18.1)\n",
            "Requirement already satisfied: MarkupSafe>=2.0 in /usr/local/lib/python3.10/dist-packages (from Jinja2<4,>=2.11->mlflow) (2.1.5)\n",
            "Requirement already satisfied: contourpy>=1.0.1 in /usr/local/lib/python3.10/dist-packages (from matplotlib<4->mlflow) (1.2.0)\n",
            "Requirement already satisfied: cycler>=0.10 in /usr/local/lib/python3.10/dist-packages (from matplotlib<4->mlflow) (0.12.1)\n",
            "Requirement already satisfied: fonttools>=4.22.0 in /usr/local/lib/python3.10/dist-packages (from matplotlib<4->mlflow) (4.50.0)\n",
            "Requirement already satisfied: kiwisolver>=1.0.1 in /usr/local/lib/python3.10/dist-packages (from matplotlib<4->mlflow) (1.4.5)\n",
            "Requirement already satisfied: pillow>=6.2.0 in /usr/local/lib/python3.10/dist-packages (from matplotlib<4->mlflow) (9.4.0)\n",
            "Requirement already satisfied: pyparsing>=2.3.1 in /usr/local/lib/python3.10/dist-packages (from matplotlib<4->mlflow) (3.1.2)\n",
            "Requirement already satisfied: python-dateutil>=2.7 in /usr/local/lib/python3.10/dist-packages (from matplotlib<4->mlflow) (2.8.2)\n",
            "Requirement already satisfied: six in /usr/local/lib/python3.10/dist-packages (from querystring-parser<2->mlflow) (1.16.0)\n",
            "Requirement already satisfied: charset-normalizer<4,>=2 in /usr/local/lib/python3.10/dist-packages (from requests<3,>=2.17.3->mlflow) (3.3.2)\n",
            "Requirement already satisfied: idna<4,>=2.5 in /usr/local/lib/python3.10/dist-packages (from requests<3,>=2.17.3->mlflow) (3.6)\n",
            "Requirement already satisfied: certifi>=2017.4.17 in /usr/local/lib/python3.10/dist-packages (from requests<3,>=2.17.3->mlflow) (2024.2.2)\n",
            "Requirement already satisfied: joblib>=1.1.1 in /usr/local/lib/python3.10/dist-packages (from scikit-learn<2->mlflow) (1.3.2)\n",
            "Requirement already satisfied: threadpoolctl>=2.0.0 in /usr/local/lib/python3.10/dist-packages (from scikit-learn<2->mlflow) (3.4.0)\n",
            "Requirement already satisfied: greenlet!=0.4.17 in /usr/local/lib/python3.10/dist-packages (from sqlalchemy<3,>=1.4.0->mlflow) (3.0.3)\n",
            "Collecting smmap<6,>=3.0.1 (from gitdb<5,>=4.0.1->gitpython<4,>=3.1.9->mlflow)\n",
            "  Downloading smmap-5.0.1-py3-none-any.whl (24 kB)\n",
            "Installing collected packages: aniso8601, smmap, querystring-parser, packaging, Mako, graphql-core, gunicorn, graphql-relay, gitdb, docker, alembic, graphene, gitpython, mlflow\n",
            "  Attempting uninstall: packaging\n",
            "    Found existing installation: packaging 24.0\n",
            "    Uninstalling packaging-24.0:\n",
            "      Successfully uninstalled packaging-24.0\n",
            "Successfully installed Mako-1.3.2 alembic-1.13.1 aniso8601-9.0.1 docker-7.0.0 gitdb-4.0.11 gitpython-3.1.42 graphene-3.3 graphql-core-3.2.3 graphql-relay-3.2.0 gunicorn-21.2.0 mlflow-2.11.3 packaging-23.2 querystring-parser-1.2.4 smmap-5.0.1\n"
          ]
        }
      ]
    },
    {
      "cell_type": "code",
      "source": [
        "from google.colab import drive\n",
        "drive.mount('/content/drive')"
      ],
      "metadata": {
        "colab": {
          "base_uri": "https://localhost:8080/"
        },
        "id": "aTlHqp-lf907",
        "outputId": "0117bca0-064e-4290-b7aa-3befcac18911"
      },
      "execution_count": 1,
      "outputs": [
        {
          "output_type": "stream",
          "name": "stdout",
          "text": [
            "Mounted at /content/drive\n"
          ]
        }
      ]
    },
    {
      "cell_type": "markdown",
      "source": [
        "Install Pyspark"
      ],
      "metadata": {
        "id": "3Zb8LLJFgS_u"
      }
    },
    {
      "cell_type": "code",
      "source": [
        "!pip install pyspark"
      ],
      "metadata": {
        "colab": {
          "base_uri": "https://localhost:8080/"
        },
        "id": "7DA7b_hbgHaF",
        "outputId": "49d03d7a-214e-4157-eb09-149f4a233ab6"
      },
      "execution_count": 35,
      "outputs": [
        {
          "output_type": "stream",
          "name": "stdout",
          "text": [
            "Requirement already satisfied: pyspark in /usr/local/lib/python3.10/dist-packages (3.5.1)\n",
            "Requirement already satisfied: py4j==0.10.9.7 in /usr/local/lib/python3.10/dist-packages (from pyspark) (0.10.9.7)\n"
          ]
        }
      ]
    },
    {
      "cell_type": "markdown",
      "source": [
        "Import module"
      ],
      "metadata": {
        "id": "RHfmRv1ygYii"
      }
    },
    {
      "cell_type": "code",
      "source": [
        "from pyspark.sql import SparkSession\n",
        "from pyspark.sql.functions import count, desc , col, max\n",
        "from pyspark.ml.feature import  StringIndexer\n",
        "from pyspark.ml import Pipeline\n",
        "from pyspark.ml.recommendation import ALS\n",
        "from pyspark.ml.tuning import TrainValidationSplit, ParamGridBuilder\n",
        "import pyspark.sql.functions as f\n",
        "import mlflow\n",
        "from pyspark.ml.evaluation import RegressionEvaluator"
      ],
      "metadata": {
        "id": "Z3wJhPfKgX6r"
      },
      "execution_count": 53,
      "outputs": []
    },
    {
      "cell_type": "code",
      "source": [
        "spark = SparkSession.builder.appName(\"Recommendation\").getOrCreate()"
      ],
      "metadata": {
        "id": "BICSSxTkgqLG"
      },
      "execution_count": 37,
      "outputs": []
    },
    {
      "cell_type": "code",
      "source": [
        "file_path = '/content/drive/MyDrive/Data_project/ratings_Beauty.csv'\n",
        "df_buauty = spark.read.format('csv').option('header',True).option('inferSchema',True).load(file_path) #data frame, header will infer column types from csv\n",
        "df_buauty.show()"
      ],
      "metadata": {
        "colab": {
          "base_uri": "https://localhost:8080/"
        },
        "id": "hsED8Abmgv7y",
        "outputId": "0721f85c-7196-44dc-f390-1356ca78bb3f"
      },
      "execution_count": 38,
      "outputs": [
        {
          "output_type": "stream",
          "name": "stdout",
          "text": [
            "+--------------+----------+------+----------+\n",
            "|        UserId| ProductId|Rating| Timestamp|\n",
            "+--------------+----------+------+----------+\n",
            "|A39HTATAQ9V7YF|0205616461|   5.0|1369699200|\n",
            "|A3JM6GV9MNOF9X|0558925278|   3.0|1355443200|\n",
            "|A1Z513UWSAAO0F|0558925278|   5.0|1404691200|\n",
            "|A1WMRR494NWEWV|0733001998|   4.0|1382572800|\n",
            "|A3IAAVS479H7M7|0737104473|   1.0|1274227200|\n",
            "| AKJHHD5VEH7VG|0762451459|   5.0|1404518400|\n",
            "|A1BG8QW55XHN6U|1304139212|   5.0|1371945600|\n",
            "|A22VW0P4VZHDE3|1304139220|   5.0|1373068800|\n",
            "|A3V3RE4132GKRO|130414089X|   5.0|1401840000|\n",
            "|A327B0I7CYTEJC|130414643X|   4.0|1389052800|\n",
            "|A1BG8QW55XHN6U|130414643X|   5.0|1372032000|\n",
            "| AIFAAVTUYHEHB|130414643X|   4.0|1378252800|\n",
            "| AVOGV98AYOFG2|1304146537|   5.0|1372118400|\n",
            "|A22VW0P4VZHDE3|130414674X|   5.0|1371686400|\n",
            "| AVOGV98AYOFG2|1304168522|   5.0|1372118400|\n",
            "| A6R426V4J7AOM|1304168522|   5.0|1373414400|\n",
            "|A22VW0P4VZHDE3|1304174778|   5.0|1372896000|\n",
            "| AKGB62WGF35J8|1304174778|   5.0|1372896000|\n",
            "|A22VW0P4VZHDE3|1304174867|   5.0|1373068800|\n",
            "|A1BG8QW55XHN6U|1304174867|   5.0|1372291200|\n",
            "+--------------+----------+------+----------+\n",
            "only showing top 20 rows\n",
            "\n"
          ]
        }
      ]
    },
    {
      "cell_type": "code",
      "source": [
        "df_buauty = df_buauty.drop('Timestamp')\n",
        "df_buauty.show()"
      ],
      "metadata": {
        "colab": {
          "base_uri": "https://localhost:8080/"
        },
        "id": "-jzhnWTbhwoh",
        "outputId": "d3bbc1d3-a5bd-4ecc-ae16-3d1a98002c5a"
      },
      "execution_count": 39,
      "outputs": [
        {
          "output_type": "stream",
          "name": "stdout",
          "text": [
            "+--------------+----------+------+\n",
            "|        UserId| ProductId|Rating|\n",
            "+--------------+----------+------+\n",
            "|A39HTATAQ9V7YF|0205616461|   5.0|\n",
            "|A3JM6GV9MNOF9X|0558925278|   3.0|\n",
            "|A1Z513UWSAAO0F|0558925278|   5.0|\n",
            "|A1WMRR494NWEWV|0733001998|   4.0|\n",
            "|A3IAAVS479H7M7|0737104473|   1.0|\n",
            "| AKJHHD5VEH7VG|0762451459|   5.0|\n",
            "|A1BG8QW55XHN6U|1304139212|   5.0|\n",
            "|A22VW0P4VZHDE3|1304139220|   5.0|\n",
            "|A3V3RE4132GKRO|130414089X|   5.0|\n",
            "|A327B0I7CYTEJC|130414643X|   4.0|\n",
            "|A1BG8QW55XHN6U|130414643X|   5.0|\n",
            "| AIFAAVTUYHEHB|130414643X|   4.0|\n",
            "| AVOGV98AYOFG2|1304146537|   5.0|\n",
            "|A22VW0P4VZHDE3|130414674X|   5.0|\n",
            "| AVOGV98AYOFG2|1304168522|   5.0|\n",
            "| A6R426V4J7AOM|1304168522|   5.0|\n",
            "|A22VW0P4VZHDE3|1304174778|   5.0|\n",
            "| AKGB62WGF35J8|1304174778|   5.0|\n",
            "|A22VW0P4VZHDE3|1304174867|   5.0|\n",
            "|A1BG8QW55XHN6U|1304174867|   5.0|\n",
            "+--------------+----------+------+\n",
            "only showing top 20 rows\n",
            "\n"
          ]
        }
      ]
    },
    {
      "cell_type": "code",
      "source": [
        "\n",
        "na_counts = df_buauty.select([f.sum(f.col(c).isNull().cast(\"int\")).alias(c) for c in df_buauty.columns])\n",
        "na_counts.show()"
      ],
      "metadata": {
        "colab": {
          "base_uri": "https://localhost:8080/"
        },
        "id": "0mwl-I5HihLR",
        "outputId": "2bd4be47-d458-41ff-a86b-3903ed1f0754"
      },
      "execution_count": 40,
      "outputs": [
        {
          "output_type": "stream",
          "name": "stdout",
          "text": [
            "+------+---------+------+\n",
            "|UserId|ProductId|Rating|\n",
            "+------+---------+------+\n",
            "|     0|        0|     0|\n",
            "+------+---------+------+\n",
            "\n"
          ]
        }
      ]
    },
    {
      "cell_type": "code",
      "source": [
        "rows = df_buauty.count()\n",
        "cols = len(df_buauty.columns)\n",
        "print(rows,cols)"
      ],
      "metadata": {
        "colab": {
          "base_uri": "https://localhost:8080/"
        },
        "id": "HvyETxOcihHw",
        "outputId": "83c12ae5-5e86-4642-b9e5-6fea5e4d01e4"
      },
      "execution_count": 41,
      "outputs": [
        {
          "output_type": "stream",
          "name": "stdout",
          "text": [
            "2023070 3\n"
          ]
        }
      ]
    },
    {
      "cell_type": "markdown",
      "source": [
        "* let us understand how freaquently user has buy the product"
      ],
      "metadata": {
        "id": "Pc2Cw0Dlj4SE"
      }
    },
    {
      "cell_type": "code",
      "source": [
        "df_beuaty_agg = df_buauty.select('UserId', 'ProductId').groupby('UserId', 'ProductId').agg(count('*').alias('count')).orderBy('UserId')\n",
        "df_beuaty_agg.show()"
      ],
      "metadata": {
        "colab": {
          "base_uri": "https://localhost:8080/"
        },
        "id": "RB87opMTjsEb",
        "outputId": "5d636e9b-ae24-4387-ac67-34206bf8fbac"
      },
      "execution_count": 42,
      "outputs": [
        {
          "output_type": "stream",
          "name": "stdout",
          "text": [
            "+--------------------+----------+-----+\n",
            "|              UserId| ProductId|count|\n",
            "+--------------------+----------+-----+\n",
            "|A00008821J0F472ND...|B007T8XPC6|    1|\n",
            "|A000186437REL8X2R...|B000JD4N9M|    1|\n",
            "|A0002574WYJMBWKNCPY8|B00AH4TJNS|    1|\n",
            "|A00029263J863WSR0...|B00766SGE8|    1|\n",
            "|A00031961JI1CBNV98TW|B002OO16QC|    1|\n",
            "|A000325234LCBTFVL...|B006ZN1B1S|    1|\n",
            "|A0003526DBE3EVU1DXE5|B00F1AITPM|    1|\n",
            "|A0004690232S2SX49...|B009L0YD6M|    1|\n",
            "|A000622834IP6B056...|B00AE078TM|    1|\n",
            "|A0007094NAUEOIOA53YH|B005UFN3VS|    1|\n",
            "|A00088021N0VU5Z2U...|B003AMEUS8|    1|\n",
            "|A0010876CNE3ILIM9HV0|B001KYRVSO|    1|\n",
            "|A0010876CNE3ILIM9HV0|B004MKEMPI|    1|\n",
            "|A0010876CNE3ILIM9HV0|B005HKST1U|    1|\n",
            "|A0010876CNE3ILIM9HV0|B0055MYJ0U|    1|\n",
            "|A0011102257KBXODK...|B009PZGYJM|    1|\n",
            "|A001114613O3F18Q5...|B007HSGKXY|    1|\n",
            "|A00116502XCN8ZW09...|B0024WDWU2|    1|\n",
            "|A00120381FL204MYH...|B006SVCY6I|    1|\n",
            "|A001235832OWO8HZG...|B001D5CG9E|    1|\n",
            "+--------------------+----------+-----+\n",
            "only showing top 20 rows\n",
            "\n"
          ]
        }
      ]
    },
    {
      "cell_type": "code",
      "source": [
        "df_buauty.groupBy('UserID','ProductID').count().orderBy(desc('count')).show()"
      ],
      "metadata": {
        "colab": {
          "base_uri": "https://localhost:8080/"
        },
        "id": "M5we5Zuolhx8",
        "outputId": "7fdd9634-bd75-4c4e-f322-a5c1fe7bc8de"
      },
      "execution_count": 43,
      "outputs": [
        {
          "output_type": "stream",
          "name": "stdout",
          "text": [
            "+--------------+----------+-----+\n",
            "|        UserID| ProductID|count|\n",
            "+--------------+----------+-----+\n",
            "|A1RGXKJ4RFIOCX|1304624544|    1|\n",
            "|A2H3NOCLLEPOKQ|7535842801|    1|\n",
            "|A3VUS3HC1CCVOQ|5357955948|    1|\n",
            "|A3G6XNM240RMWA|7806397051|    1|\n",
            "|A2LRQ8GV6PZMHX|7806397051|    1|\n",
            "| AF508G9N8T5OY|9746427962|    1|\n",
            "|A264BXIV14DIWA|9511181564|    1|\n",
            "|A2EDV2NPKN69YM|9788080626|    1|\n",
            "|A3KK59I1TY3MRB|9788071171|    1|\n",
            "|A2L8AWOIWML9CH|9790772238|    1|\n",
            "| A2PZOIS5NOHEA|9788071260|    1|\n",
            "| ACUHBB2EEXH24|9790777450|    1|\n",
            "| AYB66VHHXKRQQ|9790778872|    1|\n",
            "| AXQDDGADNZNNG|9790789556|    1|\n",
            "|A27JHZ3V0NYS2C|9790799365|    1|\n",
            "|A3N5L80QA6SDZ2|9790795416|    1|\n",
            "|A15SQDXX0VZPY2|9790801076|    1|\n",
            "|A2GWFNKXW7REGE|9790801491|    1|\n",
            "|A12L11Y59Y8Z54|B00004TMFE|    1|\n",
            "|A29LEQ3L7XN2BF|B00000JGVX|    1|\n",
            "+--------------+----------+-----+\n",
            "only showing top 20 rows\n",
            "\n"
          ]
        }
      ]
    },
    {
      "cell_type": "markdown",
      "source": [
        "* it can be understand that no user has buy same product more than that"
      ],
      "metadata": {
        "id": "H_aCw5uYnRUE"
      }
    },
    {
      "cell_type": "code",
      "source": [
        "rows = df_beuaty_agg.count()\n",
        "cols = len(df_beuaty_agg.columns)\n",
        "print(rows,cols)"
      ],
      "metadata": {
        "colab": {
          "base_uri": "https://localhost:8080/"
        },
        "id": "VIJt88V6jsA7",
        "outputId": "c22f196a-46ad-4d13-fd03-919bbec8a9ed"
      },
      "execution_count": 44,
      "outputs": [
        {
          "output_type": "stream",
          "name": "stdout",
          "text": [
            "2023070 3\n"
          ]
        }
      ]
    },
    {
      "cell_type": "code",
      "source": [
        "#we want to decrement our row size, its almost 10 million, lets reduce it inorder to process our data much faster\n",
        "df_beuaty_agg = df_beuaty_agg.limit(20000)"
      ],
      "metadata": {
        "id": "W0uXCI2Jjr9-"
      },
      "execution_count": 45,
      "outputs": []
    },
    {
      "cell_type": "markdown",
      "source": [
        "*  Let's convert the user id and product id columns into unique integers"
      ],
      "metadata": {
        "id": "7rZNKexKlAfI"
      }
    },
    {
      "cell_type": "code",
      "source": [
        "old_strindexer = [StringIndexer(inputCol = col, outputCol = col + '_index').fit(df_beuaty_agg) for col in list(set(df_beuaty_agg.columns)- set(['count']))]\n",
        "indexer = [curr_strindexer.setHandleInvalid(\"keep\") for curr_strindexer in old_strindexer]\n",
        "\n",
        "pipeline = Pipeline(stages = indexer)\n",
        "\n",
        "data = pipeline.fit(df_beuaty_agg).transform(df_beuaty_agg)\n",
        "data.show()"
      ],
      "metadata": {
        "colab": {
          "base_uri": "https://localhost:8080/"
        },
        "id": "GcZHXHI_jr7d",
        "outputId": "53e56e1a-f567-474f-cb4c-caf355dde899"
      },
      "execution_count": 46,
      "outputs": [
        {
          "output_type": "stream",
          "name": "stdout",
          "text": [
            "+--------------------+----------+-----+------------+---------------+\n",
            "|              UserId| ProductId|count|UserId_index|ProductId_index|\n",
            "+--------------------+----------+-----+------------+---------------+\n",
            "|A00008821J0F472ND...|B007T8XPC6|    1|      3143.0|        11632.0|\n",
            "|A000186437REL8X2R...|B000JD4N9M|    1|      3144.0|          637.0|\n",
            "|A0002574WYJMBWKNCPY8|B00AH4TJNS|    1|      3145.0|        12802.0|\n",
            "|A00029263J863WSR0...|B00766SGE8|    1|      3146.0|        11283.0|\n",
            "|A00031961JI1CBNV98TW|B002OO16QC|    1|      3147.0|         7532.0|\n",
            "|A000325234LCBTFVL...|B006ZN1B1S|    1|      3148.0|          973.0|\n",
            "|A0003526DBE3EVU1DXE5|B00F1AITPM|    1|      3149.0|        13863.0|\n",
            "|A0004690232S2SX49...|B009L0YD6M|    1|      3150.0|        12489.0|\n",
            "|A000622834IP6B056...|B00AE078TM|    1|      3151.0|         2626.0|\n",
            "|A0007094NAUEOIOA53YH|B005UFN3VS|    1|      3152.0|         2331.0|\n",
            "|A00088021N0VU5Z2U...|B003AMEUS8|    1|      3153.0|          833.0|\n",
            "|A0010876CNE3ILIM9HV0|B001KYRVSO|    1|       522.0|          256.0|\n",
            "|A0010876CNE3ILIM9HV0|B005HKST1U|    1|       522.0|        10457.0|\n",
            "|A0010876CNE3ILIM9HV0|B0055MYJ0U|    1|       522.0|           72.0|\n",
            "|A0010876CNE3ILIM9HV0|B004MKEMPI|    1|       522.0|         2177.0|\n",
            "|A0011102257KBXODK...|B009PZGYJM|    1|      3154.0|         1022.0|\n",
            "|A001114613O3F18Q5...|B007HSGKXY|    1|      3155.0|        11436.0|\n",
            "|A00116502XCN8ZW09...|B0024WDWU2|    1|      3156.0|          771.0|\n",
            "|A00120381FL204MYH...|B006SVCY6I|    1|      3157.0|           75.0|\n",
            "|A001235832OWO8HZG...|B001D5CG9E|    1|      3158.0|         6141.0|\n",
            "+--------------------+----------+-----+------------+---------------+\n",
            "only showing top 20 rows\n",
            "\n"
          ]
        }
      ]
    },
    {
      "cell_type": "code",
      "source": [
        "data = data.select('UserId_index', 'ProductId_index', 'count').orderBy('UserId_index')\n",
        "data.show()"
      ],
      "metadata": {
        "colab": {
          "base_uri": "https://localhost:8080/"
        },
        "id": "xn4TI5Wqjr4f",
        "outputId": "4aa3f2dd-7fd4-45fb-bbb3-2fba03437c01"
      },
      "execution_count": 47,
      "outputs": [
        {
          "output_type": "stream",
          "name": "stdout",
          "text": [
            "+------------+---------------+-----+\n",
            "|UserId_index|ProductId_index|count|\n",
            "+------------+---------------+-----+\n",
            "|         0.0|         6230.0|    1|\n",
            "|         0.0|        14214.0|    1|\n",
            "|         0.0|           30.0|    1|\n",
            "|         0.0|         1591.0|    1|\n",
            "|         0.0|         6237.0|    1|\n",
            "|         0.0|         1178.0|    1|\n",
            "|         0.0|         7140.0|    1|\n",
            "|         0.0|         4193.0|    1|\n",
            "|         0.0|         1619.0|    1|\n",
            "|         0.0|         8222.0|    1|\n",
            "|         0.0|          727.0|    1|\n",
            "|         0.0|         3101.0|    1|\n",
            "|         0.0|          337.0|    1|\n",
            "|         0.0|         1912.0|    1|\n",
            "|         0.0|         7369.0|    1|\n",
            "|         0.0|         3224.0|    1|\n",
            "|         0.0|         1566.0|    1|\n",
            "|         0.0|         8184.0|    1|\n",
            "|         0.0|         3522.0|    1|\n",
            "|         0.0|            8.0|    1|\n",
            "+------------+---------------+-----+\n",
            "only showing top 20 rows\n",
            "\n"
          ]
        }
      ]
    },
    {
      "cell_type": "code",
      "source": [
        "(training, test) = data.randomSplit([0.8,0.2])"
      ],
      "metadata": {
        "id": "L7zXkU3tppuN"
      },
      "execution_count": 48,
      "outputs": []
    },
    {
      "cell_type": "code",
      "source": [
        "USERID = \"UserId_index\"\n",
        "PRODUCT = \"ProductId_index\"\n",
        "COUNT = \"count\"\n",
        "\n",
        "als = ALS(maxIter = 5, regParam = 0.01, userCol = USERID, itemCol = PRODUCT, ratingCol = COUNT)\n",
        "# als.checkpointInterval = 2\n",
        "print(als)\n",
        "model = als.fit(training)\n",
        "\n",
        "predictions = model.transform(test)"
      ],
      "metadata": {
        "colab": {
          "base_uri": "https://localhost:8080/"
        },
        "id": "fEKdb3lIihFJ",
        "outputId": "f2c259db-9bbf-47d0-b31d-d96a10b2c297"
      },
      "execution_count": 49,
      "outputs": [
        {
          "output_type": "stream",
          "name": "stdout",
          "text": [
            "ALS_9e8f7da106b3\n"
          ]
        }
      ]
    },
    {
      "cell_type": "code",
      "source": [
        "recs = model.recommendForAllUsers(10)\n",
        "recs.show()\n",
        "recs.take(1)"
      ],
      "metadata": {
        "colab": {
          "base_uri": "https://localhost:8080/"
        },
        "id": "qgeT5ShMqUbO",
        "outputId": "545495e4-d4c2-4650-a538-f8cd20aa41df"
      },
      "execution_count": 50,
      "outputs": [
        {
          "output_type": "stream",
          "name": "stdout",
          "text": [
            "+------------+--------------------+\n",
            "|UserId_index|     recommendations|\n",
            "+------------+--------------------+\n",
            "|           1|[{422, 1.7441589}...|\n",
            "|           3|[{40, 1.7581091},...|\n",
            "|           5|[{118, 1.8540515}...|\n",
            "|           6|[{156, 1.7248875}...|\n",
            "|           9|[{699, 1.6388798}...|\n",
            "|          12|[{261, 1.7268442}...|\n",
            "|          13|[{240, 1.6458278}...|\n",
            "|          15|[{40, 1.50683}, {...|\n",
            "|          16|[{307, 1.8055232}...|\n",
            "|          17|[{162, 1.7711221}...|\n",
            "|          19|[{77, 1.9945025},...|\n",
            "|          20|[{532, 1.2710041}...|\n",
            "|          22|[{307, 1.6536789}...|\n",
            "|          26|[{19, 1.6271758},...|\n",
            "|          27|[{397, 1.3349887}...|\n",
            "|          28|[{230, 1.6412807}...|\n",
            "|          31|[{73, 1.6659217},...|\n",
            "|          34|[{127, 1.9366949}...|\n",
            "|          35|[{55, 1.6822656},...|\n",
            "|          37|[{134, 1.7664319}...|\n",
            "+------------+--------------------+\n",
            "only showing top 20 rows\n",
            "\n"
          ]
        },
        {
          "output_type": "execute_result",
          "data": {
            "text/plain": [
              "[Row(UserId_index=1, recommendations=[Row(ProductId_index=422, rating=1.7441588640213013), Row(ProductId_index=206, rating=1.5565356016159058), Row(ProductId_index=143, rating=1.5024867057800293), Row(ProductId_index=313, rating=1.3172123432159424), Row(ProductId_index=487, rating=1.2949793338775635), Row(ProductId_index=26, rating=1.2366758584976196), Row(ProductId_index=979, rating=1.2233998775482178), Row(ProductId_index=300, rating=1.2151858806610107), Row(ProductId_index=532, rating=1.2074296474456787), Row(ProductId_index=262, rating=1.1620205640792847)])]"
            ]
          },
          "metadata": {},
          "execution_count": 50
        }
      ]
    },
    {
      "cell_type": "markdown",
      "source": [
        "* Try Ml flow model fitting\n",
        "\n"
      ],
      "metadata": {
        "id": "DmdErhoVw02B"
      }
    },
    {
      "cell_type": "code",
      "source": [
        "# Set the MLflow tracking URI\n",
        "mlflow.set_tracking_uri(\"file:/content/mlruns\")"
      ],
      "metadata": {
        "id": "HYiBjGDJxj83"
      },
      "execution_count": 51,
      "outputs": []
    },
    {
      "cell_type": "code",
      "source": [
        "# Start an MLflow Experiment\n",
        "mlflow.set_experiment(\"ALS_Model_Experiment\")\n"
      ],
      "metadata": {
        "colab": {
          "base_uri": "https://localhost:8080/"
        },
        "id": "L2254xtgxvWt",
        "outputId": "74b29e11-52b4-4c24-d64c-f76b5309e9db"
      },
      "execution_count": 52,
      "outputs": [
        {
          "output_type": "stream",
          "name": "stderr",
          "text": [
            "2024/03/30 19:12:46 INFO mlflow.tracking.fluent: Experiment with name 'ALS_Model_Experiment' does not exist. Creating a new experiment.\n"
          ]
        },
        {
          "output_type": "execute_result",
          "data": {
            "text/plain": [
              "<Experiment: artifact_location='file:///content/mlruns/314239866641208409', creation_time=1711825966494, experiment_id='314239866641208409', last_update_time=1711825966494, lifecycle_stage='active', name='ALS_Model_Experiment', tags={}>"
            ]
          },
          "metadata": {},
          "execution_count": 52
        }
      ]
    },
    {
      "cell_type": "markdown",
      "source": [
        "Train and Log Model"
      ],
      "metadata": {
        "id": "YHdDuOgjx80A"
      }
    },
    {
      "cell_type": "code",
      "source": [
        "\n",
        "\n",
        "# Define model parameters\n",
        "max_iter = 5\n",
        "reg_param = 0.01\n",
        "\n",
        "# Train ALS model\n",
        "als = ALS(maxIter=max_iter, regParam=reg_param, userCol=USERID, itemCol=PRODUCT, ratingCol=COUNT)\n",
        "model = als.fit(training)\n",
        "\n",
        "# Make predictions\n",
        "predictions = model.transform(test)\n",
        "\n",
        "# Evaluate the model\n",
        "evaluator = RegressionEvaluator(metricName=\"rmse\", labelCol=COUNT, predictionCol=\"prediction\")\n",
        "rmse = evaluator.evaluate(predictions)\n",
        "\n",
        "# Log parameters, metrics, and model\n",
        "with mlflow.start_run():\n",
        "    mlflow.log_param(\"max_iter\", max_iter)\n",
        "    mlflow.log_param(\"reg_param\", reg_param)\n",
        "    mlflow.log_metric(\"rmse\", rmse)\n",
        "    mlflow.spark.log_model(model, \"als_model\")\n"
      ],
      "metadata": {
        "colab": {
          "base_uri": "https://localhost:8080/"
        },
        "id": "XnrzEuy-x2ZN",
        "outputId": "7007a76d-f2c2-45ff-b740-a37357a4d96c"
      },
      "execution_count": 54,
      "outputs": [
        {
          "output_type": "stream",
          "name": "stderr",
          "text": [
            "/usr/local/lib/python3.10/dist-packages/_distutils_hack/__init__.py:33: UserWarning: Setuptools is replacing distutils.\n",
            "  warnings.warn(\"Setuptools is replacing distutils.\")\n"
          ]
        }
      ]
    },
    {
      "cell_type": "code",
      "source": [
        "\n",
        "# Display predictions\n",
        "predictions.show()"
      ],
      "metadata": {
        "colab": {
          "base_uri": "https://localhost:8080/"
        },
        "id": "_TA05nqBygFq",
        "outputId": "4dbe82ac-4e81-40b3-8730-0fdd41916a59"
      },
      "execution_count": 55,
      "outputs": [
        {
          "output_type": "stream",
          "name": "stdout",
          "text": [
            "+------------+---------------+-----+------------+\n",
            "|UserId_index|ProductId_index|count|  prediction|\n",
            "+------------+---------------+-----+------------+\n",
            "|         0.0|           30.0|    1|  0.23025176|\n",
            "|         0.0|          337.0|    1|  0.16317019|\n",
            "|         0.0|          772.0|    1| -0.09078446|\n",
            "|         0.0|         1619.0|    1|  0.15299177|\n",
            "|         0.0|         2040.0|    1| -0.04487122|\n",
            "|         0.0|         2042.0|    1|-0.052421413|\n",
            "|         0.0|         2202.0|    1|  0.28447604|\n",
            "|         0.0|         3224.0|    1|         NaN|\n",
            "|         0.0|         3841.0|    1|         NaN|\n",
            "|         0.0|         5659.0|    1|         NaN|\n",
            "|         0.0|         7369.0|    1|         NaN|\n",
            "|         0.0|         8762.0|    1|         NaN|\n",
            "|         0.0|         9265.0|    1|         NaN|\n",
            "|         0.0|        10901.0|    1|         NaN|\n",
            "|         0.0|        12678.0|    1|         NaN|\n",
            "|         1.0|         3963.0|    1|         NaN|\n",
            "|         1.0|         4987.0|    1|         NaN|\n",
            "|         1.0|         6293.0|    1|         NaN|\n",
            "|         1.0|         8141.0|    1|         NaN|\n",
            "|         1.0|         9708.0|    1|         NaN|\n",
            "+------------+---------------+-----+------------+\n",
            "only showing top 20 rows\n",
            "\n"
          ]
        }
      ]
    },
    {
      "cell_type": "code",
      "source": [
        "recs = model.recommendForAllUsers(10)\n",
        "recs.show()\n",
        "recs.take(1)"
      ],
      "metadata": {
        "colab": {
          "base_uri": "https://localhost:8080/"
        },
        "id": "8E3M4YLUyvpw",
        "outputId": "fddf975a-10e7-43b6-a63b-1e3a05cf918c"
      },
      "execution_count": 56,
      "outputs": [
        {
          "output_type": "stream",
          "name": "stdout",
          "text": [
            "+------------+--------------------+\n",
            "|UserId_index|     recommendations|\n",
            "+------------+--------------------+\n",
            "|           1|[{422, 1.7441589}...|\n",
            "|           3|[{40, 1.7581091},...|\n",
            "|           5|[{118, 1.8540515}...|\n",
            "|           6|[{156, 1.7248875}...|\n",
            "|           9|[{699, 1.6388798}...|\n",
            "|          12|[{261, 1.7268442}...|\n",
            "|          13|[{240, 1.6458278}...|\n",
            "|          15|[{40, 1.50683}, {...|\n",
            "|          16|[{307, 1.8055232}...|\n",
            "|          17|[{162, 1.7711221}...|\n",
            "|          19|[{77, 1.9945025},...|\n",
            "|          20|[{532, 1.2710041}...|\n",
            "|          22|[{307, 1.6536789}...|\n",
            "|          26|[{19, 1.6271758},...|\n",
            "|          27|[{397, 1.3349887}...|\n",
            "|          28|[{230, 1.6412807}...|\n",
            "|          31|[{73, 1.6659217},...|\n",
            "|          34|[{127, 1.9366949}...|\n",
            "|          35|[{55, 1.6822656},...|\n",
            "|          37|[{134, 1.7664319}...|\n",
            "+------------+--------------------+\n",
            "only showing top 20 rows\n",
            "\n"
          ]
        },
        {
          "output_type": "execute_result",
          "data": {
            "text/plain": [
              "[Row(UserId_index=1, recommendations=[Row(ProductId_index=422, rating=1.7441588640213013), Row(ProductId_index=206, rating=1.5565356016159058), Row(ProductId_index=143, rating=1.5024867057800293), Row(ProductId_index=313, rating=1.3172123432159424), Row(ProductId_index=487, rating=1.2949793338775635), Row(ProductId_index=26, rating=1.2366758584976196), Row(ProductId_index=979, rating=1.2233998775482178), Row(ProductId_index=300, rating=1.2151858806610107), Row(ProductId_index=532, rating=1.2074296474456787), Row(ProductId_index=262, rating=1.1620205640792847)])]"
            ]
          },
          "metadata": {},
          "execution_count": 56
        }
      ]
    },
    {
      "cell_type": "code",
      "source": [],
      "metadata": {
        "id": "T3mcKnmFzLl3"
      },
      "execution_count": null,
      "outputs": []
    }
  ]
}