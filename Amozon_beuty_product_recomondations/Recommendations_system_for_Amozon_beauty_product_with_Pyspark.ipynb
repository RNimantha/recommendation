{
  "nbformat": 4,
  "nbformat_minor": 0,
  "metadata": {
    "colab": {
      "provenance": []
    },
    "kernelspec": {
      "name": "python3",
      "display_name": "Python 3"
    },
    "language_info": {
      "name": "python"
    }
  },
  "cells": [
    {
      "cell_type": "code",
      "source": [
        "from google.colab import drive\n",
        "drive.mount('/content/drive')"
      ],
      "metadata": {
        "colab": {
          "base_uri": "https://localhost:8080/"
        },
        "id": "aTlHqp-lf907",
        "outputId": "0117bca0-064e-4290-b7aa-3befcac18911"
      },
      "execution_count": 1,
      "outputs": [
        {
          "output_type": "stream",
          "name": "stdout",
          "text": [
            "Mounted at /content/drive\n"
          ]
        }
      ]
    },
    {
      "cell_type": "markdown",
      "source": [
        "Install Pyspark"
      ],
      "metadata": {
        "id": "3Zb8LLJFgS_u"
      }
    },
    {
      "cell_type": "code",
      "source": [
        "!pip install pyspark"
      ],
      "metadata": {
        "colab": {
          "base_uri": "https://localhost:8080/"
        },
        "id": "7DA7b_hbgHaF",
        "outputId": "a81d1008-dc5c-4746-a8d1-cff79dfd0ffa"
      },
      "execution_count": 2,
      "outputs": [
        {
          "output_type": "stream",
          "name": "stdout",
          "text": [
            "Collecting pyspark\n",
            "  Downloading pyspark-3.5.1.tar.gz (317.0 MB)\n",
            "\u001b[2K     \u001b[90m━━━━━━━━━━━━━━━━━━━━━━━━━━━━━━━━━━━━━━━━\u001b[0m \u001b[32m317.0/317.0 MB\u001b[0m \u001b[31m2.0 MB/s\u001b[0m eta \u001b[36m0:00:00\u001b[0m\n",
            "\u001b[?25h  Preparing metadata (setup.py) ... \u001b[?25l\u001b[?25hdone\n",
            "Requirement already satisfied: py4j==0.10.9.7 in /usr/local/lib/python3.10/dist-packages (from pyspark) (0.10.9.7)\n",
            "Building wheels for collected packages: pyspark\n",
            "  Building wheel for pyspark (setup.py) ... \u001b[?25l\u001b[?25hdone\n",
            "  Created wheel for pyspark: filename=pyspark-3.5.1-py2.py3-none-any.whl size=317488491 sha256=9d82114fd40423952e6bac6a7125ab737d84f7465ed00cea4336c2d623a6c4d9\n",
            "  Stored in directory: /root/.cache/pip/wheels/80/1d/60/2c256ed38dddce2fdd93be545214a63e02fbd8d74fb0b7f3a6\n",
            "Successfully built pyspark\n",
            "Installing collected packages: pyspark\n",
            "Successfully installed pyspark-3.5.1\n"
          ]
        }
      ]
    },
    {
      "cell_type": "markdown",
      "source": [
        "Import module"
      ],
      "metadata": {
        "id": "RHfmRv1ygYii"
      }
    },
    {
      "cell_type": "code",
      "source": [
        "from pyspark.sql import SparkSession\n",
        "from pyspark.sql.functions import count, desc , col, max\n",
        "from pyspark.ml.feature import  StringIndexer\n",
        "from pyspark.ml import Pipeline\n",
        "from pyspark.ml.recommendation import ALS\n",
        "from pyspark.ml.tuning import TrainValidationSplit, ParamGridBuilder\n",
        "import pyspark.sql.functions as f"
      ],
      "metadata": {
        "id": "Z3wJhPfKgX6r"
      },
      "execution_count": 9,
      "outputs": []
    },
    {
      "cell_type": "code",
      "source": [
        "spark = SparkSession.builder.appName(\"Recommendation\").getOrCreate()"
      ],
      "metadata": {
        "id": "BICSSxTkgqLG"
      },
      "execution_count": 4,
      "outputs": []
    },
    {
      "cell_type": "code",
      "source": [
        "file_path = '/content/drive/MyDrive/Data_project/ratings_Beauty.csv'\n",
        "df_buauty = spark.read.format('csv').option('header',True).option('inferSchema',True).load(file_path) #data frame, header will infer column types from csv\n",
        "df_buauty.show()"
      ],
      "metadata": {
        "colab": {
          "base_uri": "https://localhost:8080/"
        },
        "id": "hsED8Abmgv7y",
        "outputId": "c3d9f246-dbb0-4568-a014-6477b96503cf"
      },
      "execution_count": 7,
      "outputs": [
        {
          "output_type": "stream",
          "name": "stdout",
          "text": [
            "+--------------+----------+------+----------+\n",
            "|        UserId| ProductId|Rating| Timestamp|\n",
            "+--------------+----------+------+----------+\n",
            "|A39HTATAQ9V7YF|0205616461|   5.0|1369699200|\n",
            "|A3JM6GV9MNOF9X|0558925278|   3.0|1355443200|\n",
            "|A1Z513UWSAAO0F|0558925278|   5.0|1404691200|\n",
            "|A1WMRR494NWEWV|0733001998|   4.0|1382572800|\n",
            "|A3IAAVS479H7M7|0737104473|   1.0|1274227200|\n",
            "| AKJHHD5VEH7VG|0762451459|   5.0|1404518400|\n",
            "|A1BG8QW55XHN6U|1304139212|   5.0|1371945600|\n",
            "|A22VW0P4VZHDE3|1304139220|   5.0|1373068800|\n",
            "|A3V3RE4132GKRO|130414089X|   5.0|1401840000|\n",
            "|A327B0I7CYTEJC|130414643X|   4.0|1389052800|\n",
            "|A1BG8QW55XHN6U|130414643X|   5.0|1372032000|\n",
            "| AIFAAVTUYHEHB|130414643X|   4.0|1378252800|\n",
            "| AVOGV98AYOFG2|1304146537|   5.0|1372118400|\n",
            "|A22VW0P4VZHDE3|130414674X|   5.0|1371686400|\n",
            "| AVOGV98AYOFG2|1304168522|   5.0|1372118400|\n",
            "| A6R426V4J7AOM|1304168522|   5.0|1373414400|\n",
            "|A22VW0P4VZHDE3|1304174778|   5.0|1372896000|\n",
            "| AKGB62WGF35J8|1304174778|   5.0|1372896000|\n",
            "|A22VW0P4VZHDE3|1304174867|   5.0|1373068800|\n",
            "|A1BG8QW55XHN6U|1304174867|   5.0|1372291200|\n",
            "+--------------+----------+------+----------+\n",
            "only showing top 20 rows\n",
            "\n"
          ]
        }
      ]
    },
    {
      "cell_type": "code",
      "source": [
        "df_buauty = df_buauty.drop('Timestamp')\n",
        "df_buauty.show()"
      ],
      "metadata": {
        "colab": {
          "base_uri": "https://localhost:8080/"
        },
        "id": "-jzhnWTbhwoh",
        "outputId": "017f7760-152c-4f21-c112-7af9d85b4db0"
      },
      "execution_count": 8,
      "outputs": [
        {
          "output_type": "stream",
          "name": "stdout",
          "text": [
            "+--------------+----------+------+\n",
            "|        UserId| ProductId|Rating|\n",
            "+--------------+----------+------+\n",
            "|A39HTATAQ9V7YF|0205616461|   5.0|\n",
            "|A3JM6GV9MNOF9X|0558925278|   3.0|\n",
            "|A1Z513UWSAAO0F|0558925278|   5.0|\n",
            "|A1WMRR494NWEWV|0733001998|   4.0|\n",
            "|A3IAAVS479H7M7|0737104473|   1.0|\n",
            "| AKJHHD5VEH7VG|0762451459|   5.0|\n",
            "|A1BG8QW55XHN6U|1304139212|   5.0|\n",
            "|A22VW0P4VZHDE3|1304139220|   5.0|\n",
            "|A3V3RE4132GKRO|130414089X|   5.0|\n",
            "|A327B0I7CYTEJC|130414643X|   4.0|\n",
            "|A1BG8QW55XHN6U|130414643X|   5.0|\n",
            "| AIFAAVTUYHEHB|130414643X|   4.0|\n",
            "| AVOGV98AYOFG2|1304146537|   5.0|\n",
            "|A22VW0P4VZHDE3|130414674X|   5.0|\n",
            "| AVOGV98AYOFG2|1304168522|   5.0|\n",
            "| A6R426V4J7AOM|1304168522|   5.0|\n",
            "|A22VW0P4VZHDE3|1304174778|   5.0|\n",
            "| AKGB62WGF35J8|1304174778|   5.0|\n",
            "|A22VW0P4VZHDE3|1304174867|   5.0|\n",
            "|A1BG8QW55XHN6U|1304174867|   5.0|\n",
            "+--------------+----------+------+\n",
            "only showing top 20 rows\n",
            "\n"
          ]
        }
      ]
    },
    {
      "cell_type": "code",
      "source": [
        "\n",
        "na_counts = df_buauty.select([f.sum(f.col(c).isNull().cast(\"int\")).alias(c) for c in df_buauty.columns])\n",
        "na_counts.show()"
      ],
      "metadata": {
        "colab": {
          "base_uri": "https://localhost:8080/"
        },
        "id": "0mwl-I5HihLR",
        "outputId": "3c6d17d0-ac47-47eb-a1cc-c0d62ec7ed1c"
      },
      "execution_count": 10,
      "outputs": [
        {
          "output_type": "stream",
          "name": "stdout",
          "text": [
            "+------+---------+------+\n",
            "|UserId|ProductId|Rating|\n",
            "+------+---------+------+\n",
            "|     0|        0|     0|\n",
            "+------+---------+------+\n",
            "\n"
          ]
        }
      ]
    },
    {
      "cell_type": "code",
      "source": [
        "rows = df_buauty.count()\n",
        "cols = len(df_buauty.columns)\n",
        "print(rows,cols)"
      ],
      "metadata": {
        "colab": {
          "base_uri": "https://localhost:8080/"
        },
        "id": "HvyETxOcihHw",
        "outputId": "bcee13a2-f719-4bf8-925c-ebf6b687ef54"
      },
      "execution_count": 11,
      "outputs": [
        {
          "output_type": "stream",
          "name": "stdout",
          "text": [
            "2023070 3\n"
          ]
        }
      ]
    },
    {
      "cell_type": "markdown",
      "source": [
        "* let us understand how freaquently user has buy the product"
      ],
      "metadata": {
        "id": "Pc2Cw0Dlj4SE"
      }
    },
    {
      "cell_type": "code",
      "source": [
        "df_beuaty_agg = df_buauty.select('UserId', 'ProductId').groupby('UserId', 'ProductId').agg(count('*').alias('count')).orderBy('UserId')\n",
        "df_beuaty_agg.show()"
      ],
      "metadata": {
        "colab": {
          "base_uri": "https://localhost:8080/"
        },
        "id": "RB87opMTjsEb",
        "outputId": "4f0abbd1-70a8-431c-d230-12e2e46e1fee"
      },
      "execution_count": 12,
      "outputs": [
        {
          "output_type": "stream",
          "name": "stdout",
          "text": [
            "+--------------------+----------+-----+\n",
            "|              UserId| ProductId|count|\n",
            "+--------------------+----------+-----+\n",
            "|A00008821J0F472ND...|B007T8XPC6|    1|\n",
            "|A000186437REL8X2R...|B000JD4N9M|    1|\n",
            "|A0002574WYJMBWKNCPY8|B00AH4TJNS|    1|\n",
            "|A00029263J863WSR0...|B00766SGE8|    1|\n",
            "|A00031961JI1CBNV98TW|B002OO16QC|    1|\n",
            "|A000325234LCBTFVL...|B006ZN1B1S|    1|\n",
            "|A0003526DBE3EVU1DXE5|B00F1AITPM|    1|\n",
            "|A0004690232S2SX49...|B009L0YD6M|    1|\n",
            "|A000622834IP6B056...|B00AE078TM|    1|\n",
            "|A0007094NAUEOIOA53YH|B005UFN3VS|    1|\n",
            "|A00088021N0VU5Z2U...|B003AMEUS8|    1|\n",
            "|A0010876CNE3ILIM9HV0|B001KYRVSO|    1|\n",
            "|A0010876CNE3ILIM9HV0|B004MKEMPI|    1|\n",
            "|A0010876CNE3ILIM9HV0|B005HKST1U|    1|\n",
            "|A0010876CNE3ILIM9HV0|B0055MYJ0U|    1|\n",
            "|A0011102257KBXODK...|B009PZGYJM|    1|\n",
            "|A001114613O3F18Q5...|B007HSGKXY|    1|\n",
            "|A00116502XCN8ZW09...|B0024WDWU2|    1|\n",
            "|A00120381FL204MYH...|B006SVCY6I|    1|\n",
            "|A001235832OWO8HZG...|B001D5CG9E|    1|\n",
            "+--------------------+----------+-----+\n",
            "only showing top 20 rows\n",
            "\n"
          ]
        }
      ]
    },
    {
      "cell_type": "code",
      "source": [
        "df_buauty.groupBy('UserID','ProductID').count().orderBy(desc('count')).show()"
      ],
      "metadata": {
        "colab": {
          "base_uri": "https://localhost:8080/"
        },
        "id": "M5we5Zuolhx8",
        "outputId": "e234a8df-82fb-4b0e-d738-def15edbd11b"
      },
      "execution_count": 20,
      "outputs": [
        {
          "output_type": "stream",
          "name": "stdout",
          "text": [
            "+--------------+----------+-----+\n",
            "|        UserID| ProductID|count|\n",
            "+--------------+----------+-----+\n",
            "|A2H3NOCLLEPOKQ|7535842801|    1|\n",
            "|A1RGXKJ4RFIOCX|1304624544|    1|\n",
            "|A3G6XNM240RMWA|7806397051|    1|\n",
            "|A3VUS3HC1CCVOQ|5357955948|    1|\n",
            "| AF508G9N8T5OY|9746427962|    1|\n",
            "|A2LRQ8GV6PZMHX|7806397051|    1|\n",
            "|A2EDV2NPKN69YM|9788080626|    1|\n",
            "|A264BXIV14DIWA|9511181564|    1|\n",
            "|A2L8AWOIWML9CH|9790772238|    1|\n",
            "|A3KK59I1TY3MRB|9788071171|    1|\n",
            "| ACUHBB2EEXH24|9790777450|    1|\n",
            "| A2PZOIS5NOHEA|9788071260|    1|\n",
            "| AXQDDGADNZNNG|9790789556|    1|\n",
            "| AYB66VHHXKRQQ|9790778872|    1|\n",
            "|A3N5L80QA6SDZ2|9790795416|    1|\n",
            "|A27JHZ3V0NYS2C|9790799365|    1|\n",
            "|A2GWFNKXW7REGE|9790801491|    1|\n",
            "|A15SQDXX0VZPY2|9790801076|    1|\n",
            "|A29LEQ3L7XN2BF|B00000JGVX|    1|\n",
            "|A12L11Y59Y8Z54|B00004TMFE|    1|\n",
            "+--------------+----------+-----+\n",
            "only showing top 20 rows\n",
            "\n"
          ]
        }
      ]
    },
    {
      "cell_type": "markdown",
      "source": [
        "* it can be understand that no user has buy same product more than that"
      ],
      "metadata": {
        "id": "H_aCw5uYnRUE"
      }
    },
    {
      "cell_type": "code",
      "source": [
        "rows = df_beuaty_agg.count()\n",
        "cols = len(df_beuaty_agg.columns)\n",
        "print(rows,cols)"
      ],
      "metadata": {
        "colab": {
          "base_uri": "https://localhost:8080/"
        },
        "id": "VIJt88V6jsA7",
        "outputId": "139c731b-3f5e-4560-a825-b1e506246168"
      },
      "execution_count": 13,
      "outputs": [
        {
          "output_type": "stream",
          "name": "stdout",
          "text": [
            "2023070 3\n"
          ]
        }
      ]
    },
    {
      "cell_type": "code",
      "source": [
        "#we want to decrement our row size, its almost 10 million, lets reduce it inorder to process our data much faster\n",
        "df_beuaty_agg = df_beuaty_agg.limit(20000)"
      ],
      "metadata": {
        "id": "W0uXCI2Jjr9-"
      },
      "execution_count": 27,
      "outputs": []
    },
    {
      "cell_type": "markdown",
      "source": [
        "*  Let's convert the user id and product id columns into unique integers"
      ],
      "metadata": {
        "id": "7rZNKexKlAfI"
      }
    },
    {
      "cell_type": "code",
      "source": [
        "old_strindexer = [StringIndexer(inputCol = col, outputCol = col + '_index').fit(df_beuaty_agg) for col in list(set(df_beuaty_agg.columns)- set(['count']))]\n",
        "indexer = [curr_strindexer.setHandleInvalid(\"keep\") for curr_strindexer in old_strindexer]\n",
        "\n",
        "pipeline = Pipeline(stages = indexer)\n",
        "\n",
        "data = pipeline.fit(df_beuaty_agg).transform(df_beuaty_agg)\n",
        "data.show()"
      ],
      "metadata": {
        "colab": {
          "base_uri": "https://localhost:8080/"
        },
        "id": "GcZHXHI_jr7d",
        "outputId": "b86550de-035f-4728-c1dc-9fb23d36ea02"
      },
      "execution_count": 28,
      "outputs": [
        {
          "output_type": "stream",
          "name": "stdout",
          "text": [
            "+--------------------+----------+-----+------------+---------------+\n",
            "|              UserId| ProductId|count|UserId_index|ProductId_index|\n",
            "+--------------------+----------+-----+------------+---------------+\n",
            "|A00008821J0F472ND...|B007T8XPC6|    1|      3143.0|        11632.0|\n",
            "|A000186437REL8X2R...|B000JD4N9M|    1|      3144.0|          637.0|\n",
            "|A0002574WYJMBWKNCPY8|B00AH4TJNS|    1|      3145.0|        12802.0|\n",
            "|A00029263J863WSR0...|B00766SGE8|    1|      3146.0|        11283.0|\n",
            "|A00031961JI1CBNV98TW|B002OO16QC|    1|      3147.0|         7532.0|\n",
            "|A000325234LCBTFVL...|B006ZN1B1S|    1|      3148.0|          973.0|\n",
            "|A0003526DBE3EVU1DXE5|B00F1AITPM|    1|      3149.0|        13863.0|\n",
            "|A0004690232S2SX49...|B009L0YD6M|    1|      3150.0|        12489.0|\n",
            "|A000622834IP6B056...|B00AE078TM|    1|      3151.0|         2626.0|\n",
            "|A0007094NAUEOIOA53YH|B005UFN3VS|    1|      3152.0|         2331.0|\n",
            "|A00088021N0VU5Z2U...|B003AMEUS8|    1|      3153.0|          833.0|\n",
            "|A0010876CNE3ILIM9HV0|B001KYRVSO|    1|       522.0|          256.0|\n",
            "|A0010876CNE3ILIM9HV0|B005HKST1U|    1|       522.0|        10457.0|\n",
            "|A0010876CNE3ILIM9HV0|B0055MYJ0U|    1|       522.0|           72.0|\n",
            "|A0010876CNE3ILIM9HV0|B004MKEMPI|    1|       522.0|         2177.0|\n",
            "|A0011102257KBXODK...|B009PZGYJM|    1|      3154.0|         1022.0|\n",
            "|A001114613O3F18Q5...|B007HSGKXY|    1|      3155.0|        11436.0|\n",
            "|A00116502XCN8ZW09...|B0024WDWU2|    1|      3156.0|          771.0|\n",
            "|A00120381FL204MYH...|B006SVCY6I|    1|      3157.0|           75.0|\n",
            "|A001235832OWO8HZG...|B001D5CG9E|    1|      3158.0|         6141.0|\n",
            "+--------------------+----------+-----+------------+---------------+\n",
            "only showing top 20 rows\n",
            "\n"
          ]
        }
      ]
    },
    {
      "cell_type": "code",
      "source": [
        "data = data.select('UserId_index', 'ProductId_index', 'count').orderBy('UserId_index')\n",
        "data.show()"
      ],
      "metadata": {
        "colab": {
          "base_uri": "https://localhost:8080/"
        },
        "id": "xn4TI5Wqjr4f",
        "outputId": "4c6bdaa5-d159-40bd-dabd-4609136291e2"
      },
      "execution_count": 29,
      "outputs": [
        {
          "output_type": "stream",
          "name": "stdout",
          "text": [
            "+------------+---------------+-----+\n",
            "|UserId_index|ProductId_index|count|\n",
            "+------------+---------------+-----+\n",
            "|         0.0|         6230.0|    1|\n",
            "|         0.0|        14214.0|    1|\n",
            "|         0.0|           30.0|    1|\n",
            "|         0.0|         1591.0|    1|\n",
            "|         0.0|         6237.0|    1|\n",
            "|         0.0|         1178.0|    1|\n",
            "|         0.0|         7140.0|    1|\n",
            "|         0.0|         4193.0|    1|\n",
            "|         0.0|         1619.0|    1|\n",
            "|         0.0|         8222.0|    1|\n",
            "|         0.0|          727.0|    1|\n",
            "|         0.0|         3101.0|    1|\n",
            "|         0.0|          337.0|    1|\n",
            "|         0.0|         1912.0|    1|\n",
            "|         0.0|         7369.0|    1|\n",
            "|         0.0|         3224.0|    1|\n",
            "|         0.0|         1566.0|    1|\n",
            "|         0.0|         8184.0|    1|\n",
            "|         0.0|         3522.0|    1|\n",
            "|         0.0|            8.0|    1|\n",
            "+------------+---------------+-----+\n",
            "only showing top 20 rows\n",
            "\n"
          ]
        }
      ]
    },
    {
      "cell_type": "code",
      "source": [
        "(training, test) = data.randomSplit([0.8,0.2])"
      ],
      "metadata": {
        "id": "L7zXkU3tppuN"
      },
      "execution_count": 30,
      "outputs": []
    },
    {
      "cell_type": "code",
      "source": [
        "USERID = \"UserId_index\"\n",
        "PRODUCT = \"ProductId_index\"\n",
        "COUNT = \"count\"\n",
        "\n",
        "als = ALS(maxIter = 5, regParam = 0.01, userCol = USERID, itemCol = PRODUCT, ratingCol = COUNT)\n",
        "# als.checkpointInterval = 2\n",
        "print(als)\n",
        "model = als.fit(training)\n",
        "\n",
        "predictions = model.transform(test)"
      ],
      "metadata": {
        "colab": {
          "base_uri": "https://localhost:8080/"
        },
        "id": "fEKdb3lIihFJ",
        "outputId": "eb7766f8-20c2-447e-e112-527564c8e62e"
      },
      "execution_count": 31,
      "outputs": [
        {
          "output_type": "stream",
          "name": "stdout",
          "text": [
            "ALS_90cadb781cd5\n"
          ]
        }
      ]
    },
    {
      "cell_type": "code",
      "source": [
        "recs = model.recommendForAllUsers(10)\n",
        "recs.show()\n",
        "recs.take(1)"
      ],
      "metadata": {
        "colab": {
          "base_uri": "https://localhost:8080/"
        },
        "id": "qgeT5ShMqUbO",
        "outputId": "ebaae86d-2820-4ce2-ed35-f59af26aba39"
      },
      "execution_count": 32,
      "outputs": [
        {
          "output_type": "stream",
          "name": "stdout",
          "text": [
            "+------------+--------------------+\n",
            "|UserId_index|     recommendations|\n",
            "+------------+--------------------+\n",
            "|           1|[{176, 1.6942188}...|\n",
            "|           3|[{139, 1.8378881}...|\n",
            "|           5|[{25, 1.690864}, ...|\n",
            "|           6|[{34, 1.4461343},...|\n",
            "|           9|[{25, 1.5553919},...|\n",
            "|          12|[{35, 1.7730621},...|\n",
            "|          13|[{495, 1.4527651}...|\n",
            "|          15|[{170, 1.9861124}...|\n",
            "|          16|[{13, 1.7804167},...|\n",
            "|          17|[{58, 1.6713225},...|\n",
            "|          19|[{352, 1.556861},...|\n",
            "|          20|[{67, 1.9254}, {1...|\n",
            "|          22|[{60, 1.5218568},...|\n",
            "|          26|[{289, 1.7522482}...|\n",
            "|          27|[{122, 1.698113},...|\n",
            "|          28|[{122, 1.633249},...|\n",
            "|          31|[{466, 1.485825},...|\n",
            "|          34|[{630, 1.4097846}...|\n",
            "|          35|[{73, 1.7835364},...|\n",
            "|          37|[{69, 1.459546}, ...|\n",
            "+------------+--------------------+\n",
            "only showing top 20 rows\n",
            "\n"
          ]
        },
        {
          "output_type": "execute_result",
          "data": {
            "text/plain": [
              "[Row(UserId_index=1, recommendations=[Row(ProductId_index=176, rating=1.6942187547683716), Row(ProductId_index=109, rating=1.6723308563232422), Row(ProductId_index=22, rating=1.5146303176879883), Row(ProductId_index=220, rating=1.5122601985931396), Row(ProductId_index=379, rating=1.4668844938278198), Row(ProductId_index=143, rating=1.399141788482666), Row(ProductId_index=141, rating=1.3452752828598022), Row(ProductId_index=243, rating=1.3073979616165161), Row(ProductId_index=2669, rating=1.2915350198745728), Row(ProductId_index=67, rating=1.281299114227295)])]"
            ]
          },
          "metadata": {},
          "execution_count": 32
        }
      ]
    }
  ]
}